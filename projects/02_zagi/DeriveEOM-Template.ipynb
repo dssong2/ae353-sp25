{
 "cells": [
  {
   "cell_type": "markdown",
   "id": "occasional-george",
   "metadata": {},
   "source": [
    "# Equations of motion for a \"zagi-like\" flying wing UAV"
   ]
  },
  {
   "cell_type": "markdown",
   "id": "d4cbc89f",
   "metadata": {},
   "source": [
    "Do imports."
   ]
  },
  {
   "cell_type": "code",
   "execution_count": 3,
   "id": "sitting-discount",
   "metadata": {},
   "outputs": [],
   "source": [
    "import numpy as np\n",
    "import sympy as sym\n",
    "from scipy import linalg\n",
    "import matplotlib.pyplot as plt\n",
    "from IPython.display import display, Markdown"
   ]
  },
  {
   "cell_type": "markdown",
   "id": "e2bc1e04",
   "metadata": {},
   "source": [
    "Define variables and parameters as symbols."
   ]
  },
  {
   "cell_type": "code",
   "execution_count": 4,
   "id": "eb2cd207",
   "metadata": {},
   "outputs": [],
   "source": [
    "#\n",
    "# VARIABLES\n",
    "#\n",
    "\n",
    "# Time\n",
    "t = sym.Symbol('t', real=True)\n",
    "\n",
    "# Components of position (meters)\n",
    "p_x, p_y, p_z = sym.symbols('p_x, p_y, p_z', real=True)\n",
    "\n",
    "# Yaw, pitch, and roll angles (radians)\n",
    "psi, theta, phi = sym.symbols('psi, theta, phi', real=True)\n",
    "\n",
    "# Components of linear velocity in the body frame (meters / second)\n",
    "v_x, v_y, v_z = sym.symbols('v_x, v_y, v_z', real=True)\n",
    "\n",
    "# Components of angular velocity in the body frame (radians / second)\n",
    "w_x, w_y, w_z = sym.symbols('w_x, w_y, w_z', real=True)\n",
    "\n",
    "# Elevon angles\n",
    "delta_r, delta_l = sym.symbols('delta_r, delta_l', real=True)\n",
    "\n",
    "#\n",
    "# PARAMETERS\n",
    "#\n",
    "\n",
    "# Aerodynamic parameters\n",
    "rho, S, c, b = sym.symbols('rho, S, c, b', real=True)\n",
    "C_L_0, C_L_alpha, C_L_q, C_L_delta_e = sym.symbols('C_L_0, C_L_alpha, C_L_q, C_L_delta_e', real=True)\n",
    "C_D_0, C_D_alpha, C_D_q, C_D_delta_e = sym.symbols('C_D_0, C_D_alpha, C_D_q, C_D_delta_e', real=True)\n",
    "C_m_0, C_m_alpha, C_m_q, C_m_delta_e = sym.symbols('C_m_0, C_m_alpha, C_m_q, C_m_delta_e', real=True)\n",
    "C_Y_0, C_Y_beta, C_Y_p, C_Y_r, C_Y_delta_a = sym.symbols('C_Y_0, C_Y_beta, C_Y_p, C_Y_r, C_Y_delta_a', real=True)\n",
    "C_l_0, C_l_beta, C_l_p, C_l_r, C_l_delta_a = sym.symbols('C_l_0, C_l_beta, C_l_p, C_l_r, C_l_delta_a', real=True)\n",
    "C_n_0, C_n_beta, C_n_p, C_n_r, C_n_delta_a = sym.symbols('C_n_0, C_n_beta, C_n_p, C_n_r, C_n_delta_a', real=True)\n",
    "e, alpha_0, C_D_p, M = sym.symbols('e, alpha_0, C_D_p, M', real=True)\n",
    "k, k_e = sym.symbols('k, k_e', real=True)\n",
    "\n",
    "# Mass and inertia parameters\n",
    "J_x, J_y, J_z, J_xz = sym.symbols('J_x, J_y, J_z, J_xz', real=True)\n",
    "m, g = sym.symbols('m, g', real=True)"
   ]
  },
  {
   "cell_type": "markdown",
   "id": "9a082a6b",
   "metadata": {},
   "source": [
    "Define numerical values of parameters."
   ]
  },
  {
   "cell_type": "code",
   "execution_count": 5,
   "id": "43e0698b",
   "metadata": {},
   "outputs": [],
   "source": [
    "params = {\n",
    "    g: 9.81,               # Gravity (m/s²)\n",
    "    m: 1.56,               # Mass of the UAV (kg)\n",
    "    J_x: 0.1147,           # Moment of inertia about x-axis (kg·m²) [UPDATED 02/28/2025]\n",
    "    J_y: 0.0576,           # Moment of inertia about y-axis (kg·m²) [UPDATED 02/28/2025]\n",
    "    J_z: 0.1712,           # Moment of inertia about z-axis (kg·m²) [UPDATED 02/28/2025]\n",
    "    J_xz: 0.0015,          # Product of inertia (kg·m²)             [UPDATED 02/28/2025]\n",
    "\n",
    "    S: 0.4696,             # Wing area (m²)\n",
    "    b: 1.4224,             # Wingspan (m)\n",
    "    c: 0.3302,             # Mean aerodynamic chord (m)\n",
    "\n",
    "    rho: 1.2682,           # Air density (kg/m³)\n",
    "\n",
    "    # Lift Coefficients\n",
    "    C_L_0: 0.2,            # Lift coefficient at zero AoA\n",
    "    C_L_alpha: 4.8,        # Lift curve slope (1/rad)\n",
    "    C_L_q: 2.2,            # Pitch rate effect on lift (1/rad)\n",
    "\n",
    "    # Drag Coefficients\n",
    "    C_D_0: 0.02,           # Zero-lift drag coefficient\n",
    "    C_D_alpha: 0.30,       # Drag change per AoA (1/rad)\n",
    "    C_D_q: 0.0,            # Pitch rate effect on drag (1/rad)\n",
    "    C_D_p: 0.03,           # Parasitic drag coefficient\n",
    "\n",
    "    # Pitching Moment Coefficients\n",
    "    C_m_0: -0.02,          # Pitching moment at zero AoA\n",
    "    C_m_alpha: -0.6,       # Pitching moment change per AoA (1/rad)\n",
    "    C_m_q: -1.8,           # Pitch rate effect on moment (1/rad)\n",
    "    C_m_delta_e: -0.35,    # Effect of elevator deflection on pitching moment (1/rad)\n",
    "\n",
    "    # Side Force Coefficients\n",
    "    C_Y_0: 0.0,            # Side force at zero sideslip\n",
    "    C_Y_beta: -0.08,       # Side force per sideslip angle (1/rad)\n",
    "    C_Y_p: 0.0,            # Side force due to roll rate\n",
    "    C_Y_r: 0.0,            # Side force due to yaw rate\n",
    "    C_Y_delta_a: 0.0,      # Side force due to aileron deflection\n",
    "\n",
    "    # Roll Moment Coefficients\n",
    "    C_l_0: 0.0,            # Roll moment at zero sideslip\n",
    "    C_l_beta: -0.10,       # Roll moment due to sideslip (1/rad)\n",
    "    C_l_p: -0.45,          # Roll damping derivative (1/rad)\n",
    "    C_l_r: 0.03,           # Roll moment due to yaw rate (1/rad)\n",
    "    C_l_delta_a: 0.18,     # Aileron effect on roll (1/rad)\n",
    "\n",
    "    # Yaw Moment Coefficients\n",
    "    C_n_0: 0.0,            # Yaw moment at zero sideslip\n",
    "    C_n_beta: 0.008,       # Yaw moment due to sideslip (1/rad)\n",
    "    C_n_p: -0.022,         # Yaw moment due to roll rate (1/rad)\n",
    "    C_n_r: -0.009,         # Yaw damping derivative (1/rad)\n",
    "    C_n_delta_a: -0.004,   # Aileron effect on yaw (1/rad)\n",
    "\n",
    "    # Control Derivatives\n",
    "    C_L_delta_e: 0.30,     # Effect of elevator deflection on lift (1/rad)\n",
    "    C_D_delta_e: 0.32,     # Effect of elevator deflection on drag (1/rad)\n",
    "\n",
    "    # Efficiency Factors\n",
    "    e: 0.85,               # Oswald efficiency factor\n",
    "    alpha_0: 0.45,         # Zero-lift angle of attack (rad)\n",
    "\n",
    "    # Additional Drag & Lift Coefficients\n",
    "    M: 50.0,               # Sigmoid blending function parameter\n",
    "    k_e: 0.01,             # Drag due to elevator deflection (empirical coefficient)\n",
    "    k: 0.048               # Induced drag factor\n",
    "}"
   ]
  },
  {
   "cell_type": "markdown",
   "id": "ac2be7c3",
   "metadata": {},
   "source": [
    "Compute aerodynamic forces and torques (assuming low angles of attack, so no stall)."
   ]
  },
  {
   "cell_type": "code",
   "execution_count": 6,
   "id": "2e55a7b4",
   "metadata": {},
   "outputs": [],
   "source": [
    "# Get airspeed, angle of attack, and angle of sideslip\n",
    "V_a = sym.sqrt(v_x**2 + v_y**2 + v_z**2)\n",
    "alpha = sym.atan(v_z / v_x)\n",
    "beta = sym.asin(v_y / V_a)\n",
    "\n",
    "# Convert from right and left elevon deflections to equivalent elevator and aileron deflections\n",
    "delta_e = (delta_r + delta_l) / 2\n",
    "delta_a = (-delta_r + delta_l) / 2\n",
    "\n",
    "# Longitudinal aerodynamics\n",
    "C_L = C_L_0 + C_L_alpha * alpha\n",
    "F_lift = rho * V_a**2 * S * (C_L + C_L_q * (c / (2 * V_a)) * w_y + C_L_delta_e * delta_e) / 2\n",
    "F_drag = rho * V_a**2 * S * ((C_D_0 + k * C_L**2) + C_D_q * (c / (2 * V_a)) * w_y + k_e * (C_L_delta_e * delta_e)**2) / 2\n",
    "f_x, f_z = sym.Matrix([[sym.cos(alpha), -sym.sin(alpha)], [sym.sin(alpha), sym.cos(alpha)]]) @ sym.Matrix([[-F_drag], [-F_lift]])\n",
    "tau_y = rho * V_a**2 * S * c * (C_m_0 + C_m_alpha * alpha + C_m_q * (c / (2 * V_a)) * w_y + C_m_delta_e * delta_e) / 2\n",
    "\n",
    "# Lateral aerodynamics\n",
    "f_y =   rho * V_a**2 * S *     (C_Y_0 + C_Y_beta * beta + C_Y_p * (b / (2 * V_a)) * w_x + C_Y_r * (b / (2 * V_a)) * w_z + C_Y_delta_a * delta_a) / 2\n",
    "tau_x = rho * V_a**2 * S * b * (C_l_0 + C_l_beta * beta + C_l_p * (b / (2 * V_a)) * w_x + C_l_r * (b / (2 * V_a)) * w_z + C_l_delta_a * delta_a) / 2\n",
    "tau_z = rho * V_a**2 * S * b * (C_n_0 + C_n_beta * beta + C_n_p * (b / (2 * V_a)) * w_x + C_n_r * (b / (2 * V_a)) * w_z + C_n_delta_a * delta_a) / 2"
   ]
  },
  {
   "cell_type": "markdown",
   "id": "a2dc1366",
   "metadata": {},
   "source": [
    "Define the linear velocity vector $v^B_{W, B}$ and the angular velocity vector $w^B_{W, B}$ in the coordinates of the body frame."
   ]
  },
  {
   "cell_type": "code",
   "execution_count": 7,
   "id": "90019c9a",
   "metadata": {},
   "outputs": [],
   "source": [
    "v_inB_ofWB = sym.Matrix([v_x, v_y, v_z])\n",
    "w_inB_ofWB = sym.Matrix([w_x, w_y, w_z])"
   ]
  },
  {
   "cell_type": "markdown",
   "id": "5228b6ce",
   "metadata": {},
   "source": [
    "Define the moment of inertia matrix in the coordinates of the body frame."
   ]
  },
  {
   "cell_type": "code",
   "execution_count": 8,
   "id": "2c51e28d",
   "metadata": {},
   "outputs": [],
   "source": [
    "J_inB = sym.Matrix([[  J_x,    0, -J_xz],\n",
    "                    [    0,  J_y,     0],\n",
    "                    [-J_xz,    0,   J_z]])"
   ]
  },
  {
   "cell_type": "markdown",
   "id": "c4b2b9b3",
   "metadata": {},
   "source": [
    "Define individual rotation matrices."
   ]
  },
  {
   "cell_type": "code",
   "execution_count": 9,
   "id": "abb422e6",
   "metadata": {},
   "outputs": [],
   "source": [
    "Rz = sym.Matrix([[sym.cos(psi), -sym.sin(psi), 0],\n",
    "                 [sym.sin(psi), sym.cos(psi), 0],\n",
    "                 [0, 0, 1]])\n",
    "\n",
    "Ry = sym.Matrix([[sym.cos(theta), 0, sym.sin(theta)],\n",
    "                 [0, 1, 0],\n",
    "                 [-sym.sin(theta), 0, sym.cos(theta)]])\n",
    "\n",
    "Rx = sym.Matrix([[1, 0, 0],\n",
    "                 [0, sym.cos(phi), -sym.sin(phi)],\n",
    "                 [0, sym.sin(phi), sym.cos(phi)]])"
   ]
  },
  {
   "cell_type": "markdown",
   "id": "bfe068f4",
   "metadata": {},
   "source": [
    "Apply sequential transformation to compute the rotation matrix that describes the orientation of the aircraft (i.e., of frame $B$ in the coordinates of frame $W$)."
   ]
  },
  {
   "cell_type": "code",
   "execution_count": 10,
   "id": "a708cce2",
   "metadata": {},
   "outputs": [],
   "source": [
    "R_inW_ofB = Rz @ Ry @ Rx"
   ]
  },
  {
   "cell_type": "markdown",
   "id": "2d450c82",
   "metadata": {},
   "source": [
    "Compute the matrix $N$ for which\n",
    "\n",
    "$$\\begin{bmatrix} \\dot{\\psi} \\\\ \\dot{\\theta} \\\\ \\dot{\\phi} \\end{bmatrix} = N w_{W, B}^{B}.$$"
   ]
  },
  {
   "cell_type": "code",
   "execution_count": 11,
   "id": "e1984caf",
   "metadata": {},
   "outputs": [],
   "source": [
    "# First, compute the inverse of N\n",
    "Ninv = sym.Matrix.hstack((Ry * Rx).T * sym.Matrix([0, 0, 1]),\n",
    "                              (Rx).T * sym.Matrix([0, 1, 0]),\n",
    "                                       sym.Matrix([1, 0, 0]))\n",
    "\n",
    "# Then, take the inverse of this result to compute N\n",
    "N = sym.simplify(Ninv.inv())"
   ]
  },
  {
   "cell_type": "markdown",
   "id": "291bac9d",
   "metadata": {},
   "source": [
    "Compute the total force and torque on the aicraft in the body frame (remember that $z$ is down!)."
   ]
  },
  {
   "cell_type": "code",
   "execution_count": 12,
   "id": "3603cc4f",
   "metadata": {},
   "outputs": [],
   "source": [
    "# Total force\n",
    "f_inB = R_inW_ofB.T * sym.Matrix([0, 0, m * g]) + sym.Matrix([f_x, f_y, f_z])\n",
    "\n",
    "# Total torque\n",
    "tau_inB = sym.Matrix([tau_x, tau_y, tau_z])"
   ]
  },
  {
   "cell_type": "markdown",
   "id": "7384c6b3",
   "metadata": {},
   "source": [
    "Define (fully) symbolic equations of motion. These are complicated enough that we won't bother to show them."
   ]
  },
  {
   "cell_type": "code",
   "execution_count": 17,
   "id": "14326c7d",
   "metadata": {},
   "outputs": [
    {
     "name": "stdout",
     "output_type": "stream",
     "text": [
      "Matrix([[v_x*cos(psi)*cos(theta) + v_y*(sin(phi)*sin(theta)*cos(psi) - sin(psi)*cos(phi)) + v_z*(sin(phi)*sin(psi) + sin(theta)*cos(phi)*cos(psi))], [v_x*sin(psi)*cos(theta) + v_y*(sin(phi)*sin(psi)*sin(theta) + cos(phi)*cos(psi)) + v_z*(-sin(phi)*cos(psi) + sin(psi)*sin(theta)*cos(phi))], [-v_x*sin(theta) + v_y*sin(phi)*cos(theta) + v_z*cos(phi)*cos(theta)], [w_y*sin(phi)/cos(theta) + w_z*cos(phi)/cos(theta)], [w_y*cos(phi) - w_z*sin(phi)], [w_x + w_y*sin(phi)*tan(theta) + w_z*cos(phi)*tan(theta)], [(-S*rho*(v_x**2 + v_y**2 + v_z**2)*(C_D_0 + C_D_q*c*w_y/(2*sqrt(v_x**2 + v_y**2 + v_z**2)) + C_L_delta_e**2*k_e*(delta_l/2 + delta_r/2)**2 + k*(C_L_0 + C_L_alpha*atan(v_z/v_x))**2)/(2*sqrt(1 + v_z**2/v_x**2)) + S*rho*v_z*(v_x**2 + v_y**2 + v_z**2)*(C_L_0 + C_L_alpha*atan(v_z/v_x) + C_L_delta_e*(delta_l/2 + delta_r/2) + C_L_q*c*w_y/(2*sqrt(v_x**2 + v_y**2 + v_z**2)))/(2*v_x*sqrt(1 + v_z**2/v_x**2)) - g*m*sin(theta) + m*v_y*w_z - m*v_z*w_y)/m], [(S*rho*(v_x**2 + v_y**2 + v_z**2)*(C_Y_0 + C_Y_beta*asin(v_y/sqrt(v_x**2 + v_y**2 + v_z**2)) + C_Y_delta_a*(delta_l/2 - delta_r/2) + C_Y_p*b*w_x/(2*sqrt(v_x**2 + v_y**2 + v_z**2)) + C_Y_r*b*w_z/(2*sqrt(v_x**2 + v_y**2 + v_z**2)))/2 + g*m*sin(phi)*cos(theta) - m*v_x*w_z + m*v_z*w_x)/m], [(-S*rho*(v_x**2 + v_y**2 + v_z**2)*(C_L_0 + C_L_alpha*atan(v_z/v_x) + C_L_delta_e*(delta_l/2 + delta_r/2) + C_L_q*c*w_y/(2*sqrt(v_x**2 + v_y**2 + v_z**2)))/(2*sqrt(1 + v_z**2/v_x**2)) - S*rho*v_z*(v_x**2 + v_y**2 + v_z**2)*(C_D_0 + C_D_q*c*w_y/(2*sqrt(v_x**2 + v_y**2 + v_z**2)) + C_L_delta_e**2*k_e*(delta_l/2 + delta_r/2)**2 + k*(C_L_0 + C_L_alpha*atan(v_z/v_x))**2)/(2*v_x*sqrt(1 + v_z**2/v_x**2)) + g*m*cos(phi)*cos(theta) + m*v_x*w_y - m*v_y*w_x)/m], [J_xz*(-J_y*w_x*w_y + S*b*rho*(v_x**2 + v_y**2 + v_z**2)*(C_n_0 + C_n_beta*asin(v_y/sqrt(v_x**2 + v_y**2 + v_z**2)) + C_n_delta_a*(delta_l/2 - delta_r/2) + C_n_p*b*w_x/(2*sqrt(v_x**2 + v_y**2 + v_z**2)) + C_n_r*b*w_z/(2*sqrt(v_x**2 + v_y**2 + v_z**2)))/2 + w_y*(J_x*w_x - J_xz*w_z))/(J_x*J_z - J_xz**2) + J_z*(J_y*w_y*w_z + S*b*rho*(v_x**2 + v_y**2 + v_z**2)*(C_l_0 + C_l_beta*asin(v_y/sqrt(v_x**2 + v_y**2 + v_z**2)) + C_l_delta_a*(delta_l/2 - delta_r/2) + C_l_p*b*w_x/(2*sqrt(v_x**2 + v_y**2 + v_z**2)) + C_l_r*b*w_z/(2*sqrt(v_x**2 + v_y**2 + v_z**2)))/2 - w_y*(-J_xz*w_x + J_z*w_z))/(J_x*J_z - J_xz**2)], [(S*c*rho*(v_x**2 + v_y**2 + v_z**2)*(C_m_0 + C_m_alpha*atan(v_z/v_x) + C_m_delta_e*(delta_l/2 + delta_r/2) + C_m_q*c*w_y/(2*sqrt(v_x**2 + v_y**2 + v_z**2)))/2 + w_x*(-J_xz*w_x + J_z*w_z) - w_z*(J_x*w_x - J_xz*w_z))/J_y], [J_x*(-J_y*w_x*w_y + S*b*rho*(v_x**2 + v_y**2 + v_z**2)*(C_n_0 + C_n_beta*asin(v_y/sqrt(v_x**2 + v_y**2 + v_z**2)) + C_n_delta_a*(delta_l/2 - delta_r/2) + C_n_p*b*w_x/(2*sqrt(v_x**2 + v_y**2 + v_z**2)) + C_n_r*b*w_z/(2*sqrt(v_x**2 + v_y**2 + v_z**2)))/2 + w_y*(J_x*w_x - J_xz*w_z))/(J_x*J_z - J_xz**2) + J_xz*(J_y*w_y*w_z + S*b*rho*(v_x**2 + v_y**2 + v_z**2)*(C_l_0 + C_l_beta*asin(v_y/sqrt(v_x**2 + v_y**2 + v_z**2)) + C_l_delta_a*(delta_l/2 - delta_r/2) + C_l_p*b*w_x/(2*sqrt(v_x**2 + v_y**2 + v_z**2)) + C_l_r*b*w_z/(2*sqrt(v_x**2 + v_y**2 + v_z**2)))/2 - w_y*(-J_xz*w_x + J_z*w_z))/(J_x*J_z - J_xz**2)]])\n"
     ]
    },
    {
     "data": {
      "text/latex": [
       "$\\displaystyle \\left[\\begin{matrix}v_{x} \\cos{\\left(\\psi \\right)} \\cos{\\left(\\theta \\right)} + v_{y} \\left(\\sin{\\left(\\phi \\right)} \\sin{\\left(\\theta \\right)} \\cos{\\left(\\psi \\right)} - \\sin{\\left(\\psi \\right)} \\cos{\\left(\\phi \\right)}\\right) + v_{z} \\left(\\sin{\\left(\\phi \\right)} \\sin{\\left(\\psi \\right)} + \\sin{\\left(\\theta \\right)} \\cos{\\left(\\phi \\right)} \\cos{\\left(\\psi \\right)}\\right)\\\\v_{x} \\sin{\\left(\\psi \\right)} \\cos{\\left(\\theta \\right)} + v_{y} \\left(\\sin{\\left(\\phi \\right)} \\sin{\\left(\\psi \\right)} \\sin{\\left(\\theta \\right)} + \\cos{\\left(\\phi \\right)} \\cos{\\left(\\psi \\right)}\\right) + v_{z} \\left(- \\sin{\\left(\\phi \\right)} \\cos{\\left(\\psi \\right)} + \\sin{\\left(\\psi \\right)} \\sin{\\left(\\theta \\right)} \\cos{\\left(\\phi \\right)}\\right)\\\\- v_{x} \\sin{\\left(\\theta \\right)} + v_{y} \\sin{\\left(\\phi \\right)} \\cos{\\left(\\theta \\right)} + v_{z} \\cos{\\left(\\phi \\right)} \\cos{\\left(\\theta \\right)}\\\\\\frac{w_{y} \\sin{\\left(\\phi \\right)}}{\\cos{\\left(\\theta \\right)}} + \\frac{w_{z} \\cos{\\left(\\phi \\right)}}{\\cos{\\left(\\theta \\right)}}\\\\w_{y} \\cos{\\left(\\phi \\right)} - w_{z} \\sin{\\left(\\phi \\right)}\\\\w_{x} + w_{y} \\sin{\\left(\\phi \\right)} \\tan{\\left(\\theta \\right)} + w_{z} \\cos{\\left(\\phi \\right)} \\tan{\\left(\\theta \\right)}\\\\\\frac{- \\frac{S \\rho \\left(v_{x}^{2} + v_{y}^{2} + v_{z}^{2}\\right) \\left(C_{D 0} + \\frac{C_{D q} c w_{y}}{2 \\sqrt{v_{x}^{2} + v_{y}^{2} + v_{z}^{2}}} + C_{L \\delta e}^{2} k_{e} \\left(\\frac{\\delta_{l}}{2} + \\frac{\\delta_{r}}{2}\\right)^{2} + k \\left(C_{L 0} + C_{L \\alpha} \\operatorname{atan}{\\left(\\frac{v_{z}}{v_{x}} \\right)}\\right)^{2}\\right)}{2 \\sqrt{1 + \\frac{v_{z}^{2}}{v_{x}^{2}}}} + \\frac{S \\rho v_{z} \\left(v_{x}^{2} + v_{y}^{2} + v_{z}^{2}\\right) \\left(C_{L 0} + C_{L \\alpha} \\operatorname{atan}{\\left(\\frac{v_{z}}{v_{x}} \\right)} + C_{L \\delta e} \\left(\\frac{\\delta_{l}}{2} + \\frac{\\delta_{r}}{2}\\right) + \\frac{C_{L q} c w_{y}}{2 \\sqrt{v_{x}^{2} + v_{y}^{2} + v_{z}^{2}}}\\right)}{2 v_{x} \\sqrt{1 + \\frac{v_{z}^{2}}{v_{x}^{2}}}} - g m \\sin{\\left(\\theta \\right)} + m v_{y} w_{z} - m v_{z} w_{y}}{m}\\\\\\frac{\\frac{S \\rho \\left(v_{x}^{2} + v_{y}^{2} + v_{z}^{2}\\right) \\left(C_{Y 0} + C_{Y \\beta} \\operatorname{asin}{\\left(\\frac{v_{y}}{\\sqrt{v_{x}^{2} + v_{y}^{2} + v_{z}^{2}}} \\right)} + C_{Y \\delta a} \\left(\\frac{\\delta_{l}}{2} - \\frac{\\delta_{r}}{2}\\right) + \\frac{C_{Y p} b w_{x}}{2 \\sqrt{v_{x}^{2} + v_{y}^{2} + v_{z}^{2}}} + \\frac{C_{Y r} b w_{z}}{2 \\sqrt{v_{x}^{2} + v_{y}^{2} + v_{z}^{2}}}\\right)}{2} + g m \\sin{\\left(\\phi \\right)} \\cos{\\left(\\theta \\right)} - m v_{x} w_{z} + m v_{z} w_{x}}{m}\\\\\\frac{- \\frac{S \\rho \\left(v_{x}^{2} + v_{y}^{2} + v_{z}^{2}\\right) \\left(C_{L 0} + C_{L \\alpha} \\operatorname{atan}{\\left(\\frac{v_{z}}{v_{x}} \\right)} + C_{L \\delta e} \\left(\\frac{\\delta_{l}}{2} + \\frac{\\delta_{r}}{2}\\right) + \\frac{C_{L q} c w_{y}}{2 \\sqrt{v_{x}^{2} + v_{y}^{2} + v_{z}^{2}}}\\right)}{2 \\sqrt{1 + \\frac{v_{z}^{2}}{v_{x}^{2}}}} - \\frac{S \\rho v_{z} \\left(v_{x}^{2} + v_{y}^{2} + v_{z}^{2}\\right) \\left(C_{D 0} + \\frac{C_{D q} c w_{y}}{2 \\sqrt{v_{x}^{2} + v_{y}^{2} + v_{z}^{2}}} + C_{L \\delta e}^{2} k_{e} \\left(\\frac{\\delta_{l}}{2} + \\frac{\\delta_{r}}{2}\\right)^{2} + k \\left(C_{L 0} + C_{L \\alpha} \\operatorname{atan}{\\left(\\frac{v_{z}}{v_{x}} \\right)}\\right)^{2}\\right)}{2 v_{x} \\sqrt{1 + \\frac{v_{z}^{2}}{v_{x}^{2}}}} + g m \\cos{\\left(\\phi \\right)} \\cos{\\left(\\theta \\right)} + m v_{x} w_{y} - m v_{y} w_{x}}{m}\\\\\\frac{J_{xz} \\left(- J_{y} w_{x} w_{y} + \\frac{S b \\rho \\left(v_{x}^{2} + v_{y}^{2} + v_{z}^{2}\\right) \\left(C_{n 0} + C_{n \\beta} \\operatorname{asin}{\\left(\\frac{v_{y}}{\\sqrt{v_{x}^{2} + v_{y}^{2} + v_{z}^{2}}} \\right)} + C_{n \\delta a} \\left(\\frac{\\delta_{l}}{2} - \\frac{\\delta_{r}}{2}\\right) + \\frac{C_{n p} b w_{x}}{2 \\sqrt{v_{x}^{2} + v_{y}^{2} + v_{z}^{2}}} + \\frac{C_{n r} b w_{z}}{2 \\sqrt{v_{x}^{2} + v_{y}^{2} + v_{z}^{2}}}\\right)}{2} + w_{y} \\left(J_{x} w_{x} - J_{xz} w_{z}\\right)\\right)}{J_{x} J_{z} - J_{xz}^{2}} + \\frac{J_{z} \\left(J_{y} w_{y} w_{z} + \\frac{S b \\rho \\left(v_{x}^{2} + v_{y}^{2} + v_{z}^{2}\\right) \\left(C_{l 0} + C_{l \\beta} \\operatorname{asin}{\\left(\\frac{v_{y}}{\\sqrt{v_{x}^{2} + v_{y}^{2} + v_{z}^{2}}} \\right)} + C_{l \\delta a} \\left(\\frac{\\delta_{l}}{2} - \\frac{\\delta_{r}}{2}\\right) + \\frac{C_{l p} b w_{x}}{2 \\sqrt{v_{x}^{2} + v_{y}^{2} + v_{z}^{2}}} + \\frac{C_{l r} b w_{z}}{2 \\sqrt{v_{x}^{2} + v_{y}^{2} + v_{z}^{2}}}\\right)}{2} - w_{y} \\left(- J_{xz} w_{x} + J_{z} w_{z}\\right)\\right)}{J_{x} J_{z} - J_{xz}^{2}}\\\\\\frac{\\frac{S c \\rho \\left(v_{x}^{2} + v_{y}^{2} + v_{z}^{2}\\right) \\left(C_{m 0} + C_{m \\alpha} \\operatorname{atan}{\\left(\\frac{v_{z}}{v_{x}} \\right)} + C_{m \\delta e} \\left(\\frac{\\delta_{l}}{2} + \\frac{\\delta_{r}}{2}\\right) + \\frac{C_{m q} c w_{y}}{2 \\sqrt{v_{x}^{2} + v_{y}^{2} + v_{z}^{2}}}\\right)}{2} + w_{x} \\left(- J_{xz} w_{x} + J_{z} w_{z}\\right) - w_{z} \\left(J_{x} w_{x} - J_{xz} w_{z}\\right)}{J_{y}}\\\\\\frac{J_{x} \\left(- J_{y} w_{x} w_{y} + \\frac{S b \\rho \\left(v_{x}^{2} + v_{y}^{2} + v_{z}^{2}\\right) \\left(C_{n 0} + C_{n \\beta} \\operatorname{asin}{\\left(\\frac{v_{y}}{\\sqrt{v_{x}^{2} + v_{y}^{2} + v_{z}^{2}}} \\right)} + C_{n \\delta a} \\left(\\frac{\\delta_{l}}{2} - \\frac{\\delta_{r}}{2}\\right) + \\frac{C_{n p} b w_{x}}{2 \\sqrt{v_{x}^{2} + v_{y}^{2} + v_{z}^{2}}} + \\frac{C_{n r} b w_{z}}{2 \\sqrt{v_{x}^{2} + v_{y}^{2} + v_{z}^{2}}}\\right)}{2} + w_{y} \\left(J_{x} w_{x} - J_{xz} w_{z}\\right)\\right)}{J_{x} J_{z} - J_{xz}^{2}} + \\frac{J_{xz} \\left(J_{y} w_{y} w_{z} + \\frac{S b \\rho \\left(v_{x}^{2} + v_{y}^{2} + v_{z}^{2}\\right) \\left(C_{l 0} + C_{l \\beta} \\operatorname{asin}{\\left(\\frac{v_{y}}{\\sqrt{v_{x}^{2} + v_{y}^{2} + v_{z}^{2}}} \\right)} + C_{l \\delta a} \\left(\\frac{\\delta_{l}}{2} - \\frac{\\delta_{r}}{2}\\right) + \\frac{C_{l p} b w_{x}}{2 \\sqrt{v_{x}^{2} + v_{y}^{2} + v_{z}^{2}}} + \\frac{C_{l r} b w_{z}}{2 \\sqrt{v_{x}^{2} + v_{y}^{2} + v_{z}^{2}}}\\right)}{2} - w_{y} \\left(- J_{xz} w_{x} + J_{z} w_{z}\\right)\\right)}{J_{x} J_{z} - J_{xz}^{2}}\\end{matrix}\\right]$"
      ],
      "text/plain": [
       "Matrix([\n",
       "[                                                                                                                                                                                                                                                                                                                                                                                                                                                                                   v_x*cos(psi)*cos(theta) + v_y*(sin(phi)*sin(theta)*cos(psi) - sin(psi)*cos(phi)) + v_z*(sin(phi)*sin(psi) + sin(theta)*cos(phi)*cos(psi))],\n",
       "[                                                                                                                                                                                                                                                                                                                                                                                                                                                                                  v_x*sin(psi)*cos(theta) + v_y*(sin(phi)*sin(psi)*sin(theta) + cos(phi)*cos(psi)) + v_z*(-sin(phi)*cos(psi) + sin(psi)*sin(theta)*cos(phi))],\n",
       "[                                                                                                                                                                                                                                                                                                                                                                                                                                                                                                                                                         -v_x*sin(theta) + v_y*sin(phi)*cos(theta) + v_z*cos(phi)*cos(theta)],\n",
       "[                                                                                                                                                                                                                                                                                                                                                                                                                                                                                                                                                                           w_y*sin(phi)/cos(theta) + w_z*cos(phi)/cos(theta)],\n",
       "[                                                                                                                                                                                                                                                                                                                                                                                                                                                                                                                                                                                                 w_y*cos(phi) - w_z*sin(phi)],\n",
       "[                                                                                                                                                                                                                                                                                                                                                                                                                                                                                                                                                                     w_x + w_y*sin(phi)*tan(theta) + w_z*cos(phi)*tan(theta)],\n",
       "[                                                                                                                                                                (-S*rho*(v_x**2 + v_y**2 + v_z**2)*(C_D_0 + C_D_q*c*w_y/(2*sqrt(v_x**2 + v_y**2 + v_z**2)) + C_L_delta_e**2*k_e*(delta_l/2 + delta_r/2)**2 + k*(C_L_0 + C_L_alpha*atan(v_z/v_x))**2)/(2*sqrt(1 + v_z**2/v_x**2)) + S*rho*v_z*(v_x**2 + v_y**2 + v_z**2)*(C_L_0 + C_L_alpha*atan(v_z/v_x) + C_L_delta_e*(delta_l/2 + delta_r/2) + C_L_q*c*w_y/(2*sqrt(v_x**2 + v_y**2 + v_z**2)))/(2*v_x*sqrt(1 + v_z**2/v_x**2)) - g*m*sin(theta) + m*v_y*w_z - m*v_z*w_y)/m],\n",
       "[                                                                                                                                                                                                                                                                                                                                (S*rho*(v_x**2 + v_y**2 + v_z**2)*(C_Y_0 + C_Y_beta*asin(v_y/sqrt(v_x**2 + v_y**2 + v_z**2)) + C_Y_delta_a*(delta_l/2 - delta_r/2) + C_Y_p*b*w_x/(2*sqrt(v_x**2 + v_y**2 + v_z**2)) + C_Y_r*b*w_z/(2*sqrt(v_x**2 + v_y**2 + v_z**2)))/2 + g*m*sin(phi)*cos(theta) - m*v_x*w_z + m*v_z*w_x)/m],\n",
       "[                                                                                                                                                       (-S*rho*(v_x**2 + v_y**2 + v_z**2)*(C_L_0 + C_L_alpha*atan(v_z/v_x) + C_L_delta_e*(delta_l/2 + delta_r/2) + C_L_q*c*w_y/(2*sqrt(v_x**2 + v_y**2 + v_z**2)))/(2*sqrt(1 + v_z**2/v_x**2)) - S*rho*v_z*(v_x**2 + v_y**2 + v_z**2)*(C_D_0 + C_D_q*c*w_y/(2*sqrt(v_x**2 + v_y**2 + v_z**2)) + C_L_delta_e**2*k_e*(delta_l/2 + delta_r/2)**2 + k*(C_L_0 + C_L_alpha*atan(v_z/v_x))**2)/(2*v_x*sqrt(1 + v_z**2/v_x**2)) + g*m*cos(phi)*cos(theta) + m*v_x*w_y - m*v_y*w_x)/m],\n",
       "[J_xz*(-J_y*w_x*w_y + S*b*rho*(v_x**2 + v_y**2 + v_z**2)*(C_n_0 + C_n_beta*asin(v_y/sqrt(v_x**2 + v_y**2 + v_z**2)) + C_n_delta_a*(delta_l/2 - delta_r/2) + C_n_p*b*w_x/(2*sqrt(v_x**2 + v_y**2 + v_z**2)) + C_n_r*b*w_z/(2*sqrt(v_x**2 + v_y**2 + v_z**2)))/2 + w_y*(J_x*w_x - J_xz*w_z))/(J_x*J_z - J_xz**2) + J_z*(J_y*w_y*w_z + S*b*rho*(v_x**2 + v_y**2 + v_z**2)*(C_l_0 + C_l_beta*asin(v_y/sqrt(v_x**2 + v_y**2 + v_z**2)) + C_l_delta_a*(delta_l/2 - delta_r/2) + C_l_p*b*w_x/(2*sqrt(v_x**2 + v_y**2 + v_z**2)) + C_l_r*b*w_z/(2*sqrt(v_x**2 + v_y**2 + v_z**2)))/2 - w_y*(-J_xz*w_x + J_z*w_z))/(J_x*J_z - J_xz**2)],\n",
       "[                                                                                                                                                                                                                                                                                                                                                                                                  (S*c*rho*(v_x**2 + v_y**2 + v_z**2)*(C_m_0 + C_m_alpha*atan(v_z/v_x) + C_m_delta_e*(delta_l/2 + delta_r/2) + C_m_q*c*w_y/(2*sqrt(v_x**2 + v_y**2 + v_z**2)))/2 + w_x*(-J_xz*w_x + J_z*w_z) - w_z*(J_x*w_x - J_xz*w_z))/J_y],\n",
       "[J_x*(-J_y*w_x*w_y + S*b*rho*(v_x**2 + v_y**2 + v_z**2)*(C_n_0 + C_n_beta*asin(v_y/sqrt(v_x**2 + v_y**2 + v_z**2)) + C_n_delta_a*(delta_l/2 - delta_r/2) + C_n_p*b*w_x/(2*sqrt(v_x**2 + v_y**2 + v_z**2)) + C_n_r*b*w_z/(2*sqrt(v_x**2 + v_y**2 + v_z**2)))/2 + w_y*(J_x*w_x - J_xz*w_z))/(J_x*J_z - J_xz**2) + J_xz*(J_y*w_y*w_z + S*b*rho*(v_x**2 + v_y**2 + v_z**2)*(C_l_0 + C_l_beta*asin(v_y/sqrt(v_x**2 + v_y**2 + v_z**2)) + C_l_delta_a*(delta_l/2 - delta_r/2) + C_l_p*b*w_x/(2*sqrt(v_x**2 + v_y**2 + v_z**2)) + C_l_r*b*w_z/(2*sqrt(v_x**2 + v_y**2 + v_z**2)))/2 - w_y*(-J_xz*w_x + J_z*w_z))/(J_x*J_z - J_xz**2)]])"
      ]
     },
     "execution_count": 17,
     "metadata": {},
     "output_type": "execute_result"
    }
   ],
   "source": [
    "f_sym = sym.Matrix.vstack(\n",
    "    R_inW_ofB * v_inB_ofWB,\n",
    "    N * w_inB_ofWB,\n",
    "    (1 / m) * (f_inB - w_inB_ofWB.cross(m * v_inB_ofWB)),\n",
    "    J_inB.inv() * (tau_inB - w_inB_ofWB.cross(J_inB * w_inB_ofWB)),\n",
    ")\n",
    "print(f_sym)\n",
    "f_sym"
   ]
  },
  {
   "cell_type": "markdown",
   "id": "3943b6f1",
   "metadata": {},
   "source": [
    "Substitute numerical values for each parameter. The only symbols that remain in these equations of motion are the (nonlinear) states and inputs. Again, these equations of motion are complicated, so we won't bother to show them. They have the following form:\n",
    "\n",
    "$$\n",
    "\\begin{bmatrix} \\dot{p}_x \\\\ \\dot{p}_y \\\\ \\dot{p}_z \\\\ \\dot{\\psi} \\\\ \\dot{\\theta} \\\\ \\dot{\\phi} \\\\ \\dot{v}_x \\\\ \\dot{v}_y \\\\ \\dot{v}_z \\\\ \\dot{w}_x \\\\ \\dot{w}_y \\\\ \\dot{w}_z \\end{bmatrix}\n",
    "=\n",
    "f\\left(\n",
    "\\begin{bmatrix} p_x \\\\ p_y \\\\ p_z \\\\ \\psi \\\\ \\theta \\\\ \\phi \\\\ v_x \\\\ v_y \\\\ v_z \\\\ w_x \\\\ w_y \\\\ w_z \\end{bmatrix},\n",
    "\\begin{bmatrix} \\delta_r \\\\ \\delta_l \\end{bmatrix}\n",
    "\\right).\n",
    "$$"
   ]
  },
  {
   "cell_type": "code",
   "execution_count": 25,
   "id": "fa92b4e7",
   "metadata": {},
   "outputs": [
    {
     "name": "stdout",
     "output_type": "stream",
     "text": [
      "Matrix([[v_x*cos(psi)*cos(theta) + v_y*(sin(phi)*sin(theta)*cos(psi) - sin(psi)*cos(phi)) + v_z*(sin(phi)*sin(psi) + sin(theta)*cos(phi)*cos(psi))], [v_x*sin(psi)*cos(theta) + v_y*(sin(phi)*sin(psi)*sin(theta) + cos(phi)*cos(psi)) + v_z*(-sin(phi)*cos(psi) + sin(psi)*sin(theta)*cos(phi))], [-v_x*sin(theta) + v_y*sin(phi)*cos(theta) + v_z*cos(phi)*cos(theta)], [w_y*sin(phi)/cos(theta) + w_z*cos(phi)/cos(theta)], [w_y*cos(phi) - w_z*sin(phi)], [w_x + w_y*sin(phi)*tan(theta) + w_z*cos(phi)*tan(theta)], [1.0*v_y*w_z - 1.0*v_z*w_y - 9.81*sin(theta) - 0.190880358974359*(v_x**2 + v_y**2 + v_z**2)*(0.0009*(delta_l/2 + delta_r/2)**2 + 1.10592*(atan(v_z/v_x) + 0.0416666666666667)**2 + 0.02)/sqrt(1 + v_z**2/v_x**2) + 0.190880358974359*v_z*(v_x**2 + v_y**2 + v_z**2)*(0.15*delta_l + 0.15*delta_r + 0.36322*w_y/sqrt(v_x**2 + v_y**2 + v_z**2) + 4.8*atan(v_z/v_x) + 0.2)/(v_x*sqrt(1 + v_z**2/v_x**2))], [-1.0*v_x*w_z + 1.0*v_z*w_x - 0.0152704287179487*(v_x**2 + v_y**2 + v_z**2)*asin(v_y/sqrt(v_x**2 + v_y**2 + v_z**2)) + 9.81*sin(phi)*cos(theta)], [1.0*v_x*w_y - 1.0*v_y*w_x + 9.81*cos(phi)*cos(theta) - 0.190880358974359*(v_x**2 + v_y**2 + v_z**2)*(0.15*delta_l + 0.15*delta_r + 0.36322*w_y/sqrt(v_x**2 + v_y**2 + v_z**2) + 4.8*atan(v_z/v_x) + 0.2)/sqrt(1 + v_z**2/v_x**2) - 0.190880358974359*v_z*(v_x**2 + v_y**2 + v_z**2)*(0.0009*(delta_l/2 + delta_r/2)**2 + 1.10592*(atan(v_z/v_x) + 0.0416666666666667)**2 + 0.02)/(v_x*sqrt(1 + v_z**2/v_x**2))], [-0.0044004422851945*w_x*w_y + 0.502237146150199*w_y*w_z - 8.71939489844095*w_y*(-0.0015*w_x + 0.1712*w_z) + 0.0763965674512934*w_y*(0.1147*w_x - 0.0015*w_z) + 0.0323579821372602*(v_x**2 + v_y**2 + v_z**2)*(-0.002*delta_l + 0.002*delta_r - 0.0156464*w_x/sqrt(v_x**2 + v_y**2 + v_z**2) - 0.0064008*w_z/sqrt(v_x**2 + v_y**2 + v_z**2) + 0.008*asin(v_y/sqrt(v_x**2 + v_y**2 + v_z**2))) + 3.69312436126596*(v_x**2 + v_y**2 + v_z**2)*(0.09*delta_l - 0.09*delta_r - 0.32004*w_x/sqrt(v_x**2 + v_y**2 + v_z**2) + 0.021336*w_z/sqrt(v_x**2 + v_y**2 + v_z**2) - 0.1*asin(v_y/sqrt(v_x**2 + v_y**2 + v_z**2)))], [17.3611111111111*w_x*(-0.0015*w_x + 0.1712*w_z) - 17.3611111111111*w_z*(0.1147*w_x - 0.0015*w_z) + 1.70702714361111*(v_x**2 + v_y**2 + v_z**2)*(-0.175*delta_l - 0.175*delta_r - 0.29718*w_y/sqrt(v_x**2 + v_y**2 + v_z**2) - 0.6*atan(v_z/v_x) - 0.02)], [-0.336487153407873*w_x*w_y + 0.0044004422851945*w_y*w_z - 0.0763965674512934*w_y*(-0.0015*w_x + 0.1712*w_z) + 5.84179085777557*w_y*(0.1147*w_x - 0.0015*w_z) + 2.47430703409583*(v_x**2 + v_y**2 + v_z**2)*(-0.002*delta_l + 0.002*delta_r - 0.0156464*w_x/sqrt(v_x**2 + v_y**2 + v_z**2) - 0.0064008*w_z/sqrt(v_x**2 + v_y**2 + v_z**2) + 0.008*asin(v_y/sqrt(v_x**2 + v_y**2 + v_z**2))) + 0.0323579821372602*(v_x**2 + v_y**2 + v_z**2)*(0.09*delta_l - 0.09*delta_r - 0.32004*w_x/sqrt(v_x**2 + v_y**2 + v_z**2) + 0.021336*w_z/sqrt(v_x**2 + v_y**2 + v_z**2) - 0.1*asin(v_y/sqrt(v_x**2 + v_y**2 + v_z**2)))]])\n"
     ]
    }
   ],
   "source": [
    "f = f_sym.subs(params)\n",
    "print(f)"
   ]
  }
 ],
 "metadata": {
  "kernelspec": {
   "display_name": "ae353",
   "language": "python",
   "name": "python3"
  },
  "language_info": {
   "codemirror_mode": {
    "name": "ipython",
    "version": 3
   },
   "file_extension": ".py",
   "mimetype": "text/x-python",
   "name": "python",
   "nbconvert_exporter": "python",
   "pygments_lexer": "ipython3",
   "version": "3.13.2"
  }
 },
 "nbformat": 4,
 "nbformat_minor": 5
}
