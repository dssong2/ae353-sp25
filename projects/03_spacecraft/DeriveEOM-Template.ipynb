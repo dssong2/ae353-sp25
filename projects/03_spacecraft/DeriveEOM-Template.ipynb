{
 "cells": [
  {
   "cell_type": "markdown",
   "id": "bf67731b",
   "metadata": {},
   "source": [
    "# Derive models of spacecraft with star tracker"
   ]
  },
  {
   "cell_type": "markdown",
   "id": "389fec45",
   "metadata": {},
   "source": [
    "Do all imports."
   ]
  },
  {
   "cell_type": "code",
   "execution_count": 477,
   "id": "other-peter",
   "metadata": {},
   "outputs": [],
   "source": [
    "import sympy as sym\n",
    "import numpy as np\n",
    "from IPython.display import display, Markdown\n",
    "import ae353_spacecraft_design as design\n",
    "\n",
    "# Suppress the use of scientific notation when printing small numbers\n",
    "np.set_printoptions(suppress=True)"
   ]
  },
  {
   "cell_type": "markdown",
   "id": "30f99a8f",
   "metadata": {},
   "source": [
    "## Create spacecraft"
   ]
  },
  {
   "cell_type": "markdown",
   "id": "58060459",
   "metadata": {},
   "source": [
    "Create a visualizer to help with placement of reaction wheels."
   ]
  },
  {
   "cell_type": "code",
   "execution_count": 478,
   "id": "c4596230",
   "metadata": {},
   "outputs": [
    {
     "name": "stdout",
     "output_type": "stream",
     "text": [
      "You can open the visualizer by visiting the following URL:\n",
      "http://127.0.0.1:7042/static/\n"
     ]
    },
    {
     "data": {
      "text/html": [
       "\n",
       "            <div style=\"height: 400px; width: 100%; overflow-x: auto; overflow-y: hidden; resize: both\">\n",
       "            <iframe src=\"http://127.0.0.1:7042/static/\" style=\"width: 100%; height: 100%; border: none\"></iframe>\n",
       "            </div>\n",
       "            "
      ],
      "text/plain": [
       "<IPython.core.display.HTML object>"
      ]
     },
     "execution_count": 478,
     "metadata": {},
     "output_type": "execute_result"
    }
   ],
   "source": [
    "# Create the visualizer\n",
    "vis = design.create_visualizer()\n",
    "\n",
    "# Show the visualizer in this notebook\n",
    "vis.jupyter_cell()"
   ]
  },
  {
   "cell_type": "markdown",
   "id": "5f3ada47",
   "metadata": {},
   "source": [
    "Specify the location of four reaction wheels in terms of their right ascension $\\alpha$ and declination $\\delta$. You cannot change the number of wheels, but it is likely that you **must** change the location of wheels in order for the system to be controllable."
   ]
  },
  {
   "cell_type": "code",
   "execution_count": 479,
   "id": "6700e408",
   "metadata": {},
   "outputs": [],
   "source": [
    "wheels = [\n",
    "    {\"alpha\": 0 * np.pi / 3 + np.pi / 3, \"delta\": np.arctan(0/np.sqrt(3))},\n",
    "    {\"alpha\": 2 * np.pi / 3 + np.pi / 3, \"delta\": np.arctan(3./np.sqrt(3))},\n",
    "    {\"alpha\": 4 * np.pi / 3 + np.pi / 3, \"delta\": np.arctan(3./np.sqrt(3))},\n",
    "    {\"alpha\": 0 * np.pi / 3, \"delta\": -np.pi / 2},\n",
    "]"
   ]
  },
  {
   "cell_type": "markdown",
   "id": "35d5b68c",
   "metadata": {},
   "source": [
    "Show wheels in the visualizer. You will be warned if any wheel obscures the star tracker (i.e., the \"scope\") or if any two wheels are too close together."
   ]
  },
  {
   "cell_type": "code",
   "execution_count": 480,
   "id": "78f08330",
   "metadata": {},
   "outputs": [],
   "source": [
    "design.show_wheels(vis, wheels)"
   ]
  },
  {
   "cell_type": "markdown",
   "id": "08d304bd",
   "metadata": {},
   "source": [
    "Create a model of the spacecraft in URDF format. This will **overwrite** the file `spacecraft.urdf` in the `urdf` directory. Also, compute the mass $m$ and inertia matrix $J$ of the spacecraft (including all the wheels). These parameters will be used later when deriving equations of motion."
   ]
  },
  {
   "cell_type": "code",
   "execution_count": 481,
   "id": "0020f641",
   "metadata": {},
   "outputs": [
    {
     "data": {
      "text/markdown": [
       "$$m = 19.0 \\qquad\\qquad J = \\left[\\begin{matrix}31.95 & 0.0 & 0.0\\\\0.0 & 29.41 & 0.0\\\\0.0 & 0.0 & 22.38\\end{matrix}\\right]$$"
      ],
      "text/plain": [
       "<IPython.core.display.Markdown object>"
      ]
     },
     "metadata": {},
     "output_type": "display_data"
    }
   ],
   "source": [
    "m, J = design.create_spacecraft(wheels)\n",
    "\n",
    "display(\n",
    "    Markdown(\n",
    "        r\"$$\"\n",
    "        + rf\"m = {sym.latex(np.round(m, decimals=2))}\"\n",
    "        + r\" \\qquad\\qquad \"\n",
    "        + rf\"J = {sym.latex(sym.Matrix(J.round(decimals=2)))}\"\n",
    "        + r\"$$\"\n",
    "    )\n",
    ")"
   ]
  },
  {
   "cell_type": "markdown",
   "id": "87b011b1",
   "metadata": {},
   "source": [
    "## Create stars"
   ]
  },
  {
   "cell_type": "markdown",
   "id": "2b517fa1",
   "metadata": {},
   "source": [
    "Specify the location of at most ten stars in terms of their right ascension $\\alpha$ and declination $\\delta$. It is likely that you **must** change the number and/or location of stars in order for the system to be observable."
   ]
  },
  {
   "cell_type": "code",
   "execution_count": 482,
   "id": "4d9811cf",
   "metadata": {},
   "outputs": [],
   "source": [
    "stars = [\n",
    "    {\n",
    "        \"alpha\": 0.00,\n",
    "        \"delta\": 0.30,\n",
    "    },  # <-- To add a star, append a copy of this dict to the list. To change\n",
    "    #     the location of a star, change the value of alpha and delta\n",
    "    {\n",
    "        \"alpha\": -0.20,\n",
    "        \"delta\": 0.20,\n",
    "    },\n",
    "    {\n",
    "        \"alpha\": -0.30,\n",
    "        \"delta\": 0.00,\n",
    "    },\n",
    "    {\n",
    "        \"alpha\": -0.20,\n",
    "        \"delta\": -0.20,\n",
    "    },\n",
    "    {\n",
    "        \"alpha\": 0.00,\n",
    "        \"delta\": -0.30,\n",
    "    },\n",
    "    {\n",
    "        \"alpha\": 0.20,\n",
    "        \"delta\": -0.20,\n",
    "    },\n",
    "    {\n",
    "        \"alpha\": 0.30,\n",
    "        \"delta\": 0.00,\n",
    "    },\n",
    "    {\n",
    "        \"alpha\": 0.20,\n",
    "        \"delta\": 0.20,\n",
    "    }\n",
    "]"
   ]
  },
  {
   "cell_type": "code",
   "execution_count": 483,
   "id": "bbd1674c",
   "metadata": {},
   "outputs": [],
   "source": [
    "def generate_stars(num_stars=10, radius=0.3):\n",
    "    \"\"\"\n",
    "    Generate `num_stars` dictionaries, each with keys:\n",
    "        \"alpha\" (right ascension)\n",
    "        \"delta\" (declination)\n",
    "    The stars are placed evenly around a circle of given `radius`\n",
    "    in the (alpha, delta) plane.\n",
    "    \"\"\"\n",
    "    stars = []\n",
    "    for i in range(num_stars):\n",
    "        alpha = radius * np.cos(2 * np.pi * i / num_stars)\n",
    "        delta = radius * np.sin(2 * np.pi * i / num_stars)\n",
    "        stars.append({\n",
    "            \"alpha\": round(alpha, 4),\n",
    "            \"delta\": round(delta, 4)\n",
    "        })\n",
    "    return stars\n",
    "\n",
    "# Example usage:\n",
    "stars = generate_stars(num_stars=8, radius=0.3)"
   ]
  },
  {
   "cell_type": "markdown",
   "id": "2d1c5f62",
   "metadata": {},
   "source": [
    "Show where the stars will appear in the scope. The plot on the left shows $\\alpha$ and $\\delta$ gridelines. The plot on the right shows $y_\\text{star}$ and $z_\\text{star}$ gridlines."
   ]
  },
  {
   "cell_type": "code",
   "execution_count": 484,
   "id": "c74f0053",
   "metadata": {},
   "outputs": [
    {
     "data": {
      "image/png": "[encoded data removed]",
      "text/plain": [
       "<Figure size 900x400 with 2 Axes>"
      ]
     },
     "metadata": {},
     "output_type": "display_data"
    }
   ],
   "source": [
    "design.show_stars(stars)"
   ]
  },
  {
   "cell_type": "markdown",
   "id": "b110bce4",
   "metadata": {},
   "source": [
    "Create a file with the location of stars. This will **overwrite** the file `stars.json` in the `urdf` directory."
   ]
  },
  {
   "cell_type": "code",
   "execution_count": 485,
   "id": "dd9cc72a",
   "metadata": {},
   "outputs": [],
   "source": [
    "design.create_stars(stars)"
   ]
  },
  {
   "cell_type": "markdown",
   "id": "nominated-instrument",
   "metadata": {},
   "source": [
    "## Create dynamic model"
   ]
  },
  {
   "cell_type": "markdown",
   "id": "following-implementation",
   "metadata": {},
   "source": [
    "Derive the equations of motion."
   ]
  },
  {
   "cell_type": "code",
   "execution_count": 486,
   "id": "fixed-developer",
   "metadata": {},
   "outputs": [],
   "source": [
    "# Define yaw, pitch, roll angles\n",
    "psi, theta, phi = sym.symbols(\"psi, theta, phi\")\n",
    "\n",
    "# Define angular velocities\n",
    "w_x, w_y, w_z = sym.symbols(\"w_x, w_y, w_z\")\n",
    "\n",
    "# Define torques\n",
    "tau_1, tau_2, tau_3, tau_4 = sym.symbols(\"tau_1, tau_2, tau_3, tau_4\")\n",
    "\n",
    "# Compute resultant torques\n",
    "T1 = -tau_1 * sym.Matrix(wheels[0][\"xyz\"]) / np.linalg.norm(wheels[0][\"xyz\"])\n",
    "T2 = -tau_2 * sym.Matrix(wheels[1][\"xyz\"]) / np.linalg.norm(wheels[1][\"xyz\"])\n",
    "T3 = -tau_3 * sym.Matrix(wheels[2][\"xyz\"]) / np.linalg.norm(wheels[2][\"xyz\"])\n",
    "T4 = -tau_4 * sym.Matrix(wheels[3][\"xyz\"]) / np.linalg.norm(wheels[3][\"xyz\"])\n",
    "T = sym.nsimplify(T1 + T2 + T3 + T4)\n",
    "\n",
    "# Define rotation matrices\n",
    "Rz = sym.Matrix(\n",
    "    [[sym.cos(psi), -sym.sin(psi), 0], [sym.sin(psi), sym.cos(psi), 0], [0, 0, 1]]\n",
    ")\n",
    "Ry = sym.Matrix(\n",
    "    [\n",
    "        [sym.cos(theta), 0, sym.sin(theta)],\n",
    "        [0, 1, 0],\n",
    "        [-sym.sin(theta), 0, sym.cos(theta)],\n",
    "    ]\n",
    ")\n",
    "Rx = sym.Matrix(\n",
    "    [[1, 0, 0], [0, sym.cos(phi), -sym.sin(phi)], [0, sym.sin(phi), sym.cos(phi)]]\n",
    ")\n",
    "\n",
    "# Define the transformation from angular velocity to angular rates\n",
    "ex = sym.Matrix([[1], [0], [0]])\n",
    "ey = sym.Matrix([[0], [1], [0]])\n",
    "ez = sym.Matrix([[0], [0], [1]])\n",
    "M = sym.simplify(sym.Matrix.hstack((Ry @ Rx).T @ ez, Rx.T @ ey, ex).inv(), full=True)\n",
    "\n",
    "# Define euler's equations\n",
    "Jx, Jy, Jz = [sym.nsimplify(j) for j in np.diag(J)]\n",
    "euler = sym.Matrix(\n",
    "    [\n",
    "        [(1 / Jx) * (T[0] + (Jy - Jz) * w_y * w_z)],\n",
    "        [(1 / Jy) * (T[1] + (Jz - Jx) * w_z * w_x)],\n",
    "        [(1 / Jz) * (T[2] + (Jx - Jy) * w_x * w_y)],\n",
    "    ]\n",
    ")\n",
    "\n",
    "# Define equations of motion\n",
    "f = sym.simplify(\n",
    "    sym.Matrix.vstack(M * sym.Matrix([[w_x], [w_y], [w_z]]), euler), full=True\n",
    ")"
   ]
  },
  {
   "cell_type": "markdown",
   "id": "according-occasion",
   "metadata": {},
   "source": [
    "The equations of motion have this form:\n",
    "\n",
    "$$\\begin{bmatrix} \\dot{\\psi} \\\\ \\dot{\\theta} \\\\ \\dot{\\phi} \\\\ \\dot{w_x} \\\\ \\dot{w_y} \\\\ \\dot{w_z} \\end{bmatrix} = f\\left(\\psi, \\theta, \\phi, w_x, w_y, w_z, \\tau_1, \\tau_2, \\tau_3, \\tau_4\\right).$$\n",
    "\n",
    "Here is the function $f$:"
   ]
  },
  {
   "cell_type": "code",
   "execution_count": 487,
   "id": "welsh-passion",
   "metadata": {},
   "outputs": [
    {
     "name": "stdout",
     "output_type": "stream",
     "text": [
      "Matrix([[(w_y*sin(phi) + w_z*cos(phi))/cos(theta)], [w_y*cos(phi) - w_z*sin(phi)], [w_x + w_y*sin(phi)*tan(theta) + w_z*cos(phi)*tan(theta)], [-50000000*tau_1/3194518529 + 50000000*tau_2/3194518529 - 25000000*tau_3/3194518529 - 612323399573677*tau_4/319451852900000000000000000000000 + 702164203*w_y*w_z/3194518529], [-866025403784439*tau_1/29405500330000000 - 612323399573677*tau_2/294055003300000000000000000000000 + 433012701892219*tau_3/29405500330000000 - 956132699*w_x*w_z/2940550033], [-288675134594813*tau_2/7461286100000000 - 288675134594813*tau_3/7461286100000000 + 10000000*tau_4/223838583 + 126984248*w_x*w_y/1119192915]])\n"
     ]
    }
   ],
   "source": [
    "print(f)"
   ]
  },
  {
   "cell_type": "markdown",
   "id": "cultural-penalty",
   "metadata": {},
   "source": [
    "## Create sensor model"
   ]
  },
  {
   "cell_type": "markdown",
   "id": "tested-graham",
   "metadata": {},
   "source": [
    "Create symbolic variables for right ascension $\\alpha$ and declination $\\delta$ of each star."
   ]
  },
  {
   "cell_type": "code",
   "execution_count": 488,
   "id": "historic-ending",
   "metadata": {},
   "outputs": [],
   "source": [
    "alpha, delta = sym.symbols(\"alpha, delta\")"
   ]
  },
  {
   "cell_type": "markdown",
   "id": "polish-burning",
   "metadata": {},
   "source": [
    "Derive the sensor model for one star."
   ]
  },
  {
   "cell_type": "code",
   "execution_count": 489,
   "id": "diagnostic-authority",
   "metadata": {},
   "outputs": [
    {
     "data": {
      "text/latex": [
       "$\\displaystyle \\left[\\begin{matrix}\\frac{21 \\left(\\sin{\\left(\\delta \\right)} \\sin{\\left(\\phi \\right)} \\cos{\\left(\\theta \\right)} + \\sin{\\left(\\phi \\right)} \\sin{\\left(\\theta \\right)} \\cos{\\left(\\delta \\right)} \\cos{\\left(\\alpha - \\psi \\right)} + \\sin{\\left(\\alpha - \\psi \\right)} \\cos{\\left(\\delta \\right)} \\cos{\\left(\\phi \\right)}\\right)}{8 \\left(- \\sin{\\left(\\delta \\right)} \\sin{\\left(\\theta \\right)} + \\cos{\\left(\\delta \\right)} \\cos{\\left(\\theta \\right)} \\cos{\\left(\\alpha - \\psi \\right)}\\right)}\\\\\\frac{21 \\left(\\sin{\\left(\\delta \\right)} \\cos{\\left(\\phi \\right)} \\cos{\\left(\\theta \\right)} - \\sin{\\left(\\phi \\right)} \\sin{\\left(\\alpha - \\psi \\right)} \\cos{\\left(\\delta \\right)} + \\sin{\\left(\\theta \\right)} \\cos{\\left(\\delta \\right)} \\cos{\\left(\\phi \\right)} \\cos{\\left(\\alpha - \\psi \\right)}\\right)}{8 \\left(- \\sin{\\left(\\delta \\right)} \\sin{\\left(\\theta \\right)} + \\cos{\\left(\\delta \\right)} \\cos{\\left(\\theta \\right)} \\cos{\\left(\\alpha - \\psi \\right)}\\right)}\\end{matrix}\\right]$"
      ],
      "text/plain": [
       "Matrix([\n",
       "[21*(sin(delta)*sin(phi)*cos(theta) + sin(phi)*sin(theta)*cos(delta)*cos(alpha - psi) + sin(alpha - psi)*cos(delta)*cos(phi))/(8*(-sin(delta)*sin(theta) + cos(delta)*cos(theta)*cos(alpha - psi)))],\n",
       "[21*(sin(delta)*cos(phi)*cos(theta) - sin(phi)*sin(alpha - psi)*cos(delta) + sin(theta)*cos(delta)*cos(phi)*cos(alpha - psi))/(8*(-sin(delta)*sin(theta) + cos(delta)*cos(theta)*cos(alpha - psi)))]])"
      ]
     },
     "execution_count": 489,
     "metadata": {},
     "output_type": "execute_result"
    }
   ],
   "source": [
    "# Position of star in space frame\n",
    "p_star_in_space = sym.Matrix(\n",
    "    [\n",
    "        [sym.cos(alpha) * sym.cos(delta)],\n",
    "        [sym.sin(alpha) * sym.cos(delta)],\n",
    "        [sym.sin(delta)],\n",
    "    ]\n",
    ")\n",
    "\n",
    "# Orientation of body frame in space frame\n",
    "R_body_in_space = Rz * Ry * Rx\n",
    "\n",
    "# Position of star in body frame (assuming origin of body and space frames are the same)\n",
    "p_star_in_body = R_body_in_space.T * p_star_in_space\n",
    "\n",
    "# Position of star in image frame\n",
    "r = sym.nsimplify(design.scope_radius)\n",
    "p_star_in_image = (1 / r) * sym.Matrix(\n",
    "    [[p_star_in_body[1] / p_star_in_body[0]], [p_star_in_body[2] / p_star_in_body[0]]]\n",
    ")\n",
    "\n",
    "# Sensor model for each star\n",
    "g = sym.simplify(p_star_in_image, full=True)\n",
    "g"
   ]
  },
  {
   "cell_type": "markdown",
   "id": "continuing-reference",
   "metadata": {},
   "source": [
    "The sensor model has the following form:\n",
    "\n",
    "$$\\begin{bmatrix} y_\\text{star} \\\\ z_\\text{star} \\end{bmatrix} = g(\\psi, \\theta, \\phi, \\alpha, \\delta).$$\n",
    "\n",
    "Here is the function $g$:"
   ]
  },
  {
   "cell_type": "code",
   "execution_count": 490,
   "id": "protected-orlando",
   "metadata": {},
   "outputs": [
    {
     "data": {
      "text/latex": [
       "$\\displaystyle \\left[\\begin{matrix}\\frac{21 \\left(\\sin{\\left(\\delta \\right)} \\sin{\\left(\\phi \\right)} \\cos{\\left(\\theta \\right)} + \\sin{\\left(\\phi \\right)} \\sin{\\left(\\theta \\right)} \\cos{\\left(\\delta \\right)} \\cos{\\left(\\alpha - \\psi \\right)} + \\sin{\\left(\\alpha - \\psi \\right)} \\cos{\\left(\\delta \\right)} \\cos{\\left(\\phi \\right)}\\right)}{8 \\left(- \\sin{\\left(\\delta \\right)} \\sin{\\left(\\theta \\right)} + \\cos{\\left(\\delta \\right)} \\cos{\\left(\\theta \\right)} \\cos{\\left(\\alpha - \\psi \\right)}\\right)}\\\\\\frac{21 \\left(\\sin{\\left(\\delta \\right)} \\cos{\\left(\\phi \\right)} \\cos{\\left(\\theta \\right)} - \\sin{\\left(\\phi \\right)} \\sin{\\left(\\alpha - \\psi \\right)} \\cos{\\left(\\delta \\right)} + \\sin{\\left(\\theta \\right)} \\cos{\\left(\\delta \\right)} \\cos{\\left(\\phi \\right)} \\cos{\\left(\\alpha - \\psi \\right)}\\right)}{8 \\left(- \\sin{\\left(\\delta \\right)} \\sin{\\left(\\theta \\right)} + \\cos{\\left(\\delta \\right)} \\cos{\\left(\\theta \\right)} \\cos{\\left(\\alpha - \\psi \\right)}\\right)}\\end{matrix}\\right]$"
      ],
      "text/plain": [
       "Matrix([\n",
       "[21*(sin(delta)*sin(phi)*cos(theta) + sin(phi)*sin(theta)*cos(delta)*cos(alpha - psi) + sin(alpha - psi)*cos(delta)*cos(phi))/(8*(-sin(delta)*sin(theta) + cos(delta)*cos(theta)*cos(alpha - psi)))],\n",
       "[21*(sin(delta)*cos(phi)*cos(theta) - sin(phi)*sin(alpha - psi)*cos(delta) + sin(theta)*cos(delta)*cos(phi)*cos(alpha - psi))/(8*(-sin(delta)*sin(theta) + cos(delta)*cos(theta)*cos(alpha - psi)))]])"
      ]
     },
     "execution_count": 490,
     "metadata": {},
     "output_type": "execute_result"
    }
   ],
   "source": [
    "g"
   ]
  },
  {
   "cell_type": "markdown",
   "id": "42b69da2",
   "metadata": {},
   "source": [
    "Again, this sensor model is for **one star only**. You will have to use a copy of this same model for each star you defined in the \"Create Stars\" section of this notebook."
   ]
  },
  {
   "cell_type": "code",
   "execution_count": 491,
   "id": "c9471e57",
   "metadata": {},
   "outputs": [
    {
     "data": {
      "text/latex": [
       "$\\displaystyle \\left[\\begin{matrix}\\frac{6.20592433988813 \\sin{\\left(\\phi \\right)} \\sin{\\left(\\psi \\right)} \\sin{\\left(\\theta \\right)} + 20.0620662716377 \\sin{\\left(\\phi \\right)} \\sin{\\left(\\theta \\right)} \\cos{\\left(\\psi \\right)} - 20.0620662716377 \\sin{\\left(\\psi \\right)} \\cos{\\left(\\phi \\right)} + 6.20592433988813 \\cos{\\left(\\phi \\right)} \\cos{\\left(\\psi \\right)}}{\\left(2.36416165329072 \\sin{\\left(\\psi \\right)} + 7.64269191300485 \\cos{\\left(\\psi \\right)}\\right) \\cos{\\left(\\theta \\right)}}\\\\\\frac{20.0620662716377 \\sin{\\left(\\phi \\right)} \\sin{\\left(\\psi \\right)} - 6.20592433988813 \\sin{\\left(\\phi \\right)} \\cos{\\left(\\psi \\right)} + 6.20592433988813 \\sin{\\left(\\psi \\right)} \\sin{\\left(\\theta \\right)} \\cos{\\left(\\phi \\right)} + 20.0620662716377 \\sin{\\left(\\theta \\right)} \\cos{\\left(\\phi \\right)} \\cos{\\left(\\psi \\right)}}{\\left(2.36416165329072 \\sin{\\left(\\psi \\right)} + 7.64269191300485 \\cos{\\left(\\psi \\right)}\\right) \\cos{\\left(\\theta \\right)}}\\\\\\frac{4.32171409836768 \\sin{\\left(\\phi \\right)} \\sin{\\left(\\psi \\right)} \\sin{\\left(\\theta \\right)} + 20.0693671291246 \\sin{\\left(\\phi \\right)} \\sin{\\left(\\theta \\right)} \\cos{\\left(\\psi \\right)} + 4.42077937567391 \\sin{\\left(\\phi \\right)} \\cos{\\left(\\theta \\right)} - 20.0693671291246 \\sin{\\left(\\psi \\right)} \\cos{\\left(\\phi \\right)} + 4.32171409836768 \\cos{\\left(\\phi \\right)} \\cos{\\left(\\psi \\right)}}{1.64636727556864 \\sin{\\left(\\psi \\right)} \\cos{\\left(\\theta \\right)} - 1.68410642882816 \\sin{\\left(\\theta \\right)} + 7.64547319204746 \\cos{\\left(\\psi \\right)} \\cos{\\left(\\theta \\right)}}\\\\\\frac{20.0693671291246 \\sin{\\left(\\phi \\right)} \\sin{\\left(\\psi \\right)} - 4.32171409836768 \\sin{\\left(\\phi \\right)} \\cos{\\left(\\psi \\right)} + 4.32171409836768 \\sin{\\left(\\psi \\right)} \\sin{\\left(\\theta \\right)} \\cos{\\left(\\phi \\right)} + 20.0693671291246 \\sin{\\left(\\theta \\right)} \\cos{\\left(\\phi \\right)} \\cos{\\left(\\psi \\right)} + 4.42077937567391 \\cos{\\left(\\phi \\right)} \\cos{\\left(\\theta \\right)}}{1.64636727556864 \\sin{\\left(\\psi \\right)} \\cos{\\left(\\theta \\right)} - 1.68410642882816 \\sin{\\left(\\theta \\right)} + 7.64547319204746 \\cos{\\left(\\psi \\right)} \\cos{\\left(\\theta \\right)}}\\\\\\frac{- 20.0620662716377 \\sin{\\left(\\phi \\right)} \\sin{\\left(\\theta \\right)} \\cos{\\left(\\psi \\right)} - 6.20592433988813 \\sin{\\left(\\phi \\right)} \\cos{\\left(\\theta \\right)} + 20.0620662716377 \\sin{\\left(\\psi \\right)} \\cos{\\left(\\phi \\right)}}{2.36416165329072 \\sin{\\left(\\theta \\right)} - 7.64269191300485 \\cos{\\left(\\psi \\right)} \\cos{\\left(\\theta \\right)}}\\\\\\frac{20.0620662716377 \\sin{\\left(\\phi \\right)} \\sin{\\left(\\psi \\right)} + 20.0620662716377 \\sin{\\left(\\theta \\right)} \\cos{\\left(\\phi \\right)} \\cos{\\left(\\psi \\right)} + 6.20592433988813 \\cos{\\left(\\phi \\right)} \\cos{\\left(\\theta \\right)}}{- 2.36416165329072 \\sin{\\left(\\theta \\right)} + 7.64269191300485 \\cos{\\left(\\psi \\right)} \\cos{\\left(\\theta \\right)}}\\\\\\frac{4.32171409836768 \\sin{\\left(\\phi \\right)} \\sin{\\left(\\psi \\right)} \\sin{\\left(\\theta \\right)} - 20.0693671291246 \\sin{\\left(\\phi \\right)} \\sin{\\left(\\theta \\right)} \\cos{\\left(\\psi \\right)} - 4.42077937567391 \\sin{\\left(\\phi \\right)} \\cos{\\left(\\theta \\right)} + 20.0693671291246 \\sin{\\left(\\psi \\right)} \\cos{\\left(\\phi \\right)} + 4.32171409836768 \\cos{\\left(\\phi \\right)} \\cos{\\left(\\psi \\right)}}{1.64636727556864 \\sin{\\left(\\psi \\right)} \\cos{\\left(\\theta \\right)} + 1.68410642882816 \\sin{\\left(\\theta \\right)} - 7.64547319204746 \\cos{\\left(\\psi \\right)} \\cos{\\left(\\theta \\right)}}\\\\\\frac{- 20.0693671291246 \\sin{\\left(\\phi \\right)} \\sin{\\left(\\psi \\right)} - 4.32171409836768 \\sin{\\left(\\phi \\right)} \\cos{\\left(\\psi \\right)} + 4.32171409836768 \\sin{\\left(\\psi \\right)} \\sin{\\left(\\theta \\right)} \\cos{\\left(\\phi \\right)} - 20.0693671291246 \\sin{\\left(\\theta \\right)} \\cos{\\left(\\phi \\right)} \\cos{\\left(\\psi \\right)} - 4.42077937567391 \\cos{\\left(\\phi \\right)} \\cos{\\left(\\theta \\right)}}{1.64636727556864 \\sin{\\left(\\psi \\right)} \\cos{\\left(\\theta \\right)} + 1.68410642882816 \\sin{\\left(\\theta \\right)} - 7.64547319204746 \\cos{\\left(\\psi \\right)} \\cos{\\left(\\theta \\right)}}\\\\\\frac{6.20592433988813 \\sin{\\left(\\phi \\right)} \\sin{\\left(\\psi \\right)} \\sin{\\left(\\theta \\right)} - 20.0620662716377 \\sin{\\left(\\phi \\right)} \\sin{\\left(\\theta \\right)} \\cos{\\left(\\psi \\right)} + 20.0620662716377 \\sin{\\left(\\psi \\right)} \\cos{\\left(\\phi \\right)} + 6.20592433988813 \\cos{\\left(\\phi \\right)} \\cos{\\left(\\psi \\right)}}{\\left(2.36416165329072 \\sin{\\left(\\psi \\right)} - 7.64269191300485 \\cos{\\left(\\psi \\right)}\\right) \\cos{\\left(\\theta \\right)}}\\\\\\frac{- 20.0620662716377 \\sin{\\left(\\phi \\right)} \\sin{\\left(\\psi \\right)} - 6.20592433988813 \\sin{\\left(\\phi \\right)} \\cos{\\left(\\psi \\right)} + 6.20592433988813 \\sin{\\left(\\psi \\right)} \\sin{\\left(\\theta \\right)} \\cos{\\left(\\phi \\right)} - 20.0620662716377 \\sin{\\left(\\theta \\right)} \\cos{\\left(\\phi \\right)} \\cos{\\left(\\psi \\right)}}{\\left(2.36416165329072 \\sin{\\left(\\psi \\right)} - 7.64269191300485 \\cos{\\left(\\psi \\right)}\\right) \\cos{\\left(\\theta \\right)}}\\\\\\frac{- 4.32171409836768 \\sin{\\left(\\phi \\right)} \\sin{\\left(\\psi \\right)} \\sin{\\left(\\theta \\right)} + 20.0693671291246 \\sin{\\left(\\phi \\right)} \\sin{\\left(\\theta \\right)} \\cos{\\left(\\psi \\right)} - 4.42077937567391 \\sin{\\left(\\phi \\right)} \\cos{\\left(\\theta \\right)} - 20.0693671291246 \\sin{\\left(\\psi \\right)} \\cos{\\left(\\phi \\right)} - 4.32171409836768 \\cos{\\left(\\phi \\right)} \\cos{\\left(\\psi \\right)}}{- 1.64636727556864 \\sin{\\left(\\psi \\right)} \\cos{\\left(\\theta \\right)} + 1.68410642882816 \\sin{\\left(\\theta \\right)} + 7.64547319204746 \\cos{\\left(\\psi \\right)} \\cos{\\left(\\theta \\right)}}\\\\\\frac{20.0693671291246 \\sin{\\left(\\phi \\right)} \\sin{\\left(\\psi \\right)} + 4.32171409836768 \\sin{\\left(\\phi \\right)} \\cos{\\left(\\psi \\right)} - 4.32171409836768 \\sin{\\left(\\psi \\right)} \\sin{\\left(\\theta \\right)} \\cos{\\left(\\phi \\right)} + 20.0693671291246 \\sin{\\left(\\theta \\right)} \\cos{\\left(\\phi \\right)} \\cos{\\left(\\psi \\right)} - 4.42077937567391 \\cos{\\left(\\phi \\right)} \\cos{\\left(\\theta \\right)}}{- 1.64636727556864 \\sin{\\left(\\psi \\right)} \\cos{\\left(\\theta \\right)} + 1.68410642882816 \\sin{\\left(\\theta \\right)} + 7.64547319204746 \\cos{\\left(\\psi \\right)} \\cos{\\left(\\theta \\right)}}\\\\\\frac{20.0620662716377 \\sin{\\left(\\phi \\right)} \\sin{\\left(\\theta \\right)} \\cos{\\left(\\psi \\right)} - 6.20592433988813 \\sin{\\left(\\phi \\right)} \\cos{\\left(\\theta \\right)} - 20.0620662716377 \\sin{\\left(\\psi \\right)} \\cos{\\left(\\phi \\right)}}{2.36416165329072 \\sin{\\left(\\theta \\right)} + 7.64269191300485 \\cos{\\left(\\psi \\right)} \\cos{\\left(\\theta \\right)}}\\\\\\frac{20.0620662716377 \\sin{\\left(\\phi \\right)} \\sin{\\left(\\psi \\right)} + 20.0620662716377 \\sin{\\left(\\theta \\right)} \\cos{\\left(\\phi \\right)} \\cos{\\left(\\psi \\right)} - 6.20592433988813 \\cos{\\left(\\phi \\right)} \\cos{\\left(\\theta \\right)}}{2.36416165329072 \\sin{\\left(\\theta \\right)} + 7.64269191300485 \\cos{\\left(\\psi \\right)} \\cos{\\left(\\theta \\right)}}\\\\\\frac{4.32171409836768 \\sin{\\left(\\phi \\right)} \\sin{\\left(\\psi \\right)} \\sin{\\left(\\theta \\right)} + 20.0693671291246 \\sin{\\left(\\phi \\right)} \\sin{\\left(\\theta \\right)} \\cos{\\left(\\psi \\right)} - 4.42077937567391 \\sin{\\left(\\phi \\right)} \\cos{\\left(\\theta \\right)} - 20.0693671291246 \\sin{\\left(\\psi \\right)} \\cos{\\left(\\phi \\right)} + 4.32171409836768 \\cos{\\left(\\phi \\right)} \\cos{\\left(\\psi \\right)}}{1.64636727556864 \\sin{\\left(\\psi \\right)} \\cos{\\left(\\theta \\right)} + 1.68410642882816 \\sin{\\left(\\theta \\right)} + 7.64547319204746 \\cos{\\left(\\psi \\right)} \\cos{\\left(\\theta \\right)}}\\\\\\frac{20.0693671291246 \\sin{\\left(\\phi \\right)} \\sin{\\left(\\psi \\right)} - 4.32171409836768 \\sin{\\left(\\phi \\right)} \\cos{\\left(\\psi \\right)} + 4.32171409836768 \\sin{\\left(\\psi \\right)} \\sin{\\left(\\theta \\right)} \\cos{\\left(\\phi \\right)} + 20.0693671291246 \\sin{\\left(\\theta \\right)} \\cos{\\left(\\phi \\right)} \\cos{\\left(\\psi \\right)} - 4.42077937567391 \\cos{\\left(\\phi \\right)} \\cos{\\left(\\theta \\right)}}{1.64636727556864 \\sin{\\left(\\psi \\right)} \\cos{\\left(\\theta \\right)} + 1.68410642882816 \\sin{\\left(\\theta \\right)} + 7.64547319204746 \\cos{\\left(\\psi \\right)} \\cos{\\left(\\theta \\right)}}\\end{matrix}\\right]$"
      ],
      "text/plain": [
       "Matrix([\n",
       "[                                                                                (6.20592433988813*sin(phi)*sin(psi)*sin(theta) + 20.0620662716377*sin(phi)*sin(theta)*cos(psi) - 20.0620662716377*sin(psi)*cos(phi) + 6.20592433988813*cos(phi)*cos(psi))/((2.36416165329072*sin(psi) + 7.64269191300485*cos(psi))*cos(theta))],\n",
       "[                                                                                (20.0620662716377*sin(phi)*sin(psi) - 6.20592433988813*sin(phi)*cos(psi) + 6.20592433988813*sin(psi)*sin(theta)*cos(phi) + 20.0620662716377*sin(theta)*cos(phi)*cos(psi))/((2.36416165329072*sin(psi) + 7.64269191300485*cos(psi))*cos(theta))],\n",
       "[  (4.32171409836768*sin(phi)*sin(psi)*sin(theta) + 20.0693671291246*sin(phi)*sin(theta)*cos(psi) + 4.42077937567391*sin(phi)*cos(theta) - 20.0693671291246*sin(psi)*cos(phi) + 4.32171409836768*cos(phi)*cos(psi))/(1.64636727556864*sin(psi)*cos(theta) - 1.68410642882816*sin(theta) + 7.64547319204746*cos(psi)*cos(theta))],\n",
       "[  (20.0693671291246*sin(phi)*sin(psi) - 4.32171409836768*sin(phi)*cos(psi) + 4.32171409836768*sin(psi)*sin(theta)*cos(phi) + 20.0693671291246*sin(theta)*cos(phi)*cos(psi) + 4.42077937567391*cos(phi)*cos(theta))/(1.64636727556864*sin(psi)*cos(theta) - 1.68410642882816*sin(theta) + 7.64547319204746*cos(psi)*cos(theta))],\n",
       "[                                                                                                                             (-20.0620662716377*sin(phi)*sin(theta)*cos(psi) - 6.20592433988813*sin(phi)*cos(theta) + 20.0620662716377*sin(psi)*cos(phi))/(2.36416165329072*sin(theta) - 7.64269191300485*cos(psi)*cos(theta))],\n",
       "[                                                                                                                             (20.0620662716377*sin(phi)*sin(psi) + 20.0620662716377*sin(theta)*cos(phi)*cos(psi) + 6.20592433988813*cos(phi)*cos(theta))/(-2.36416165329072*sin(theta) + 7.64269191300485*cos(psi)*cos(theta))],\n",
       "[  (4.32171409836768*sin(phi)*sin(psi)*sin(theta) - 20.0693671291246*sin(phi)*sin(theta)*cos(psi) - 4.42077937567391*sin(phi)*cos(theta) + 20.0693671291246*sin(psi)*cos(phi) + 4.32171409836768*cos(phi)*cos(psi))/(1.64636727556864*sin(psi)*cos(theta) + 1.68410642882816*sin(theta) - 7.64547319204746*cos(psi)*cos(theta))],\n",
       "[ (-20.0693671291246*sin(phi)*sin(psi) - 4.32171409836768*sin(phi)*cos(psi) + 4.32171409836768*sin(psi)*sin(theta)*cos(phi) - 20.0693671291246*sin(theta)*cos(phi)*cos(psi) - 4.42077937567391*cos(phi)*cos(theta))/(1.64636727556864*sin(psi)*cos(theta) + 1.68410642882816*sin(theta) - 7.64547319204746*cos(psi)*cos(theta))],\n",
       "[                                                                                (6.20592433988813*sin(phi)*sin(psi)*sin(theta) - 20.0620662716377*sin(phi)*sin(theta)*cos(psi) + 20.0620662716377*sin(psi)*cos(phi) + 6.20592433988813*cos(phi)*cos(psi))/((2.36416165329072*sin(psi) - 7.64269191300485*cos(psi))*cos(theta))],\n",
       "[                                                                               (-20.0620662716377*sin(phi)*sin(psi) - 6.20592433988813*sin(phi)*cos(psi) + 6.20592433988813*sin(psi)*sin(theta)*cos(phi) - 20.0620662716377*sin(theta)*cos(phi)*cos(psi))/((2.36416165329072*sin(psi) - 7.64269191300485*cos(psi))*cos(theta))],\n",
       "[(-4.32171409836768*sin(phi)*sin(psi)*sin(theta) + 20.0693671291246*sin(phi)*sin(theta)*cos(psi) - 4.42077937567391*sin(phi)*cos(theta) - 20.0693671291246*sin(psi)*cos(phi) - 4.32171409836768*cos(phi)*cos(psi))/(-1.64636727556864*sin(psi)*cos(theta) + 1.68410642882816*sin(theta) + 7.64547319204746*cos(psi)*cos(theta))],\n",
       "[ (20.0693671291246*sin(phi)*sin(psi) + 4.32171409836768*sin(phi)*cos(psi) - 4.32171409836768*sin(psi)*sin(theta)*cos(phi) + 20.0693671291246*sin(theta)*cos(phi)*cos(psi) - 4.42077937567391*cos(phi)*cos(theta))/(-1.64636727556864*sin(psi)*cos(theta) + 1.68410642882816*sin(theta) + 7.64547319204746*cos(psi)*cos(theta))],\n",
       "[                                                                                                                              (20.0620662716377*sin(phi)*sin(theta)*cos(psi) - 6.20592433988813*sin(phi)*cos(theta) - 20.0620662716377*sin(psi)*cos(phi))/(2.36416165329072*sin(theta) + 7.64269191300485*cos(psi)*cos(theta))],\n",
       "[                                                                                                                              (20.0620662716377*sin(phi)*sin(psi) + 20.0620662716377*sin(theta)*cos(phi)*cos(psi) - 6.20592433988813*cos(phi)*cos(theta))/(2.36416165329072*sin(theta) + 7.64269191300485*cos(psi)*cos(theta))],\n",
       "[  (4.32171409836768*sin(phi)*sin(psi)*sin(theta) + 20.0693671291246*sin(phi)*sin(theta)*cos(psi) - 4.42077937567391*sin(phi)*cos(theta) - 20.0693671291246*sin(psi)*cos(phi) + 4.32171409836768*cos(phi)*cos(psi))/(1.64636727556864*sin(psi)*cos(theta) + 1.68410642882816*sin(theta) + 7.64547319204746*cos(psi)*cos(theta))],\n",
       "[  (20.0693671291246*sin(phi)*sin(psi) - 4.32171409836768*sin(phi)*cos(psi) + 4.32171409836768*sin(psi)*sin(theta)*cos(phi) + 20.0693671291246*sin(theta)*cos(phi)*cos(psi) - 4.42077937567391*cos(phi)*cos(theta))/(1.64636727556864*sin(psi)*cos(theta) + 1.68410642882816*sin(theta) + 7.64547319204746*cos(psi)*cos(theta))]])"
      ]
     },
     "execution_count": 491,
     "metadata": {},
     "output_type": "execute_result"
    }
   ],
   "source": [
    "g_stars = sym.Matrix()\n",
    "for star in stars:\n",
    "    alpha, delta = sym.symbols(\"alpha, delta\")\n",
    "\n",
    "    # Position of star in space frame\n",
    "    p_star_in_space = sym.Matrix(\n",
    "        [\n",
    "            [sym.cos(alpha) * sym.cos(delta)],\n",
    "            [sym.sin(alpha) * sym.cos(delta)],\n",
    "            [sym.sin(delta)],\n",
    "        ]\n",
    "    ).subs(star)\n",
    "\n",
    "    # Orientation of body frame in space frame\n",
    "    R_body_in_space = Rz * Ry * Rx\n",
    "\n",
    "    # Position of star in body frame (assuming origin of body and space frames are the same)\n",
    "    p_star_in_body = R_body_in_space.T * p_star_in_space\n",
    "\n",
    "    # Position of star in image frame\n",
    "    r = sym.nsimplify(design.scope_radius)\n",
    "    p_star_in_image = (1 / r) * sym.Matrix(\n",
    "        [[p_star_in_body[1] / p_star_in_body[0]], [p_star_in_body[2] / p_star_in_body[0]]]\n",
    "    )\n",
    "\n",
    "    # Sensor model for each star\n",
    "    g = sym.simplify(p_star_in_image, full=True)\n",
    "    g_stars = sym.Matrix.vstack(g_stars, g)\n",
    "    \n",
    "g_stars\n"
   ]
  },
  {
   "cell_type": "code",
   "execution_count": 492,
   "id": "4d5be105",
   "metadata": {},
   "outputs": [
    {
     "name": "stdout",
     "output_type": "stream",
     "text": [
      "Matrix([[(w_y*sin(phi) + w_z*cos(phi))/cos(theta)], [w_y*cos(phi) - w_z*sin(phi)], [w_x + w_y*sin(phi)*tan(theta) + w_z*cos(phi)*tan(theta)], [-50000000*tau_1/3194518529 + 50000000*tau_2/3194518529 - 25000000*tau_3/3194518529 - 612323399573677*tau_4/319451852900000000000000000000000 + 702164203*w_y*w_z/3194518529], [-866025403784439*tau_1/29405500330000000 - 612323399573677*tau_2/294055003300000000000000000000000 + 433012701892219*tau_3/29405500330000000 - 956132699*w_x*w_z/2940550033], [-288675134594813*tau_2/7461286100000000 - 288675134594813*tau_3/7461286100000000 + 10000000*tau_4/223838583 + 126984248*w_x*w_y/1119192915]])\n"
     ]
    }
   ],
   "source": [
    "print(f)"
   ]
  },
  {
   "cell_type": "code",
   "execution_count": 493,
   "id": "5b607f62",
   "metadata": {},
   "outputs": [
    {
     "name": "stdout",
     "output_type": "stream",
     "text": [
      "Matrix([[(6.20592433988813*sin(phi)*sin(psi)*sin(theta) + 20.0620662716377*sin(phi)*sin(theta)*cos(psi) - 20.0620662716377*sin(psi)*cos(phi) + 6.20592433988813*cos(phi)*cos(psi))/((2.36416165329072*sin(psi) + 7.64269191300485*cos(psi))*cos(theta))], [(20.0620662716377*sin(phi)*sin(psi) - 6.20592433988813*sin(phi)*cos(psi) + 6.20592433988813*sin(psi)*sin(theta)*cos(phi) + 20.0620662716377*sin(theta)*cos(phi)*cos(psi))/((2.36416165329072*sin(psi) + 7.64269191300485*cos(psi))*cos(theta))], [(4.32171409836768*sin(phi)*sin(psi)*sin(theta) + 20.0693671291246*sin(phi)*sin(theta)*cos(psi) + 4.42077937567391*sin(phi)*cos(theta) - 20.0693671291246*sin(psi)*cos(phi) + 4.32171409836768*cos(phi)*cos(psi))/(1.64636727556864*sin(psi)*cos(theta) - 1.68410642882816*sin(theta) + 7.64547319204746*cos(psi)*cos(theta))], [(20.0693671291246*sin(phi)*sin(psi) - 4.32171409836768*sin(phi)*cos(psi) + 4.32171409836768*sin(psi)*sin(theta)*cos(phi) + 20.0693671291246*sin(theta)*cos(phi)*cos(psi) + 4.42077937567391*cos(phi)*cos(theta))/(1.64636727556864*sin(psi)*cos(theta) - 1.68410642882816*sin(theta) + 7.64547319204746*cos(psi)*cos(theta))], [(-20.0620662716377*sin(phi)*sin(theta)*cos(psi) - 6.20592433988813*sin(phi)*cos(theta) + 20.0620662716377*sin(psi)*cos(phi))/(2.36416165329072*sin(theta) - 7.64269191300485*cos(psi)*cos(theta))], [(20.0620662716377*sin(phi)*sin(psi) + 20.0620662716377*sin(theta)*cos(phi)*cos(psi) + 6.20592433988813*cos(phi)*cos(theta))/(-2.36416165329072*sin(theta) + 7.64269191300485*cos(psi)*cos(theta))], [(4.32171409836768*sin(phi)*sin(psi)*sin(theta) - 20.0693671291246*sin(phi)*sin(theta)*cos(psi) - 4.42077937567391*sin(phi)*cos(theta) + 20.0693671291246*sin(psi)*cos(phi) + 4.32171409836768*cos(phi)*cos(psi))/(1.64636727556864*sin(psi)*cos(theta) + 1.68410642882816*sin(theta) - 7.64547319204746*cos(psi)*cos(theta))], [(-20.0693671291246*sin(phi)*sin(psi) - 4.32171409836768*sin(phi)*cos(psi) + 4.32171409836768*sin(psi)*sin(theta)*cos(phi) - 20.0693671291246*sin(theta)*cos(phi)*cos(psi) - 4.42077937567391*cos(phi)*cos(theta))/(1.64636727556864*sin(psi)*cos(theta) + 1.68410642882816*sin(theta) - 7.64547319204746*cos(psi)*cos(theta))], [(6.20592433988813*sin(phi)*sin(psi)*sin(theta) - 20.0620662716377*sin(phi)*sin(theta)*cos(psi) + 20.0620662716377*sin(psi)*cos(phi) + 6.20592433988813*cos(phi)*cos(psi))/((2.36416165329072*sin(psi) - 7.64269191300485*cos(psi))*cos(theta))], [(-20.0620662716377*sin(phi)*sin(psi) - 6.20592433988813*sin(phi)*cos(psi) + 6.20592433988813*sin(psi)*sin(theta)*cos(phi) - 20.0620662716377*sin(theta)*cos(phi)*cos(psi))/((2.36416165329072*sin(psi) - 7.64269191300485*cos(psi))*cos(theta))], [(-4.32171409836768*sin(phi)*sin(psi)*sin(theta) + 20.0693671291246*sin(phi)*sin(theta)*cos(psi) - 4.42077937567391*sin(phi)*cos(theta) - 20.0693671291246*sin(psi)*cos(phi) - 4.32171409836768*cos(phi)*cos(psi))/(-1.64636727556864*sin(psi)*cos(theta) + 1.68410642882816*sin(theta) + 7.64547319204746*cos(psi)*cos(theta))], [(20.0693671291246*sin(phi)*sin(psi) + 4.32171409836768*sin(phi)*cos(psi) - 4.32171409836768*sin(psi)*sin(theta)*cos(phi) + 20.0693671291246*sin(theta)*cos(phi)*cos(psi) - 4.42077937567391*cos(phi)*cos(theta))/(-1.64636727556864*sin(psi)*cos(theta) + 1.68410642882816*sin(theta) + 7.64547319204746*cos(psi)*cos(theta))], [(20.0620662716377*sin(phi)*sin(theta)*cos(psi) - 6.20592433988813*sin(phi)*cos(theta) - 20.0620662716377*sin(psi)*cos(phi))/(2.36416165329072*sin(theta) + 7.64269191300485*cos(psi)*cos(theta))], [(20.0620662716377*sin(phi)*sin(psi) + 20.0620662716377*sin(theta)*cos(phi)*cos(psi) - 6.20592433988813*cos(phi)*cos(theta))/(2.36416165329072*sin(theta) + 7.64269191300485*cos(psi)*cos(theta))], [(4.32171409836768*sin(phi)*sin(psi)*sin(theta) + 20.0693671291246*sin(phi)*sin(theta)*cos(psi) - 4.42077937567391*sin(phi)*cos(theta) - 20.0693671291246*sin(psi)*cos(phi) + 4.32171409836768*cos(phi)*cos(psi))/(1.64636727556864*sin(psi)*cos(theta) + 1.68410642882816*sin(theta) + 7.64547319204746*cos(psi)*cos(theta))], [(20.0693671291246*sin(phi)*sin(psi) - 4.32171409836768*sin(phi)*cos(psi) + 4.32171409836768*sin(psi)*sin(theta)*cos(phi) + 20.0693671291246*sin(theta)*cos(phi)*cos(psi) - 4.42077937567391*cos(phi)*cos(theta))/(1.64636727556864*sin(psi)*cos(theta) + 1.68410642882816*sin(theta) + 7.64547319204746*cos(psi)*cos(theta))]])\n"
     ]
    }
   ],
   "source": [
    "print(g_stars)"
   ]
  }
 ],
 "metadata": {
  "kernelspec": {
   "display_name": "ae353",
   "language": "python",
   "name": "python3"
  },
  "language_info": {
   "codemirror_mode": {
    "name": "ipython",
    "version": 3
   },
   "file_extension": ".py",
   "mimetype": "text/x-python",
   "name": "python",
   "nbconvert_exporter": "python",
   "pygments_lexer": "ipython3",
   "version": "3.13.2"
  }
 },
 "nbformat": 4,
 "nbformat_minor": 5
}
