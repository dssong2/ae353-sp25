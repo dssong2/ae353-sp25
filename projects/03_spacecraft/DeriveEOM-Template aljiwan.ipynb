{
 "cells": [
  {
   "cell_type": "markdown",
   "id": "bf67731b",
   "metadata": {},
   "source": [
    "# Derive models of spacecraft with star tracker"
   ]
  },
  {
   "cell_type": "markdown",
   "id": "389fec45",
   "metadata": {},
   "source": [
    "Do all imports."
   ]
  },
  {
   "cell_type": "code",
   "execution_count": 1,
   "id": "other-peter",
   "metadata": {},
   "outputs": [],
   "source": [
    "import sympy as sym\n",
    "import numpy as np\n",
    "from IPython.display import display, Markdown\n",
    "import ae353_spacecraft_design as design\n",
    "\n",
    "# Suppress the use of scientific notation when printing small numbers\n",
    "np.set_printoptions(suppress=True)"
   ]
  },
  {
   "cell_type": "markdown",
   "id": "30f99a8f",
   "metadata": {},
   "source": [
    "## Create spacecraft"
   ]
  },
  {
   "cell_type": "markdown",
   "id": "58060459",
   "metadata": {},
   "source": [
    "Create a visualizer to help with placement of reaction wheels."
   ]
  },
  {
   "cell_type": "code",
   "execution_count": 2,
   "id": "c4596230",
   "metadata": {},
   "outputs": [
    {
     "name": "stdout",
     "output_type": "stream",
     "text": [
      "You can open the visualizer by visiting the following URL:\n",
      "http://127.0.0.1:7000/static/\n"
     ]
    },
    {
     "data": {
      "text/html": [
       "\n",
       "            <div style=\"height: 400px; width: 100%; overflow-x: auto; overflow-y: hidden; resize: both\">\n",
       "            <iframe src=\"http://127.0.0.1:7000/static/\" style=\"width: 100%; height: 100%; border: none\"></iframe>\n",
       "            </div>\n",
       "            "
      ],
      "text/plain": [
       "<IPython.core.display.HTML object>"
      ]
     },
     "execution_count": 2,
     "metadata": {},
     "output_type": "execute_result"
    }
   ],
   "source": [
    "# Create the visualizer\n",
    "vis = design.create_visualizer()\n",
    "\n",
    "# Show the visualizer in this notebook\n",
    "vis.jupyter_cell()"
   ]
  },
  {
   "cell_type": "markdown",
   "id": "5f3ada47",
   "metadata": {},
   "source": [
    "Specify the location of four reaction wheels in terms of their right ascension $\\alpha$ and declination $\\delta$. You cannot change the number of wheels, but it is likely that you **must** change the location of wheels in order for the system to be controllable."
   ]
  },
  {
   "cell_type": "code",
   "execution_count": 3,
   "id": "6700e408",
   "metadata": {},
   "outputs": [],
   "source": [
    "# wheels = [\n",
    "#     {'alpha': 1 * np.pi / 4, 'delta': 0.},\n",
    "#     {'alpha': 3 * np.pi / 4, 'delta': 0.},\n",
    "#     {'alpha': 5 * np.pi / 4, 'delta': 0.},\n",
    "#     {'alpha': 7 * np.pi / 4, 'delta': 0.},\n",
    "# ]\n",
    "\n",
    "# tetrahedral, not orthogonal\n",
    "# wheels = [\n",
    "#     {'alpha': 0, 'delta': np.arctan(1/np.sqrt(2))},   # First wheel\n",
    "#     {'alpha': 2 * np.pi / 3, 'delta': np.arctan(1/np.sqrt(2))},  # Second wheel\n",
    "#     {'alpha': 4 * np.pi / 3, 'delta': np.arctan(1/np.sqrt(2))},  # Third wheel\n",
    "#     {'alpha': 0, 'delta': -np.arccos(1/3)},  # Fourth wheel (pointing downward)\n",
    "# ]\n",
    "\n",
    "wheels = [\n",
    "    {'alpha': 0, 'delta': np.arctan(1/np.sqrt(2))},   # First wheel\n",
    "    {'alpha': 2 * np.pi / 3, 'delta': np.arctan(1/np.sqrt(2))},  # Second wheel\n",
    "    {'alpha': 4 * np.pi / 3, 'delta': np.arctan(1/np.sqrt(2))},  # Third wheel\n",
    "    {'alpha': 0, 'delta': -np.pi / 2},  # Fourth wheel (aligned with z-axis)\n",
    "]\n",
    "\n",
    "\n",
    "\n",
    "\n",
    "\n"
   ]
  },
  {
   "cell_type": "markdown",
   "id": "35d5b68c",
   "metadata": {},
   "source": [
    "Show wheels in the visualizer. You will be warned if any wheel obscures the star tracker (i.e., the \"scope\") or if any two wheels are too close together."
   ]
  },
  {
   "cell_type": "code",
   "execution_count": 4,
   "id": "78f08330",
   "metadata": {},
   "outputs": [],
   "source": [
    "design.show_wheels(vis, wheels)"
   ]
  },
  {
   "cell_type": "markdown",
   "id": "08d304bd",
   "metadata": {},
   "source": [
    "Create a model of the spacecraft in URDF format. This will **overwrite** the file `spacecraft.urdf` in the `urdf` directory. Also, compute the mass $m$ and inertia matrix $J$ of the spacecraft (including all the wheels). These parameters will be used later when deriving equations of motion."
   ]
  },
  {
   "cell_type": "code",
   "execution_count": 5,
   "id": "0020f641",
   "metadata": {},
   "outputs": [
    {
     "data": {
      "text/markdown": [
       "$$m = 19.0 \\qquad\\qquad J = \\left[\\begin{matrix}24.31 & 0.0 & 0.0\\\\0.0 & 24.31 & 0.0\\\\0.0 & 0.0 & 18.88\\end{matrix}\\right]$$"
      ],
      "text/plain": [
       "<IPython.core.display.Markdown object>"
      ]
     },
     "metadata": {},
     "output_type": "display_data"
    }
   ],
   "source": [
    "m, J = design.create_spacecraft(wheels)\n",
    "\n",
    "display(Markdown(\n",
    "       r'$$'\n",
    "    + fr'm = {sym.latex(np.round(m, decimals=2))}'\n",
    "    +  r' \\qquad\\qquad '\n",
    "    + fr'J = {sym.latex(sym.Matrix(J.round(decimals=2)))}'\n",
    "    +  r'$$'\n",
    "))"
   ]
  },
  {
   "cell_type": "markdown",
   "id": "87b011b1",
   "metadata": {},
   "source": [
    "## Create stars"
   ]
  },
  {
   "cell_type": "markdown",
   "id": "2b517fa1",
   "metadata": {},
   "source": [
    "Specify the location of at most ten stars in terms of their right ascension $\\alpha$ and declination $\\delta$. It is likely that you **must** change the number and/or location of stars in order for the system to be observable."
   ]
  },
  {
   "cell_type": "code",
   "execution_count": 6,
   "id": "4d9811cf",
   "metadata": {},
   "outputs": [],
   "source": [
    "# stars = [\n",
    "#     {'alpha':  0.00, 'delta':  0.00}, # <-- To add a star, append a copy of this dict to the list. To change\n",
    "#                                       #     the location of a star, change the value of alpha and delta\n",
    "# ]\n",
    "stars = [\n",
    "    {'alpha': -0.2, 'delta': -0.2},  # Star 1\n",
    "    {'alpha':  0.2, 'delta': -0.2},  # Star 2\n",
    "    {'alpha': -0.2, 'delta':  0.2},  # Star 3\n",
    "    {'alpha':  0.2, 'delta':  0.2},  # Star 4\n",
    "    {'alpha':  0.0, 'delta': -0.3},  # Star 5 (Lower boundary)\n",
    "    {'alpha':  0.0, 'delta':  0.3},  # Star 6 (Upper boundary)\n",
    "    {'alpha': -0.3, 'delta':  0.0},  # Star 7 (Left boundary)\n",
    "    {'alpha':  0.3, 'delta':  0.0},  # Star 8 (Right boundary)\n",
    "]\n",
    "\n"
   ]
  },
  {
   "cell_type": "markdown",
   "id": "2d1c5f62",
   "metadata": {},
   "source": [
    "Show where the stars will appear in the scope. The plot on the left shows $\\alpha$ and $\\delta$ gridelines. The plot on the right shows $y_\\text{star}$ and $z_\\text{star}$ gridlines."
   ]
  },
  {
   "cell_type": "code",
   "execution_count": 7,
   "id": "c74f0053",
   "metadata": {},
   "outputs": [
    {
     "data": {
      "image/png": "[encoded data removed]",
      "text/plain": [
       "<Figure size 900x400 with 2 Axes>"
      ]
     },
     "metadata": {},
     "output_type": "display_data"
    }
   ],
   "source": [
    "design.show_stars(stars)"
   ]
  },
  {
   "cell_type": "markdown",
   "id": "b110bce4",
   "metadata": {},
   "source": [
    "Create a file with the location of stars. This will **overwrite** the file `stars.json` in the `urdf` directory."
   ]
  },
  {
   "cell_type": "code",
   "execution_count": 8,
   "id": "dd9cc72a",
   "metadata": {},
   "outputs": [],
   "source": [
    "design.create_stars(stars)"
   ]
  },
  {
   "cell_type": "markdown",
   "id": "nominated-instrument",
   "metadata": {},
   "source": [
    "## Create dynamic model"
   ]
  },
  {
   "cell_type": "markdown",
   "id": "following-implementation",
   "metadata": {},
   "source": [
    "Derive the equations of motion."
   ]
  },
  {
   "cell_type": "code",
   "execution_count": 9,
   "id": "fixed-developer",
   "metadata": {},
   "outputs": [],
   "source": [
    "# Define yaw, pitch, roll angles\n",
    "psi, theta, phi = sym.symbols('psi, theta, phi')\n",
    "\n",
    "# Define angular velocities\n",
    "w_x, w_y, w_z = sym.symbols('w_x, w_y, w_z')\n",
    "\n",
    "# Define torques\n",
    "tau_1, tau_2, tau_3, tau_4 = sym.symbols('tau_1, tau_2, tau_3, tau_4')\n",
    "\n",
    "# Compute resultant torques\n",
    "T1 = - tau_1 * sym.Matrix(wheels[0]['xyz']) / np.linalg.norm(wheels[0]['xyz'])\n",
    "T2 = - tau_2 * sym.Matrix(wheels[1]['xyz']) / np.linalg.norm(wheels[1]['xyz'])\n",
    "T3 = - tau_3 * sym.Matrix(wheels[2]['xyz']) / np.linalg.norm(wheels[2]['xyz'])\n",
    "T4 = - tau_4 * sym.Matrix(wheels[3]['xyz']) / np.linalg.norm(wheels[3]['xyz'])\n",
    "T = sym.nsimplify(T1 + T2 + T3 + T4)\n",
    "\n",
    "# Define rotation matrices\n",
    "Rz = sym.Matrix([[sym.cos(psi), -sym.sin(psi), 0], [sym.sin(psi), sym.cos(psi), 0], [0, 0, 1]])\n",
    "Ry = sym.Matrix([[sym.cos(theta), 0, sym.sin(theta)], [0, 1, 0], [-sym.sin(theta), 0, sym.cos(theta)]])\n",
    "Rx = sym.Matrix([[1, 0, 0], [0, sym.cos(phi), -sym.sin(phi)], [0, sym.sin(phi), sym.cos(phi)]])\n",
    "\n",
    "# Define the transformation from angular velocity to angular rates\n",
    "ex = sym.Matrix([[1], [0], [0]])\n",
    "ey = sym.Matrix([[0], [1], [0]])\n",
    "ez = sym.Matrix([[0], [0], [1]])\n",
    "M = sym.simplify(sym.Matrix.hstack((Ry @ Rx).T @ ez, Rx.T @ ey, ex).inv(), full=True)\n",
    "\n",
    "# Define euler's equations\n",
    "Jx, Jy, Jz = [sym.nsimplify(j) for j in np.diag(J)]\n",
    "euler = sym.Matrix([[(1 / Jx) * (T[0] + (Jy - Jz) * w_y * w_z)],\n",
    "                    [(1 / Jy) * (T[1] + (Jz - Jx) * w_z * w_x)],\n",
    "                    [(1 / Jz) * (T[2] + (Jx - Jy) * w_x * w_y)]])\n",
    "\n",
    "# Define equations of motion\n",
    "f = sym.simplify(sym.Matrix.vstack(M * sym.Matrix([[w_x], [w_y], [w_z]]), euler), full=True)"
   ]
  },
  {
   "cell_type": "markdown",
   "id": "according-occasion",
   "metadata": {},
   "source": [
    "The equations of motion have this form:\n",
    "\n",
    "$$\\begin{bmatrix} \\dot{\\psi} \\\\ \\dot{\\theta} \\\\ \\dot{\\phi} \\\\ \\dot{w_x} \\\\ \\dot{w_y} \\\\ \\dot{w_z} \\end{bmatrix} = f\\left(\\psi, \\theta, \\phi, w_x, w_y, w_z, \\tau_1, \\tau_2, \\tau_3, \\tau_4\\right).$$\n",
    "\n",
    "Here is the function $f$:"
   ]
  },
  {
   "cell_type": "code",
   "execution_count": 10,
   "id": "welsh-passion",
   "metadata": {},
   "outputs": [
    {
     "data": {
      "text/latex": [
       "$\\displaystyle \\left[\\begin{matrix}\\frac{w_{y} \\sin{\\left(\\phi \\right)} + w_{z} \\cos{\\left(\\phi \\right)}}{\\cos{\\left(\\theta \\right)}}\\\\w_{y} \\cos{\\left(\\phi \\right)} - w_{z} \\sin{\\left(\\phi \\right)}\\\\w_{x} + w_{y} \\sin{\\left(\\phi \\right)} \\tan{\\left(\\theta \\right)} + w_{z} \\cos{\\left(\\phi \\right)} \\tan{\\left(\\theta \\right)}\\\\- \\frac{408248290463863 \\tau_{1}}{12155468525000000} + \\frac{408248290463863 \\tau_{2}}{24310937050000000} + \\frac{408248290463863 \\tau_{3}}{24310937050000000} - \\frac{612323399573677 \\tau_{4}}{243109370500000000000000000000000} + \\frac{542927038 w_{y} w_{z}}{2431093705}\\\\- \\frac{176776695296637 \\tau_{2}}{6077734262500000} + \\frac{707106781186547 \\tau_{3}}{24310937050000000} - \\frac{542927038 w_{x} w_{z}}{2431093705}\\\\- \\frac{288675134594813 \\tau_{1}}{9440833335000000} - \\frac{288675134594813 \\tau_{2}}{9440833335000000} - \\frac{288675134594813 \\tau_{3}}{9440833335000000} + \\frac{100000000 \\tau_{4}}{1888166667}\\end{matrix}\\right]$"
      ],
      "text/plain": [
       "Matrix([\n",
       "[                                                                                                                                                                             (w_y*sin(phi) + w_z*cos(phi))/cos(theta)],\n",
       "[                                                                                                                                                                                          w_y*cos(phi) - w_z*sin(phi)],\n",
       "[                                                                                                                                                              w_x + w_y*sin(phi)*tan(theta) + w_z*cos(phi)*tan(theta)],\n",
       "[-408248290463863*tau_1/12155468525000000 + 408248290463863*tau_2/24310937050000000 + 408248290463863*tau_3/24310937050000000 - 612323399573677*tau_4/243109370500000000000000000000000 + 542927038*w_y*w_z/2431093705],\n",
       "[                                                                                                     -176776695296637*tau_2/6077734262500000 + 707106781186547*tau_3/24310937050000000 - 542927038*w_x*w_z/2431093705],\n",
       "[                                                               -288675134594813*tau_1/9440833335000000 - 288675134594813*tau_2/9440833335000000 - 288675134594813*tau_3/9440833335000000 + 100000000*tau_4/1888166667]])"
      ]
     },
     "execution_count": 10,
     "metadata": {},
     "output_type": "execute_result"
    }
   ],
   "source": [
    "f"
   ]
  },
  {
   "cell_type": "code",
   "execution_count": 11,
   "id": "f14fd7ec",
   "metadata": {},
   "outputs": [],
   "source": [
    "f_num = sym.lambdify([psi,theta,phi,w_x,w_y,w_z,tau_1,tau_2,tau_3,tau_4],f)\n",
    "\n",
    "#picking all eq points as zero satisfies reuquiremend of the dot terms to be zero too\n",
    "psi_e = 0.\n",
    "theta_e = 0.\n",
    "phi_e = 0.\n",
    "w_xe = 0.\n",
    "w_ye = 0.\n",
    "w_ze = 0.\n",
    "tau_1e = 0.\n",
    "tau_2e = 0.\n",
    "tau_3e = 0.\n",
    "tau_4e = 0.\n",
    "\n",
    "m = sym.Matrix([psi,\n",
    "                theta,\n",
    "                phi,\n",
    "                w_x,\n",
    "                w_y,\n",
    "                w_z\n",
    "])\n",
    "\n",
    "n = sym.Matrix([tau_1,\n",
    "                tau_2,\n",
    "                tau_3,\n",
    "                tau_4\n",
    "])\n",
    "\n",
    "A_num = sym.lambdify([psi,theta,phi,w_x,w_y,w_z,tau_1,tau_2,tau_3,tau_4],f.jacobian(m))\n",
    "A = A_num(0,0,0,0,0,0,0,0,0,0)\n",
    "\n",
    "B_num = sym.lambdify([psi,theta,phi,w_x,w_y,w_z,tau_1,tau_2,tau_3,tau_4],f.jacobian(n))\n",
    "B = B_num(0,0,0,0,0,0,0,0,0,0)\n"
   ]
  },
  {
   "cell_type": "code",
   "execution_count": 12,
   "id": "4cff57fa",
   "metadata": {},
   "outputs": [
    {
     "name": "stdout",
     "output_type": "stream",
     "text": [
      "6\n",
      "6\n"
     ]
    }
   ],
   "source": [
    "W = B\n",
    "shape= A.shape[0]\n",
    "for i in range(1,shape):\n",
    "    col= np.linalg.matrix_power(A,i)@B\n",
    "    W = np.block([[W,col]])\n",
    "W = W.astype(np.float64)\n",
    "rank = np.linalg.matrix_rank(W)\n",
    "print(shape)\n",
    "print(rank)"
   ]
  },
  {
   "cell_type": "code",
   "execution_count": 13,
   "id": "27818f72",
   "metadata": {},
   "outputs": [
    {
     "name": "stdout",
     "output_type": "stream",
     "text": [
      "Some eigenvalues have an imaginary part or positive real part.\n"
     ]
    }
   ],
   "source": [
    "#finding K, but cant find u from here because of the sensor\n",
    "\n",
    "import scipy.linalg\n",
    "import control\n",
    "m_e = sym.Matrix([psi_e,\n",
    "                theta_e,\n",
    "                phi_e,\n",
    "                w_xe,\n",
    "                w_ye,\n",
    "                w_ze\n",
    "])\n",
    "\n",
    "n_e = sym.Matrix([tau_1e,\n",
    "                tau_2e,\n",
    "                tau_3e,\n",
    "                tau_4e\n",
    "])\n",
    "\n",
    "x = m - m_e\n",
    "u = n - n_e\n",
    "\n",
    "Q = np.eye(6)\n",
    "R = np.eye(4)\n",
    "\n",
    "Q = np.diag([2, 1, 2, 1, 3, 1])  \n",
    "R = np.diag([1,1,1,1])\n",
    "K, _, _ = control.lqr(A, B, Q, R)\n",
    "\n",
    "eigenvalues = np.linalg.eigvals(A - B @ K)\n",
    "# Check if all eigenvalues are real (zero imaginary part) and have negative real part\n",
    "if np.all(np.isclose(np.imag(eigenvalues), 0)) and np.all(np.real(eigenvalues) < 0):\n",
    "    # Only print K and the eigenvalues if all eigenvalues are real with negative real part\n",
    "    print(\"All eigenvalues are real with negative real parts.\")\n",
    "    print(\"LQR Gain Matrix K:\")\n",
    "    print(K)\n",
    "    print(\"Closed-loop Eigenvalues:\")\n",
    "    print(eigenvalues)\n",
    "else:\n",
    "    print(\"Some eigenvalues have an imaginary part or positive real part.\")\n",
    "\n"
   ]
  },
  {
   "cell_type": "markdown",
   "id": "cultural-penalty",
   "metadata": {},
   "source": [
    "## Create sensor model"
   ]
  },
  {
   "cell_type": "markdown",
   "id": "tested-graham",
   "metadata": {},
   "source": [
    "Create symbolic variables for right ascension $\\alpha$ and declination $\\delta$ of each star."
   ]
  },
  {
   "cell_type": "code",
   "execution_count": 14,
   "id": "historic-ending",
   "metadata": {},
   "outputs": [],
   "source": [
    "alpha, delta = sym.symbols('alpha, delta')"
   ]
  },
  {
   "cell_type": "markdown",
   "id": "polish-burning",
   "metadata": {},
   "source": [
    "Derive the sensor model for one star."
   ]
  },
  {
   "cell_type": "code",
   "execution_count": 15,
   "id": "diagnostic-authority",
   "metadata": {},
   "outputs": [],
   "source": [
    "# Position of star in space frame\n",
    "p_star_in_space = sym.Matrix([[sym.cos(alpha) * sym.cos(delta)],\n",
    "                              [sym.sin(alpha) * sym.cos(delta)],\n",
    "                              [sym.sin(delta)]])\n",
    "\n",
    "# Orientation of body frame in space frame\n",
    "R_body_in_space = Rz * Ry * Rx\n",
    "\n",
    "# Position of star in body frame (assuming origin of body and space frames are the same)\n",
    "p_star_in_body = R_body_in_space.T * p_star_in_space\n",
    "\n",
    "# Position of star in image frame\n",
    "r = sym.nsimplify(design.scope_radius)\n",
    "p_star_in_image = (1 / r) * sym.Matrix([[p_star_in_body[1] / p_star_in_body[0]],\n",
    "                                        [p_star_in_body[2] / p_star_in_body[0]]])\n",
    "\n",
    "# Sensor model for each star\n",
    "g = sym.simplify(p_star_in_image, full=True)"
   ]
  },
  {
   "cell_type": "markdown",
   "id": "continuing-reference",
   "metadata": {},
   "source": [
    "The sensor model has the following form:\n",
    "\n",
    "$$\\begin{bmatrix} y_\\text{star} \\\\ z_\\text{star} \\end{bmatrix} = g(\\psi, \\theta, \\phi, \\alpha, \\delta).$$\n",
    "\n",
    "Here is the function $g$:"
   ]
  },
  {
   "cell_type": "code",
   "execution_count": 16,
   "id": "protected-orlando",
   "metadata": {},
   "outputs": [
    {
     "data": {
      "text/latex": [
       "$\\displaystyle \\left[\\begin{matrix}\\frac{21 \\left(\\sin{\\left(\\delta \\right)} \\sin{\\left(\\phi \\right)} \\cos{\\left(\\theta \\right)} + \\sin{\\left(\\phi \\right)} \\sin{\\left(\\theta \\right)} \\cos{\\left(\\delta \\right)} \\cos{\\left(\\alpha - \\psi \\right)} + \\sin{\\left(\\alpha - \\psi \\right)} \\cos{\\left(\\delta \\right)} \\cos{\\left(\\phi \\right)}\\right)}{8 \\left(- \\sin{\\left(\\delta \\right)} \\sin{\\left(\\theta \\right)} + \\cos{\\left(\\delta \\right)} \\cos{\\left(\\theta \\right)} \\cos{\\left(\\alpha - \\psi \\right)}\\right)}\\\\\\frac{21 \\left(\\sin{\\left(\\delta \\right)} \\cos{\\left(\\phi \\right)} \\cos{\\left(\\theta \\right)} - \\sin{\\left(\\phi \\right)} \\sin{\\left(\\alpha - \\psi \\right)} \\cos{\\left(\\delta \\right)} + \\sin{\\left(\\theta \\right)} \\cos{\\left(\\delta \\right)} \\cos{\\left(\\phi \\right)} \\cos{\\left(\\alpha - \\psi \\right)}\\right)}{8 \\left(- \\sin{\\left(\\delta \\right)} \\sin{\\left(\\theta \\right)} + \\cos{\\left(\\delta \\right)} \\cos{\\left(\\theta \\right)} \\cos{\\left(\\alpha - \\psi \\right)}\\right)}\\end{matrix}\\right]$"
      ],
      "text/plain": [
       "Matrix([\n",
       "[21*(sin(delta)*sin(phi)*cos(theta) + sin(phi)*sin(theta)*cos(delta)*cos(alpha - psi) + sin(alpha - psi)*cos(delta)*cos(phi))/(8*(-sin(delta)*sin(theta) + cos(delta)*cos(theta)*cos(alpha - psi)))],\n",
       "[21*(sin(delta)*cos(phi)*cos(theta) - sin(phi)*sin(alpha - psi)*cos(delta) + sin(theta)*cos(delta)*cos(phi)*cos(alpha - psi))/(8*(-sin(delta)*sin(theta) + cos(delta)*cos(theta)*cos(alpha - psi)))]])"
      ]
     },
     "execution_count": 16,
     "metadata": {},
     "output_type": "execute_result"
    }
   ],
   "source": [
    "g"
   ]
  },
  {
   "cell_type": "markdown",
   "id": "42b69da2",
   "metadata": {},
   "source": [
    "Again, this sensor model is for **one star only**. You will have to use a copy of this same model for each star you defined in the \"Create Stars\" section of this notebook."
   ]
  },
  {
   "cell_type": "markdown",
   "id": "d5cd51ab",
   "metadata": {},
   "source": []
  },
  {
   "cell_type": "code",
   "execution_count": 17,
   "id": "a9a07454",
   "metadata": {},
   "outputs": [
    {
     "data": {
      "text/latex": [
       "$\\displaystyle \\left[\\begin{matrix}\\frac{21 \\left(0.980066577841242 \\sin{\\left(\\phi \\right)} \\sin{\\left(\\theta \\right)} \\cos{\\left(\\psi + 0.2 \\right)} - 0.198669330795061 \\sin{\\left(\\phi \\right)} \\cos{\\left(\\theta \\right)} - 0.980066577841242 \\sin{\\left(\\psi + 0.2 \\right)} \\cos{\\left(\\phi \\right)}\\right)}{8 \\left(0.198669330795061 \\sin{\\left(\\theta \\right)} + 0.980066577841242 \\cos{\\left(\\theta \\right)} \\cos{\\left(\\psi + 0.2 \\right)}\\right)}\\\\\\frac{21 \\left(0.980066577841242 \\sin{\\left(\\phi \\right)} \\sin{\\left(\\psi + 0.2 \\right)} + 0.980066577841242 \\sin{\\left(\\theta \\right)} \\cos{\\left(\\phi \\right)} \\cos{\\left(\\psi + 0.2 \\right)} - 0.198669330795061 \\cos{\\left(\\phi \\right)} \\cos{\\left(\\theta \\right)}\\right)}{8 \\left(0.198669330795061 \\sin{\\left(\\theta \\right)} + 0.980066577841242 \\cos{\\left(\\theta \\right)} \\cos{\\left(\\psi + 0.2 \\right)}\\right)}\\\\\\frac{21 \\left(0.980066577841242 \\sin{\\left(\\phi \\right)} \\sin{\\left(\\theta \\right)} \\cos{\\left(\\psi - 0.2 \\right)} - 0.198669330795061 \\sin{\\left(\\phi \\right)} \\cos{\\left(\\theta \\right)} - 0.980066577841242 \\sin{\\left(\\psi - 0.2 \\right)} \\cos{\\left(\\phi \\right)}\\right)}{8 \\left(0.198669330795061 \\sin{\\left(\\theta \\right)} + 0.980066577841242 \\cos{\\left(\\theta \\right)} \\cos{\\left(\\psi - 0.2 \\right)}\\right)}\\\\\\frac{21 \\left(0.980066577841242 \\sin{\\left(\\phi \\right)} \\sin{\\left(\\psi - 0.2 \\right)} + 0.980066577841242 \\sin{\\left(\\theta \\right)} \\cos{\\left(\\phi \\right)} \\cos{\\left(\\psi - 0.2 \\right)} - 0.198669330795061 \\cos{\\left(\\phi \\right)} \\cos{\\left(\\theta \\right)}\\right)}{8 \\left(0.198669330795061 \\sin{\\left(\\theta \\right)} + 0.980066577841242 \\cos{\\left(\\theta \\right)} \\cos{\\left(\\psi - 0.2 \\right)}\\right)}\\\\\\frac{21 \\left(0.980066577841242 \\sin{\\left(\\phi \\right)} \\sin{\\left(\\theta \\right)} \\cos{\\left(\\psi + 0.2 \\right)} + 0.198669330795061 \\sin{\\left(\\phi \\right)} \\cos{\\left(\\theta \\right)} - 0.980066577841242 \\sin{\\left(\\psi + 0.2 \\right)} \\cos{\\left(\\phi \\right)}\\right)}{8 \\left(- 0.198669330795061 \\sin{\\left(\\theta \\right)} + 0.980066577841242 \\cos{\\left(\\theta \\right)} \\cos{\\left(\\psi + 0.2 \\right)}\\right)}\\\\\\frac{21 \\left(0.980066577841242 \\sin{\\left(\\phi \\right)} \\sin{\\left(\\psi + 0.2 \\right)} + 0.980066577841242 \\sin{\\left(\\theta \\right)} \\cos{\\left(\\phi \\right)} \\cos{\\left(\\psi + 0.2 \\right)} + 0.198669330795061 \\cos{\\left(\\phi \\right)} \\cos{\\left(\\theta \\right)}\\right)}{8 \\left(- 0.198669330795061 \\sin{\\left(\\theta \\right)} + 0.980066577841242 \\cos{\\left(\\theta \\right)} \\cos{\\left(\\psi + 0.2 \\right)}\\right)}\\\\\\frac{21 \\left(0.980066577841242 \\sin{\\left(\\phi \\right)} \\sin{\\left(\\theta \\right)} \\cos{\\left(\\psi - 0.2 \\right)} + 0.198669330795061 \\sin{\\left(\\phi \\right)} \\cos{\\left(\\theta \\right)} - 0.980066577841242 \\sin{\\left(\\psi - 0.2 \\right)} \\cos{\\left(\\phi \\right)}\\right)}{8 \\left(- 0.198669330795061 \\sin{\\left(\\theta \\right)} + 0.980066577841242 \\cos{\\left(\\theta \\right)} \\cos{\\left(\\psi - 0.2 \\right)}\\right)}\\\\\\frac{21 \\left(0.980066577841242 \\sin{\\left(\\phi \\right)} \\sin{\\left(\\psi - 0.2 \\right)} + 0.980066577841242 \\sin{\\left(\\theta \\right)} \\cos{\\left(\\phi \\right)} \\cos{\\left(\\psi - 0.2 \\right)} + 0.198669330795061 \\cos{\\left(\\phi \\right)} \\cos{\\left(\\theta \\right)}\\right)}{8 \\left(- 0.198669330795061 \\sin{\\left(\\theta \\right)} + 0.980066577841242 \\cos{\\left(\\theta \\right)} \\cos{\\left(\\psi - 0.2 \\right)}\\right)}\\\\\\frac{21 \\left(0.955336489125606 \\sin{\\left(\\phi \\right)} \\sin{\\left(\\theta \\right)} \\cos{\\left(\\psi \\right)} - 0.29552020666134 \\sin{\\left(\\phi \\right)} \\cos{\\left(\\theta \\right)} - 0.955336489125606 \\sin{\\left(\\psi \\right)} \\cos{\\left(\\phi \\right)}\\right)}{8 \\left(0.29552020666134 \\sin{\\left(\\theta \\right)} + 0.955336489125606 \\cos{\\left(\\psi \\right)} \\cos{\\left(\\theta \\right)}\\right)}\\\\\\frac{21 \\left(0.955336489125606 \\sin{\\left(\\phi \\right)} \\sin{\\left(\\psi \\right)} + 0.955336489125606 \\sin{\\left(\\theta \\right)} \\cos{\\left(\\phi \\right)} \\cos{\\left(\\psi \\right)} - 0.29552020666134 \\cos{\\left(\\phi \\right)} \\cos{\\left(\\theta \\right)}\\right)}{8 \\left(0.29552020666134 \\sin{\\left(\\theta \\right)} + 0.955336489125606 \\cos{\\left(\\psi \\right)} \\cos{\\left(\\theta \\right)}\\right)}\\\\\\frac{21 \\left(0.955336489125606 \\sin{\\left(\\phi \\right)} \\sin{\\left(\\theta \\right)} \\cos{\\left(\\psi \\right)} + 0.29552020666134 \\sin{\\left(\\phi \\right)} \\cos{\\left(\\theta \\right)} - 0.955336489125606 \\sin{\\left(\\psi \\right)} \\cos{\\left(\\phi \\right)}\\right)}{8 \\left(- 0.29552020666134 \\sin{\\left(\\theta \\right)} + 0.955336489125606 \\cos{\\left(\\psi \\right)} \\cos{\\left(\\theta \\right)}\\right)}\\\\\\frac{21 \\left(0.955336489125606 \\sin{\\left(\\phi \\right)} \\sin{\\left(\\psi \\right)} + 0.955336489125606 \\sin{\\left(\\theta \\right)} \\cos{\\left(\\phi \\right)} \\cos{\\left(\\psi \\right)} + 0.29552020666134 \\cos{\\left(\\phi \\right)} \\cos{\\left(\\theta \\right)}\\right)}{8 \\left(- 0.29552020666134 \\sin{\\left(\\theta \\right)} + 0.955336489125606 \\cos{\\left(\\psi \\right)} \\cos{\\left(\\theta \\right)}\\right)}\\\\\\frac{21 \\left(\\sin{\\left(\\phi \\right)} \\sin{\\left(\\theta \\right)} \\cos{\\left(\\psi + 0.3 \\right)} - \\sin{\\left(\\psi + 0.3 \\right)} \\cos{\\left(\\phi \\right)}\\right)}{8 \\cos{\\left(\\theta \\right)} \\cos{\\left(\\psi + 0.3 \\right)}}\\\\\\frac{21 \\left(\\sin{\\left(\\phi \\right)} \\sin{\\left(\\psi + 0.3 \\right)} + \\sin{\\left(\\theta \\right)} \\cos{\\left(\\phi \\right)} \\cos{\\left(\\psi + 0.3 \\right)}\\right)}{8 \\cos{\\left(\\theta \\right)} \\cos{\\left(\\psi + 0.3 \\right)}}\\\\\\frac{21 \\left(\\sin{\\left(\\phi \\right)} \\sin{\\left(\\theta \\right)} \\cos{\\left(\\psi - 0.3 \\right)} - \\sin{\\left(\\psi - 0.3 \\right)} \\cos{\\left(\\phi \\right)}\\right)}{8 \\cos{\\left(\\theta \\right)} \\cos{\\left(\\psi - 0.3 \\right)}}\\\\\\frac{21 \\left(\\sin{\\left(\\phi \\right)} \\sin{\\left(\\psi - 0.3 \\right)} + \\sin{\\left(\\theta \\right)} \\cos{\\left(\\phi \\right)} \\cos{\\left(\\psi - 0.3 \\right)}\\right)}{8 \\cos{\\left(\\theta \\right)} \\cos{\\left(\\psi - 0.3 \\right)}}\\end{matrix}\\right]$"
      ],
      "text/plain": [
       "Matrix([\n",
       "[ 21*(0.980066577841242*sin(phi)*sin(theta)*cos(psi + 0.2) - 0.198669330795061*sin(phi)*cos(theta) - 0.980066577841242*sin(psi + 0.2)*cos(phi))/(8*(0.198669330795061*sin(theta) + 0.980066577841242*cos(theta)*cos(psi + 0.2)))],\n",
       "[ 21*(0.980066577841242*sin(phi)*sin(psi + 0.2) + 0.980066577841242*sin(theta)*cos(phi)*cos(psi + 0.2) - 0.198669330795061*cos(phi)*cos(theta))/(8*(0.198669330795061*sin(theta) + 0.980066577841242*cos(theta)*cos(psi + 0.2)))],\n",
       "[ 21*(0.980066577841242*sin(phi)*sin(theta)*cos(psi - 0.2) - 0.198669330795061*sin(phi)*cos(theta) - 0.980066577841242*sin(psi - 0.2)*cos(phi))/(8*(0.198669330795061*sin(theta) + 0.980066577841242*cos(theta)*cos(psi - 0.2)))],\n",
       "[ 21*(0.980066577841242*sin(phi)*sin(psi - 0.2) + 0.980066577841242*sin(theta)*cos(phi)*cos(psi - 0.2) - 0.198669330795061*cos(phi)*cos(theta))/(8*(0.198669330795061*sin(theta) + 0.980066577841242*cos(theta)*cos(psi - 0.2)))],\n",
       "[21*(0.980066577841242*sin(phi)*sin(theta)*cos(psi + 0.2) + 0.198669330795061*sin(phi)*cos(theta) - 0.980066577841242*sin(psi + 0.2)*cos(phi))/(8*(-0.198669330795061*sin(theta) + 0.980066577841242*cos(theta)*cos(psi + 0.2)))],\n",
       "[21*(0.980066577841242*sin(phi)*sin(psi + 0.2) + 0.980066577841242*sin(theta)*cos(phi)*cos(psi + 0.2) + 0.198669330795061*cos(phi)*cos(theta))/(8*(-0.198669330795061*sin(theta) + 0.980066577841242*cos(theta)*cos(psi + 0.2)))],\n",
       "[21*(0.980066577841242*sin(phi)*sin(theta)*cos(psi - 0.2) + 0.198669330795061*sin(phi)*cos(theta) - 0.980066577841242*sin(psi - 0.2)*cos(phi))/(8*(-0.198669330795061*sin(theta) + 0.980066577841242*cos(theta)*cos(psi - 0.2)))],\n",
       "[21*(0.980066577841242*sin(phi)*sin(psi - 0.2) + 0.980066577841242*sin(theta)*cos(phi)*cos(psi - 0.2) + 0.198669330795061*cos(phi)*cos(theta))/(8*(-0.198669330795061*sin(theta) + 0.980066577841242*cos(theta)*cos(psi - 0.2)))],\n",
       "[                     21*(0.955336489125606*sin(phi)*sin(theta)*cos(psi) - 0.29552020666134*sin(phi)*cos(theta) - 0.955336489125606*sin(psi)*cos(phi))/(8*(0.29552020666134*sin(theta) + 0.955336489125606*cos(psi)*cos(theta)))],\n",
       "[                     21*(0.955336489125606*sin(phi)*sin(psi) + 0.955336489125606*sin(theta)*cos(phi)*cos(psi) - 0.29552020666134*cos(phi)*cos(theta))/(8*(0.29552020666134*sin(theta) + 0.955336489125606*cos(psi)*cos(theta)))],\n",
       "[                    21*(0.955336489125606*sin(phi)*sin(theta)*cos(psi) + 0.29552020666134*sin(phi)*cos(theta) - 0.955336489125606*sin(psi)*cos(phi))/(8*(-0.29552020666134*sin(theta) + 0.955336489125606*cos(psi)*cos(theta)))],\n",
       "[                    21*(0.955336489125606*sin(phi)*sin(psi) + 0.955336489125606*sin(theta)*cos(phi)*cos(psi) + 0.29552020666134*cos(phi)*cos(theta))/(8*(-0.29552020666134*sin(theta) + 0.955336489125606*cos(psi)*cos(theta)))],\n",
       "[                                                                                                                                21*(sin(phi)*sin(theta)*cos(psi + 0.3) - sin(psi + 0.3)*cos(phi))/(8*cos(theta)*cos(psi + 0.3))],\n",
       "[                                                                                                                                21*(sin(phi)*sin(psi + 0.3) + sin(theta)*cos(phi)*cos(psi + 0.3))/(8*cos(theta)*cos(psi + 0.3))],\n",
       "[                                                                                                                                21*(sin(phi)*sin(theta)*cos(psi - 0.3) - sin(psi - 0.3)*cos(phi))/(8*cos(theta)*cos(psi - 0.3))],\n",
       "[                                                                                                                                21*(sin(phi)*sin(psi - 0.3) + sin(theta)*cos(phi)*cos(psi - 0.3))/(8*cos(theta)*cos(psi - 0.3))]])"
      ]
     },
     "execution_count": 17,
     "metadata": {},
     "output_type": "execute_result"
    }
   ],
   "source": [
    "# Create an empty list to store the sensor models for all stars\n",
    "sensor_models = []\n",
    "\n",
    "# Loop over each star in the stars list\n",
    "for star in stars:\n",
    "    alpha_val = star['alpha']\n",
    "    delta_val = star['delta']\n",
    "    \n",
    "    # Position of star in space frame\n",
    "    p_star_in_space = sym.Matrix([\n",
    "        [sym.cos(alpha) * sym.cos(delta)],\n",
    "        [sym.sin(alpha) * sym.cos(delta)],\n",
    "        [sym.sin(delta)]\n",
    "    ])\n",
    "    \n",
    "    # Orientation of body frame in space frame\n",
    "    R_body_in_space = Rz * Ry * Rx\n",
    "    \n",
    "    # Position of star in body frame\n",
    "    p_star_in_body = R_body_in_space.T * p_star_in_space\n",
    "    \n",
    "    # Position of star in image frame\n",
    "    r = sym.nsimplify(design.scope_radius)  # Assuming design.scope_radius is defined\n",
    "    p_star_in_image = (1 / r) * sym.Matrix([\n",
    "        [p_star_in_body[1] / p_star_in_body[0]],\n",
    "        [p_star_in_body[2] / p_star_in_body[0]]\n",
    "    ])\n",
    "    \n",
    "    # Sensor model for current star\n",
    "    g = sym.simplify(p_star_in_image, full=True)\n",
    "    \n",
    "    # Substitute the star's alpha and delta values\n",
    "    g_substituted = g.subs({alpha: alpha_val, delta: delta_val})\n",
    "    \n",
    "    # Store the model\n",
    "    sensor_models.append(g_substituted)\n",
    "\n",
    "# sensor_models now contains the sensor models for all stars\n",
    "# Stack all individual star sensor models into one vector\n",
    "    g_total = sym.Matrix.vstack(*sensor_models)  # sensor_models contains all individual g's\n",
    "\n",
    "g_total\n"
   ]
  },
  {
   "cell_type": "code",
   "execution_count": 18,
   "id": "3a8715f7",
   "metadata": {},
   "outputs": [
    {
     "name": "stdout",
     "output_type": "stream",
     "text": [
      "Observer Gain Matrix L:\n",
      "[[-0.39484498 -0.0159013  -0.39484498  0.0159013  -0.39484498  0.0159013\n",
      "  -0.39484498 -0.0159013  -0.37926064 -0.         -0.37926064 -0.\n",
      "  -0.41555168 -0.         -0.41555168 -0.        ]\n",
      " [ 0.01588721  0.39513489 -0.01588721  0.39513489 -0.01588721  0.39513489\n",
      "   0.01588721  0.39513489  0.          0.41518344  0.          0.41518344\n",
      "   0.          0.37892456  0.          0.37892456]\n",
      " [-0.33631685  0.32961291 -0.33631685 -0.32961291  0.33631685  0.32961291\n",
      "   0.33631685 -0.32961291 -0.50299049 -0.          0.50299049 -0.\n",
      "  -0.          0.50299049 -0.         -0.50299049]\n",
      " [-0.24405332  0.2391885  -0.24405332 -0.2391885   0.24405332  0.2391885\n",
      "   0.24405332 -0.2391885  -0.36500252 -0.          0.36500252 -0.\n",
      "   0.          0.36500252  0.         -0.36500252]\n",
      " [ 0.01416775  0.35236974 -0.01416775  0.35236974 -0.01416775  0.35236974\n",
      "   0.01416775  0.35236974  0.          0.37024845 -0.          0.37024845\n",
      "   0.          0.33791384  0.          0.33791384]\n",
      " [-0.35208221 -0.01417915 -0.35208221  0.01417915 -0.35208221  0.01417915\n",
      "  -0.35208221 -0.01417915 -0.3381857   0.         -0.3381857   0.\n",
      "  -0.37054632  0.         -0.37054632  0.        ]]\n"
     ]
    },
    {
     "data": {
      "text/plain": [
       "(16, 6)"
      ]
     },
     "execution_count": 18,
     "metadata": {},
     "output_type": "execute_result"
    }
   ],
   "source": [
    "g_num = sym.lambdify([psi,theta,phi],g_total)\n",
    "C_num = sym.lambdify([psi,theta,phi],g_total.jacobian(m))\n",
    "C = C_num(0,0,0)\n",
    "\n",
    "y = C@x\n",
    "Q_l = np.eye(6)\n",
    "R_l = np.eye(16)\n",
    "\n",
    "L, _, _ = control.lqr(A.T, C.T, Q_l, R_l)\n",
    "\n",
    "# Transpose L to get the correct shape\n",
    "L = L.T\n",
    "\n",
    "print(\"Observer Gain Matrix L:\")\n",
    "print(L)\n",
    "C.shape\n"
   ]
  },
  {
   "cell_type": "code",
   "execution_count": 19,
   "id": "a3dbf829",
   "metadata": {},
   "outputs": [
    {
     "name": "stdout",
     "output_type": "stream",
     "text": [
      "Number of states (n): 6\n",
      "Rank of Observability Matrix: 6\n",
      "The system is OBSERVABLE.\n"
     ]
    }
   ],
   "source": [
    "#observable?\n",
    "import numpy as np\n",
    "\n",
    "# Initialize observability matrix with the first row being C\n",
    "W_c = C\n",
    "shape = A.shape[0]  # Number of states\n",
    "\n",
    "# Build the observability matrix iteratively\n",
    "for i in range(1, shape):\n",
    "    row = C @ np.linalg.matrix_power(A, i)\n",
    "    W_c = np.block([[W_c], [row]])  # Stack new rows\n",
    "\n",
    "# Convert to float for numerical stability\n",
    "W_c = W_c.astype(np.float64)\n",
    "\n",
    "# Compute rank\n",
    "rank_O = np.linalg.matrix_rank(W_c)\n",
    "\n",
    "# Print results\n",
    "print(\"Number of states (n):\", shape)\n",
    "print(\"Rank of Observability Matrix:\", rank_O)\n",
    "\n",
    "if rank_O == shape:\n",
    "    print(\"The system is OBSERVABLE.\")\n",
    "else:\n",
    "    print(\"The system is NOT OBSERVABLE.\")\n"
   ]
  },
  {
   "cell_type": "code",
   "execution_count": null,
   "id": "e6e2d3b9",
   "metadata": {},
   "outputs": [],
   "source": []
  }
 ],
 "metadata": {
  "kernelspec": {
   "display_name": "ae353",
   "language": "python",
   "name": "python3"
  },
  "language_info": {
   "codemirror_mode": {
    "name": "ipython",
    "version": 3
   },
   "file_extension": ".py",
   "mimetype": "text/x-python",
   "name": "python",
   "nbconvert_exporter": "python",
   "pygments_lexer": "ipython3",
   "version": "3.13.2"
  }
 },
 "nbformat": 4,
 "nbformat_minor": 5
}
