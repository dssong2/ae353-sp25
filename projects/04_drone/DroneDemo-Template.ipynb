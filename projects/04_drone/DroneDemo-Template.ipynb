{
 "cells": [
  {
   "cell_type": "markdown",
   "id": "middle-acoustic",
   "metadata": {},
   "source": [
    "# Quadrotor (aka \"the drone\")"
   ]
  },
  {
   "cell_type": "markdown",
   "id": "future-divide",
   "metadata": {},
   "source": [
    "## Example of how to set everything up (do this only once)"
   ]
  },
  {
   "cell_type": "markdown",
   "id": "faced-least",
   "metadata": {},
   "source": [
    "Import modules."
   ]
  },
  {
   "cell_type": "code",
   "execution_count": 43,
   "id": "informed-qatar",
   "metadata": {},
   "outputs": [],
   "source": [
    "import numpy as np\n",
    "import matplotlib.pyplot as plt\n",
    "import secrets\n",
    "import ae353_drone\n",
    "\n",
    "# Suppress the use of scientific notation when printing small numbers\n",
    "np.set_printoptions(suppress=True)"
   ]
  },
  {
   "cell_type": "markdown",
   "id": "final-distinction",
   "metadata": {},
   "source": [
    "Create and print a seed for the random number generator so it is possible to reproduce the results. Here are a few best practices:\n",
    "\n",
    "* By default, keep this code unchanged.\n",
    "* When producing final results for your report, (1) run this cell once to create a seed, (2) copy/paste this seed into the line of code that creates a simulator, and (3) replace the code cell that creates a seed with a markdown cell saying that you took this approach to choose a seed for testing."
   ]
  },
  {
   "cell_type": "code",
   "execution_count": 44,
   "id": "ceramic-evanescence",
   "metadata": {},
   "outputs": [
    {
     "name": "stdout",
     "output_type": "stream",
     "text": [
      "326200314\n"
     ]
    }
   ],
   "source": [
    "seed = secrets.randbits(32)\n",
    "print(seed)"
   ]
  },
  {
   "cell_type": "markdown",
   "id": "environmental-refrigerator",
   "metadata": {},
   "source": [
    "Create simulator with seed.\n",
    "\n",
    "If your simulator runs much slower than real-time, then you can try adding the optional argument `display_pybullet=True` (instead of using meshcat views)."
   ]
  },
  {
   "cell_type": "code",
   "execution_count": 45,
   "id": "needed-motion",
   "metadata": {},
   "outputs": [
    {
     "name": "stdout",
     "output_type": "stream",
     "text": [
      "argv[0]=\n"
     ]
    }
   ],
   "source": [
    "simulator = ae353_drone.Simulator(seed=seed)"
   ]
  },
  {
   "cell_type": "markdown",
   "id": "c3c358c6",
   "metadata": {},
   "source": [
    "Add a camera view. This view will be displayed in its own browser window."
   ]
  },
  {
   "cell_type": "code",
   "execution_count": 46,
   "id": "3a92a1ff",
   "metadata": {},
   "outputs": [
    {
     "name": "stdout",
     "output_type": "stream",
     "text": [
      "You can open the visualizer by visiting the following URL:\n",
      "http://127.0.0.1:7008/static/\n"
     ]
    }
   ],
   "source": [
    "simulator.add_view(\n",
    "    'top_view',  # name of view (must be unique)\n",
    "    'top',       # type of view (start, top, right, left, or back)\n",
    ")"
   ]
  },
  {
   "cell_type": "code",
   "execution_count": 47,
   "id": "e83db160",
   "metadata": {},
   "outputs": [],
   "source": [
    "simulator.set_rules(\n",
    "    error_on_print=False,    # <-- allow print statements in controller code\n",
    "    error_on_timeout=True,  # <-- allow long runtimes in controller code\n",
    "    error_on_inactive=True, # <-- allow inactivity\n",
    ")"
   ]
  },
  {
   "cell_type": "markdown",
   "id": "strategic-moore",
   "metadata": {},
   "source": [
    "## Example of how to add a drone and run a simulation"
   ]
  },
  {
   "cell_type": "markdown",
   "id": "f0f1d092",
   "metadata": {},
   "source": [
    "Clear all drones (there aren't any yet, if you are running this notebook from the start, but we call this function just in case)."
   ]
  },
  {
   "cell_type": "code",
   "execution_count": 48,
   "id": "69d0a794",
   "metadata": {},
   "outputs": [],
   "source": [
    "simulator.clear_drones()"
   ]
  },
  {
   "cell_type": "markdown",
   "id": "electronic-repository",
   "metadata": {},
   "source": [
    "Define a controller for the drone."
   ]
  },
  {
   "cell_type": "code",
   "execution_count": 49,
   "id": "cf0c3795",
   "metadata": {},
   "outputs": [],
   "source": [
    "import sympy as sym\n",
    "import numpy as np\n",
    "from control import lqr\n",
    "\n",
    "# Suppress the use of scientific notation when printing small numbers\n",
    "np.set_printoptions(suppress=True)\n",
    "\n",
    "params = {\n",
    "    'm': 0.5,\n",
    "    'Jx': 0.0023,\n",
    "    'Jy': 0.0023,\n",
    "    'Jz': 0.0040,\n",
    "    'l': 0.175,\n",
    "    'g': 9.81,\n",
    "}\n",
    "\n",
    "# components of position (meters)\n",
    "p_x, p_y, p_z = sym.symbols('p_x, p_y, p_z')\n",
    "\n",
    "# yaw, pitch, roll angles (radians)\n",
    "psi, theta, phi = sym.symbols('psi, theta, phi')\n",
    "\n",
    "# components of linear velocity (meters / second)\n",
    "v_x, v_y, v_z = sym.symbols('v_x, v_y, v_z')\n",
    "v_in_body = sym.Matrix([v_x, v_y, v_z])\n",
    "\n",
    "# components of angular velocity (radians / second)\n",
    "w_x, w_y, w_z = sym.symbols('w_x, w_y, w_z')\n",
    "w_in_body = sym.Matrix([w_x, w_y, w_z])\n",
    "\n",
    "# components of net rotor torque\n",
    "tau_x, tau_y, tau_z = sym.symbols('tau_x, tau_y, tau_z')\n",
    "\n",
    "# net rotor force\n",
    "f_z = sym.symbols('f_z')\n",
    "\n",
    "# parameters\n",
    "m = sym.nsimplify(params['m'])\n",
    "Jx = sym.nsimplify(params['Jx'])\n",
    "Jy = sym.nsimplify(params['Jy'])\n",
    "Jz = sym.nsimplify(params['Jz'])\n",
    "l = sym.nsimplify(params['l'])\n",
    "g = sym.nsimplify(params['g'])\n",
    "J = sym.diag(Jx, Jy, Jz)\n",
    "\n",
    "# rotation matrices\n",
    "Rz = sym.Matrix([[sym.cos(psi), -sym.sin(psi), 0], [sym.sin(psi), sym.cos(psi), 0], [0, 0, 1]])\n",
    "Ry = sym.Matrix([[sym.cos(theta), 0, sym.sin(theta)], [0, 1, 0], [-sym.sin(theta), 0, sym.cos(theta)]])\n",
    "Rx = sym.Matrix([[1, 0, 0], [0, sym.cos(phi), -sym.sin(phi)], [0, sym.sin(phi), sym.cos(phi)]])\n",
    "R_body_in_world = Rz @ Ry @ Rx\n",
    "\n",
    "# angular velocity to angular rates\n",
    "ex = sym.Matrix([[1], [0], [0]])\n",
    "ey = sym.Matrix([[0], [1], [0]])\n",
    "ez = sym.Matrix([[0], [0], [1]])\n",
    "M = sym.simplify(sym.Matrix.hstack((Ry @ Rx).T @ ez, Rx.T @ ey, ex).inv(), full=True)\n",
    "\n",
    "# applied forces\n",
    "f_in_body = R_body_in_world.T @ sym.Matrix([[0], [0], [-m * g]]) + sym.Matrix([[0], [0], [f_z]])\n",
    "\n",
    "# applied torques\n",
    "tau_in_body = sym.Matrix([[tau_x], [tau_y], [tau_z]])\n",
    "\n",
    "# equations of motion\n",
    "f = sym.Matrix.vstack(\n",
    "    R_body_in_world @ v_in_body,\n",
    "    M @ w_in_body,\n",
    "    (1 / m) * (f_in_body - w_in_body.cross(m * v_in_body)),\n",
    "    J.inv() @ (tau_in_body - w_in_body.cross(J @ w_in_body)),\n",
    ")\n",
    "\n",
    "f = sym.simplify(f, full=True)\n",
    "\n",
    "# Position of drone in world frame\n",
    "p_in_world = sym.Matrix([p_x, p_y, p_z])\n",
    "\n",
    "# Position of markers in body frame\n",
    "a_in_body = sym.Matrix([0, l, 0])  # <-- marker on left rotor\n",
    "b_in_body = sym.Matrix([0, -l, 0]) # <-- marker on right rotor\n",
    "\n",
    "# Position of markers in world frame\n",
    "a_in_world = p_in_world + R_body_in_world @ a_in_body\n",
    "b_in_world = p_in_world + R_body_in_world @ b_in_body\n",
    "\n",
    "# Sensor model\n",
    "g = sym.simplify(sym.Matrix.vstack(a_in_world, b_in_world))\n",
    "\n",
    "# Linearize the system\n",
    "m = sym.Matrix([p_x, p_y, p_z, psi, theta, phi, v_x, v_y, v_z, w_x, w_y, w_z])\n",
    "n = sym.Matrix([tau_x, tau_y, tau_z, f_z])\n",
    "o = sym.Matrix([p_x, p_y, p_z, psi, theta, phi])\n",
    "sub = {\n",
    "    p_x: 0.0,\n",
    "    p_y: 0.0,\n",
    "    p_z: 0.0,\n",
    "    psi: 0.0,\n",
    "    theta: 0.0,\n",
    "    phi: 0.0,\n",
    "    v_x: 0.0,\n",
    "    v_y: 0.0,\n",
    "    v_z: 0.0,\n",
    "    w_x: 0.0,\n",
    "    w_y: 0.0,\n",
    "    w_z: 0.0,\n",
    "    tau_x: 0.0,\n",
    "    tau_y: 0.0,\n",
    "    tau_z: 0.0,\n",
    "    f_z: 981./100./2.,\n",
    "}\n",
    "m_e = np.array(m.subs(sub)).astype(np.float64)\n",
    "n_e = np.array(n.subs(sub)).astype(np.float64)\n",
    "o_e = np.array(o.subs(sub)).astype(np.float64)\n",
    "\n",
    "A = f.jacobian(m).subs(sub)\n",
    "B = f.jacobian(n).subs(sub)\n",
    "C = g.jacobian(m).subs(sub)\n",
    "\n",
    "A = np.array(A).astype(np.float64)\n",
    "B = np.array(B).astype(np.float64)\n",
    "C = np.array(C).astype(np.float64)"
   ]
  },
  {
   "cell_type": "code",
   "execution_count": 50,
   "id": "641448cc",
   "metadata": {},
   "outputs": [],
   "source": [
    "Qc = np.diag([0.13, 0.09, 1.3, .7, .7, .7,\n",
    "               .8, .8, .8, 1.2, 1.2, 1.2])\n",
    "Qc = np.diag([0.1, 0.1, 7, 1, 1, 1,\n",
    "              1, 1, 1, 1, 1, 1])\n",
    "Rc = np.diag([.95, .95, .95, .95]) * 1e2\n",
    "Rc = np.diag([1, 1, 1, 1]) * 1e2\n",
    "K, _, _ = lqr(A, B, Qc, Rc)\n",
    "\n",
    "Qo = np.diag([1, 1, 1, 1, 1, 1]) * 1e2\n",
    "Ro = np.diag([1, 1, 1, 1, 1, 1, 1, 1, 1, 1, 1, 1]) * 1e2\n",
    "L, _, _ = lqr(A.T, C.T, np.linalg.inv(Ro), np.linalg.inv(Qo))\n",
    "L = L.T"
   ]
  },
  {
   "cell_type": "code",
   "execution_count": null,
   "id": "mathematical-emphasis",
   "metadata": {},
   "outputs": [],
   "source": [
    "class Controller:\n",
    "    def __init__(self):\n",
    "        \"\"\"\n",
    "        List all class variables you want the simulator to log. For\n",
    "        example, if you want the simulator to log \"self.xhat\", then\n",
    "        do this:\n",
    "        \n",
    "            self.variables_to_log = ['xhat']\n",
    "        \n",
    "        Similarly, if you want the simulator to log \"self.xhat\" and\n",
    "        \"self.y\", then do this:\n",
    "        \n",
    "            self.variables_to_log = ['xhat', 'y']\n",
    "        \n",
    "        Etc. These variables have to exist in order to be logged.\n",
    "        \"\"\"\n",
    "        self.variables_to_log = []\n",
    "        self.dt = 0.04\n",
    "        self.slope = None\n",
    "        self.zigzag = None\n",
    "        self.ring_radius = 1.0\n",
    "\n",
    "    def get_color(self):\n",
    "        \"\"\"\n",
    "        If desired, change these three numbers - RGB values between\n",
    "        0 and 1 - to change the color of your drone.\n",
    "        \"\"\"\n",
    "        return [\n",
    "            0., # <-- how much red (between 0 and 1)\n",
    "            1., # <-- how much green (between 0 and 1)\n",
    "            0., # <-- how much blue (between 0 and 1)\n",
    "        ]\n",
    "\n",
    "    def reset(\n",
    "            self,\n",
    "            p_x, p_y, p_z, # <-- approximate initial position of drone (meters)\n",
    "            yaw,           # <-- approximate initial yaw angle of drone (radians)\n",
    "        ):\n",
    "        \"\"\"\n",
    "        Replace the following line (a placeholder) with your\n",
    "        own code.\n",
    "        \"\"\"\n",
    "        self.p_x = p_x\n",
    "        self.p_y = p_y\n",
    "        self.p_z = p_z\n",
    "        self.yaw = yaw\n",
    "        self.xhat = np.array([p_x, p_y, p_z, yaw, 0.0, 0.0, 0.0, 0.0, 0.0, 0.0, 0.0, 0.0])\n",
    "        self.passed_rings = []\n",
    "        self.passed_checkpoints = []\n",
    "        self.next_checkpoints = []\n",
    "    def run(\n",
    "            self,\n",
    "            pos_markers,\n",
    "            pos_ring,\n",
    "            dir_ring,\n",
    "            is_last_ring,\n",
    "            pos_others,\n",
    "        ):\n",
    "        \"\"\"\n",
    "        pos_markers is a 1d array of length 6:\n",
    "        \n",
    "            [\n",
    "                measured x position of marker on left rotor (meters),\n",
    "                measured y position of marker on left rotor (meters),\n",
    "                measured z position of marker on left rotor (meters),\n",
    "                measured x position of marker on right rotor (meters),\n",
    "                measured y position of marker on right rotor (meters),\n",
    "                measured z position of marker on right rotor (meters),\n",
    "            ]\n",
    "        \n",
    "        pos_ring is a 1d array of length 3:\n",
    "        \n",
    "            [\n",
    "                x position of next ring center (meters),\n",
    "                y position of next ring center (meters),\n",
    "                z position of next ring center (meters),\n",
    "            ]\n",
    "        \n",
    "        dir_ring is a 1d array of length 3:\n",
    "        \n",
    "            [\n",
    "                x component of vector normal to next ring (meters),\n",
    "                y component of vector normal to next ring (meters),\n",
    "                z component of vector normal to next ring (meters),\n",
    "            ]\n",
    "        \n",
    "        is_last_ring is a boolean that is True if the next ring is the\n",
    "                     last ring, and False otherwise\n",
    "        \n",
    "        pos_others is a 2d array of size n x 3, where n is the number of\n",
    "                   all other active drones:\n",
    "            \n",
    "            [\n",
    "                [x_1, y_1, z_1], # <-- position of 1st drone (meters)\n",
    "                [x_2, y_2, z_2], # <-- position of 2nd drone (meters)\n",
    "                \n",
    "                ...\n",
    "                \n",
    "                [x_n, y_n, z_n], # <-- position of nth drone (meters)\n",
    "            ]      \n",
    "        \"\"\"\n",
    "\n",
    "        def reached_destination(xhat, goal):\n",
    "            return np.linalg.norm(xhat - goal) < 0.75\n",
    "        \n",
    "        def get_next_checkpoint(ring_pos, current_checkpoint_pos, ring_radius, forward):\n",
    "            # Calculate the slope of the line connecting the current ring and checkpoint\n",
    "            slope = (current_checkpoint_pos[1] - ring_pos[1]) / (current_checkpoint_pos[0] - ring_pos[0])\n",
    "            # Calculate the x and y coordinates of the next checkpoint\n",
    "            if (forward):\n",
    "                x_next = ring_pos[0] + self.ring_radius\n",
    "                y_next = ring_pos[1] + slope * ring_radius\n",
    "            else:\n",
    "                x_next = ring_pos[0] - self.ring_radius\n",
    "                y_next = ring_pos[1] - slope * ring_radius\n",
    "            return np.array([x_next, y_next, ring_pos[2]])\n",
    "        \n",
    "        def get_drone_dir(initial_pos, goal):\n",
    "            dir = np.array([goal[0] - initial_pos[0], goal[1] - initial_pos[1], goal[2] - initial_pos[2]])\n",
    "            return dir / np.linalg.norm(dir)\n",
    "        \n",
    "        def turning(direction):\n",
    "            threshold = 0.1\n",
    "            if direction == \"x\":\n",
    "                return abs(self.xhat[6]) < threshold\n",
    "            elif direction == \"y\":\n",
    "                return abs(self.xhat[7]) < threshold\n",
    "            elif direction == \"z\":\n",
    "                return abs(self.xhat[8]) < threshold\n",
    "            else:\n",
    "                raise ValueError(\"Invalid direction. Choose 'x', 'y', or 'z'.\")\n",
    "\n",
    "        # Default x_des, moves towards the ring\n",
    "        x_des = np.array([*pos_ring, 0, 0, 0, 0, 0, 0, 0, 0, 0])\n",
    "\n",
    "        # Track the rings, save each ring location to self.passed_rings\n",
    "        dist_to_ring = np.linalg.norm(self.xhat[:3] - pos_ring)\n",
    "        if dist_to_ring < 1.0:\n",
    "            if len(self.passed_rings) == 0 or not np.allclose(pos_ring, self.passed_rings[-1], atol=1e-3):\n",
    "                self.passed_rings.append(pos_ring.copy()) # doesn't count the beginning blue ring\n",
    "            x_des[:3] += dir_ring * 5.0\n",
    "        \n",
    "        # If before ring 8, drone is moving forward, if after ring 8, drone is moving backward\n",
    "        forward = True\n",
    "        if (len(self.passed_rings) >= 8):\n",
    "            forward = False\n",
    "\n",
    "        # Ensure drone rises above initial blue ring quickly\n",
    "        if (self.xhat[2] < 2.0 and len(self.passed_checkpoints) == 0):\n",
    "            checkpoint = np.array([self.p_x, self.p_y, 1.0])\n",
    "            x_des[:3] = checkpoint + np.array([0, 0, 9.0])\n",
    "            if reached_destination(self.xhat[:3], checkpoint):\n",
    "                self.passed_checkpoints.append(self.xhat[:3].copy())\n",
    "                self.next_checkpoints.append(self.xhat[:3].copy())\n",
    "                print(\"Checkpoint 0 reached\")\n",
    "        \n",
    "        # Ring 1\n",
    "        if (len(self.passed_rings) == 0 and len(self.passed_checkpoints) == 1):\n",
    "            x_des[:3] = pos_ring + get_drone_dir(self.passed_checkpoints[-1], pos_ring) * 4.5 # Overshoot here\n",
    "        \n",
    "        if (len(self.passed_rings) == 1 and turning(\"y\") and len(self.passed_checkpoints) == 1):\n",
    "            print(\"Turning!!\")\n",
    "            print(\"Checkpoint 1 reached\")\n",
    "            self.passed_checkpoints.append(self.xhat[:3].copy())\n",
    "            self.next_checkpoints.append(self.xhat[:3].copy())\n",
    "\n",
    "        if (len(self.passed_rings) == 1 and len(self.passed_checkpoints) == 2):\n",
    "            x_des[:3] = pos_ring + np.array([0, 0, 0.75]) + get_drone_dir(self.passed_checkpoints[-1], pos_ring) * 2.0 # Overshoot here, max 2.0\n",
    "\n",
    "        # To get to first checkpoint after first zigzag ring, entering zigzag rings\n",
    "        if len(self.passed_rings) == 2 and len(self.passed_checkpoints) == 2: \n",
    "            self.slope = (self.passed_rings[-1][1] - self.passed_rings[-2][1]) / (self.passed_rings[-1][0] - self.passed_rings[-2][0])\n",
    "            self.zigzag = np.array([self.ring_radius, self.slope * self.ring_radius, 0])\n",
    "            checkpoint = self.passed_rings[-1][:3] + self.zigzag\n",
    "            x_des[:3] = checkpoint + np.array([0, 0, 0.75]) + get_drone_dir(self.passed_rings[-1], checkpoint) * 3.0 # Overshoot here\n",
    "            if reached_destination(self.xhat[:3], checkpoint):\n",
    "                print(\"Checkpoint 2 reached\")\n",
    "                self.passed_checkpoints.append(checkpoint.copy())\n",
    "                self.next_checkpoints.append(checkpoint.copy())\n",
    "                next_checkpoint = get_next_checkpoint(pos_ring, checkpoint, self.ring_radius, forward)\n",
    "                self.next_checkpoints.append(next_checkpoint.copy())\n",
    "\n",
    "        # Approaching ring 3\n",
    "        if (len(self.passed_checkpoints) == 3):\n",
    "            x_des[:3] = self.next_checkpoints[-1] + np.array([0, 0, 0.75]) + (get_drone_dir(self.passed_checkpoints[-1], pos_ring)) * 4.0 # Overshoot here\n",
    "            if reached_destination(self.xhat[:3], self.next_checkpoints[-1]):\n",
    "                print(\"Checkpoint 3 reached\")\n",
    "                self.passed_checkpoints.append(self.next_checkpoints[-1].copy())\n",
    "                self.next_checkpoints.append(get_next_checkpoint(pos_ring, self.next_checkpoints[-1], self.ring_radius, forward))\n",
    "\n",
    "        # Approaching ring 4\n",
    "        if (len(self.passed_checkpoints) == 4):\n",
    "            x_des[:3] = self.next_checkpoints[-1] + np.array([0, 0, 0.75]) + get_drone_dir(self.passed_checkpoints[-1], pos_ring) * 3.5 # Overshoot here\n",
    "            if reached_destination(self.xhat[:3], self.next_checkpoints[-1]):\n",
    "                print(\"Checkpoint 4 reached\")\n",
    "                self.passed_checkpoints.append(self.next_checkpoints[-1].copy())\n",
    "                self.next_checkpoints.append(get_next_checkpoint(pos_ring, self.next_checkpoints[-1], self.ring_radius, forward))\n",
    "        \n",
    "        # Approaching ring 5\n",
    "        if (len(self.passed_checkpoints) == 5):\n",
    "            x_des[:3] = self.next_checkpoints[-1] + np.array([0, 0, 0.75]) + get_drone_dir(self.passed_checkpoints[-1], pos_ring) * 3.5 # Overshoot here\n",
    "            if reached_destination(self.xhat[:3], self.next_checkpoints[-1]):\n",
    "                print(\"Checkpoint 5 reached\")\n",
    "                self.passed_checkpoints.append(self.next_checkpoints[-1].copy())\n",
    "                self.next_checkpoints.append(get_next_checkpoint(pos_ring, self.next_checkpoints[-1], self.ring_radius, forward))\n",
    "        \n",
    "        # Approaching ring 6\n",
    "        if (len(self.passed_rings) == 5 and len(self.passed_checkpoints) == 6):\n",
    "            x_des[:3] = pos_ring + np.array([0, 0, 0.75]) + get_drone_dir(self.passed_checkpoints[-1], pos_ring) * 3.5 # Overshoot here\n",
    "\n",
    "        # Approaching ring 7\n",
    "        if (len(self.passed_rings) == 6 and len(self.passed_checkpoints) == 6 and all(self.passed_rings[-1] != pos_ring)):\n",
    "            x_des[:3] = pos_ring + np.array([0, 0, 0.75]) + get_drone_dir(self.passed_rings[-1], pos_ring) * 4.0 # Overshoot here\n",
    "\n",
    "        if (len(self.passed_rings) == 7 and len(self.passed_checkpoints) == 6):\n",
    "            checkpoint = np.array([self.passed_rings[-1][0] + 0.75, self.passed_rings[-1][1], self.passed_rings[-1][2]])\n",
    "            x_des[:3] = checkpoint + np.array([3.5, 0, 0]) # Overshoot here\n",
    "            if (reached_destination(self.xhat[:3], checkpoint)):\n",
    "                print(\"Checkpoint 6 reached\")\n",
    "                self.passed_checkpoints.append(checkpoint.copy())\n",
    "                \n",
    "        if (len(self.passed_rings) == 7 and len(self.passed_checkpoints) == 7):\n",
    "            checkpoint = np.array([pos_ring[0] + 1.0, pos_ring[1], pos_ring[2]]) ## For some reason, only pos_ring[0] + 1.0 and above works\n",
    "            x_des[:3] = checkpoint + np.array([0, 2.0, 0]) ## Don't go above 2.0 # Overshoot here\n",
    "            if (reached_destination(self.xhat[:3], checkpoint)):\n",
    "                print(\"Checkpoint 7 reached\")\n",
    "                self.passed_checkpoints.append(checkpoint.copy())\n",
    "        if (len(self.passed_rings) == 7 and len(self.passed_checkpoints) == 8):\n",
    "            x_des[:3] = pos_ring + dir_ring * 4.0 # Overshoot here\n",
    "\n",
    "        if (len(self.passed_rings) == 8 and len(self.passed_checkpoints) == 8):\n",
    "            x_des[:3] = pos_ring + get_drone_dir(self.passed_checkpoints[-1], pos_ring) * 4.5 # Overshoot here\n",
    "\n",
    "        if (len(self.passed_rings) == 8 and turning(\"y\") and len(self.passed_checkpoints) == 8):\n",
    "            print(\"Turning!!\")\n",
    "            print(\"Checkpoint 8 reached\")\n",
    "            self.passed_checkpoints.append(self.xhat[:3].copy())\n",
    "            self.next_checkpoints.append(self.xhat[:3].copy())\n",
    "\n",
    "        if (len(self.passed_rings) == 8 and len(self.passed_checkpoints) == 9):\n",
    "            x_des[:3] = pos_ring + np.array([0, 0, 0.25]) + get_drone_dir(self.passed_checkpoints[-1], pos_ring) * 2.5 # Overshoot here\n",
    "\n",
    "        if len(self.passed_rings) == 9 and len(self.passed_checkpoints) == 9:\n",
    "            self.slope = (self.passed_rings[-1][1] - self.passed_rings[-2][1]) / (self.passed_rings[-1][0] - self.passed_rings[-2][0])\n",
    "            self.zigzag = np.array([self.ring_radius, self.slope * self.ring_radius, 0])\n",
    "            checkpoint = self.passed_rings[-1] - self.zigzag\n",
    "            x_des[:3] = checkpoint + np.array([0, 0, 0.75]) + get_drone_dir(self.passed_rings[-1], checkpoint) * 4.0 # Overshoot here\n",
    "            if reached_destination(self.xhat[:3], checkpoint):\n",
    "                print(\"Checkpoint 9 reached\")\n",
    "                self.passed_checkpoints.append(checkpoint.copy())\n",
    "                self.next_checkpoints.append(checkpoint.copy())\n",
    "                next_checkpoint = get_next_checkpoint(pos_ring, checkpoint, self.ring_radius, forward)\n",
    "                self.next_checkpoints.append(next_checkpoint.copy())\n",
    "\n",
    "        if (len(self.passed_checkpoints) == 10):\n",
    "            x_des[:3] = self.next_checkpoints[-1] + np.array([0, 0, 0.75]) + (get_drone_dir(self.passed_checkpoints[-1], pos_ring)) * 4.0 # Overshoot here\n",
    "            if reached_destination(self.xhat[:3], self.next_checkpoints[-1]):\n",
    "                print(\"Checkpoint 10 reached\")\n",
    "                self.passed_checkpoints.append(self.next_checkpoints[-1].copy())\n",
    "                self.next_checkpoints.append(get_next_checkpoint(pos_ring, self.next_checkpoints[-1], self.ring_radius, forward))\n",
    "\n",
    "        if (len(self.passed_checkpoints) == 11):\n",
    "            x_des[:3] = self.next_checkpoints[-1] + np.array([0, 0, 0.75]) + (get_drone_dir(self.passed_checkpoints[-1], pos_ring)) * 3.5 # Overshoot here\n",
    "            if reached_destination(self.xhat[:3], self.next_checkpoints[-1]):\n",
    "                print(\"Checkpoint 11 reached\")\n",
    "                self.passed_checkpoints.append(self.next_checkpoints[-1].copy())\n",
    "                self.next_checkpoints.append(get_next_checkpoint(pos_ring, self.next_checkpoints[-1], self.ring_radius, forward))\n",
    "        \n",
    "        if (len(self.passed_checkpoints) == 12):\n",
    "            x_des[:3] = self.next_checkpoints[-1] + np.array([0, 0, 0.75]) + (get_drone_dir(self.passed_checkpoints[-1], pos_ring)) * 3.5 # Overshoot here\n",
    "            if reached_destination(self.xhat[:3], self.next_checkpoints[-1]):\n",
    "                print(\"Checkpoint 12 reached\")\n",
    "                self.passed_checkpoints.append(self.next_checkpoints[-1].copy())\n",
    "                self.next_checkpoints.append(get_next_checkpoint(pos_ring, self.next_checkpoints[-1], self.ring_radius, forward))\n",
    "        \n",
    "        if (len(self.passed_rings) == 12 and len(self.passed_checkpoints) == 13):\n",
    "            x_des[:3] = pos_ring + get_drone_dir(self.passed_checkpoints[-1], pos_ring) * 4.0 # Overshoot here\n",
    "\n",
    "        if (len(self.passed_rings) == 13 and all(self.passed_rings[-1] != pos_ring)):\n",
    "            x_des[:3] = pos_ring + get_drone_dir(self.passed_rings[-1], pos_ring) * 4.0 # Overshoot here\n",
    "        \n",
    "        if (is_last_ring):\n",
    "            if (len(self.passed_checkpoints) == 13):\n",
    "                R = 2.5\n",
    "                checkpoint = np.array([0, 0, 1.5])\n",
    "                x_des[:3] = checkpoint + get_drone_dir(self.passed_rings[-1], checkpoint) * 3.0 # Overshoot here\n",
    "                if (self.xhat[0] < R*np.sqrt(2)/2 and self.xhat[1] > -R*np.sqrt(2)/2):\n",
    "                    print(\"Checkpoint 13 reached\")\n",
    "                    self.passed_checkpoints.append(checkpoint.copy())\n",
    "            else:\n",
    "                x_des[:3] = np.array([0, 0, -50])\n",
    "\n",
    "        u = -K @ (self.xhat - x_des)\n",
    "        tau_x = u[0]\n",
    "        tau_y = u[1]\n",
    "        tau_z = u[2]\n",
    "        f_z = u[3] + n_e[3][0]\n",
    "\n",
    "        y = np.array(pos_markers)\n",
    "\n",
    "        x_hatdot = A @ self.xhat + B @ u - L @ (C @ self.xhat - y)\n",
    "        self.xhat += + x_hatdot.flatten() * self.dt\n",
    "\n",
    "        return tau_x, tau_y, tau_z, f_z"
   ]
  },
  {
   "cell_type": "markdown",
   "id": "9f1dd2ee",
   "metadata": {},
   "source": [
    "Add the drone to the simulator. There are three arguments:\n",
    "\n",
    "* `Controller` is the class definition\n",
    "* `'template'` is the name of the drone\n",
    "* `'template.png'` is the name of an image to use as a label (can be `None`, can be a file path)\n",
    "\n",
    "You can call this function more than once, so long as you call it with a different drone name each time. An exception will be raised if you try to add two drones of the same name to the simulator."
   ]
  },
  {
   "cell_type": "code",
   "execution_count": 52,
   "id": "164c306e",
   "metadata": {},
   "outputs": [
    {
     "name": "stdout",
     "output_type": "stream",
     "text": [
      "You can open the visualizer by visiting the following URL:\n",
      "http://127.0.0.1:7009/static/\n"
     ]
    }
   ],
   "source": [
    "# Add a drone to the simulator\n",
    "simulator.add_drone(Controller, 'template', 'template.png')\n",
    "\n",
    "simulator.add_drone_view(\n",
    "    'drone_view',    # name of view (must be unique)\n",
    "    'template',         # name of drone\n",
    "    yaw=0.,             # yaw angle in degrees (0 looks forward, 180 looks backward, etc.)\n",
    "    pitch=15.,          # pitch angle in degrees,\n",
    "    distance=4.,        # how far away the camera is from the center of the drone\n",
    ")"
   ]
  },
  {
   "cell_type": "markdown",
   "id": "basic-variance",
   "metadata": {},
   "source": [
    "Reset the drone (i.e., place it at a random location in the start ring)."
   ]
  },
  {
   "cell_type": "code",
   "execution_count": 53,
   "id": "scientific-friendly",
   "metadata": {},
   "outputs": [],
   "source": [
    "simulator.reset()"
   ]
  },
  {
   "cell_type": "markdown",
   "id": "dress-product",
   "metadata": {},
   "source": [
    "Run simulation until `max_time` is reached or until the drone has either reached the finish ring or been disqualified."
   ]
  },
  {
   "cell_type": "code",
   "execution_count": 54,
   "id": "streaming-narrative",
   "metadata": {},
   "outputs": [
    {
     "name": "stdout",
     "output_type": "stream",
     "text": [
      "Checkpoint 0 reached\n",
      "Turning!!\n",
      "Checkpoint 1 reached\n",
      "Checkpoint 2 reached\n",
      "Checkpoint 3 reached\n",
      "Checkpoint 4 reached\n",
      "Checkpoint 5 reached\n",
      "Checkpoint 6 reached\n",
      "Checkpoint 7 reached\n",
      "Turning!!\n",
      "Checkpoint 8 reached\n",
      "Checkpoint 9 reached\n",
      "Checkpoint 10 reached\n",
      "Checkpoint 11 reached\n",
      "Checkpoint 12 reached\n",
      "Checkpoint 13 reached\n",
      "FINISHED: drone \"template\" at time 43.64\n",
      "Simulated 1092 time steps in 43.6884 seconds (24.9952 time steps per second)\n"
     ]
    }
   ],
   "source": [
    "simulator.run(\n",
    "    max_time=180.,       # <-- if None, then simulation will run until all drones fail or finish\n",
    "    print_debug=True,  # <-- if False, then nothing will be printed (good for data collection)\n",
    ")"
   ]
  },
  {
   "cell_type": "markdown",
   "id": "registered-faith",
   "metadata": {},
   "source": [
    "## Example of how to get and plot results\n",
    "\n",
    "Assume that we already did two things:\n",
    "\n",
    "* Added a drone with the name `template` to the simulator\n",
    "* Ran the simulation"
   ]
  },
  {
   "cell_type": "markdown",
   "id": "ec57964f",
   "metadata": {},
   "source": [
    "Get result."
   ]
  },
  {
   "cell_type": "code",
   "execution_count": 55,
   "id": "e41d5a61",
   "metadata": {},
   "outputs": [],
   "source": [
    "(\n",
    "    did_it_fail,\n",
    "    did_it_finish,\n",
    "    what_time_did_it_finish,\n",
    ") = simulator.get_result('template')"
   ]
  },
  {
   "cell_type": "markdown",
   "id": "8967e6bd",
   "metadata": {},
   "source": [
    "Show result."
   ]
  },
  {
   "cell_type": "code",
   "execution_count": 56,
   "id": "7d2272c6",
   "metadata": {},
   "outputs": [
    {
     "name": "stdout",
     "output_type": "stream",
     "text": [
      "The drone finished at time 43.64\n"
     ]
    }
   ],
   "source": [
    "if did_it_fail:\n",
    "    print('The drone failed before finishing.')\n",
    "elif did_it_finish:\n",
    "    print(f'The drone finished at time {what_time_did_it_finish}')\n",
    "else:\n",
    "    print('The drone did not finish (yet).')"
   ]
  },
  {
   "cell_type": "markdown",
   "id": "polished-advisory",
   "metadata": {},
   "source": [
    "Get data."
   ]
  },
  {
   "cell_type": "code",
   "execution_count": 57,
   "id": "liked-handle",
   "metadata": {},
   "outputs": [],
   "source": [
    "data = simulator.get_data('template')"
   ]
  },
  {
   "cell_type": "markdown",
   "id": "cognitive-nomination",
   "metadata": {},
   "source": [
    "Plot data."
   ]
  },
  {
   "cell_type": "code",
   "execution_count": 58,
   "id": "57d41980",
   "metadata": {},
   "outputs": [
    {
     "data": {
      "image/png": "[encoded data removed]",
      "text/plain": [
       "<Figure size 1200x1200 with 4 Axes>"
      ]
     },
     "metadata": {},
     "output_type": "display_data"
    }
   ],
   "source": [
    "# Create a figure with subplots that all share the same x-axis\n",
    "fig, (ax_meas, ax_pos, ax_ori, ax_act) = plt.subplots(4, 1, figsize=(12, 12), sharex=True)\n",
    "\n",
    "# Measurements\n",
    "ax_meas.plot(data['t'], data['pos_markers'][:, 0], '.', markersize=4, label=r'$p_{L, x}$')\n",
    "ax_meas.plot(data['t'], data['pos_markers'][:, 1], '.', markersize=4, label=r'$p_{L, y}$')\n",
    "ax_meas.plot(data['t'], data['pos_markers'][:, 2], '.', markersize=4, label=r'$p_{L, z}$')\n",
    "ax_meas.plot(data['t'], data['pos_markers'][:, 3], '.', markersize=4, label=r'$p_{R, x}$')\n",
    "ax_meas.plot(data['t'], data['pos_markers'][:, 4], '.', markersize=4, label=r'$p_{R, y}$')\n",
    "ax_meas.plot(data['t'], data['pos_markers'][:, 5], '.', markersize=4, label=r'$p_{R, z}$')\n",
    "ax_meas.grid()\n",
    "ax_meas.legend(fontsize=16, bbox_to_anchor=(1., 1.))\n",
    "ax_meas.tick_params(labelsize=14)\n",
    "\n",
    "# Position\n",
    "ax_pos.plot(data['t'], data['p_x'], label='x (m)', linewidth=3, color='C0')\n",
    "ax_pos.plot(data['t'], data['p_y'], label='y (m)', linewidth=3, color='C1')\n",
    "ax_pos.plot(data['t'], data['p_z'], label='z (m)', linewidth=3, color='C2')\n",
    "ax_pos.grid()\n",
    "ax_pos.legend(fontsize=16, bbox_to_anchor=(1., 1.))\n",
    "ax_pos.tick_params(labelsize=14)\n",
    "\n",
    "# Orientation\n",
    "ax_ori.plot(data['t'], data['yaw'], label='yaw (rad)', linewidth=3)\n",
    "ax_ori.plot(data['t'], data['pitch'], label='pitch (rad)', linewidth=3)\n",
    "ax_ori.plot(data['t'], data['roll'], label='roll (rad)', linewidth=3)\n",
    "ax_ori.grid()\n",
    "ax_ori.legend(fontsize=16, bbox_to_anchor=(1., 1.))\n",
    "ax_ori.tick_params(labelsize=14)\n",
    "\n",
    "# Actuator commands\n",
    "ax_act.plot(data['t'], data['tau_x'], label='tau_x (N-m)', linewidth=4)\n",
    "ax_act.plot(data['t'], data['tau_x_cmd'], '--', label='commanded tau_x (N-m)', linewidth=4)\n",
    "ax_act.plot(data['t'], data['tau_y'], label='tau_y (N-m)', linewidth=4)\n",
    "ax_act.plot(data['t'], data['tau_y_cmd'], '--', label='commanded tau_y (N-m)', linewidth=4)\n",
    "ax_act.plot(data['t'], data['tau_z'], label='tau_z (N-m)', linewidth=4)\n",
    "ax_act.plot(data['t'], data['tau_z_cmd'], '--', label='commanded tau_z (N-m)', linewidth=4)\n",
    "ax_act.plot(data['t'], data['f_z'] - (0.5 * 9.81), label='f_z - m g (N)', linewidth=4) # <-- FIXME\n",
    "ax_act.plot(data['t'], data['f_z_cmd'] - (0.5 * 9.81), '--', label='commanded f_z - m g (N)', linewidth=4) # <-- FIXME\n",
    "ax_act.grid()\n",
    "ax_act.legend(fontsize=16, bbox_to_anchor=(1., 1.))\n",
    "ax_act.tick_params(labelsize=14)\n",
    "\n",
    "# Set shared x-axis properties\n",
    "ax_act.set_xlabel('time (s)', fontsize=20)\n",
    "ax_act.set_xlim([data['t'][0], data['t'][-1]])\n",
    "\n",
    "# Make the arrangement of subplots look nice\n",
    "fig.tight_layout()\n",
    "plt.show()"
   ]
  },
  {
   "cell_type": "markdown",
   "id": "03d089f6",
   "metadata": {},
   "source": [
    "Save the figure (without transparent background). Here are some best practices:\n",
    "\n",
    "* Use the extension `.png` for rasterized, low-res images (e.g., to include in a notebook or on a website).\n",
    "* Use the extension `.pdf` for vectorized, high-res images (e.g., to include in a report)."
   ]
  },
  {
   "cell_type": "code",
   "execution_count": 59,
   "id": "8a97dcec",
   "metadata": {},
   "outputs": [],
   "source": [
    "fig.savefig('my_figure.png', facecolor='white', transparent=False)"
   ]
  },
  {
   "cell_type": "markdown",
   "id": "0439cf3a",
   "metadata": {},
   "source": [
    "Plot histogram of controller run times."
   ]
  },
  {
   "cell_type": "code",
   "execution_count": 60,
   "id": "4921eddc",
   "metadata": {},
   "outputs": [
    {
     "data": {
      "image/png": "[encoded data removed]",
      "text/plain": [
       "<Figure size 640x480 with 1 Axes>"
      ]
     },
     "metadata": {},
     "output_type": "display_data"
    }
   ],
   "source": [
    "plt.hist(data['run_time'])\n",
    "plt.ticklabel_format(style='scientific', scilimits=(0, 0), axis='x')\n",
    "plt.tick_params(labelsize=14)\n",
    "plt.xlabel('run time (s)', fontsize=14)\n",
    "plt.ylabel('count', fontsize=14)\n",
    "plt.tight_layout()\n",
    "plt.show()"
   ]
  },
  {
   "cell_type": "markdown",
   "id": "9155e43b",
   "metadata": {},
   "source": [
    "Note that it is required to also plot state estimates (in comparison to states) in order to check that your observer is working - no example is provided here, since no state estimates are being generated by the template `Controller` class."
   ]
  },
  {
   "cell_type": "markdown",
   "id": "secondary-condition",
   "metadata": {},
   "source": [
    "## Example of how to load drones from the \"students\" directory"
   ]
  },
  {
   "cell_type": "markdown",
   "id": "2cb89282",
   "metadata": {},
   "source": [
    "Clear all drones."
   ]
  },
  {
   "cell_type": "code",
   "execution_count": 61,
   "id": "9658851c",
   "metadata": {},
   "outputs": [],
   "source": [
    "simulator.clear_drones()"
   ]
  },
  {
   "cell_type": "markdown",
   "id": "proprietary-camel",
   "metadata": {},
   "source": [
    "Load drones from `students` directory."
   ]
  },
  {
   "cell_type": "code",
   "execution_count": 62,
   "id": "adolescent-anime",
   "metadata": {},
   "outputs": [
    {
     "name": "stdout",
     "output_type": "stream",
     "text": [
      "Try to import controllers from the directory \"./students\":\n",
      " ./students/template.py\n",
      "\n",
      "\n",
      "The following controllers failed to import and were ignored:\n",
      "\n"
     ]
    }
   ],
   "source": [
    "failures = simulator.load_drones()"
   ]
  },
  {
   "cell_type": "markdown",
   "id": "progressive-catch",
   "metadata": {},
   "source": [
    "Reset drones (places drones at random positions within the start ring)."
   ]
  },
  {
   "cell_type": "code",
   "execution_count": 63,
   "id": "noted-filter",
   "metadata": {},
   "outputs": [],
   "source": [
    "simulator.reset()"
   ]
  },
  {
   "cell_type": "markdown",
   "id": "broke-water",
   "metadata": {},
   "source": [
    "Run simulation for `max_time` seconds or until all drones finish."
   ]
  },
  {
   "cell_type": "code",
   "execution_count": 64,
   "id": "russian-thunder",
   "metadata": {},
   "outputs": [
    {
     "ename": "KeyboardInterrupt",
     "evalue": "",
     "output_type": "error",
     "traceback": [
      "\u001b[31m---------------------------------------------------------------------------\u001b[39m",
      "\u001b[31mKeyboardInterrupt\u001b[39m                         Traceback (most recent call last)",
      "\u001b[36mCell\u001b[39m\u001b[36m \u001b[39m\u001b[32mIn[64]\u001b[39m\u001b[32m, line 1\u001b[39m\n\u001b[32m----> \u001b[39m\u001b[32m1\u001b[39m \u001b[43msimulator\u001b[49m\u001b[43m.\u001b[49m\u001b[43mrun\u001b[49m\u001b[43m(\u001b[49m\u001b[43mmax_time\u001b[49m\u001b[43m=\u001b[49m\u001b[32;43m5.0\u001b[39;49m\u001b[43m)\u001b[49m\n",
      "\u001b[36mFile \u001b[39m\u001b[32m~/Library/CloudStorage/OneDrive-UniversityofIllinois-Urbana/Courses/24-25/Spring 2025/AE 353/ae353-sp25/projects/04_drone/ae353_drone.py:840\u001b[39m, in \u001b[36mrun\u001b[39m\u001b[34m(self, max_time, videos, print_debug)\u001b[39m\n\u001b[32m      0\u001b[39m <Error retrieving source code with stack_data see ipython/ipython#13598>\n",
      "\u001b[36mFile \u001b[39m\u001b[32m~/Library/CloudStorage/OneDrive-UniversityofIllinois-Urbana/Courses/24-25/Spring 2025/AE 353/ae353-sp25/projects/04_drone/ae353_drone.py:1108\u001b[39m, in \u001b[36mstep\u001b[39m\u001b[34m(self, print_debug)\u001b[39m\n\u001b[32m   1106\u001b[39m     \u001b[38;5;28;01mwhile\u001b[39;00m time_to_wait > \u001b[32m0\u001b[39m:\n\u001b[32m   1107\u001b[39m         time.sleep(\u001b[32m0.9\u001b[39m * time_to_wait)\n\u001b[32m-> \u001b[39m\u001b[32m1108\u001b[39m         time_to_wait = t - time.time()\n\u001b[32m   1110\u001b[39m \u001b[38;5;66;03m# take a simulation step\u001b[39;00m\n\u001b[32m   1111\u001b[39m \u001b[38;5;28mself\u001b[39m.bullet_client.stepSimulation()\n",
      "\u001b[31mKeyboardInterrupt\u001b[39m: "
     ]
    }
   ],
   "source": [
    "simulator.run(max_time=5.0)"
   ]
  },
  {
   "cell_type": "markdown",
   "id": "small-nation",
   "metadata": {},
   "source": [
    "## Example of how to show results and keep running"
   ]
  },
  {
   "cell_type": "markdown",
   "id": "engaged-award",
   "metadata": {},
   "source": [
    "Show results (so far)."
   ]
  },
  {
   "cell_type": "code",
   "execution_count": null,
   "id": "exclusive-orlando",
   "metadata": {},
   "outputs": [
    {
     "name": "stdout",
     "output_type": "stream",
     "text": [
      "FINISHED\n",
      "\n",
      "STILL RUNNING\n",
      " template            \n",
      "\n",
      "FAILED\n"
     ]
    }
   ],
   "source": [
    "simulator.show_results()"
   ]
  },
  {
   "cell_type": "markdown",
   "id": "american-corpus",
   "metadata": {},
   "source": [
    "Continue running simulation from same point for `max_time` seconds or until all drones either finish or are disqualified."
   ]
  },
  {
   "cell_type": "code",
   "execution_count": null,
   "id": "known-retail",
   "metadata": {},
   "outputs": [],
   "source": [
    "simulator.run(max_time=10.0)"
   ]
  },
  {
   "cell_type": "markdown",
   "id": "engaged-indonesian",
   "metadata": {},
   "source": [
    "Show results (so far)."
   ]
  },
  {
   "cell_type": "code",
   "execution_count": null,
   "id": "minor-superintendent",
   "metadata": {},
   "outputs": [
    {
     "name": "stdout",
     "output_type": "stream",
     "text": [
      "FINISHED\n",
      "\n",
      "STILL RUNNING\n",
      "\n",
      "FAILED\n",
      " template            \n"
     ]
    }
   ],
   "source": [
    "simulator.show_results()"
   ]
  },
  {
   "cell_type": "markdown",
   "id": "earned-somewhere",
   "metadata": {},
   "source": [
    "## Example of how to clear and reload drones"
   ]
  },
  {
   "cell_type": "markdown",
   "id": "civilian-interface",
   "metadata": {},
   "source": [
    "Clear all drones."
   ]
  },
  {
   "cell_type": "code",
   "execution_count": null,
   "id": "economic-miller",
   "metadata": {},
   "outputs": [],
   "source": [
    "simulator.clear_drones()"
   ]
  },
  {
   "cell_type": "markdown",
   "id": "smoking-animation",
   "metadata": {},
   "source": [
    "Load drones again from `students` directory."
   ]
  },
  {
   "cell_type": "code",
   "execution_count": null,
   "id": "rental-member",
   "metadata": {},
   "outputs": [
    {
     "name": "stdout",
     "output_type": "stream",
     "text": [
      "Try to import controllers from the directory \"./students\":\n",
      " ./students/template.py\n",
      "\n",
      "\n",
      "The following controllers failed to import and were ignored:\n",
      "\n"
     ]
    }
   ],
   "source": [
    "failures = simulator.load_drones()"
   ]
  },
  {
   "cell_type": "markdown",
   "id": "democratic-advocacy",
   "metadata": {},
   "source": [
    "Reset drones (places drones at random positions within the start ring)."
   ]
  },
  {
   "cell_type": "code",
   "execution_count": null,
   "id": "every-times",
   "metadata": {},
   "outputs": [],
   "source": [
    "simulator.reset()"
   ]
  },
  {
   "cell_type": "markdown",
   "id": "special-camel",
   "metadata": {},
   "source": [
    "Run simulation until `max_time` is reached or until all drones finish."
   ]
  },
  {
   "cell_type": "code",
   "execution_count": null,
   "id": "present-analyst",
   "metadata": {},
   "outputs": [],
   "source": [
    "simulator.run(max_time=5.0)"
   ]
  },
  {
   "cell_type": "markdown",
   "id": "aquatic-saint",
   "metadata": {},
   "source": [
    "## Example of how to rearrange the rings"
   ]
  },
  {
   "cell_type": "markdown",
   "id": "natural-drunk",
   "metadata": {},
   "source": [
    "Rearrange the rings."
   ]
  },
  {
   "cell_type": "code",
   "execution_count": null,
   "id": "premium-mexico",
   "metadata": {},
   "outputs": [],
   "source": [
    "simulator.place_rings()"
   ]
  },
  {
   "cell_type": "markdown",
   "id": "allied-genealogy",
   "metadata": {},
   "source": [
    "Reset drones (places drones at random positions within the start ring)."
   ]
  },
  {
   "cell_type": "code",
   "execution_count": null,
   "id": "reasonable-writer",
   "metadata": {},
   "outputs": [],
   "source": [
    "simulator.reset()"
   ]
  },
  {
   "cell_type": "markdown",
   "id": "strange-provision",
   "metadata": {},
   "source": [
    "Run simulation until `max_time` is reached or until all drones finish."
   ]
  },
  {
   "cell_type": "code",
   "execution_count": null,
   "id": "narrative-worse",
   "metadata": {},
   "outputs": [],
   "source": [
    "simulator.run(max_time=5.0)"
   ]
  },
  {
   "cell_type": "markdown",
   "id": "dbf26e86",
   "metadata": {},
   "source": [
    "## Example of how to add and remove views"
   ]
  },
  {
   "cell_type": "markdown",
   "id": "53f8c9ec",
   "metadata": {},
   "source": [
    "Add another static view in a new browser window."
   ]
  },
  {
   "cell_type": "code",
   "execution_count": null,
   "id": "6c1a883d",
   "metadata": {},
   "outputs": [
    {
     "name": "stdout",
     "output_type": "stream",
     "text": [
      "You can open the visualizer by visiting the following URL:\n",
      "http://127.0.0.1:7005/static/\n"
     ]
    }
   ],
   "source": [
    "simulator.add_view(\n",
    "    'my_top_view',  # name of view (must be unique)\n",
    "    'top',          # type of view (start, top, right, left, or back)\n",
    ")"
   ]
  },
  {
   "cell_type": "markdown",
   "id": "3f5b7684",
   "metadata": {},
   "source": [
    "Add a view of a ring in a new browser window."
   ]
  },
  {
   "cell_type": "code",
   "execution_count": null,
   "id": "cac98247",
   "metadata": {},
   "outputs": [
    {
     "name": "stdout",
     "output_type": "stream",
     "text": [
      "You can open the visualizer by visiting the following URL:\n",
      "http://127.0.0.1:7006/static/\n"
     ]
    }
   ],
   "source": [
    "simulator.add_ring_view(\n",
    "    'my_ring_view', # name of view (must be unique)\n",
    "    1,              # index of ring (between 1 and 14)\n",
    "    yaw=180.,       # yaw angle in degrees (0 looks forward, 180 looks backward, etc.)\n",
    "    distance=2.5,   # how far away the camera is from the center of the ring\n",
    ")"
   ]
  },
  {
   "cell_type": "markdown",
   "id": "fff1f55e",
   "metadata": {},
   "source": [
    "Add a view of a drone in a new browser window."
   ]
  },
  {
   "cell_type": "code",
   "execution_count": null,
   "id": "28484af9",
   "metadata": {},
   "outputs": [
    {
     "name": "stdout",
     "output_type": "stream",
     "text": [
      "You can open the visualizer by visiting the following URL:\n",
      "http://127.0.0.1:7007/static/\n"
     ]
    }
   ],
   "source": [
    "simulator.add_drone_view(\n",
    "    'my_drone_view',    # name of view (must be unique)\n",
    "    'template',         # name of drone\n",
    "    yaw=0.,             # yaw angle in degrees (0 looks forward, 180 looks backward, etc.)\n",
    "    pitch=15.,          # pitch angle in degrees,\n",
    "    distance=2.,        # how far away the camera is from the center of the drone\n",
    ")"
   ]
  },
  {
   "cell_type": "markdown",
   "id": "97b08885",
   "metadata": {},
   "source": [
    "Reset drones (places drones at random positions within the start ring)."
   ]
  },
  {
   "cell_type": "code",
   "execution_count": null,
   "id": "18b19a39",
   "metadata": {},
   "outputs": [],
   "source": [
    "simulator.reset()"
   ]
  },
  {
   "cell_type": "markdown",
   "id": "037da711",
   "metadata": {},
   "source": [
    "Run simulation until `max_time` is reached or until all drones finish."
   ]
  },
  {
   "cell_type": "code",
   "execution_count": null,
   "id": "11dcfd91",
   "metadata": {},
   "outputs": [],
   "source": [
    "simulator.run(max_time=5.0)"
   ]
  },
  {
   "cell_type": "markdown",
   "id": "b02a9e79",
   "metadata": {},
   "source": [
    "Remove the top view. The browser window that contains this view will no longer be updated."
   ]
  },
  {
   "cell_type": "code",
   "execution_count": null,
   "id": "4ac5248f",
   "metadata": {},
   "outputs": [
    {
     "name": "stdout",
     "output_type": "stream",
     "text": [
      "Removed view \"my_top_view\" at url \"http://127.0.0.1:7005/static/\"\n"
     ]
    }
   ],
   "source": [
    "simulator.remove_view(\n",
    "    'my_top_view',      # name of view to remove\n",
    ")"
   ]
  },
  {
   "cell_type": "markdown",
   "id": "c83d18e7",
   "metadata": {},
   "source": [
    "Reset drones (places drones at random positions within the start ring). Notice that the top view isn't updated, because it no longer exists."
   ]
  },
  {
   "cell_type": "code",
   "execution_count": null,
   "id": "210c07b6",
   "metadata": {},
   "outputs": [],
   "source": [
    "simulator.reset()"
   ]
  },
  {
   "cell_type": "markdown",
   "id": "2fa8cb7b",
   "metadata": {},
   "source": [
    "Add another static view — from the right this time instead of from the top. This new view should appear in the same browser window that formerly contained the top view."
   ]
  },
  {
   "cell_type": "code",
   "execution_count": null,
   "id": "b379db25",
   "metadata": {},
   "outputs": [
    {
     "name": "stdout",
     "output_type": "stream",
     "text": [
      "You can open the visualizer by visiting the following URL:\n",
      "http://127.0.0.1:7005/static/\n"
     ]
    }
   ],
   "source": [
    "simulator.add_view(\n",
    "    'my_right_view',    # name of view (must be unique)\n",
    "    'right',            # type of view (start, top, right, left, or back)\n",
    ")"
   ]
  },
  {
   "cell_type": "markdown",
   "id": "b29937fd",
   "metadata": {},
   "source": [
    "Reset drones (places drones at random positions within the start ring). Notice that the (new) right view *is* updated,"
   ]
  },
  {
   "cell_type": "code",
   "execution_count": null,
   "id": "471253cf",
   "metadata": {},
   "outputs": [],
   "source": [
    "simulator.reset()"
   ]
  },
  {
   "cell_type": "markdown",
   "id": "realistic-virgin",
   "metadata": {},
   "source": [
    "## Example of how to take a snapshot"
   ]
  },
  {
   "cell_type": "markdown",
   "id": "instant-scott",
   "metadata": {},
   "source": [
    "Display a snapshot."
   ]
  },
  {
   "cell_type": "code",
   "execution_count": null,
   "id": "thrown-harvard",
   "metadata": {},
   "outputs": [
    {
     "ename": "Exception",
     "evalue": "display_meshcat must be True in order to take a snapshot",
     "output_type": "error",
     "traceback": [
      "\u001b[31m---------------------------------------------------------------------------\u001b[39m",
      "\u001b[31mException\u001b[39m                                 Traceback (most recent call last)",
      "\u001b[36mCell\u001b[39m\u001b[36m \u001b[39m\u001b[32mIn[42]\u001b[39m\u001b[32m, line 8\u001b[39m\n\u001b[32m      2\u001b[39m simulator.set_snapshot_size(\n\u001b[32m      3\u001b[39m     \u001b[32m640\u001b[39m, \u001b[38;5;66;03m# <-- width\u001b[39;00m\n\u001b[32m      4\u001b[39m     \u001b[32m480\u001b[39m, \u001b[38;5;66;03m# <-- height\u001b[39;00m\n\u001b[32m      5\u001b[39m )\n\u001b[32m      7\u001b[39m \u001b[38;5;66;03m# Get snapshot as height x width x 4 numpy array of RGBA values\u001b[39;00m\n\u001b[32m----> \u001b[39m\u001b[32m8\u001b[39m rgba = \u001b[43msimulator\u001b[49m\u001b[43m.\u001b[49m\u001b[43msnapshot\u001b[49m\u001b[43m(\u001b[49m\n\u001b[32m      9\u001b[39m \u001b[43m    \u001b[49m\u001b[33;43m'\u001b[39;49m\u001b[33;43mmy_start_view\u001b[39;49m\u001b[33;43m'\u001b[39;49m\u001b[43m,\u001b[49m\u001b[43m    \u001b[49m\u001b[38;5;66;43;03m# name of view from which to take a snapshot\u001b[39;49;00m\n\u001b[32m     10\u001b[39m \u001b[43m)\u001b[49m\n\u001b[32m     12\u001b[39m \u001b[38;5;66;03m# Display snapshot\u001b[39;00m\n\u001b[32m     13\u001b[39m plt.figure(figsize=(\u001b[32m8\u001b[39m, \u001b[32m8\u001b[39m))\n",
      "\u001b[36mFile \u001b[39m\u001b[32m~/Library/CloudStorage/OneDrive-UniversityofIllinois-Urbana/Courses/24-25/Spring 2025/AE 353/ae353-sp25/projects/04_drone/ae353_drone.py:1184\u001b[39m, in \u001b[36mSimulator.snapshot\u001b[39m\u001b[34m(self, view_name)\u001b[39m\n\u001b[32m   1182\u001b[39m \u001b[38;5;28;01mdef\u001b[39;00m\u001b[38;5;250m \u001b[39m\u001b[34msnapshot\u001b[39m(\u001b[38;5;28mself\u001b[39m, view_name):\n\u001b[32m   1183\u001b[39m     \u001b[38;5;28;01mif\u001b[39;00m \u001b[38;5;129;01mnot\u001b[39;00m \u001b[38;5;28mself\u001b[39m.display_meshcat:\n\u001b[32m-> \u001b[39m\u001b[32m1184\u001b[39m         \u001b[38;5;28;01mraise\u001b[39;00m \u001b[38;5;167;01mException\u001b[39;00m(\u001b[33m'\u001b[39m\u001b[33mdisplay_meshcat must be True in order to take a snapshot\u001b[39m\u001b[33m'\u001b[39m)\n\u001b[32m   1186\u001b[39m     view = \u001b[38;5;28mself\u001b[39m.get_view_by_name(view_name)\n\u001b[32m   1187\u001b[39m     \u001b[38;5;28;01mif\u001b[39;00m view \u001b[38;5;129;01mis\u001b[39;00m \u001b[38;5;28;01mNone\u001b[39;00m:\n",
      "\u001b[31mException\u001b[39m: display_meshcat must be True in order to take a snapshot"
     ]
    }
   ],
   "source": [
    "# Set the width and height of the snapshot (must be multiples of 16)\n",
    "simulator.set_snapshot_size(\n",
    "    640, # <-- width\n",
    "    480, # <-- height\n",
    ")\n",
    "\n",
    "# Get snapshot as height x width x 4 numpy array of RGBA values\n",
    "rgba = simulator.snapshot(\n",
    "    'my_start_view',    # name of view from which to take a snapshot\n",
    ")\n",
    "\n",
    "# Display snapshot\n",
    "plt.figure(figsize=(8, 8))\n",
    "plt.imshow(rgba)"
   ]
  },
  {
   "cell_type": "markdown",
   "id": "frequent-housing",
   "metadata": {},
   "source": [
    "Save the snapshot."
   ]
  },
  {
   "cell_type": "code",
   "execution_count": null,
   "id": "serial-tampa",
   "metadata": {},
   "outputs": [],
   "source": [
    "plt.imsave('my_snapshot.png', rgba)"
   ]
  },
  {
   "cell_type": "markdown",
   "id": "preliminary-washington",
   "metadata": {},
   "source": [
    "## Example of how to record a movie"
   ]
  },
  {
   "cell_type": "markdown",
   "id": "missing-administrator",
   "metadata": {},
   "source": [
    "Reset drones (places drones at random positions within the start ring)."
   ]
  },
  {
   "cell_type": "code",
   "execution_count": null,
   "id": "economic-tribe",
   "metadata": {},
   "outputs": [],
   "source": [
    "simulator.reset()"
   ]
  },
  {
   "cell_type": "markdown",
   "id": "cutting-guide",
   "metadata": {},
   "source": [
    "Run simulation until `max_time` is reached or until all drones finish, saving movies from two different views. You can add or remove elements to the list of `videos` to save more or fewer movies."
   ]
  },
  {
   "cell_type": "code",
   "execution_count": null,
   "id": "comprehensive-taxation",
   "metadata": {},
   "outputs": [
    {
     "name": "stdout",
     "output_type": "stream",
     "text": [
      "Creating a video from view my_start_view with name my_start_video.mp4 and fps 25\n",
      "Creating a video from view my_drone_view with name my_drone_video.mp4 and fps 25\n",
      " 25 / 26\n",
      "Simulated 26 time steps in 1.8208 seconds (14.2798 time steps per second)\n"
     ]
    }
   ],
   "source": [
    "simulator.run(\n",
    "    max_time=1.0,\n",
    "    videos=[\n",
    "        {\n",
    "            'view_name': 'my_start_view',       # name of view from which to record a video\n",
    "            'file_name': 'my_start_video.mp4',  # name of file to which video will be saved\n",
    "        },\n",
    "        {\n",
    "            'view_name': 'my_drone_view',       # name of view from which to record a video\n",
    "            'file_name': 'my_drone_video.mp4',  # name of file to which video will be saved\n",
    "        }\n",
    "    ],\n",
    "    print_debug=True,   # this option is recommended when saving videos to track progress\n",
    ")"
   ]
  },
  {
   "cell_type": "markdown",
   "id": "190e07f5",
   "metadata": {},
   "source": [
    "## Example of how to allow print statements, long run times, and inactivity"
   ]
  },
  {
   "cell_type": "markdown",
   "id": "c686ae49",
   "metadata": {},
   "source": [
    "By default, your controller will fail if any of the following conditions is met:\n",
    "\n",
    "* It prints something to `stdout`.\n",
    "* It exceeds the maximum runtime of `1` second for `init`, `1` second for `reset`, and `1e-2` seconds for `run` (on more than 10 occasions).\n",
    "* It moves less than `0.1` meters in `10.0` seconds.\n",
    "\n",
    "You can relax these rules for the purpose of development if you want, as follows."
   ]
  },
  {
   "cell_type": "code",
   "execution_count": null,
   "id": "6b070406",
   "metadata": {},
   "outputs": [],
   "source": [
    "simulator.set_rules(\n",
    "    error_on_print=False,    # <-- allow print statements in controller code\n",
    "    error_on_timeout=False,  # <-- allow long runtimes in controller code\n",
    "    error_on_inactive=False, # <-- allow inactivity\n",
    ")"
   ]
  },
  {
   "cell_type": "markdown",
   "id": "07868924",
   "metadata": {},
   "source": [
    "## Example of how to find the position, orientation, and radius of each ring"
   ]
  },
  {
   "cell_type": "markdown",
   "id": "58365d59",
   "metadata": {},
   "source": [
    "This information should only be used for analysis."
   ]
  },
  {
   "cell_type": "code",
   "execution_count": null,
   "id": "53e0118c",
   "metadata": {},
   "outputs": [
    {
     "name": "stdout",
     "output_type": "stream",
     "text": [
      "ring  0 : p (  0.00,   0.00,   0.25) : v (  0.00,   0.00,   1.00) : r (  2.50)\n",
      "ring  1 : p (  4.00,   4.00,   5.00) : v (  1.00,   0.00,   0.00) : r (  1.00)\n",
      "ring  2 : p (  6.10,   0.00,   2.50) : v (  0.00,  -1.00,  -0.00) : r (  1.00)\n",
      "ring  3 : p (  8.20,   0.00,   2.50) : v (  0.00,   1.00,   0.00) : r (  1.00)\n",
      "ring  4 : p ( 10.30,   0.00,   2.50) : v (  0.00,  -1.00,  -0.00) : r (  1.00)\n",
      "ring  5 : p ( 12.40,   0.00,   2.50) : v (  0.00,   1.00,   0.00) : r (  1.00)\n",
      "ring  6 : p ( 14.50,   0.00,   2.50) : v (  0.00,  -1.00,  -0.00) : r (  1.00)\n",
      "ring  7 : p ( 16.60,  -4.00,   6.00) : v (  1.00,   0.00,   0.00) : r (  1.00)\n",
      "ring  8 : p ( 16.60,   4.00,   2.00) : v ( -1.00,   0.00,   0.00) : r (  1.00)\n",
      "ring  9 : p ( 14.50,   0.00,   2.50) : v (  0.00,  -1.00,  -0.00) : r (  1.00)\n",
      "ring 10 : p ( 12.40,   0.00,   2.50) : v (  0.00,   1.00,   0.00) : r (  1.00)\n",
      "ring 11 : p ( 10.30,   0.00,   2.50) : v (  0.00,  -1.00,  -0.00) : r (  1.00)\n",
      "ring 12 : p (  8.20,   0.00,   2.50) : v (  0.00,   1.00,   0.00) : r (  1.00)\n",
      "ring 13 : p (  6.10,   0.00,   2.50) : v (  0.00,  -1.00,  -0.00) : r (  1.00)\n",
      "ring 14 : p (  4.00,  -4.00,   3.50) : v ( -1.00,   0.00,   0.00) : r (  1.00)\n",
      "ring 15 : p ( -0.00,   0.00,   0.25) : v (  0.00,   0.00,  -1.00) : r (  2.50)\n"
     ]
    }
   ],
   "source": [
    "for i, ring in enumerate(simulator.rings):\n",
    "    p = ring['p']        # <--- position of ring\n",
    "    v = ring['R'][:, 0]  # <--- unit vector normal to ring (pointing through it)\n",
    "    r = ring['radius']   # <--- radius of ring\n",
    "    s = f'ring {i:2d}' + \\\n",
    "        f' : p ({p[0]:6.2f}, {p[1]:6.2f}, {p[2]:6.2f})' + \\\n",
    "        f' : v ({v[0]:6.2f}, {v[1]:6.2f}, {v[2]:6.2f})' + \\\n",
    "        f' : r ({r:6.2f})'\n",
    "    print(s)"
   ]
  },
  {
   "cell_type": "markdown",
   "id": "721be42f",
   "metadata": {},
   "source": [
    "## Example of how to specify initial conditions"
   ]
  },
  {
   "cell_type": "markdown",
   "id": "c6019bb7",
   "metadata": {},
   "source": [
    "Reset the simulator with given initial conditions. The argument `initial_conditions` must be a dictionary. This dictionary must have an key/value pair for each drone in the simulator. The key must be the name of the corresponding drone. The value must, itself, be a dictionary with a key/value pair for each initial state and each initial measurement."
   ]
  },
  {
   "cell_type": "code",
   "execution_count": null,
   "id": "6ddb776b",
   "metadata": {},
   "outputs": [],
   "source": [
    "simulator.reset(\n",
    "    initial_conditions={\n",
    "        'template': {\n",
    "            'p_x': 0.,\n",
    "            'p_y': 0.,\n",
    "            'p_z': 0.5,\n",
    "            'yaw': 0.,\n",
    "            'pitch': 0.,\n",
    "            'roll': 0.,\n",
    "            'v_x': 0.,\n",
    "            'v_y': 0.,\n",
    "            'v_z': 0.,\n",
    "            'w_x': 0.,\n",
    "            'w_y': 0.,\n",
    "            'w_z': 0.,\n",
    "            'p_x_meas': 0.,\n",
    "            'p_y_meas': 0.,\n",
    "            'p_z_meas': 0.5,\n",
    "            'yaw_meas': 0.,\n",
    "        },\n",
    "    },\n",
    ")"
   ]
  },
  {
   "cell_type": "markdown",
   "id": "ae8346ee",
   "metadata": {},
   "source": [
    "Run simulation for `max_time` seconds or until all drones finish."
   ]
  },
  {
   "cell_type": "code",
   "execution_count": null,
   "id": "f4a6d547",
   "metadata": {},
   "outputs": [],
   "source": [
    "simulator.run(max_time=5.0)"
   ]
  },
  {
   "cell_type": "markdown",
   "id": "b5362c7c",
   "metadata": {},
   "source": [
    "## Example of how to disable and enable views"
   ]
  },
  {
   "cell_type": "markdown",
   "id": "bffd94e5",
   "metadata": {},
   "source": [
    "Disable views so they aren't updated while running simulations. These simulations will then run as fast as possible (much faster than real time), so this option is a good choice when collecting lots of data."
   ]
  },
  {
   "cell_type": "code",
   "execution_count": null,
   "id": "ac530300",
   "metadata": {},
   "outputs": [],
   "source": [
    "simulator.disable_views()"
   ]
  },
  {
   "cell_type": "markdown",
   "id": "64220135",
   "metadata": {},
   "source": [
    "Reset drones (places drones at random positions within the start ring). Note that views are still updated — it is only when running simulations that views aren't updated."
   ]
  },
  {
   "cell_type": "code",
   "execution_count": null,
   "id": "8775f465",
   "metadata": {},
   "outputs": [],
   "source": [
    "simulator.reset()"
   ]
  },
  {
   "cell_type": "markdown",
   "id": "28dad5e5",
   "metadata": {},
   "source": [
    "Run simulation for `max_time` seconds or until all drones finish (should take much less than `max_time` seconds to run)."
   ]
  },
  {
   "cell_type": "code",
   "execution_count": null,
   "id": "9ff2bfe4",
   "metadata": {},
   "outputs": [],
   "source": [
    "simulator.run(max_time=5.0)"
   ]
  },
  {
   "cell_type": "markdown",
   "id": "d1aa1607",
   "metadata": {},
   "source": [
    "Enable views again."
   ]
  },
  {
   "cell_type": "code",
   "execution_count": null,
   "id": "46867ce9",
   "metadata": {},
   "outputs": [],
   "source": [
    "simulator.enable_views()"
   ]
  },
  {
   "cell_type": "markdown",
   "id": "419345f3",
   "metadata": {},
   "source": [
    "Run simulation for `max_time` seconds or until all drones finish (should take about `max_time` seconds to run)."
   ]
  },
  {
   "cell_type": "code",
   "execution_count": null,
   "id": "14b95205",
   "metadata": {},
   "outputs": [],
   "source": [
    "simulator.run(max_time=5.0)"
   ]
  }
 ],
 "metadata": {
  "kernelspec": {
   "display_name": "ae353",
   "language": "python",
   "name": "python3"
  },
  "language_info": {
   "codemirror_mode": {
    "name": "ipython",
    "version": 3
   },
   "file_extension": ".py",
   "mimetype": "text/x-python",
   "name": "python",
   "nbconvert_exporter": "python",
   "pygments_lexer": "ipython3",
   "version": "3.13.2"
  }
 },
 "nbformat": 4,
 "nbformat_minor": 5
}
