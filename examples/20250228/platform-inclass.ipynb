{
 "cells": [
  {
   "cell_type": "markdown",
   "id": "middle-acoustic",
   "metadata": {},
   "source": [
    "# Control of a \"spacecraft\" platform with a reaction wheel"
   ]
  },
  {
   "cell_type": "code",
   "execution_count": 1,
   "id": "dimensional-contamination",
   "metadata": {},
   "outputs": [],
   "source": [
    "# These are standard modules\n",
    "import numpy as np\n",
    "import sympy as sym\n",
    "from scipy import linalg\n",
    "from IPython.display import display, Latex, Markdown\n",
    "\n",
    "# Suppress the use of scientific notation when printing small numbers\n",
    "np.set_printoptions(suppress=True)"
   ]
  },
  {
   "cell_type": "markdown",
   "id": "73b3d8cb",
   "metadata": {},
   "source": [
    "Given a choice of ground roll angle $\\phi$, the equations of motion are\n",
    "\n",
    "$$\n",
    "\\begin{aligned}\n",
    "J_1 \\ddot{q}_1 &= \\tau - m_wgl\\sin(q_1)\\sin(\\phi) \\\\\n",
    "J_2 \\ddot{q}_2 &= - \\left( \\dfrac{J_1 + J_2}{J_1} \\right) \\tau + \\left( \\dfrac{J_2}{J_1} \\right) m_wgl\\sin(q_1)\\sin(\\phi)\n",
    "\\end{aligned}\n",
    "$$\n",
    "\n",
    "where\n",
    "\n",
    "* $q_1$ is the platform angle\n",
    "* $q_2$ is the wheel angle\n",
    "* $\\tau$ is the torque applied *to* the platform *by* the wheel\n",
    "\n",
    "and\n",
    "\n",
    "$$\n",
    "J_1 = J_p + m_wl^2\n",
    "\\qquad\n",
    "\\qquad\n",
    "J_2 = J_w.\n",
    "$$\n",
    "\n",
    "These equations can be written in standard form as\n",
    "\n",
    "$$\n",
    "\\begin{bmatrix}\n",
    "    \\dot{q}_1 \\\\\n",
    "    \\dot{v}_1 \\\\\n",
    "    \\dot{q}_2 \\\\\n",
    "    \\dot{v}_2\n",
    "\\end{bmatrix}\n",
    "=\n",
    "\\begin{bmatrix}\n",
    "    v_1 \\\\\n",
    "    \\left( \\tau - m_wgl\\sin(q_1)\\sin(\\phi) \\right) / J_1 \\\\\n",
    "    v_2 \\\\\n",
    "    \\left( -\\left((J_1 + J_2) / J_2\\right) \\tau + m_wgl\\sin(q_1)\\sin(\\phi) \\right) / J_1\n",
    "\\end{bmatrix}\n",
    "$$\n",
    "\n",
    "where\n",
    "\n",
    "* $v_1$ is the platform velocity\n",
    "* $v_2$ is the wheel velocity.\n",
    "\n",
    "Parameter values are defined as follows:"
   ]
  },
  {
   "cell_type": "code",
   "execution_count": 2,
   "id": "ecac734d",
   "metadata": {},
   "outputs": [],
   "source": [
    "# distance from platform axis to wheel axis\n",
    "l = 1.\n",
    "\n",
    "# radius of wheel\n",
    "rw = 0.5\n",
    "\n",
    "# mass of wheel\n",
    "mw = 0.25\n",
    "\n",
    "# moi of wheel\n",
    "Jw = 0.5 * mw * rw**2\n",
    "\n",
    "# mass of platform\n",
    "mp = 12. * (1. - mw * l**2) / (3.**2 + 2.**2)\n",
    "\n",
    "# moment of inertia of platform\n",
    "Jp = (1. / 12.) * mp * (3.**2 + 2.**2)\n",
    "\n",
    "# gravity\n",
    "g = 9.81\n",
    "\n",
    "# composite parameters\n",
    "J1 = Jp + mw * l**2\n",
    "J2 = Jw"
   ]
  },
  {
   "cell_type": "markdown",
   "id": "31e36a9f",
   "metadata": {},
   "source": [
    "Get equations of motion in standard form for platform and wheel in gravity."
   ]
  },
  {
   "cell_type": "code",
   "execution_count": 3,
   "id": "63a5bf89",
   "metadata": {},
   "outputs": [
    {
     "data": {
      "text/markdown": [
       "$$\\LARGE \\begin{bmatrix} \\dot{q}_1 \\\\ \\dot{v}_1 \\\\ \\dot{q}_2 \\\\ \\dot{v}_2 \\end{bmatrix} = f\\left( \\begin{bmatrix} q_1 \\\\ v_1 \\\\ q_2 \\\\ v_2 \\end{bmatrix}, \\begin{bmatrix} \\tau \\end{bmatrix} \\right) = \\left[\\begin{matrix}v_{1}\\\\\\tau - \\frac{981 \\sin{\\left(q_{1} \\right)}}{400}\\\\v_{2}\\\\- 33 \\tau + \\frac{981 \\sin{\\left(q_{1} \\right)}}{400}\\end{matrix}\\right]$$"
      ],
      "text/plain": [
       "<IPython.core.display.Markdown object>"
      ]
     },
     "metadata": {},
     "output_type": "display_data"
    }
   ],
   "source": [
    "# Define variables\n",
    "q1, v1, q2, v2, tau = sym.symbols('q1, v1, q2, v2, tau')\n",
    "\n",
    "# Define right-hand side of ODEs\n",
    "f = sym.Matrix([\n",
    "    v1,\n",
    "    (1 / J1) * (tau - mw * g * l * sym.sin(q1)),\n",
    "    v2,\n",
    "    (1 / J2) * (- ((J1 + J2) / J1) * tau + (J2 / J1) * mw * g * l * sym.sin(q1))\n",
    "])\n",
    "\n",
    "# Convert floating-point to rational numbers\n",
    "f = sym.nsimplify(f, rational=True)\n",
    "\n",
    "# Show EOMs\n",
    "mdot_str = r'\\begin{bmatrix} \\dot{q}_1 \\\\ \\dot{v}_1 \\\\ \\dot{q}_2 \\\\ \\dot{v}_2 \\end{bmatrix}'\n",
    "m_str = r'\\begin{bmatrix} q_1 \\\\ v_1 \\\\ q_2 \\\\ v_2 \\end{bmatrix}'\n",
    "n_str = r'\\begin{bmatrix} \\tau \\end{bmatrix}'\n",
    "\n",
    "display(Markdown(fr'$$\\LARGE {mdot_str} = f\\left( {m_str}, {n_str} \\right) = {sym.latex(f)}$$'))"
   ]
  },
  {
   "cell_type": "markdown",
   "id": "5909f7d9",
   "metadata": {},
   "source": [
    "## How do find an equilibrium point numerically (through minimization of a cost)"
   ]
  },
  {
   "cell_type": "markdown",
   "id": "53026902",
   "metadata": {},
   "source": [
    "Create lambda function to allow numerical evalution of the function\n",
    "\n",
    "$$ f \\left( \\begin{bmatrix} q_1 \\\\ v_1 \\\\ q_2 \\\\ v_2 \\end{bmatrix}, \\begin{bmatrix} \\tau \\end{bmatrix} \\right). $$"
   ]
  },
  {
   "cell_type": "code",
   "execution_count": 4,
   "id": "66e920ce",
   "metadata": {},
   "outputs": [],
   "source": [
    "f_num = sym.lambdify([q1, v1, q2, v2, tau], f)"
   ]
  },
  {
   "cell_type": "markdown",
   "id": "ac7d1a09",
   "metadata": {},
   "source": [
    "This function takes five arguments (four elements of the state and one element of the input) and returns the right-hand side of the EOMs as a 2D numpy array. Here is an example (does the result imply that we have found an equilibrium point?):"
   ]
  },
  {
   "cell_type": "code",
   "execution_count": 6,
   "id": "2cb9879b",
   "metadata": {},
   "outputs": [
    {
     "name": "stdout",
     "output_type": "stream",
     "text": [
      "[[  0.2       ]\n",
      " [  0.25515855]\n",
      " [  0.4       ]\n",
      " [-16.25515855]]\n"
     ]
    }
   ],
   "source": [
    "print(f_num(0.1, 0.2, 0.3, 0.4, 0.5))"
   ]
  },
  {
   "cell_type": "markdown",
   "id": "6baad70b",
   "metadata": {},
   "source": [
    "Import the `minimize` function from `scipy.optimize`."
   ]
  },
  {
   "cell_type": "code",
   "execution_count": 7,
   "id": "374a98a1",
   "metadata": {},
   "outputs": [],
   "source": [
    "from scipy.optimize import minimize"
   ]
  },
  {
   "cell_type": "markdown",
   "id": "b021db05",
   "metadata": {},
   "source": [
    "Create lambda function to allow numerical evaluation of the **cost function**\n",
    "\n",
    "$$\\left\\| f \\left( \\begin{bmatrix} q_1 \\\\ v_1 \\\\ q_2 \\\\ v_2 \\end{bmatrix}, \\begin{bmatrix} \\tau \\end{bmatrix} \\right) \\right\\|^2.$$\n",
    "\n",
    "The condition that\n",
    "\n",
    "$$ f \\left( \\begin{bmatrix} q_1 \\\\ v_1 \\\\ q_2 \\\\ v_2 \\end{bmatrix}, \\begin{bmatrix} \\tau \\end{bmatrix} \\right) = 0 $$\n",
    "\n",
    "is equivalent to the condition that\n",
    "\n",
    "$$\\min_{q_1, v_1, q_2, v_2, \\tau} \\quad \\left\\| f \\left( \\begin{bmatrix} q_1 \\\\ v_1 \\\\ q_2 \\\\ v_2 \\end{bmatrix}, \\begin{bmatrix} \\tau \\end{bmatrix} \\right) \\right\\|^2 = 0.$$"
   ]
  },
  {
   "cell_type": "code",
   "execution_count": 8,
   "id": "9e5df33d",
   "metadata": {},
   "outputs": [],
   "source": [
    "f_num_for_minimize = lambda x: np.linalg.norm(f_num(x[0], x[1], x[2], x[3], x[4]).flatten())**2\n",
    "\n",
    "# Could also have written this more compactly as follows:\n",
    "#\n",
    "#  f_num_for_minimize = lambda x: np.linalg.norm(f_num(*x).flatten())**2\n",
    "#"
   ]
  },
  {
   "cell_type": "markdown",
   "id": "c0e5a4a8",
   "metadata": {},
   "source": [
    "Show an example of evaluating this cost function (does the result imply that we have found an equilibrium point?):"
   ]
  },
  {
   "cell_type": "code",
   "execution_count": 9,
   "id": "91a7000f",
   "metadata": {},
   "outputs": [
    {
     "name": "stdout",
     "output_type": "stream",
     "text": [
      "264.4952852284176\n"
     ]
    }
   ],
   "source": [
    "print(f_num_for_minimize([\n",
    "    0.1, # <-- guess at q_1_e\n",
    "    0.2, # <-- guess at v_1_e\n",
    "    0.3, # <-- guess at q_2_e\n",
    "    0.4, # <-- guess at v_2_e\n",
    "    0.5, # <-- guess at tau_e\n",
    "]))"
   ]
  },
  {
   "cell_type": "markdown",
   "id": "c9b1ed24",
   "metadata": {},
   "source": [
    "Minimize the cost function to find an equilibrium point, starting from some initial guess. (If this process does not converge, then either no equilibrium point exists or the initial guess was too far from an equilibrium point.)"
   ]
  },
  {
   "cell_type": "code",
   "execution_count": 10,
   "id": "54e64a5b",
   "metadata": {},
   "outputs": [
    {
     "name": "stdout",
     "output_type": "stream",
     "text": [
      "  message: Optimization terminated successfully.\n",
      "  success: True\n",
      "   status: 0\n",
      "      fun: 8.538608434679795e-13\n",
      "        x: [ 3.015e-07  1.256e-07  3.000e-01  2.584e-07  7.696e-09]\n",
      "      nit: 5\n",
      "      jac: [ 6.150e-06  2.660e-07  0.000e+00  5.317e-07 -1.727e-05]\n",
      " hess_inv: [[ 8.931e-02  2.563e-04 ...  5.125e-04  6.816e-03]\n",
      "            [ 2.563e-04  9.001e-01 ... -1.998e-01  1.454e-05]\n",
      "            ...\n",
      "            [ 5.125e-04 -1.998e-01 ...  6.003e-01  2.908e-05]\n",
      "            [ 6.816e-03  1.454e-05 ...  2.908e-05  9.789e-04]]\n",
      "     nfev: 48\n",
      "     njev: 8\n"
     ]
    }
   ],
   "source": [
    "# Initial guess\n",
    "x0 = [\n",
    "    0.1, # <-- guess at q_1_e\n",
    "    0.2, # <-- guess at v_1_e\n",
    "    0.3, # <-- guess at q_2_e\n",
    "    0.4, # <-- guess at v_2_e\n",
    "    0.5, # <-- guess at tau_e\n",
    "]\n",
    "\n",
    "# Find minimum (\"tol\" is a tolerance that says how accurate you want the solution)\n",
    "sol = minimize(f_num_for_minimize, x0, tol=1e-4)\n",
    "\n",
    "# Show solution\n",
    "print(sol)"
   ]
  },
  {
   "cell_type": "markdown",
   "id": "c63f6c62",
   "metadata": {},
   "source": [
    "Parse solution."
   ]
  },
  {
   "cell_type": "code",
   "execution_count": 11,
   "id": "baefd726",
   "metadata": {},
   "outputs": [
    {
     "name": "stdout",
     "output_type": "stream",
     "text": [
      "  q1e =   0.000\n",
      "  v1e =   0.000\n",
      "  q2e =   0.300\n",
      "  v2e =   0.000\n",
      " taue =   0.000\n"
     ]
    }
   ],
   "source": [
    "# Get equilibrium point\n",
    "q1e = sol.x[0]\n",
    "v1e = sol.x[1]\n",
    "q2e = sol.x[2]\n",
    "v2e = sol.x[3]\n",
    "taue = sol.x[4]\n",
    "\n",
    "# Could also have written this more compactly as follows:\n",
    "#\n",
    "#   (q1e, v1e, q2e, v2e, taue) = sol.x\n",
    "#\n",
    "\n",
    "# Show equilibrium point\n",
    "print(f'  q1e = {q1e:7.3f}')\n",
    "print(f'  v1e = {v1e:7.3f}')\n",
    "print(f'  q2e = {q2e:7.3f}')\n",
    "print(f'  v2e = {v2e:7.3f}')\n",
    "print(f' taue = {taue:7.3f}')"
   ]
  },
  {
   "cell_type": "markdown",
   "id": "650a8a40",
   "metadata": {},
   "source": [
    "The equilibrium point you find with this method depends on the choice of initial guess."
   ]
  },
  {
   "cell_type": "code",
   "execution_count": 12,
   "id": "c962b3d0",
   "metadata": {},
   "outputs": [
    {
     "name": "stdout",
     "output_type": "stream",
     "text": [
      "  message: Optimization terminated successfully.\n",
      "  success: True\n",
      "   status: 0\n",
      "      fun: 1.2643949842853122e-13\n",
      "        x: [ 3.142e+00  9.338e-08  3.300e+00 -8.408e-08 -1.463e-08]\n",
      "      nit: 10\n",
      "      jac: [-5.019e-08  2.017e-07  0.000e+00 -1.533e-07 -3.272e-07]\n",
      " hess_inv: [[ 8.849e-02  2.557e-05 ... -3.337e-05 -6.755e-03]\n",
      "            [ 2.557e-05  7.653e-01 ... -2.495e-01 -5.870e-05]\n",
      "            ...\n",
      "            [-3.337e-05 -2.495e-01 ...  7.349e-01 -5.784e-05]\n",
      "            [-6.755e-03 -5.870e-05 ... -5.784e-05  9.746e-04]]\n",
      "     nfev: 84\n",
      "     njev: 14\n",
      "\n",
      "  q1e =   3.142\n",
      "  v1e =   0.000\n",
      "  q2e =   3.300\n",
      "  v2e =  -0.000\n",
      " taue =  -0.000\n"
     ]
    }
   ],
   "source": [
    "# Initial guess\n",
    "x0 = [\n",
    "    3.1, # <-- guess at q_1_e\n",
    "    3.2, # <-- guess at v_1_e\n",
    "    3.3, # <-- guess at q_2_e\n",
    "    3.4, # <-- guess at v_2_e\n",
    "    3.5, # <-- guess at tau_e\n",
    "]\n",
    "\n",
    "# Find minimum (\"tol\" is a tolerance that says how accurate you want the solution)\n",
    "sol = minimize(f_num_for_minimize, x0, tol=1e-4)\n",
    "\n",
    "# Show solution\n",
    "print(sol)\n",
    "print('')\n",
    "\n",
    "# Get equilibrium point\n",
    "q1e = sol.x[0]\n",
    "v1e = sol.x[1]\n",
    "q2e = sol.x[2]\n",
    "v2e = sol.x[3]\n",
    "taue = sol.x[4]\n",
    "\n",
    "# Could also have written this more compactly as follows:\n",
    "#\n",
    "#   (q1e, v1e, q2e, v2e, taue) = sol.x\n",
    "#\n",
    "\n",
    "# Show equilibrium point\n",
    "print(f'  q1e = {q1e:7.3f}')\n",
    "print(f'  v1e = {v1e:7.3f}')\n",
    "print(f'  q2e = {q2e:7.3f}')\n",
    "print(f'  v2e = {v2e:7.3f}')\n",
    "print(f' taue = {taue:7.3f}')"
   ]
  },
  {
   "cell_type": "markdown",
   "id": "2f72857e",
   "metadata": {},
   "source": [
    "The equilibrium point found may be very far from the initial guess."
   ]
  },
  {
   "cell_type": "code",
   "execution_count": 13,
   "id": "f30e004b",
   "metadata": {},
   "outputs": [
    {
     "name": "stdout",
     "output_type": "stream",
     "text": [
      "  message: Optimization terminated successfully.\n",
      "  success: True\n",
      "   status: 0\n",
      "      fun: 2.464634212387601e-11\n",
      "        x: [ 3.142e+01  3.594e-06  3.300e+00 -3.398e-06 -1.817e-08]\n",
      "      nit: 11\n",
      "      jac: [-6.688e-07  7.204e-06  0.000e+00 -6.780e-06  3.518e-06]\n",
      " hess_inv: [[ 8.843e-02 -2.100e-03 ...  2.372e-03  6.759e-03]\n",
      "            [-2.100e-03  7.634e-01 ... -2.497e-01 -8.618e-06]\n",
      "            ...\n",
      "            [ 2.372e-03 -2.497e-01 ...  7.356e-01  6.492e-05]\n",
      "            [ 6.759e-03 -8.618e-06 ...  6.492e-05  9.752e-04]]\n",
      "     nfev: 102\n",
      "     njev: 17\n",
      "\n",
      "  q1e =  31.416 (but notice that q1e = 10 * pi)\n",
      "  v1e =   0.000\n",
      "  q2e =   3.300\n",
      "  v2e =  -0.000\n",
      " taue =  -0.000\n"
     ]
    }
   ],
   "source": [
    "# Initial guess\n",
    "x0 = [\n",
    "    2.1, # <-- guess at q_1_e\n",
    "    3.2, # <-- guess at v_1_e\n",
    "    3.3, # <-- guess at q_2_e\n",
    "    3.4, # <-- guess at v_2_e\n",
    "    3.5, # <-- guess at tau_e\n",
    "]\n",
    "\n",
    "# Find minimum (\"tol\" is a tolerance that says how accurate you want the solution)\n",
    "sol = minimize(f_num_for_minimize, x0, tol=1e-4)\n",
    "\n",
    "# Show solution\n",
    "print(sol)\n",
    "print('')\n",
    "\n",
    "# Get equilibrium point\n",
    "q1e = sol.x[0]\n",
    "v1e = sol.x[1]\n",
    "q2e = sol.x[2]\n",
    "v2e = sol.x[3]\n",
    "taue = sol.x[4]\n",
    "\n",
    "# Could also have written this more compactly as follows:\n",
    "#\n",
    "#   (q1e, v1e, q2e, v2e, taue) = sol.x\n",
    "#\n",
    "\n",
    "# Show equilibrium point\n",
    "print(f'  q1e = {q1e:7.3f} (but notice that q1e = {q1e / np.pi:.0f} * pi)')\n",
    "print(f'  v1e = {v1e:7.3f}')\n",
    "print(f'  q2e = {q2e:7.3f}')\n",
    "print(f'  v2e = {v2e:7.3f}')\n",
    "print(f' taue = {taue:7.3f}')"
   ]
  },
  {
   "cell_type": "markdown",
   "id": "fcf54eb0",
   "metadata": {},
   "source": [
    "## How to choose a subset of states (i.e., a sub-system)"
   ]
  },
  {
   "cell_type": "markdown",
   "id": "b8671ecb",
   "metadata": {},
   "source": [
    "Suppose what we actually want is for the platform to be some desired angle (with zero platform velocity) and for the wheel velocity to be some desired **non-zero** angular rate.\n",
    "\n",
    "Every equilibrium point we found has\n",
    "\n",
    "$$ v_{2e} = 0. $$\n",
    "\n",
    "This result implies that it may not be possible to find an equilibrium point for the full system that corresponds to what we want. We need to choose a sub-system."
   ]
  },
  {
   "cell_type": "markdown",
   "id": "bd30f991",
   "metadata": {},
   "source": [
    "### Q1: Why must $v_{2e}=0$ for the full system?"
   ]
  },
  {
   "cell_type": "markdown",
   "id": "9f10e581",
   "metadata": {},
   "source": [
    "Look at the EOMs again."
   ]
  },
  {
   "cell_type": "code",
   "execution_count": 14,
   "id": "15dc8ec1",
   "metadata": {},
   "outputs": [
    {
     "data": {
      "text/markdown": [
       "$$\\LARGE \\begin{bmatrix} \\dot{q}_1 \\\\ \\dot{v}_1 \\\\ \\dot{q}_2 \\\\ \\dot{v}_2 \\end{bmatrix} = f\\left( \\begin{bmatrix} q_1 \\\\ v_1 \\\\ q_2 \\\\ v_2 \\end{bmatrix}, \\begin{bmatrix} \\tau \\end{bmatrix} \\right) = \\left[\\begin{matrix}v_{1}\\\\\\tau - \\frac{981 \\sin{\\left(q_{1} \\right)}}{400}\\\\v_{2}\\\\- 33 \\tau + \\frac{981 \\sin{\\left(q_{1} \\right)}}{400}\\end{matrix}\\right]$$"
      ],
      "text/plain": [
       "<IPython.core.display.Markdown object>"
      ]
     },
     "metadata": {},
     "output_type": "display_data"
    }
   ],
   "source": [
    "display(Markdown(fr'$$\\LARGE {mdot_str} = f\\left( {m_str}, {n_str} \\right) = {sym.latex(f)}$$'))"
   ]
  },
  {
   "cell_type": "markdown",
   "id": "00f7786f",
   "metadata": {},
   "source": [
    "Look at the third EOM in particular."
   ]
  },
  {
   "cell_type": "code",
   "execution_count": null,
   "id": "547d8c4a",
   "metadata": {},
   "outputs": [],
   "source": [
    "display(Markdown(fr'$$\\LARGE \\dot{{q}}_2 = {sym.latex(f[2])}$$'))"
   ]
  },
  {
   "cell_type": "markdown",
   "id": "7e4b3c07",
   "metadata": {},
   "source": [
    "At equilibrium, therefore, it must be true that\n",
    "\n",
    "$$ 0 = v_{2e}. $$\n",
    "\n",
    "If we want $v_{2e} \\neq 0$, then we **must** get rid of the third EOM.\n",
    "\n",
    "Can we?"
   ]
  },
  {
   "cell_type": "markdown",
   "id": "b8e2cd12",
   "metadata": {},
   "source": [
    "Does the right-hand side of the first EOM depend on $v_2$?"
   ]
  },
  {
   "cell_type": "code",
   "execution_count": null,
   "id": "530a149a",
   "metadata": {},
   "outputs": [],
   "source": [
    "display(Markdown(fr'$$\\LARGE \\dot{{q}}_1 = {sym.latex(f[0])}$$'))"
   ]
  },
  {
   "cell_type": "markdown",
   "id": "261b871d",
   "metadata": {},
   "source": [
    "Does the right-hand side of the second EOM depend on $v_2$?"
   ]
  },
  {
   "cell_type": "code",
   "execution_count": null,
   "id": "cc642db9",
   "metadata": {},
   "outputs": [],
   "source": [
    "display(Markdown(fr'$$\\LARGE \\dot{{v}}_1 = {sym.latex(f[1])}$$'))"
   ]
  },
  {
   "cell_type": "markdown",
   "id": "2d5c1131",
   "metadata": {},
   "source": [
    "Does the right-hand side of the fourth EOM depend on $v_2$?"
   ]
  },
  {
   "cell_type": "code",
   "execution_count": null,
   "id": "0b61f2da",
   "metadata": {},
   "outputs": [],
   "source": [
    "display(Markdown(fr'$$\\LARGE \\dot{{v}}_1 = {sym.latex(f[3])}$$'))"
   ]
  },
  {
   "cell_type": "markdown",
   "id": "ffe5f229",
   "metadata": {},
   "source": [
    "No, no, no. So — yes, we can get rid of the third EOM. How?"
   ]
  },
  {
   "cell_type": "code",
   "execution_count": 15,
   "id": "9321957c",
   "metadata": {},
   "outputs": [
    {
     "data": {
      "text/markdown": [
       "$$\\LARGE \\begin{bmatrix} \\dot{q}_1 \\\\ \\dot{v}_1 \\\\ \\dot{v}_2 \\end{bmatrix} = f\\left( \\begin{bmatrix} q_1 \\\\ v_1 \\\\ v_2 \\end{bmatrix}, \\begin{bmatrix} \\tau \\end{bmatrix} \\right) = \\left[\\begin{matrix}v_{1}\\\\\\tau - \\frac{981 \\sin{\\left(q_{1} \\right)}}{400}\\\\- 33 \\tau + \\frac{981 \\sin{\\left(q_{1} \\right)}}{400}\\end{matrix}\\right]$$"
      ],
      "text/plain": [
       "<IPython.core.display.Markdown object>"
      ]
     },
     "metadata": {},
     "output_type": "display_data"
    }
   ],
   "source": [
    "# Get rows 0, 1, and 3 of f (dropping row 2)\n",
    "f_reduced = f[[0, 1, 3], :]\n",
    "\n",
    "# Show the result\n",
    "mdot_str = r'\\begin{bmatrix} \\dot{q}_1 \\\\ \\dot{v}_1 \\\\ \\dot{v}_2 \\end{bmatrix}'\n",
    "m_str = r'\\begin{bmatrix} q_1 \\\\ v_1 \\\\ v_2 \\end{bmatrix}'\n",
    "n_str = r'\\begin{bmatrix} \\tau \\end{bmatrix}'\n",
    "display(Markdown(fr'$$\\LARGE {mdot_str} = f\\left( {m_str}, {n_str} \\right) = {sym.latex(f_reduced)}$$'))"
   ]
  },
  {
   "cell_type": "markdown",
   "id": "c27abd47",
   "metadata": {},
   "source": [
    "Try again to find an equilibrium point."
   ]
  },
  {
   "cell_type": "code",
   "execution_count": 16,
   "id": "9bed3668",
   "metadata": {},
   "outputs": [
    {
     "name": "stdout",
     "output_type": "stream",
     "text": [
      "  message: Optimization terminated successfully.\n",
      "  success: True\n",
      "   status: 0\n",
      "      fun: 1.539084839199535e-13\n",
      "        x: [-1.252e-07 -7.410e-09  4.000e-01 -1.732e-08]\n",
      "      nit: 5\n",
      "      jac: [ 5.543e-08  8.193e-11  0.000e+00 -6.319e-07]\n",
      " hess_inv: [[ 8.849e-02  9.222e-09  0.000e+00  6.769e-03]\n",
      "            [ 9.222e-09  5.000e-01  0.000e+00 -1.838e-08]\n",
      "            [ 0.000e+00  0.000e+00  1.000e+00  0.000e+00]\n",
      "            [ 6.769e-03 -1.838e-08  0.000e+00  9.767e-04]]\n",
      "     nfev: 45\n",
      "     njev: 9\n",
      "\n",
      "  q1e =  -0.000\n",
      "  v1e =  -0.000\n",
      "  v2e =   0.400\n",
      " taue =  -0.000\n"
     ]
    }
   ],
   "source": [
    "# Lambda function to evaluate f_reduced\n",
    "f_num = sym.lambdify([q1, v1, v2, tau], f_reduced)\n",
    "\n",
    "# Lambda function to evalaute the cost function for minimization (i.e., the norm squared of f_reduced)\n",
    "f_num_for_minimize = lambda x: np.linalg.norm(f_num(*x).flatten())**2\n",
    "\n",
    "# Initial guess\n",
    "x0 = [\n",
    "    0.1, # <-- guess at q_1_e\n",
    "    0.2, # <-- guess at v_1_e\n",
    "    0.4, # <-- guess at v_2_e\n",
    "    0.5, # <-- guess at tau_e\n",
    "]\n",
    "\n",
    "# Find minimum (\"tol\" is a tolerance that says how accurate you want the solution)\n",
    "sol = minimize(f_num_for_minimize, x0, tol=1e-4)\n",
    "\n",
    "# Show solution\n",
    "print(sol)\n",
    "print('')\n",
    "\n",
    "# Get equilibrium point\n",
    "(q1e, v1e, v2e, taue) = sol.x\n",
    "\n",
    "# Show equilibrium point\n",
    "print(f'  q1e = {q1e:7.3f}')\n",
    "print(f'  v1e = {v1e:7.3f}')\n",
    "print(f'  v2e = {v2e:7.3f}')\n",
    "print(f' taue = {taue:7.3f}')"
   ]
  },
  {
   "cell_type": "markdown",
   "id": "07e2fb9a",
   "metadata": {},
   "source": [
    "Like before, the result depends on our initial guess."
   ]
  },
  {
   "cell_type": "code",
   "execution_count": 17,
   "id": "c530f0e9",
   "metadata": {},
   "outputs": [
    {
     "name": "stdout",
     "output_type": "stream",
     "text": [
      "  message: Optimization terminated successfully.\n",
      "  success: True\n",
      "   status: 0\n",
      "      fun: 1.0094897905986955e-11\n",
      "        x: [ 3.142e+00  2.108e-07 -1.400e+00 -7.946e-08]\n",
      "      nit: 5\n",
      "      jac: [ 1.829e-05  4.366e-07  0.000e+00  6.043e-05]\n",
      " hess_inv: [[ 8.924e-02 -3.917e-04  0.000e+00 -6.821e-03]\n",
      "            [-3.917e-04  5.002e-01  0.000e+00  2.672e-05]\n",
      "            [ 0.000e+00  0.000e+00  1.000e+00  0.000e+00]\n",
      "            [-6.821e-03  2.672e-05  0.000e+00  9.800e-04]]\n",
      "     nfev: 40\n",
      "     njev: 8\n",
      "\n",
      "  q1e =   3.142\n",
      "  v1e =   0.000\n",
      "  v2e =  -1.400\n",
      " taue =  -0.000\n"
     ]
    }
   ],
   "source": [
    "# Lambda function to evaluate f_reduced\n",
    "f_num = sym.lambdify([q1, v1, v2, tau], f_reduced)\n",
    "\n",
    "# Lambda function to evalaute the cost function for minimization (i.e., the norm squared of f_reduced)\n",
    "f_num_for_minimize = lambda x: np.linalg.norm(f_num(*x).flatten())**2\n",
    "\n",
    "# Initial guess\n",
    "x0 = [\n",
    "    3.1, # <-- guess at q_1_e\n",
    "    0.2, # <-- guess at v_1_e\n",
    "    -1.4, # <-- guess at v_2_e\n",
    "    0.5, # <-- guess at tau_e\n",
    "]\n",
    "\n",
    "# Find minimum (\"tol\" is a tolerance that says how accurate you want the solution)\n",
    "sol = minimize(f_num_for_minimize, x0, tol=1e-4)\n",
    "\n",
    "# Show solution\n",
    "print(sol)\n",
    "print('')\n",
    "\n",
    "# Get equilibrium point\n",
    "(q1e, v1e, v2e, taue) = sol.x\n",
    "\n",
    "# Show equilibrium point\n",
    "print(f'  q1e = {q1e:7.3f}')\n",
    "print(f'  v1e = {v1e:7.3f}')\n",
    "print(f'  v2e = {v2e:7.3f}')\n",
    "print(f' taue = {taue:7.3f}')"
   ]
  },
  {
   "cell_type": "markdown",
   "id": "1e27bdd4",
   "metadata": {},
   "source": [
    "Once we have an equilibrium point, we can proceed to linearize as usual."
   ]
  },
  {
   "cell_type": "code",
   "execution_count": 18,
   "id": "f54278ba",
   "metadata": {},
   "outputs": [
    {
     "ename": "Exception",
     "evalue": "equilibrium point is invalid",
     "output_type": "error",
     "traceback": [
      "\u001b[0;31m---------------------------------------------------------------------------\u001b[0m",
      "\u001b[0;31mException\u001b[0m                                 Traceback (most recent call last)",
      "Cell \u001b[0;32mIn[18], line 3\u001b[0m\n\u001b[1;32m      1\u001b[0m \u001b[38;5;66;03m# Verify equilibrium point\u001b[39;00m\n\u001b[1;32m      2\u001b[0m \u001b[38;5;28;01mif\u001b[39;00m \u001b[38;5;129;01mnot\u001b[39;00m np\u001b[38;5;241m.\u001b[39mallclose(f_num(q1e, v1e, v2e, taue), \u001b[38;5;241m0.\u001b[39m):\n\u001b[0;32m----> 3\u001b[0m     \u001b[38;5;28;01mraise\u001b[39;00m \u001b[38;5;167;01mException\u001b[39;00m(\u001b[38;5;124m'\u001b[39m\u001b[38;5;124mequilibrium point is invalid\u001b[39m\u001b[38;5;124m'\u001b[39m)\n\u001b[1;32m      5\u001b[0m \u001b[38;5;66;03m# Find A and B in symbolic form\u001b[39;00m\n\u001b[1;32m      6\u001b[0m A_sym \u001b[38;5;241m=\u001b[39m f_reduced\u001b[38;5;241m.\u001b[39mjacobian([q1, v1, v2])\n",
      "\u001b[0;31mException\u001b[0m: equilibrium point is invalid"
     ]
    }
   ],
   "source": [
    "# Verify equilibrium point\n",
    "if not np.allclose(f_num(q1e, v1e, v2e, taue), 0.):\n",
    "    raise Exception('equilibrium point is invalid')\n",
    "\n",
    "# Find A and B in symbolic form\n",
    "A_sym = f_reduced.jacobian([q1, v1, v2])\n",
    "B_sym = f_reduced.jacobian([tau])\n",
    "\n",
    "# Create lambda functions to allow numerical evaluation of A and B\n",
    "A_num = sym.lambdify([q1, v1, v2, tau], A_sym)\n",
    "B_num = sym.lambdify([q1, v1, v2, tau], B_sym)\n",
    "\n",
    "# Find A and B in numeric form (making sure the result is floating-point)\n",
    "A = A_num(q1e, v1e, v2e, taue).astype(float)\n",
    "B = B_num(q1e, v1e, v2e, taue).astype(float)\n",
    "\n",
    "# Show state-space model\n",
    "print(f'A =\\n{A}\\n\\nB =\\n{B}')"
   ]
  },
  {
   "cell_type": "markdown",
   "id": "4ca428af",
   "metadata": {},
   "source": [
    "Wait, what happened?"
   ]
  },
  {
   "cell_type": "code",
   "execution_count": 19,
   "id": "b18f1dad",
   "metadata": {},
   "outputs": [
    {
     "name": "stdout",
     "output_type": "stream",
     "text": [
      "[[ 0.00000021]\n",
      " [ 0.00000312]\n",
      " [-0.00000058]]\n"
     ]
    }
   ],
   "source": [
    "print(f_num(q1e, v1e, v2e, taue))"
   ]
  },
  {
   "cell_type": "markdown",
   "id": "b3643a65",
   "metadata": {},
   "source": [
    "Ah, the equilibrium point isn't perfectly accurate. It is probably accurate enough. Try again, without the verification."
   ]
  },
  {
   "cell_type": "code",
   "execution_count": 20,
   "id": "0858f9b8",
   "metadata": {},
   "outputs": [
    {
     "name": "stdout",
     "output_type": "stream",
     "text": [
      "A =\n",
      "[[ 0.      1.      0.    ]\n",
      " [ 2.4525  0.      0.    ]\n",
      " [-2.4525  0.      0.    ]]\n",
      "\n",
      "B =\n",
      "[[  0.]\n",
      " [  1.]\n",
      " [-33.]]\n"
     ]
    }
   ],
   "source": [
    "# Find A and B in symbolic form\n",
    "A_sym = f_reduced.jacobian([q1, v1, v2])\n",
    "B_sym = f_reduced.jacobian([tau])\n",
    "\n",
    "# Create lambda functions to allow numerical evaluation of A and B\n",
    "A_num = sym.lambdify([q1, v1, v2, tau], A_sym)\n",
    "B_num = sym.lambdify([q1, v1, v2, tau], B_sym)\n",
    "\n",
    "# Find A and B in numeric form (making sure the result is floating-point)\n",
    "A = A_num(q1e, v1e, v2e, taue).astype(float)\n",
    "B = B_num(q1e, v1e, v2e, taue).astype(float)\n",
    "\n",
    "# Show state-space model\n",
    "print(f'A =\\n{A}\\n\\nB =\\n{B}')"
   ]
  },
  {
   "cell_type": "markdown",
   "id": "c75ba6d4",
   "metadata": {},
   "source": [
    "## How to apply LQR to design a controller"
   ]
  },
  {
   "cell_type": "markdown",
   "id": "510b2da4",
   "metadata": {},
   "source": [
    "Define a function that returns the solution to the LQR problem\n",
    "\n",
    "$$\\begin{align*} \\underset{u_{[t_0,\\infty]}}{\\text{minimize}} &\\qquad\\int_{t_0}^{\\infty} \\left( x(t)^T Q x(t) + u(t)^T R u(t) \\right) dt\\\\ \\text{subject to} &\\qquad\\dot{x}(t)=Ax(t)+Bu(t) \\\\ &\\qquad x(t_0)=x_0. \\end{align*}$$"
   ]
  },
  {
   "cell_type": "code",
   "execution_count": 21,
   "id": "6addd974",
   "metadata": {},
   "outputs": [],
   "source": [
    "def lqr(A, B, Q, R):\n",
    "    P = linalg.solve_continuous_are(A, B, Q, R)\n",
    "    K = linalg.inv(R) @  B.T @ P\n",
    "    return K, P"
   ]
  },
  {
   "cell_type": "markdown",
   "id": "adb9a12a",
   "metadata": {},
   "source": [
    "Choose weights."
   ]
  },
  {
   "cell_type": "code",
   "execution_count": 22,
   "id": "f12b4e2e",
   "metadata": {},
   "outputs": [],
   "source": [
    "Q = np.diag([1., 1., 1.])\n",
    "R = np.diag([1.])"
   ]
  },
  {
   "cell_type": "markdown",
   "id": "95a1f749",
   "metadata": {},
   "source": [
    "Find optimal gain matrix (and cost matrix)."
   ]
  },
  {
   "cell_type": "code",
   "execution_count": 23,
   "id": "7fc74f61",
   "metadata": {},
   "outputs": [
    {
     "name": "stdout",
     "output_type": "stream",
     "text": [
      "K =\n",
      "[[106.63052913  69.10070717   1.        ]]\n",
      "\n"
     ]
    }
   ],
   "source": [
    "K, P = lqr(A, B, Q, R)\n",
    "print(f'K =\\n{K}\\n')"
   ]
  },
  {
   "cell_type": "markdown",
   "id": "55e40c57",
   "metadata": {},
   "source": [
    "Find closed-loop eigenvalues."
   ]
  },
  {
   "cell_type": "code",
   "execution_count": 24,
   "id": "96d56f60",
   "metadata": {},
   "outputs": [
    {
     "name": "stdout",
     "output_type": "stream",
     "text": [
      "p = [-33.01745617+0.j          -1.5416255 +0.01775691j\n",
      "  -1.5416255 -0.01775691j]\n"
     ]
    }
   ],
   "source": [
    "# Show closed-loop eigenvalues\n",
    "print(f'p = {linalg.eigvals(A - B @ K)}')"
   ]
  },
  {
   "cell_type": "markdown",
   "id": "a2be043f",
   "metadata": {},
   "source": [
    "Create an instance of the simulator."
   ]
  },
  {
   "cell_type": "code",
   "execution_count": 25,
   "id": "66a01e63",
   "metadata": {},
   "outputs": [
    {
     "name": "stderr",
     "output_type": "stream",
     "text": [
      "pybullet build time: Sep  3 2024 12:57:43\n"
     ]
    },
    {
     "name": "stdout",
     "output_type": "stream",
     "text": [
      "argv[0]=\n",
      "You can open the visualizer by visiting the following URL:\n",
      "http://127.0.0.1:7003/static/\n"
     ]
    }
   ],
   "source": [
    "import matplotlib.pyplot as plt\n",
    "import ae353_platform\n",
    "\n",
    "simulator = ae353_platform.Simulator(\n",
    "    display=True,\n",
    "    roll=0.,\n",
    ")"
   ]
  },
  {
   "cell_type": "markdown",
   "id": "cef22b5a",
   "metadata": {},
   "source": [
    "Set ground roll angle of simulator."
   ]
  },
  {
   "cell_type": "code",
   "execution_count": 26,
   "id": "6782c725",
   "metadata": {},
   "outputs": [],
   "source": [
    "simulator.set_roll(np.pi / 2)"
   ]
  },
  {
   "cell_type": "markdown",
   "id": "f8d348cf",
   "metadata": {},
   "source": [
    "Implement controller."
   ]
  },
  {
   "cell_type": "code",
   "execution_count": 27,
   "id": "c6882e90",
   "metadata": {},
   "outputs": [],
   "source": [
    "# Define controller\n",
    "class Controller:\n",
    "    def __init__(self, K, q1e, v1e, v2e, taue):\n",
    "        self.K = K\n",
    "        self.q1e = q1e\n",
    "        self.v1e = v1e\n",
    "        self.v2e = v2e\n",
    "        self.taue = taue\n",
    "    \n",
    "    def reset(self):\n",
    "        pass\n",
    "    \n",
    "    def run(\n",
    "            self,\n",
    "            t,\n",
    "            platform_angle,\n",
    "            platform_velocity,\n",
    "            wheel_angle,\n",
    "            wheel_velocity,\n",
    "        ):\n",
    "        \n",
    "        x = np.array([\n",
    "            platform_angle - self.q1e,\n",
    "            platform_velocity - self.v1e,\n",
    "            wheel_velocity - self.v2e,\n",
    "        ])\n",
    "        u = - self.K @ x\n",
    "\n",
    "        wheel_torque = - (u[0] + self.taue)\n",
    "        \n",
    "        return wheel_torque"
   ]
  },
  {
   "cell_type": "markdown",
   "id": "ebd0c092",
   "metadata": {},
   "source": [
    "Set up simulation."
   ]
  },
  {
   "cell_type": "code",
   "execution_count": 28,
   "id": "c4a7b00d",
   "metadata": {},
   "outputs": [],
   "source": [
    "# Create instance of controller\n",
    "controller = Controller(K, q1e, v1e, v2e, taue)\n",
    "\n",
    "# Reset simulator\n",
    "simulator.reset(\n",
    "    platform_angle=(np.pi - 0.25),\n",
    "    platform_velocity=0.,\n",
    "    wheel_angle=0.,\n",
    "    wheel_velocity=0.,\n",
    ")\n",
    "\n",
    "# Reset controller\n",
    "controller.reset()"
   ]
  },
  {
   "cell_type": "markdown",
   "id": "5222438a",
   "metadata": {},
   "source": [
    "Run simulation."
   ]
  },
  {
   "cell_type": "code",
   "execution_count": 29,
   "id": "65a3de00",
   "metadata": {},
   "outputs": [],
   "source": [
    "# Run simulator\n",
    "data = simulator.run(\n",
    "    controller,           # <-- required (an instance of your Controller class)\n",
    "    max_time=10.0,         # <-- optional (how long you want to run the simulation in seconds)\n",
    "    data_filename=None,   # <-- optional (name of file to which you want data saved, e.g., 'my_data.json')\n",
    "    video_filename=None,  # <-- optional (name of file to which you want video saved, e.g., 'my_video.mov')\n",
    ")"
   ]
  },
  {
   "cell_type": "markdown",
   "id": "14b2e461",
   "metadata": {},
   "source": [
    "Plot results."
   ]
  },
  {
   "cell_type": "code",
   "execution_count": 30,
   "id": "8df936e2",
   "metadata": {},
   "outputs": [
    {
     "data": {
      "image/png": "[encoded data removed]",
      "text/plain": [
       "<Figure size 800x800 with 4 Axes>"
      ]
     },
     "metadata": {},
     "output_type": "display_data"
    }
   ],
   "source": [
    "t = data['t']\n",
    "q1 = data['platform_angle']\n",
    "v1 = data['platform_velocity']\n",
    "v2 = data['wheel_velocity']\n",
    "tau = data['wheel_torque']\n",
    "tau_command = data['wheel_torque_command']\n",
    "\n",
    "fig, (ax_q1, ax_v1, ax_v2, ax_tau) = plt.subplots(4, 1, figsize=(8, 8), sharex=True)\n",
    "\n",
    "ax_q1.plot(t, q1, label='$q_1$', linewidth=4)\n",
    "ax_q1.plot(t, q1e * np.ones_like(t), '--', label='$q_{1e}$', linewidth=4)\n",
    "ax_v1.plot(t, v1, label='$v_1$', linewidth=4)\n",
    "ax_v1.plot(t, v1e * np.ones_like(t), '--', label='$v_{1e}$', linewidth=4)\n",
    "ax_v2.plot(t, v2, label='$v_2$', linewidth=4)\n",
    "ax_v2.plot(t, v2e * np.ones_like(t), '--', label='$v_{2e}$', linewidth=4)\n",
    "ax_tau.plot(t, tau, label=r'$\\tau$', linewidth=4)\n",
    "ax_tau.plot(t, tau_command, '--', label=r'$\\tau_{commanded}$', linewidth=4)\n",
    "ax_tau.plot(t, np.ones_like(t) * simulator.tau_max, ':', label=r'$\\tau_{max}$', linewidth=4, color='C2', zorder=0)\n",
    "ax_tau.plot(t, - np.ones_like(t) * simulator.tau_max, ':', linewidth=4, color='C2', zorder=0)\n",
    "\n",
    "ax_q1.grid()\n",
    "ax_q1.legend(fontsize=16, ncol=2, loc='upper right')\n",
    "ax_q1.tick_params(labelsize=14)\n",
    "ax_q1.set_ylim(q1e - 0.5, q1e + 0.5)\n",
    "\n",
    "ax_v1.grid()\n",
    "ax_v1.legend(fontsize=16, ncol=2, loc='upper right')\n",
    "ax_v1.tick_params(labelsize=14)\n",
    "ax_v1.set_ylim(v1e - 1., v1e + 1.)\n",
    "\n",
    "ax_v2.grid()\n",
    "ax_v2.legend(fontsize=16, ncol=2, loc='upper right')\n",
    "ax_v2.tick_params(labelsize=14)\n",
    "ax_v2.set_ylim(v2e - 20., v2e + 20.)\n",
    "\n",
    "ax_tau.grid()\n",
    "ax_tau.legend(fontsize=16, ncol=3, loc='upper right')\n",
    "ax_tau.tick_params(labelsize=14)\n",
    "\n",
    "ax_tau.set_xlabel('time (s)', fontsize=20)\n",
    "ax_tau.set_xlim([data['t'][0], data['t'][-1]])\n",
    "\n",
    "fig.tight_layout()\n",
    "plt.show()"
   ]
  },
  {
   "cell_type": "markdown",
   "id": "fc5f182c",
   "metadata": {},
   "source": [
    "Exactly the same process can be applied (for example) to your design project."
   ]
  }
 ],
 "metadata": {
  "kernelspec": {
   "display_name": "ae353",
   "language": "python",
   "name": "python3"
  },
  "language_info": {
   "codemirror_mode": {
    "name": "ipython",
    "version": 3
   },
   "file_extension": ".py",
   "mimetype": "text/x-python",
   "name": "python",
   "nbconvert_exporter": "python",
   "pygments_lexer": "ipython3",
   "version": "3.13.1"
  }
 },
 "nbformat": 4,
 "nbformat_minor": 5
}
