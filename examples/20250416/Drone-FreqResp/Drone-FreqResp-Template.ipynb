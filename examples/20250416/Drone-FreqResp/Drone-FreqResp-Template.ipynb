{
 "cells": [
  {
   "cell_type": "markdown",
   "id": "middle-acoustic",
   "metadata": {},
   "source": [
    "# Quadrotor (aka \"the drone\")"
   ]
  },
  {
   "cell_type": "markdown",
   "id": "bc935753",
   "metadata": {},
   "source": [
    "This notebook makes use of interactive plots (i.e., plots that allow you to zoom in) that are enabled with the following command:\n",
    "```python\n",
    "%matplotlib widget\n",
    "```\n",
    "\n",
    "If you want to use interactive plots, you must have `ipympl` installed in your conda environment. If you have not already done so, you can install it by running the following command in a terminal (with the `ae353` environment active):\n",
    "```zsh\n",
    "conda install ipympl\n",
    "```"
   ]
  },
  {
   "cell_type": "markdown",
   "id": "future-divide",
   "metadata": {},
   "source": [
    "## Setup"
   ]
  },
  {
   "cell_type": "markdown",
   "id": "faced-least",
   "metadata": {},
   "source": [
    "Import modules."
   ]
  },
  {
   "cell_type": "code",
   "execution_count": null,
   "id": "informed-qatar",
   "metadata": {},
   "outputs": [],
   "source": [
    "import os\n",
    "import time\n",
    "import numpy as np\n",
    "import matplotlib.pyplot as plt\n",
    "import secrets\n",
    "import ae353_drone\n",
    "\n",
    "import ae353_dronecontrol # <--- has a working controller for the purpose of demonstration\n",
    "\n",
    "import sympy as sym\n",
    "from scipy import linalg\n",
    "from matplotlib.ticker import MultipleLocator\n",
    "from IPython.display import display, Latex, Markdown\n",
    "\n",
    "# Stupid hack because tornado is broken in jupyter\n",
    "%matplotlib widget\n",
    "# plt.ioff()\n",
    "# plt.ion()\n",
    "\n",
    "# Suppress the use of scientific notation when printing small numbers\n",
    "np.set_printoptions(suppress=True)"
   ]
  },
  {
   "cell_type": "markdown",
   "id": "final-distinction",
   "metadata": {},
   "source": [
    "Create and print a seed for the random number generator so it is possible to reproduce the results. Here are a few best practices:\n",
    "\n",
    "* By default, keep this code unchanged.\n",
    "* When producing final results for your report, (1) run this cell once to create a seed, (2) copy/paste this seed into the line of code that creates a simulator, and (3) replace the code cell that creates a seed with a markdown cell saying that you took this approach to choose a seed for testing."
   ]
  },
  {
   "cell_type": "code",
   "execution_count": null,
   "id": "ceramic-evanescence",
   "metadata": {},
   "outputs": [],
   "source": [
    "seed = secrets.randbits(32)\n",
    "print(seed)"
   ]
  },
  {
   "cell_type": "markdown",
   "id": "environmental-refrigerator",
   "metadata": {},
   "source": [
    "Create simulator with seed."
   ]
  },
  {
   "cell_type": "code",
   "execution_count": null,
   "id": "needed-motion",
   "metadata": {},
   "outputs": [],
   "source": [
    "simulator = ae353_drone.Simulator(seed=seed)"
   ]
  },
  {
   "cell_type": "markdown",
   "id": "c3c358c6",
   "metadata": {},
   "source": [
    "Add a camera view. This view will be displayed in its own browser window."
   ]
  },
  {
   "cell_type": "code",
   "execution_count": null,
   "id": "3a92a1ff",
   "metadata": {},
   "outputs": [],
   "source": [
    "simulator.add_view(\n",
    "    'my_start_view',  # name of view (must be unique)\n",
    "    'start',          # type of view (start, top, right, left, or back)\n",
    ")"
   ]
  },
  {
   "cell_type": "markdown",
   "id": "40cd46f8",
   "metadata": {},
   "source": [
    "Do not check for inactivity."
   ]
  },
  {
   "cell_type": "code",
   "execution_count": null,
   "id": "80b83580",
   "metadata": {},
   "outputs": [],
   "source": [
    "simulator.set_rules(error_on_inactive=False)"
   ]
  },
  {
   "cell_type": "markdown",
   "id": "4c5ce182",
   "metadata": {},
   "source": [
    "Define functions to show results."
   ]
  },
  {
   "cell_type": "code",
   "execution_count": null,
   "id": "4146ee4c",
   "metadata": {},
   "outputs": [],
   "source": [
    "def show_matrix(key, val):\n",
    "    latex = sym.latex(sym.nsimplify(sym.Matrix(val), rational=True))\n",
    "    display(Markdown(f'$${key} = {latex}$$'))\n",
    "    \n",
    "def show_transfer_function(key, val):\n",
    "    latex = sym.latex(sym.nsimplify(val, rational=True))\n",
    "    display(Markdown(f'$${key}(s) = {latex}$$'))"
   ]
  },
  {
   "cell_type": "markdown",
   "id": "1ca3a4d0",
   "metadata": {},
   "source": [
    "Choose amplitude and period of oscillation."
   ]
  },
  {
   "cell_type": "code",
   "execution_count": null,
   "id": "2dcf96b9",
   "metadata": {},
   "outputs": [],
   "source": [
    "a = 0.05\n",
    "T = 5."
   ]
  },
  {
   "cell_type": "markdown",
   "id": "52acc72f",
   "metadata": {},
   "source": [
    "Create controller."
   ]
  },
  {
   "cell_type": "code",
   "execution_count": null,
   "id": "3b0fe0c3",
   "metadata": {},
   "outputs": [],
   "source": [
    "class DemoController(ae353_dronecontrol.Controller):\n",
    "    def get_xdes(self, t, xhat, pos_ring, dir_ring, is_last_ring, pos_others):\n",
    "        xdes = np.zeros(12)\n",
    "        xdes[0:3] = np.array([0., 0., 1.])\n",
    "        \n",
    "        omega = (2 * np.pi / T)\n",
    "        xdes[1] += a * np.sin(omega * t)\n",
    "        \n",
    "        return xdes"
   ]
  },
  {
   "cell_type": "markdown",
   "id": "53b89807",
   "metadata": {},
   "source": [
    "Clear all drones."
   ]
  },
  {
   "cell_type": "code",
   "execution_count": null,
   "id": "1d639d6b",
   "metadata": {},
   "outputs": [],
   "source": [
    "simulator.clear_drones()"
   ]
  },
  {
   "cell_type": "markdown",
   "id": "dbc894e3",
   "metadata": {},
   "source": [
    "Add drone to simulator."
   ]
  },
  {
   "cell_type": "code",
   "execution_count": null,
   "id": "4b0ee9be",
   "metadata": {},
   "outputs": [],
   "source": [
    "simulator.add_drone(DemoController, 'template', 'template.png')"
   ]
  },
  {
   "cell_type": "markdown",
   "id": "20cbd252",
   "metadata": {},
   "source": [
    "Reset the drone with a hard-coded initial condition and zero sensor noise for the purpose of demonstration."
   ]
  },
  {
   "cell_type": "code",
   "execution_count": null,
   "id": "6ac558fb",
   "metadata": {},
   "outputs": [],
   "source": [
    "simulator.reset(\n",
    "    initial_conditions={\n",
    "        'template': {\n",
    "            'p_x': 0.,\n",
    "            'p_y': 0.,\n",
    "            'p_z': 1.,\n",
    "            'yaw': 0.,\n",
    "            'pitch': 0.,\n",
    "            'roll': 0.,\n",
    "            'v_x': 0.,\n",
    "            'v_y': 0.,\n",
    "            'v_z': 0.,\n",
    "            'w_x': 0.,\n",
    "            'w_y': 0.,\n",
    "            'w_z': 0.,\n",
    "            'p_x_meas': 0.,\n",
    "            'p_y_meas': 0.,\n",
    "            'p_z_meas': 1.,\n",
    "            'yaw_meas': 0.,\n",
    "        },\n",
    "    },\n",
    "    marker_noise=0.,\n",
    ")"
   ]
  },
  {
   "cell_type": "markdown",
   "id": "ab0fce7e",
   "metadata": {},
   "source": [
    "Run simulation."
   ]
  },
  {
   "cell_type": "code",
   "execution_count": null,
   "id": "c578a820",
   "metadata": {},
   "outputs": [],
   "source": [
    "# Enable views to run in real-time\n",
    "simulator.enable_views()\n",
    "\n",
    "# # Disable views to run as fast as possible\n",
    "# simulator.disable_views()\n",
    "\n",
    "simulator.run(max_time=25.)"
   ]
  },
  {
   "cell_type": "markdown",
   "id": "2c18e6a2",
   "metadata": {},
   "source": [
    "Get data."
   ]
  },
  {
   "cell_type": "code",
   "execution_count": null,
   "id": "641624b3",
   "metadata": {},
   "outputs": [],
   "source": [
    "data = simulator.get_data('template')"
   ]
  },
  {
   "cell_type": "markdown",
   "id": "3272fd4c",
   "metadata": {},
   "source": [
    "Get model."
   ]
  },
  {
   "cell_type": "code",
   "execution_count": null,
   "id": "12906f3d",
   "metadata": {},
   "outputs": [],
   "source": [
    "# This is something you can do yourself as well\n",
    "drone = simulator.get_drone_by_name('template')\n",
    "controller = drone['controller']\n",
    "\n",
    "# This is something you cannot do yourself, unless you add\n",
    "# the function get_model() to your Controller class.\n",
    "A, B, C, K, L = controller.get_model()"
   ]
  },
  {
   "cell_type": "markdown",
   "id": "d5b71007",
   "metadata": {},
   "source": [
    "Define a matrix that picks the only element of $x_\\text{des}$ that varies."
   ]
  },
  {
   "cell_type": "code",
   "execution_count": null,
   "id": "a299d633",
   "metadata": {},
   "outputs": [],
   "source": [
    "e_i = np.zeros((12, 1))\n",
    "e_i[1] = 1.\n",
    "\n",
    "show_matrix('e_i', e_i)"
   ]
  },
  {
   "cell_type": "markdown",
   "id": "803c0811",
   "metadata": {},
   "source": [
    "Define closed-loop model."
   ]
  },
  {
   "cell_type": "code",
   "execution_count": null,
   "id": "03819d89",
   "metadata": {},
   "outputs": [],
   "source": [
    "Am = np.block([[A    , -B @ K           ],\n",
    "               [L @ C, A - B @ K - L @ C]])\n",
    "\n",
    "Bm = np.block([[B @ K @ e_i],\n",
    "               [B @ K @ e_i]])\n",
    "\n",
    "Cm = np.block([[e_i.T, np.zeros((1, A.shape[0]))]])\n",
    "\n",
    "# These matrices are large and have non-integer elements - here is\n",
    "# how to show them if we wanted to:\n",
    "#\n",
    "#  show_matrix('A_m', Am)\n",
    "#  show_matrix('B_m', Bm)\n",
    "#  show_matrix('C_m', Cm)"
   ]
  },
  {
   "cell_type": "markdown",
   "id": "6b3c169e",
   "metadata": {},
   "source": [
    "Define the **transfer function**\n",
    "\n",
    "$$H(s) = C_m (s - A_m)^{-1} B_m$$\n",
    "\n",
    "where $s\\in\\mathbb{C}$ is a complex number."
   ]
  },
  {
   "cell_type": "code",
   "execution_count": null,
   "id": "8dd6dcb9",
   "metadata": {},
   "outputs": [],
   "source": [
    "H = lambda s: (Cm @ linalg.inv(s * np.eye(Am.shape[0]) - Am) @ Bm).item()"
   ]
  },
  {
   "cell_type": "markdown",
   "id": "1d789e15",
   "metadata": {},
   "source": [
    "Show Bode plot (dB, degrees)."
   ]
  },
  {
   "cell_type": "code",
   "execution_count": null,
   "id": "e21d514e",
   "metadata": {},
   "outputs": [],
   "source": [
    "omega = np.logspace(-2, 2, 250)\n",
    "H_at_jomega = np.empty_like(omega, dtype=complex)\n",
    "for i in range(len(omega)):\n",
    "    H_at_jomega[i] = H(1j * omega[i])\n",
    "mag = np.absolute(H_at_jomega)\n",
    "ang = np.angle(H_at_jomega)\n",
    "\n",
    "mag_in_dB = 20. * np.log10(mag)\n",
    "ang_in_deg = np.rad2deg(ang)\n",
    "\n",
    "fig, (ax_mag, ax_ang) = plt.subplots(2, 1, figsize=(10, 5), sharex=True)\n",
    "ax_mag.semilogx(omega, mag_in_dB, linewidth=2)\n",
    "ax_mag.semilogx(omega, -3. * np.ones_like(omega), '--', linewidth=2)\n",
    "ax_mag.grid(visible=True, which='both', axis='both')\n",
    "ax_mag.tick_params(labelsize=12)\n",
    "ax_mag.yaxis.set_major_locator(MultipleLocator(20))\n",
    "ax_mag.set_ylabel('magnitude (dB)', fontsize=16)\n",
    "ax_ang.semilogx(omega, ang_in_deg, linewidth=2)\n",
    "ax_ang.grid(visible=True, which='both', axis='both')\n",
    "ax_ang.tick_params(labelsize=12)\n",
    "ax_ang.yaxis.set_major_locator(MultipleLocator(45))\n",
    "ax_ang.set_ylabel('angle (degrees)', fontsize=16)\n",
    "ax_ang.set_ylim([-180, 180])\n",
    "ax_ang.set_xlim([min(omega), max(omega)])\n",
    "ax_ang.set_xlabel(r'$\\omega$ (radians / second)')\n",
    "fig.suptitle('BODE PLOT')\n",
    "plt.show()"
   ]
  },
  {
   "cell_type": "markdown",
   "id": "a014b893",
   "metadata": {},
   "source": [
    "Show Bode plot (absolute, radians)."
   ]
  },
  {
   "cell_type": "code",
   "execution_count": null,
   "id": "904ac0f8",
   "metadata": {},
   "outputs": [],
   "source": [
    "omega = np.logspace(-2, 2, 250)\n",
    "H_at_jomega = np.empty_like(omega, dtype=complex)\n",
    "for i in range(len(omega)):\n",
    "    H_at_jomega[i] = H(1j * omega[i])\n",
    "mag = np.absolute(H_at_jomega)\n",
    "ang = np.angle(H_at_jomega)\n",
    "\n",
    "fig, (ax_mag, ax_ang) = plt.subplots(2, 1, figsize=(10, 5), sharex=True)\n",
    "ax_mag.loglog(omega, mag, linewidth=2)\n",
    "ax_mag.loglog(omega, 10**(-3 / 20) * np.ones_like(omega), '--', linewidth=2)\n",
    "ax_mag.grid(visible=True, which='both', axis='both')\n",
    "ax_mag.tick_params(labelsize=14)\n",
    "ax_mag.yaxis.set_minor_locator(MultipleLocator(1e-1))\n",
    "ax_mag.set_yticklabels([], minor=True)\n",
    "ax_mag.set_ylabel('magnitude', fontsize=16)\n",
    "ax_ang.semilogx(omega, ang, linewidth=2)\n",
    "ax_ang.grid(visible=True, which='both', axis='both')\n",
    "ax_ang.tick_params(labelsize=14)\n",
    "ax_ang.yaxis.set_minor_locator(MultipleLocator(0.25))\n",
    "ax_ang.set_yticklabels([], minor=True)\n",
    "ax_ang.set_ylabel('angle (radians)', fontsize=16)\n",
    "ax_ang.set_ylim([-np.pi, np.pi])\n",
    "ax_ang.set_xlim([min(omega), max(omega)])\n",
    "ax_ang.set_xlabel(r'$\\omega$ (radians / second)')\n",
    "fig.suptitle('BODE PLOT')\n",
    "plt.show()"
   ]
  },
  {
   "cell_type": "markdown",
   "id": "a641b8c7",
   "metadata": {},
   "source": [
    "Show results ($p_y$ only)."
   ]
  },
  {
   "cell_type": "code",
   "execution_count": null,
   "id": "0c5e9e3c",
   "metadata": {},
   "outputs": [],
   "source": [
    "omega = (2 * np.pi) / T\n",
    "H_of_jomega = H(1j * omega)\n",
    "magH = np.absolute(H_of_jomega)\n",
    "angH = np.angle(H_of_jomega)\n",
    "\n",
    "print(f'omega = {omega} (T = {2 * np.pi / omega:.3f})')\n",
    "print(f'H(j omega) = {H_of_jomega:.4f}')\n",
    "print(f'mag = {magH:.4f}')\n",
    "print(f'ang = {angH:.4f}')\n",
    "\n",
    "p_y = data['p_y']\n",
    "p_y_est = data['xhat'][:, 1]\n",
    "p_y_des = data['xdes'][:, 1]\n",
    "p_y_pre = data['p_y'][0] + a * magH * np.sin(omega * data['t'] + angH)\n",
    "\n",
    "# Create a figure with subplots that all share the same x-axis\n",
    "fig, ax_py = plt.subplots(1, 1, figsize=(8, 4), sharex=True)\n",
    "\n",
    "ax_py.plot(data['t'], p_y, label='y', linewidth=3, color='C0')\n",
    "ax_py.plot(data['t'], p_y_est, '-.', label='y (estimated)', linewidth=4, color='C2')\n",
    "ax_py.plot(data['t'], p_y_des, '--', label='y (desired)', linewidth=4, color='C1')\n",
    "ax_py.plot(data['t'], p_y_pre, ':', label='y (predicted)', linewidth=3, color='C6')\n",
    "ax_py.grid()\n",
    "ax_py.legend(fontsize=14, ncol=4, loc='upper right')\n",
    "ax_py.tick_params(labelsize=14)\n",
    "ax_py.set_xlabel('time (s)', fontsize=20)\n",
    "ax_py.set_xlim([data['t'][0], data['t'][-1]])\n",
    "\n",
    "# Make the arrangement of subplots look nice\n",
    "fig.tight_layout()\n",
    "plt.show()"
   ]
  }
 ],
 "metadata": {
  "kernelspec": {
   "display_name": "ae353",
   "language": "python",
   "name": "python3"
  },
  "language_info": {
   "codemirror_mode": {
    "name": "ipython",
    "version": 3
   },
   "file_extension": ".py",
   "mimetype": "text/x-python",
   "name": "python",
   "nbconvert_exporter": "python",
   "pygments_lexer": "ipython3",
   "version": "3.13.2"
  }
 },
 "nbformat": 4,
 "nbformat_minor": 5
}
