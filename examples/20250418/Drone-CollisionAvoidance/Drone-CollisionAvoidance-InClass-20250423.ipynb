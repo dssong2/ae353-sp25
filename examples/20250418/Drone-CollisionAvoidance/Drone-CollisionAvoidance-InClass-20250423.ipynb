{
 "cells": [
  {
   "cell_type": "markdown",
   "id": "middle-acoustic",
   "metadata": {},
   "source": [
    "# Collision avoidance — drone"
   ]
  },
  {
   "cell_type": "markdown",
   "id": "future-divide",
   "metadata": {},
   "source": [
    "## Setup"
   ]
  },
  {
   "cell_type": "markdown",
   "id": "faced-least",
   "metadata": {},
   "source": [
    "Import modules."
   ]
  },
  {
   "cell_type": "code",
   "execution_count": 1,
   "id": "informed-qatar",
   "metadata": {},
   "outputs": [
    {
     "name": "stderr",
     "output_type": "stream",
     "text": [
      "pybullet build time: Sep  3 2024 12:57:43\n"
     ]
    }
   ],
   "source": [
    "import numpy as np\n",
    "import matplotlib.pyplot as plt\n",
    "import secrets\n",
    "import ae353_drone\n",
    "import ae353_dronecontrol           # <--- must have a working controller\n",
    "\n",
    "# Suppress the use of scientific notation when printing small numbers\n",
    "np.set_printoptions(suppress=True)"
   ]
  },
  {
   "cell_type": "markdown",
   "id": "final-distinction",
   "metadata": {},
   "source": [
    "Create and print a seed for the random number generator so it is possible to reproduce the results."
   ]
  },
  {
   "cell_type": "code",
   "execution_count": 2,
   "id": "ceramic-evanescence",
   "metadata": {},
   "outputs": [
    {
     "name": "stdout",
     "output_type": "stream",
     "text": [
      "3686003406\n"
     ]
    }
   ],
   "source": [
    "seed = secrets.randbits(32)\n",
    "print(seed)"
   ]
  },
  {
   "cell_type": "markdown",
   "id": "environmental-refrigerator",
   "metadata": {},
   "source": [
    "Create simulator with seed."
   ]
  },
  {
   "cell_type": "code",
   "execution_count": 3,
   "id": "needed-motion",
   "metadata": {},
   "outputs": [
    {
     "name": "stdout",
     "output_type": "stream",
     "text": [
      "argv[0]=\n"
     ]
    }
   ],
   "source": [
    "simulator = ae353_drone.Simulator(seed=seed)"
   ]
  },
  {
   "cell_type": "markdown",
   "id": "c3c358c6",
   "metadata": {},
   "source": [
    "Add camera views, displayed in their own browser windows."
   ]
  },
  {
   "cell_type": "code",
   "execution_count": 5,
   "id": "3a92a1ff",
   "metadata": {},
   "outputs": [
    {
     "ename": "Exception",
     "evalue": "there is already a view with the name my_start_view",
     "output_type": "error",
     "traceback": [
      "\u001b[31m---------------------------------------------------------------------------\u001b[39m",
      "\u001b[31mException\u001b[39m                                 Traceback (most recent call last)",
      "\u001b[36mCell\u001b[39m\u001b[36m \u001b[39m\u001b[32mIn[5]\u001b[39m\u001b[32m, line 2\u001b[39m\n\u001b[32m      1\u001b[39m \u001b[38;5;66;03m# Start view\u001b[39;00m\n\u001b[32m----> \u001b[39m\u001b[32m2\u001b[39m \u001b[43msimulator\u001b[49m\u001b[43m.\u001b[49m\u001b[43madd_view\u001b[49m\u001b[43m(\u001b[49m\u001b[33;43m'\u001b[39;49m\u001b[33;43mmy_start_view\u001b[39;49m\u001b[33;43m'\u001b[39;49m\u001b[43m,\u001b[49m\u001b[43m \u001b[49m\u001b[33;43m'\u001b[39;49m\u001b[33;43mstart\u001b[39;49m\u001b[33;43m'\u001b[39;49m\u001b[43m)\u001b[49m\n\u001b[32m      4\u001b[39m \u001b[38;5;66;03m# Ring 1 view\u001b[39;00m\n\u001b[32m      5\u001b[39m simulator.add_ring_view(\u001b[33m'\u001b[39m\u001b[33mmy_ring_view\u001b[39m\u001b[33m'\u001b[39m, \u001b[32m1\u001b[39m)\n",
      "\u001b[36mFile \u001b[39m\u001b[32m~/Documents/courses/AE353/11-ae353-ap2025/ae353-sp25/examples/20250418/Drone-CollisionAvoidance/ae353_drone.py:1510\u001b[39m, in \u001b[36mSimulator.add_view\u001b[39m\u001b[34m(self, view_name, view_type, fov)\u001b[39m\n\u001b[32m   1508\u001b[39m view = \u001b[38;5;28mself\u001b[39m.get_view_by_name(view_name)\n\u001b[32m   1509\u001b[39m \u001b[38;5;28;01mif\u001b[39;00m view \u001b[38;5;129;01mis\u001b[39;00m \u001b[38;5;129;01mnot\u001b[39;00m \u001b[38;5;28;01mNone\u001b[39;00m:\n\u001b[32m-> \u001b[39m\u001b[32m1510\u001b[39m     \u001b[38;5;28;01mraise\u001b[39;00m \u001b[38;5;167;01mException\u001b[39;00m(\u001b[33mf\u001b[39m\u001b[33m'\u001b[39m\u001b[33mthere is already a view with the name \u001b[39m\u001b[38;5;132;01m{\u001b[39;00mview_name\u001b[38;5;132;01m}\u001b[39;00m\u001b[33m'\u001b[39m)\n\u001b[32m   1512\u001b[39m \u001b[38;5;28;01mif\u001b[39;00m view_type == \u001b[33m'\u001b[39m\u001b[33mstart\u001b[39m\u001b[33m'\u001b[39m:\n\u001b[32m   1513\u001b[39m     pos = [-\u001b[32m6.1\u001b[39m, \u001b[32m0.\u001b[39m, \u001b[32m2.\u001b[39m]\n",
      "\u001b[31mException\u001b[39m: there is already a view with the name my_start_view"
     ]
    }
   ],
   "source": [
    "# Start view\n",
    "simulator.add_view('my_start_view', 'start')\n",
    "\n",
    "# Ring 1 view\n",
    "simulator.add_ring_view('my_ring_view', 1)\n",
    "\n",
    "# Top view\n",
    "simulator.add_view('my_top_view', 'top')"
   ]
  },
  {
   "cell_type": "markdown",
   "id": "b8a4c13b",
   "metadata": {},
   "source": [
    "Allow print statements and long computation times (only for development)."
   ]
  },
  {
   "cell_type": "code",
   "execution_count": 6,
   "id": "31e51dec",
   "metadata": {},
   "outputs": [],
   "source": [
    "simulator.set_rules(\n",
    "    error_on_print=False,\n",
    "    error_on_timeout=False,\n",
    "    error_on_inactive=False,\n",
    ")"
   ]
  },
  {
   "cell_type": "markdown",
   "id": "c4348369",
   "metadata": {},
   "source": [
    "Show controller template. The actual controller used in this example comes from `ae353_dronecontrol.py`.\n",
    "\n",
    "**NOTE. I didn't publish the version of `ae353_dronecontrol.py` that was used in class, rather just the template version. If you want this notebook to work, you'll need to modify `ae353_dronecontrol.py` so that it works!**"
   ]
  },
  {
   "cell_type": "code",
   "execution_count": 1,
   "id": "e60435ad",
   "metadata": {},
   "outputs": [],
   "source": [
    "class Controller:\n",
    "    def __init__(self):\n",
    "        # Define all variables (FIXME)\n",
    "        #\n",
    "        # self.A = ...\n",
    "        # self.B = ...\n",
    "        # ...\n",
    "        # ...\n",
    "        \n",
    "        self.variables_to_log = ['xhat', 'xdes', 'ring']\n",
    "\n",
    "    def get_color(self):\n",
    "        return [1., 0., 0.]\n",
    "\n",
    "    def reset(\n",
    "            self,\n",
    "            p_x, p_y, p_z, # <-- approximate initial position of drone (meters)\n",
    "            yaw,           # <-- approximate initial yaw angle of drone (radians)\n",
    "        ):\n",
    "        \n",
    "        # Choose initial state estimate (FIXME)\n",
    "        self.xhat = np.zeros(12)\n",
    "\n",
    "    def run(\n",
    "            self,\n",
    "            pos_markers,\n",
    "            pos_ring,\n",
    "            dir_ring,\n",
    "            is_last_ring,\n",
    "            pos_others,\n",
    "        ):\n",
    "        \n",
    "        # Store ring position for later analysis\n",
    "        self.ring = pos_ring.copy()\n",
    "        \n",
    "        # Get xdes\n",
    "        self.xdes = self.get_xdes(self.xhat, pos_ring, dir_ring, is_last_ring, pos_others)\n",
    "        \n",
    "        # Apply controller and observer... (FIXME)\n",
    "        #\n",
    "        # u = ...\n",
    "        # y = ...\n",
    "        # self.xhat += ...\n",
    "        #\n",
    "        tau_x = 0.\n",
    "        tau_y = 0.\n",
    "        tau_z = 0.\n",
    "        f_z = 0.\n",
    "        \n",
    "        return tau_x, tau_y, tau_z, f_z\n",
    "    \n",
    "    def get_xdes(self, xhat, pos_ring, dir_ring, is_last_ring, pos_others):\n",
    "        xdes = np.zeros(12)\n",
    "        xdes[0:3] = np.array([0., 0., 1.])\n",
    "        return xdes"
   ]
  },
  {
   "cell_type": "markdown",
   "id": "ec385b4a",
   "metadata": {},
   "source": [
    "Rearrange the rings."
   ]
  },
  {
   "cell_type": "code",
   "execution_count": null,
   "id": "4242f8a2",
   "metadata": {},
   "outputs": [],
   "source": [
    "simulator.place_rings()"
   ]
  },
  {
   "cell_type": "markdown",
   "id": "3c6c501b",
   "metadata": {},
   "source": [
    "## Without collision avoidance"
   ]
  },
  {
   "cell_type": "markdown",
   "id": "057d1740",
   "metadata": {},
   "source": [
    "This controller is what we might start with before adding a planner with collision avoidance."
   ]
  },
  {
   "cell_type": "code",
   "execution_count": null,
   "id": "f9ef1bed",
   "metadata": {},
   "outputs": [],
   "source": [
    "class Controller(ae353_dronecontrol.Controller):\n",
    "    def get_color(self):\n",
    "        return [1., 0., 0.]\n",
    "    \n",
    "    def get_xdes(self, t, xhat, pos_ring, dir_ring, is_last_ring, pos_others):\n",
    "        # Get estimated position\n",
    "        phat = xhat[0:3]\n",
    "        \n",
    "        # Get desired position\n",
    "        pdes = pos_ring\n",
    "        \n",
    "        # Make sure desired position is not too far away\n",
    "        emax = 1.\n",
    "        if np.linalg.norm(pdes - phat) > emax:\n",
    "            pdes = phat + emax * ((pdes - phat) / np.linalg.norm(pdes - phat))\n",
    "        \n",
    "        # Get desired state\n",
    "        xdes = np.zeros(12)\n",
    "        xdes[0:3] = pdes\n",
    "        return xdes"
   ]
  },
  {
   "cell_type": "markdown",
   "id": "4b05a4da",
   "metadata": {},
   "source": [
    "Clear all drones."
   ]
  },
  {
   "cell_type": "code",
   "execution_count": null,
   "id": "4627ccc1",
   "metadata": {},
   "outputs": [],
   "source": [
    "simulator.clear_drones()"
   ]
  },
  {
   "cell_type": "markdown",
   "id": "6592519f",
   "metadata": {},
   "source": [
    "Add drones to simulator."
   ]
  },
  {
   "cell_type": "code",
   "execution_count": null,
   "id": "5f31a4c0",
   "metadata": {},
   "outputs": [],
   "source": [
    "num_drones = 5\n",
    "for i in range(num_drones):\n",
    "    simulator.add_drone(Controller, f'test_{i + 1}', 'template.png')"
   ]
  },
  {
   "cell_type": "markdown",
   "id": "5a3542fe",
   "metadata": {},
   "source": [
    "Reset the simulator."
   ]
  },
  {
   "cell_type": "code",
   "execution_count": null,
   "id": "42819485",
   "metadata": {},
   "outputs": [],
   "source": [
    "simulator.reset()"
   ]
  },
  {
   "cell_type": "markdown",
   "id": "961d3dc0",
   "metadata": {},
   "source": [
    "Run the simulator."
   ]
  },
  {
   "cell_type": "code",
   "execution_count": null,
   "id": "38bb3770",
   "metadata": {},
   "outputs": [],
   "source": [
    "simulator.run(max_time=25., print_debug=True)"
   ]
  },
  {
   "cell_type": "markdown",
   "id": "c2e4c17f",
   "metadata": {},
   "source": [
    "## With collision avoidance"
   ]
  },
  {
   "cell_type": "markdown",
   "id": "f67d625a",
   "metadata": {},
   "source": [
    "This controller is a template for adding a planner with collision avoidance."
   ]
  },
  {
   "cell_type": "code",
   "execution_count": 32,
   "id": "b85b62c5",
   "metadata": {},
   "outputs": [],
   "source": [
    "class AvoidanceController(ae353_dronecontrol.Controller):\n",
    "    def get_color(self):\n",
    "        return [0., 1., 0.]\n",
    "    \n",
    "    def get_xdes(self, t, xhat, pos_ring, dir_ring, is_last_ring, pos_others):\n",
    "        # Get estimated position\n",
    "        phat = xhat[0:3]\n",
    "\n",
    "        # Choose goal\n",
    "        pgoal = pos_ring\n",
    "        \n",
    "        ##############################\n",
    "        \n",
    "        # Define parameters\n",
    "        k_att = 1.0\n",
    "        k_rep = 1.0\n",
    "        k_des = 1.0\n",
    "        r_drone = 0.25  # <-- radius of a sphere that would completely contain each drone\n",
    "        r_ring = 1.0    # <-- radius of each small ring\n",
    "        \n",
    "        # Get attractive part\n",
    "        grad_h_att = k_att * ((phat - pgoal) / np.linalg.norm(phat - pgoal))\n",
    "        \n",
    "        # Get repulsive part\n",
    "        # - Initialize the gradient\n",
    "        grad_h_rep = np.zeros(3)\n",
    "        # - Add repulsive part for each other drone\n",
    "        for q in pos_others:\n",
    "            pobst = q + r_drone * ((phat - q) / np.linalg.norm(phat - q))\n",
    "            dgrad = (phat - pobst) / np.linalg.norm(phat - pobst)\n",
    "            d = np.linalg.norm(phat - pobst) - r_drone\n",
    "            grad_h_rep += - k_rep * (1 / d**2) * dgrad\n",
    "        # - Add repulsive part for next ring\n",
    "        q = pos_ring\n",
    "        n = dir_ring\n",
    "        v_n = np.dot(n, phat - q) * n\n",
    "        v_t = (phat - q) - v_n\n",
    "        if np.linalg.norm(v_t) > r_ring:\n",
    "            pobst = q + v_t\n",
    "        else:\n",
    "            pobst = q + r_ring * (v_t / np.linalg.norm(v_t))\n",
    "        dgrad = (phat - pobst) / np.linalg.norm(phat - pobst)\n",
    "        d = np.linalg.norm(phat - pobst) - r_drone\n",
    "        grad_h_rep += - k_rep * (1 / d**2) * dgrad\n",
    "        # - Add repulsive part for ground\n",
    "        q = np.array([0., 0., 0.])\n",
    "        n = np.array([0., 0., 1.])\n",
    "        pobst = phat - np.dot(n, phat - q) * n\n",
    "        dgrad = (phat - pobst) / np.linalg.norm(phat - pobst)\n",
    "        d = np.linalg.norm(phat - pobst) - r_drone\n",
    "        grad_h_rep += - k_rep * (1 / d**2) * dgrad\n",
    "        # n.dot(p - q)\n",
    "        grad_h_rep += np.zeros(3)           # <-- REPLACE WITH YOUR CODE\n",
    "        \n",
    "        # Get desired position\n",
    "        pdes = phat - k_des * (grad_h_att + grad_h_rep)\n",
    "        \n",
    "        ##############################\n",
    "        \n",
    "        # Make sure desired position is not too far away\n",
    "        emax = 1.\n",
    "        if np.linalg.norm(pdes - phat) > emax:\n",
    "            pdes = phat + emax * ((pdes - phat) / np.linalg.norm(pdes - phat))\n",
    "        \n",
    "        # Get desired state\n",
    "        xdes = np.zeros(12)\n",
    "        xdes[0:3] = pdes\n",
    "        return xdes"
   ]
  },
  {
   "cell_type": "markdown",
   "id": "cfdf8464",
   "metadata": {},
   "source": [
    "Clear all drones."
   ]
  },
  {
   "cell_type": "code",
   "execution_count": 33,
   "id": "a469752f",
   "metadata": {},
   "outputs": [],
   "source": [
    "simulator.clear_drones()"
   ]
  },
  {
   "cell_type": "markdown",
   "id": "3b4361aa",
   "metadata": {},
   "source": [
    "Add drones to simulator."
   ]
  },
  {
   "cell_type": "code",
   "execution_count": 34,
   "id": "68b7514c",
   "metadata": {},
   "outputs": [],
   "source": [
    "num_drones = 5\n",
    "for i in range(num_drones):\n",
    "    simulator.add_drone(AvoidanceController, f'test_{i + 1}', 'template.png')"
   ]
  },
  {
   "cell_type": "markdown",
   "id": "1d36a2fa",
   "metadata": {},
   "source": [
    "Reset the simulator."
   ]
  },
  {
   "cell_type": "code",
   "execution_count": 35,
   "id": "37d87af5",
   "metadata": {},
   "outputs": [],
   "source": [
    "simulator.reset()"
   ]
  },
  {
   "cell_type": "markdown",
   "id": "4ccc3158",
   "metadata": {},
   "source": [
    "Run the simulator."
   ]
  },
  {
   "cell_type": "code",
   "execution_count": 37,
   "id": "93d43d57",
   "metadata": {},
   "outputs": [
    {
     "name": "stdout",
     "output_type": "stream",
     "text": [
      "Simulated 3750 time steps in 150.0478 seconds (24.9920 time steps per second)\n"
     ]
    }
   ],
   "source": [
    "simulator.run(max_time=150., print_debug=True)"
   ]
  },
  {
   "cell_type": "markdown",
   "id": "c2c9769a",
   "metadata": {},
   "source": [
    "### Show results"
   ]
  },
  {
   "cell_type": "markdown",
   "id": "533ad9a4",
   "metadata": {},
   "source": [
    "Get data."
   ]
  },
  {
   "cell_type": "code",
   "execution_count": null,
   "id": "abb7cc8b",
   "metadata": {},
   "outputs": [],
   "source": [
    "data = simulator.get_data('test_1')"
   ]
  },
  {
   "cell_type": "markdown",
   "id": "739ba920",
   "metadata": {},
   "source": [
    "Plot results (position only)."
   ]
  },
  {
   "cell_type": "code",
   "execution_count": null,
   "id": "31c6a703",
   "metadata": {},
   "outputs": [],
   "source": [
    "p_x_est = data['xhat'][:, 0]\n",
    "p_y_est = data['xhat'][:, 1]\n",
    "p_z_est = data['xhat'][:, 2]\n",
    "\n",
    "p_x_des = data['xdes'][:, 0]\n",
    "p_y_des = data['xdes'][:, 1]\n",
    "p_z_des = data['xdes'][:, 2]\n",
    "\n",
    "p_x_ring = data['ring'][:, 0]\n",
    "p_y_ring = data['ring'][:, 1]\n",
    "p_z_ring = data['ring'][:, 2]\n",
    "\n",
    "# Create a figure with subplots that all share the same x-axis\n",
    "fig, (ax_px, ax_py, ax_pz) = plt.subplots(3, 1, figsize=(12, 8), sharex=True)\n",
    "\n",
    "ax_px.plot(data['t'], data['p_x'], label='x (m)', linewidth=3)\n",
    "ax_px.plot(data['t'], p_x_est, '--', label='estimated x (m)', linewidth=4)\n",
    "ax_px.plot(data['t'], p_x_des, ':', label='desired x (m)', linewidth=4)\n",
    "ax_px.plot(data['t'], p_x_ring, '-.', label='ring x (m)', linewidth=3)\n",
    "ax_px.grid()\n",
    "ax_px.legend(fontsize=16, bbox_to_anchor=(1., 1.))\n",
    "ax_px.tick_params(labelsize=14)\n",
    "\n",
    "ax_py.plot(data['t'], data['p_y'], label='y (m)', linewidth=3)\n",
    "ax_py.plot(data['t'], p_y_est, '--', label='estimated y (m)', linewidth=4)\n",
    "ax_py.plot(data['t'], p_y_des, ':', label='desired y (m)', linewidth=4)\n",
    "ax_py.plot(data['t'], p_y_ring, '-.', label='ring y (m)', linewidth=3)\n",
    "ax_py.grid()\n",
    "ax_py.legend(fontsize=16, bbox_to_anchor=(1., 1.))\n",
    "ax_py.tick_params(labelsize=14)\n",
    "\n",
    "ax_pz.plot(data['t'], data['p_z'], label='z (m)', linewidth=3)\n",
    "ax_pz.plot(data['t'], p_z_est, '--', label='estimated z (m)', linewidth=4)\n",
    "ax_pz.plot(data['t'], p_z_des, ':', label='desired z (m)', linewidth=4)\n",
    "ax_pz.plot(data['t'], p_z_ring, '-.', label='ring z (m)', linewidth=3)\n",
    "ax_pz.grid()\n",
    "ax_pz.legend(fontsize=16, bbox_to_anchor=(1., 1.))\n",
    "ax_pz.tick_params(labelsize=14)\n",
    "\n",
    "# Set shared x-axis properties\n",
    "ax_pz.set_xlabel('time (s)', fontsize=20)\n",
    "ax_pz.set_xlim([data['t'][0], data['t'][-1]])\n",
    "\n",
    "# Make the arrangement of subplots look nice\n",
    "fig.tight_layout()\n",
    "plt.show()"
   ]
  }
 ],
 "metadata": {
  "kernelspec": {
   "display_name": "ae353",
   "language": "python",
   "name": "python3"
  },
  "language_info": {
   "codemirror_mode": {
    "name": "ipython",
    "version": 3
   },
   "file_extension": ".py",
   "mimetype": "text/x-python",
   "name": "python",
   "nbconvert_exporter": "python",
   "pygments_lexer": "ipython3",
   "version": "3.13.2"
  }
 },
 "nbformat": 4,
 "nbformat_minor": 5
}
