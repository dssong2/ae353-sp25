{
 "cells": [
  {
   "cell_type": "markdown",
   "id": "4ec3bcbd",
   "metadata": {},
   "source": [
    "# What can go wrong if you mix numeric and symbolic computation"
   ]
  },
  {
   "cell_type": "markdown",
   "id": "08bf85df",
   "metadata": {},
   "source": [
    "Do imports."
   ]
  },
  {
   "cell_type": "code",
   "execution_count": 2,
   "id": "7d9be516",
   "metadata": {},
   "outputs": [],
   "source": [
    "import numpy as np\n",
    "from scipy import linalg\n",
    "import sympy as sym"
   ]
  },
  {
   "cell_type": "markdown",
   "id": "69152936",
   "metadata": {},
   "source": [
    "## Matrix exponential"
   ]
  },
  {
   "cell_type": "markdown",
   "id": "94c5d723",
   "metadata": {},
   "source": [
    "### Example 1"
   ]
  },
  {
   "cell_type": "markdown",
   "id": "b946c3b2",
   "metadata": {},
   "source": [
    "An example matrix (numeric)."
   ]
  },
  {
   "cell_type": "code",
   "execution_count": null,
   "id": "32543162",
   "metadata": {},
   "outputs": [],
   "source": [
    "F = np.array([[1., 2.],\n",
    "              [3., 4.]])"
   ]
  },
  {
   "cell_type": "markdown",
   "id": "e12b82c8",
   "metadata": {},
   "source": [
    "Taking the matrix exponential (numeric)."
   ]
  },
  {
   "cell_type": "code",
   "execution_count": null,
   "id": "193ea3d4",
   "metadata": {},
   "outputs": [],
   "source": [
    "linalg.expm(F)"
   ]
  },
  {
   "cell_type": "markdown",
   "id": "750fb49c",
   "metadata": {},
   "source": [
    "Taking the matrix exponential (symbolic)."
   ]
  },
  {
   "cell_type": "code",
   "execution_count": null,
   "id": "bdbe1028",
   "metadata": {},
   "outputs": [],
   "source": [
    "# Convert from numeric to symbolic matrix\n",
    "F_sym = sym.Matrix(F)\n",
    "\n",
    "# Take matrix exponential\n",
    "sym.exp(F_sym)"
   ]
  },
  {
   "cell_type": "markdown",
   "id": "1a16f2fb",
   "metadata": {},
   "source": [
    "### Example 2"
   ]
  },
  {
   "cell_type": "markdown",
   "id": "bbef550d",
   "metadata": {},
   "source": [
    "An example matrix (numeric)."
   ]
  },
  {
   "cell_type": "code",
   "execution_count": null,
   "id": "fcbebddd",
   "metadata": {},
   "outputs": [],
   "source": [
    "F = np.array([[0.1, 0.2],\n",
    "              [0.3, 0.4]])"
   ]
  },
  {
   "cell_type": "markdown",
   "id": "25ade4d9",
   "metadata": {},
   "source": [
    "Taking the matrix exponential (numeric)."
   ]
  },
  {
   "cell_type": "code",
   "execution_count": null,
   "id": "9275cfb3",
   "metadata": {},
   "outputs": [],
   "source": [
    "linalg.expm(F)"
   ]
  },
  {
   "cell_type": "markdown",
   "id": "4f5e10cf",
   "metadata": {},
   "source": [
    "Taking the matrix exponential (symbolic)."
   ]
  },
  {
   "cell_type": "code",
   "execution_count": null,
   "id": "87864d28",
   "metadata": {},
   "outputs": [],
   "source": [
    "# Convert from numeric to symbolic matrix\n",
    "F_sym = sym.Matrix(F)\n",
    "\n",
    "# Take matrix exponential\n",
    "sym.exp(F_sym)"
   ]
  },
  {
   "cell_type": "markdown",
   "id": "b86ab8e0",
   "metadata": {},
   "source": [
    "### Example 3"
   ]
  },
  {
   "cell_type": "markdown",
   "id": "422b45d7",
   "metadata": {},
   "source": [
    "An example matrix (numeric)."
   ]
  },
  {
   "cell_type": "code",
   "execution_count": null,
   "id": "cb386793",
   "metadata": {},
   "outputs": [],
   "source": [
    "F = np.array([[0.1, 0.2, 0.3, 0.4],\n",
    "              [0.5, 0.6, 0.7, 0.8],\n",
    "              [0.9, 1.0, 1.1, 1.2],\n",
    "              [1.3, 1.4, 1.5, 1.6]])"
   ]
  },
  {
   "cell_type": "markdown",
   "id": "6a691a2f",
   "metadata": {},
   "source": [
    "Taking the matrix exponential (numeric)."
   ]
  },
  {
   "cell_type": "code",
   "execution_count": null,
   "id": "a4317f42",
   "metadata": {},
   "outputs": [],
   "source": [
    "linalg.expm(F)"
   ]
  },
  {
   "cell_type": "markdown",
   "id": "7b42f232",
   "metadata": {},
   "source": [
    "Taking the matrix exponential (symbolic)."
   ]
  },
  {
   "cell_type": "code",
   "execution_count": null,
   "id": "f600e240",
   "metadata": {},
   "outputs": [],
   "source": [
    "# Convert from numeric to symbolic matrix\n",
    "F_sym = sym.Matrix(F)\n",
    "\n",
    "# Take matrix exponential\n",
    "sym.exp(F_sym)"
   ]
  },
  {
   "cell_type": "markdown",
   "id": "78040cad",
   "metadata": {},
   "source": [
    "### Example 4"
   ]
  },
  {
   "cell_type": "markdown",
   "id": "c68a9d26",
   "metadata": {},
   "source": [
    "An example matrix (numeric)."
   ]
  },
  {
   "cell_type": "code",
   "execution_count": null,
   "id": "6d1f3fbd",
   "metadata": {},
   "outputs": [],
   "source": [
    "F = np.array([[-0.2, 0.0, -0.5, 0.4],\n",
    "              [-0.8, 0.9, 0.4, 0.8],\n",
    "              [-0.04, 0.7, -0.81, -0.96],\n",
    "              [-0.3, -0.3, 0.65, 0.1]])"
   ]
  },
  {
   "cell_type": "markdown",
   "id": "55cd36f0",
   "metadata": {},
   "source": [
    "Taking the matrix exponential (numeric)."
   ]
  },
  {
   "cell_type": "code",
   "execution_count": null,
   "id": "20289b9b",
   "metadata": {},
   "outputs": [],
   "source": [
    "linalg.expm(F)"
   ]
  },
  {
   "cell_type": "markdown",
   "id": "8ef55cca",
   "metadata": {},
   "source": [
    "Taking the matrix exponential (symbolic)."
   ]
  },
  {
   "cell_type": "code",
   "execution_count": null,
   "id": "d535cca6",
   "metadata": {},
   "outputs": [],
   "source": [
    "# Convert from numeric to symbolic matrix\n",
    "F_sym = sym.Matrix(F)\n",
    "\n",
    "# Take matrix exponential\n",
    "sym.exp(F_sym)"
   ]
  },
  {
   "cell_type": "markdown",
   "id": "71cbe79d",
   "metadata": {},
   "source": [
    "## Differentiation of sines and cosines"
   ]
  },
  {
   "cell_type": "markdown",
   "id": "da99e70f",
   "metadata": {},
   "source": [
    "Define a symbolic variable."
   ]
  },
  {
   "cell_type": "code",
   "execution_count": null,
   "id": "77e2e132",
   "metadata": {},
   "outputs": [
    {
     "data": {
      "text/latex": [
       "$\\displaystyle \\left[\\begin{matrix}\\cos{\\left(\\theta \\right)}\\end{matrix}\\right]$"
      ],
      "text/plain": [
       "Matrix([[cos(theta)]])"
      ]
     },
     "execution_count": 3,
     "metadata": {},
     "output_type": "execute_result"
    }
   ],
   "source": [
    "theta = sym.symbols('theta')"
   ]
  },
  {
   "cell_type": "markdown",
   "id": "ee1a0ccd",
   "metadata": {},
   "source": [
    "Using `sym.sin`, define a vector-valued function\n",
    "\n",
    "$$f(\\theta) = \\begin{bmatrix} \\sin(\\theta) \\end{bmatrix}$$\n",
    "\n",
    "and compute\n",
    "\n",
    "$$\\dfrac{\\partial f}{\\partial \\theta}.$$"
   ]
  },
  {
   "cell_type": "code",
   "execution_count": 5,
   "id": "dee29929",
   "metadata": {},
   "outputs": [
    {
     "data": {
      "text/latex": [
       "$\\displaystyle \\left[\\begin{matrix}\\cos{\\left(\\theta \\right)}\\end{matrix}\\right]$"
      ],
      "text/plain": [
       "Matrix([[cos(theta)]])"
      ]
     },
     "execution_count": 5,
     "metadata": {},
     "output_type": "execute_result"
    }
   ],
   "source": [
    "# Define f\n",
    "f = sym.Matrix([sym.sin(theta)])\n",
    "\n",
    "# Compute Jacobian\n",
    "f.jacobian([theta])"
   ]
  },
  {
   "cell_type": "markdown",
   "id": "01f1e0e3",
   "metadata": {},
   "source": [
    "Using `np.sin`, define a vector-valued function\n",
    "\n",
    "$$f(\\theta) = \\begin{bmatrix} \\sin(\\theta) \\end{bmatrix}$$\n",
    "\n",
    "and compute\n",
    "\n",
    "$$\\dfrac{\\partial f}{\\partial \\theta}.$$"
   ]
  },
  {
   "cell_type": "code",
   "execution_count": 6,
   "id": "116cffcf",
   "metadata": {},
   "outputs": [
    {
     "ename": "TypeError",
     "evalue": "loop of ufunc does not support argument 0 of type Symbol which has no callable sin method",
     "output_type": "error",
     "traceback": [
      "\u001b[0;31m---------------------------------------------------------------------------\u001b[0m",
      "\u001b[0;31mAttributeError\u001b[0m                            Traceback (most recent call last)",
      "\u001b[0;31mAttributeError\u001b[0m: 'Symbol' object has no attribute 'sin'",
      "\nThe above exception was the direct cause of the following exception:\n",
      "\u001b[0;31mTypeError\u001b[0m                                 Traceback (most recent call last)",
      "Cell \u001b[0;32mIn[6], line 2\u001b[0m\n\u001b[1;32m      1\u001b[0m \u001b[38;5;66;03m# Define f\u001b[39;00m\n\u001b[0;32m----> 2\u001b[0m f \u001b[38;5;241m=\u001b[39m sym\u001b[38;5;241m.\u001b[39mMatrix([\u001b[43mnp\u001b[49m\u001b[38;5;241;43m.\u001b[39;49m\u001b[43msin\u001b[49m\u001b[43m(\u001b[49m\u001b[43mtheta\u001b[49m\u001b[43m)\u001b[49m])\n\u001b[1;32m      4\u001b[0m \u001b[38;5;66;03m# Compute Jacobian\u001b[39;00m\n\u001b[1;32m      5\u001b[0m f\u001b[38;5;241m.\u001b[39mjacobian([theta])\n",
      "\u001b[0;31mTypeError\u001b[0m: loop of ufunc does not support argument 0 of type Symbol which has no callable sin method"
     ]
    }
   ],
   "source": [
    "# Define f\n",
    "f = sym.Matrix([np.sin(theta)])\n",
    "\n",
    "# Compute Jacobian\n",
    "f.jacobian([theta])"
   ]
  }
 ],
 "metadata": {
  "kernelspec": {
   "display_name": "ae353",
   "language": "python",
   "name": "python3"
  },
  "language_info": {
   "codemirror_mode": {
    "name": "ipython",
    "version": 3
   },
   "file_extension": ".py",
   "mimetype": "text/x-python",
   "name": "python",
   "nbconvert_exporter": "python",
   "pygments_lexer": "ipython3",
   "version": "3.13.1"
  }
 },
 "nbformat": 4,
 "nbformat_minor": 5
}
