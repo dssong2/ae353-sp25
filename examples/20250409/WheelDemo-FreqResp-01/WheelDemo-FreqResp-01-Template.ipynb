{
 "cells": [
  {
   "cell_type": "markdown",
   "id": "middle-acoustic",
   "metadata": {},
   "source": [
    "# Demo: Frequency Response (Part 1)"
   ]
  },
  {
   "cell_type": "markdown",
   "id": "working-minority",
   "metadata": {},
   "source": [
    "#### Import modules and configure the notebook."
   ]
  },
  {
   "cell_type": "code",
   "execution_count": null,
   "id": "dimensional-contamination",
   "metadata": {},
   "outputs": [],
   "source": [
    "# These are standard modules\n",
    "import time\n",
    "import numpy as np\n",
    "import sympy as sym\n",
    "from scipy.signal import place_poles\n",
    "from scipy import linalg\n",
    "from scipy import signal\n",
    "import matplotlib.pyplot as plt\n",
    "from matplotlib.ticker import MultipleLocator\n",
    "from IPython.display import display, Latex, Markdown\n",
    "\n",
    "# This is a custom interface to the pybullet simulator\n",
    "import ae353_wheel_sensors\n",
    "\n",
    "# Stupid hack because tornado is broken in jupyter\n",
    "%matplotlib widget\n",
    "plt.ioff()\n",
    "plt.ion()\n",
    "\n",
    "# Suppress the use of scientific notation when printing small numbers\n",
    "np.set_printoptions(suppress=True)"
   ]
  },
  {
   "cell_type": "markdown",
   "id": "f3e9a663",
   "metadata": {},
   "source": [
    "#### Choose parameter values"
   ]
  },
  {
   "cell_type": "markdown",
   "id": "2ab48494",
   "metadata": {},
   "source": [
    "The equation of motion is\n",
    "\n",
    "$$c_1 \\ddot{q} = \\tau - (c_2 \\sin \\phi) \\sin q$$\n",
    "\n",
    "where\n",
    "\n",
    "* $q$ is the wheel angle\n",
    "* $\\tau$ is the wheel torque, i.e., the torque applied to the wheel by a motor on the ground\n",
    "* $\\phi$ is the \"roll angle\" of the ground with respect to horizontal\n",
    "\n",
    "and where the values of $c_1$ and $c_2$ are given as follows:"
   ]
  },
  {
   "cell_type": "code",
   "execution_count": null,
   "id": "2680ee94",
   "metadata": {},
   "outputs": [],
   "source": [
    "# Values of c1 and c2 for the example (do not change)\n",
    "c1 = 1.0\n",
    "c2 = 2.0\n",
    "\n",
    "# Values of other parameters that are given\n",
    "g = 9.81 # <-- acceleration of gravity\n",
    "r = 0.35 # <-- distance from wheel axis to marker (i.e., to the mass)\n",
    "\n",
    "# Values of other parameters that correspond to the coefficients c1 and c2 that we chose\n",
    "m = c2 / (g * r)   # <-- set in code\n",
    "J = c1 - m * r**2  # <-- set in URDF\n",
    "print(f'm = {m}\\nJ = {J}')"
   ]
  },
  {
   "cell_type": "markdown",
   "id": "95f4f02c",
   "metadata": {},
   "source": [
    "#### Set up simulations"
   ]
  },
  {
   "cell_type": "markdown",
   "id": "cbf2330b",
   "metadata": {},
   "source": [
    "Create an instance of the `Simulator` class with particular values of `roll`, `mass`, and `inertia`."
   ]
  },
  {
   "cell_type": "code",
   "execution_count": null,
   "id": "ca539a71",
   "metadata": {},
   "outputs": [],
   "source": [
    "simulator = ae353_wheel_sensors.Simulator(\n",
    "    display=True,\n",
    "    roll=0.,\n",
    "    mass=m,\n",
    "    inertia=J,\n",
    ")"
   ]
  },
  {
   "cell_type": "markdown",
   "id": "f9be5a9f",
   "metadata": {},
   "source": [
    "#### Define functions to plot results"
   ]
  },
  {
   "cell_type": "markdown",
   "id": "b4a9de10",
   "metadata": {},
   "source": [
    "This function plots results in terms of nonlinear states and inputs."
   ]
  },
  {
   "cell_type": "code",
   "execution_count": null,
   "id": "71ab84e7",
   "metadata": {},
   "outputs": [],
   "source": [
    "def show_results(data, q_e, v_e, tau_e):\n",
    "    t = data['t']\n",
    "    q = data['wheel_angle']\n",
    "    v = data['wheel_velocity']\n",
    "    tau = data['wheel_torque']\n",
    "    tau_cmd = data['wheel_torque_command']\n",
    "    q_meas = data['wheel_angle_measurement']\n",
    "    q_des = data['desired_wheel_angle']\n",
    "    xhat = data['xhat']\n",
    "    q_est = xhat[:, 0] + q_e\n",
    "    v_est = xhat[:, 1] + v_e\n",
    "\n",
    "    fig, (ax_q, ax_v, ax_tau) = plt.subplots(\n",
    "        3, 1, figsize=(10, 8), sharex=True,\n",
    "    )\n",
    "\n",
    "    ax_q.plot(t, q, label=r'$q$', linewidth=4)\n",
    "    ax_q.plot(t, q_est, '--', label=r'$q$ (estimated)', linewidth=4)\n",
    "    ax_q.plot(t, q_meas, '.', markersize=1, label=r'$q$ (measured)')\n",
    "    ax_q.plot(t, q_des, ':', label=r'$q$ (desired)')\n",
    "    ax_q.plot(t, q_e * np.ones_like(t), ':', label=r'$q_e$', linewidth=3, color='C3')\n",
    "    ax_v.plot(t, v, label=r'$v$', linewidth=4)\n",
    "    ax_v.plot(t, v_est, '--', label=r'$v$ (estimated)', linewidth=4)\n",
    "    ax_v.plot(t, v_e * np.ones_like(t), ':', label=r'$v_e$', linewidth=3, color='C3')\n",
    "    ax_tau.plot(t, tau, label=r'$\\tau$', linewidth=4)\n",
    "    ax_tau.plot(t, tau_cmd, '-.', label=r'$\\tau$ (command)', linewidth=3, color='C6')\n",
    "    tau_max = np.ones_like(t) * simulator.tau_max\n",
    "    ax_tau.plot(t, tau_max,\n",
    "                '--', label=r'$\\tau$ (max)', linewidth=2, color='C2', zorder=0)\n",
    "    ax_tau.plot(t, - tau_max,\n",
    "                '--', linewidth=2, color='C2', zorder=0)\n",
    "\n",
    "    ax_q.grid()\n",
    "    ax_q.legend(fontsize=14, ncol=4, loc='upper right')\n",
    "    ax_q.tick_params(labelsize=14)\n",
    "    ax_q.set_ylim(np.min(q_des) - 0.5, np.max(q_des) + 0.5)\n",
    "\n",
    "    ax_v.grid()\n",
    "    ax_v.legend(fontsize=14, ncol=3, loc='upper right')\n",
    "    ax_v.tick_params(labelsize=14)\n",
    "    ax_v.set_ylim(v_e - 1., v_e + 1.)\n",
    "\n",
    "    ax_tau.grid()\n",
    "    ax_tau.legend(fontsize=14, ncol=3, loc='upper right')\n",
    "    ax_tau.tick_params(labelsize=14)\n",
    "    ax_tau.set_ylim(-1.2 * simulator.tau_max, 1.2 * simulator.tau_max)\n",
    "\n",
    "    ax_tau.set_xlabel('time (s)', fontsize=14)\n",
    "    ax_tau.set_xlim([data['t'][0], data['t'][-1]])\n",
    "\n",
    "    fig.tight_layout()\n",
    "    plt.show()\n",
    "\n",
    "    plt.ioff()\n",
    "    plt.ion()"
   ]
  },
  {
   "cell_type": "markdown",
   "id": "e7bc24af",
   "metadata": {},
   "source": [
    "This function plots only $q$ and $q_\\text{des}$."
   ]
  },
  {
   "cell_type": "code",
   "execution_count": null,
   "id": "efa820d4",
   "metadata": {},
   "outputs": [],
   "source": [
    "def show_results_q(data, q_e, v_e, tau_e, omega=None, mag=None, ang=None, linewidth=4):\n",
    "    t = data['t']\n",
    "    q = data['wheel_angle']\n",
    "    q_des = data['desired_wheel_angle']\n",
    "    q_est = data['xhat'][:, 0] + q_e\n",
    "    if mag is not None:\n",
    "        q_pre = mag * np.sin(omega * data['t'] + ang)\n",
    "    fig, ax_q = plt.subplots(\n",
    "        1, 1, figsize=(8, 4), sharex=True,\n",
    "    )\n",
    "\n",
    "    ax_q.plot(t, q, label=r'$q$', linewidth=linewidth, color='C0')\n",
    "    ax_q.plot(t, q_des, '--', label=r'$q$ (desired)', linewidth=linewidth, color='C1')\n",
    "    ax_q.plot(t, q_est, '-.', label=r'$q$ (estimated)', linewidth=linewidth-2, color='C2')\n",
    "    if mag is not None:\n",
    "        ax_q.plot(t, q_pre, ':', label=r'$q$ (predicted)', linewidth=linewidth-1, color='C6')\n",
    "    ax_q.grid()\n",
    "    ax_q.legend(fontsize=14, ncol=4, loc='upper right')\n",
    "    ax_q.tick_params(labelsize=14)\n",
    "    ax_q.set_ylim(-0.2, 0.2)\n",
    "    ax_q.set_xlabel('time (s)', fontsize=14)\n",
    "    ax_q.set_xlim([data['t'][0], data['t'][-1]])\n",
    "\n",
    "    fig.tight_layout()\n",
    "    plt.show()\n",
    "\n",
    "    plt.ioff()\n",
    "    plt.ion()"
   ]
  },
  {
   "cell_type": "markdown",
   "id": "b34558c7",
   "metadata": {},
   "source": [
    "#### Define functions to print numerical results nicely"
   ]
  },
  {
   "cell_type": "code",
   "execution_count": null,
   "id": "dcde26a7",
   "metadata": {},
   "outputs": [],
   "source": [
    "def show_matrix(key, val):\n",
    "    latex = sym.latex(sym.nsimplify(sym.Matrix(val), rational=True))\n",
    "    display(Markdown(f'$${key} = {latex}$$'))\n",
    "    \n",
    "def show_transfer_function(key, val):\n",
    "    latex = sym.latex(sym.nsimplify(val, rational=True))\n",
    "    display(Markdown(f'$${key}(s) = {latex}$$'))"
   ]
  },
  {
   "cell_type": "markdown",
   "id": "efd80fd2",
   "metadata": {},
   "source": [
    "#### Do controller design"
   ]
  },
  {
   "cell_type": "markdown",
   "id": "a62353e1",
   "metadata": {},
   "source": [
    "Derive state-space model."
   ]
  },
  {
   "cell_type": "code",
   "execution_count": null,
   "id": "c7bc02cd",
   "metadata": {},
   "outputs": [],
   "source": [
    "# Define symbolic variables\n",
    "q, v, tau = sym.symbols('q, v, tau')\n",
    "\n",
    "# Define ODEs\n",
    "f = sym.Matrix([\n",
    "    v,\n",
    "    tau / c1,\n",
    "])\n",
    "\n",
    "# Convert floats to rationals\n",
    "f = sym.nsimplify(f, rational=True)\n",
    "\n",
    "# Choose equilibrium point\n",
    "(q_e, v_e, tau_e) = (0., 0., 0.)\n",
    "\n",
    "# Linearize\n",
    "A_num = sym.lambdify([q, v, tau], f.jacobian([q, v]))\n",
    "A = A_num(q_e, v_e, tau_e).astype(float)\n",
    "B_num = sym.lambdify([q, v, tau], f.jacobian([tau]))\n",
    "B = B_num(q_e, v_e, tau_e).astype(float)\n",
    "\n",
    "# Show result\n",
    "show_matrix('A', A)\n",
    "show_matrix('B', B)"
   ]
  },
  {
   "cell_type": "markdown",
   "id": "120c5027",
   "metadata": {},
   "source": [
    "Design controller by eigenvalue placement."
   ]
  },
  {
   "cell_type": "code",
   "execution_count": null,
   "id": "92ad85aa",
   "metadata": {},
   "outputs": [],
   "source": [
    "K = signal.place_poles(A, B, [-1. + 4. * 1j, -1. - 4. * 1j]).gain_matrix\n",
    "show_matrix('K', K)"
   ]
  },
  {
   "cell_type": "markdown",
   "id": "2d3ec6cf",
   "metadata": {},
   "source": [
    "#### Do observer design"
   ]
  },
  {
   "cell_type": "markdown",
   "id": "44f2e7b0",
   "metadata": {},
   "source": [
    "Derive state-space model."
   ]
  },
  {
   "cell_type": "code",
   "execution_count": null,
   "id": "9c3f69fa",
   "metadata": {},
   "outputs": [],
   "source": [
    "# Define nonlinear model\n",
    "g = sym.Matrix([q])\n",
    "\n",
    "# Convert floats to rationals\n",
    "g = sym.nsimplify(g, rational=True)\n",
    "\n",
    "# Linearize\n",
    "C_num = sym.lambdify([q, v, tau], g.jacobian([q, v]))\n",
    "C = C_num(q_e, v_e, tau_e).astype(float)\n",
    "D_num = sym.lambdify([q, v, tau], g.jacobian([tau]))\n",
    "D = D_num(q_e, v_e, tau_e).astype(float)\n",
    "\n",
    "# Show result\n",
    "show_matrix('C', C)\n",
    "show_matrix('D', D)"
   ]
  },
  {
   "cell_type": "markdown",
   "id": "8e6549e0",
   "metadata": {},
   "source": [
    "Design observer by eigenvalue placement."
   ]
  },
  {
   "cell_type": "code",
   "execution_count": null,
   "id": "f1e22881",
   "metadata": {},
   "outputs": [],
   "source": [
    "L = signal.place_poles(A.T, C.T, [-6., -7.]).gain_matrix.T\n",
    "show_matrix('L', L)"
   ]
  },
  {
   "cell_type": "markdown",
   "id": "041cf6a1",
   "metadata": {},
   "source": [
    "#### Implement and test"
   ]
  },
  {
   "cell_type": "markdown",
   "id": "7a4eb0a3",
   "metadata": {},
   "source": [
    "Implement."
   ]
  },
  {
   "cell_type": "code",
   "execution_count": null,
   "id": "60574a56",
   "metadata": {},
   "outputs": [],
   "source": [
    "class Controller:\n",
    "    def __init__(self, A, B, C, K, L, q_e, v_e, tau_e, get_desired_wheel_angle):\n",
    "        self.A = A\n",
    "        self.B = B\n",
    "        self.C = C\n",
    "        self.K = K\n",
    "        self.L = L\n",
    "        self.q_e = q_e\n",
    "        self.v_e = v_e\n",
    "        self.tau_e = tau_e\n",
    "        \n",
    "        self.dt = 0.01\n",
    "\n",
    "        self.get_desired_wheel_angle = get_desired_wheel_angle\n",
    "        \n",
    "        self.variables_to_log = ['xhat', 'desired_wheel_angle']\n",
    "    \n",
    "    def reset(self):\n",
    "        self.desired_wheel_angle = self.get_desired_wheel_angle(0.)\n",
    "        self.xhat = np.array([\n",
    "            self.desired_wheel_angle - self.q_e,\n",
    "            0.,\n",
    "        ])\n",
    "    \n",
    "    def run(self, t, wheel_angle_measurement):\n",
    "        \"\"\"\n",
    "        INPUTS\n",
    "         t = current time (s)\n",
    "         wheel_angle_measurement = measured angle of wheel from sensors (rad)\n",
    "         \n",
    "        OUTPUTS\n",
    "         wheel_torque = torque applied to wheel by motor on ground (N m)\n",
    "        \"\"\"\n",
    "        \n",
    "        # Get desired wheel angle\n",
    "        self.desired_wheel_angle = self.get_desired_wheel_angle(t)\n",
    "        \n",
    "        # Get desired state\n",
    "        xdes = np.array([\n",
    "            self.desired_wheel_angle - self.q_e,\n",
    "            self.v_e                 - self.v_e,\n",
    "        ])\n",
    "        \n",
    "        # Get input\n",
    "        u = - self.K @ (self.xhat - xdes)\n",
    "        \n",
    "        # Get measured wheel angle (sensors)\n",
    "        q = wheel_angle_measurement\n",
    "        \n",
    "        # Get output\n",
    "        y = np.array([\n",
    "            q - self.q_e,\n",
    "        ])\n",
    "        \n",
    "        # Get state estimate\n",
    "        self.xhat += self.dt * (\n",
    "            self.A @ self.xhat + self.B @ u - self.L @ (self.C @ self.xhat - y)\n",
    "        )\n",
    "        \n",
    "        # Get torque (actuators)\n",
    "        wheel_torque = u[0] + self.tau_e\n",
    "        \n",
    "        return wheel_torque"
   ]
  },
  {
   "cell_type": "markdown",
   "id": "3e5a4fd3",
   "metadata": {},
   "source": [
    "Test controller and observer (with tracking), given a desired wheel angle of the form\n",
    "\n",
    "$$q_\\text{des}(t) = a$$\n",
    "\n",
    "for some constant $a$."
   ]
  },
  {
   "cell_type": "code",
   "execution_count": null,
   "id": "6461bd2a",
   "metadata": {},
   "outputs": [],
   "source": [
    "# Choose amplitude\n",
    "a = 0.\n",
    "\n",
    "# Define function to get desired wheel angle\n",
    "get_desired_wheel_angle = lambda t: a\n",
    "\n",
    "# Create controller\n",
    "controller = Controller(A, B, C, K, L, q_e, v_e, tau_e, get_desired_wheel_angle)\n",
    "\n",
    "# Choose initial conditions\n",
    "(q_i, v_i) = (get_desired_wheel_angle(0.) + 0.15, v_e)\n",
    "\n",
    "# Reset controller\n",
    "controller.reset()\n",
    "\n",
    "# Reset simulator\n",
    "simulator.reset(\n",
    "    wheel_angle=q_i,\n",
    "    wheel_velocity=v_i,\n",
    "    sensor_noise=0.,\n",
    ")\n",
    "\n",
    "# Reset controller\n",
    "controller.reset()\n",
    "\n",
    "# Run simulator\n",
    "simulator.display_meshcat = True\n",
    "data = simulator.run(\n",
    "    controller,\n",
    "    max_time=5.,\n",
    ")\n",
    "\n",
    "# Show results\n",
    "# show_results(data, q_e, v_e, tau_e)\n",
    "show_results_q(data, q_e, v_e, tau_e)"
   ]
  },
  {
   "cell_type": "markdown",
   "id": "5783c1f1",
   "metadata": {},
   "source": [
    "Test controller and observer (with tracking), given a desired wheel angle of the form\n",
    "\n",
    "$$q_\\text{des}(t) = a \\sin(\\omega t)$$\n",
    "\n",
    "where $a$ is chosen small enough so that our state-space model is still accurate. Remember that the period $T$ (in seconds) of a sinusoid with frequency $\\omega$ (in radians / second) is\n",
    "\n",
    "$$T = \\dfrac{2\\pi}{\\omega}.$$"
   ]
  },
  {
   "cell_type": "code",
   "execution_count": null,
   "id": "b5849d97",
   "metadata": {},
   "outputs": [],
   "source": [
    "# Choose amplitude of oscillation\n",
    "a = 0.1\n",
    "\n",
    "# Choose period of oscillation\n",
    "T = 1.\n",
    "omega = 2 * np.pi / T\n",
    "\n",
    "# # Choose frequency of oscillation\n",
    "# omega = 1.\n",
    "# T = 2 * np.pi / omega\n",
    "\n",
    "# Show period and frequency of oscillation\n",
    "print(f'omega = {omega:.3f} (T = {T:.3f})')\n",
    "\n",
    "# Define function to get desired wheel angle\n",
    "get_desired_wheel_angle = lambda t: a * np.sin(omega * t)\n",
    "\n",
    "# Create controller\n",
    "controller = Controller(A, B, C, K, L, q_e, v_e, tau_e, get_desired_wheel_angle)\n",
    "\n",
    "# Choose initial conditions\n",
    "(q_i, v_i) = (get_desired_wheel_angle(0.) + 0.15, v_e)\n",
    "\n",
    "# Reset controller\n",
    "controller.reset()\n",
    "\n",
    "# Reset simulator\n",
    "simulator.reset(\n",
    "    wheel_angle=q_i,\n",
    "    wheel_velocity=v_i,\n",
    "    sensor_noise=0.,\n",
    ")\n",
    "\n",
    "# Reset controller\n",
    "controller.reset()\n",
    "\n",
    "# Run simulator\n",
    "simulator.display_meshcat = True\n",
    "data = simulator.run(\n",
    "    controller,\n",
    "    max_time=10 * T,\n",
    ")\n",
    "\n",
    "# Show results\n",
    "# show_results(data, q_e, v_e, tau_e)\n",
    "show_results_q(data, q_e, v_e, tau_e)"
   ]
  },
  {
   "cell_type": "code",
   "execution_count": null,
   "id": "2e26d7fb",
   "metadata": {},
   "outputs": [],
   "source": []
  }
 ],
 "metadata": {
  "kernelspec": {
   "display_name": "ae353",
   "language": "python",
   "name": "python3"
  },
  "language_info": {
   "codemirror_mode": {
    "name": "ipython",
    "version": 3
   },
   "file_extension": ".py",
   "mimetype": "text/x-python",
   "name": "python",
   "nbconvert_exporter": "python",
   "pygments_lexer": "ipython3",
   "version": "3.13.1"
  }
 },
 "nbformat": 4,
 "nbformat_minor": 5
}
