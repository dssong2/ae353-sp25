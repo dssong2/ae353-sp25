{
 "cells": [
  {
   "cell_type": "markdown",
   "id": "middle-acoustic",
   "metadata": {},
   "source": [
    "# Control of a \"spacecraft\" platform with a reaction wheel"
   ]
  },
  {
   "cell_type": "code",
   "execution_count": null,
   "id": "dimensional-contamination",
   "metadata": {},
   "outputs": [],
   "source": [
    "# These are standard modules\n",
    "import time\n",
    "import numpy as np\n",
    "from scipy import linalg\n",
    "from scipy import signal\n",
    "import sympy as sym\n",
    "import matplotlib.pyplot as plt\n",
    "from IPython.display import display, Latex, Markdown\n",
    "\n",
    "# This is a custom interface to the pybullet simulator\n",
    "import ae353_platform\n",
    "\n",
    "# Suppress the use of scientific notation when printing small numbers\n",
    "np.set_printoptions(suppress=True)"
   ]
  },
  {
   "cell_type": "markdown",
   "id": "73b3d8cb",
   "metadata": {},
   "source": [
    "Given a choice of ground roll angle $\\phi$, the equations of motion are\n",
    "\n",
    "$$\n",
    "\\begin{aligned}\n",
    "J_1 \\ddot{q}_1 &= \\tau - m_wgl\\sin(q_1)\\sin(\\phi) \\\\\n",
    "J_2 \\ddot{q}_2 &= - \\left( \\dfrac{J_1 + J_2}{J_1} \\right) \\tau + \\left( \\dfrac{J_2}{J_1} \\right) m_wgl\\sin(q_1)\\sin(\\phi)\n",
    "\\end{aligned}\n",
    "$$\n",
    "\n",
    "where\n",
    "\n",
    "* $q_1$ is the platform angle\n",
    "* $q_2$ is the wheel angle\n",
    "* $\\tau$ is the torque applied *to* the platform *by* the wheel\n",
    "\n",
    "and\n",
    "\n",
    "$$\n",
    "J_1 = J_p + m_wl^2\n",
    "\\qquad\n",
    "\\qquad\n",
    "J_2 = J_w.\n",
    "$$\n",
    "\n",
    "These equations can be written in standard form as\n",
    "\n",
    "$$\n",
    "\\begin{bmatrix}\n",
    "    \\dot{q}_1 \\\\\n",
    "    \\dot{v}_1 \\\\\n",
    "    \\dot{q}_2 \\\\\n",
    "    \\dot{v}_2\n",
    "\\end{bmatrix}\n",
    "=\n",
    "\\begin{bmatrix}\n",
    "    v_1 \\\\\n",
    "    \\left( \\tau - m_wgl\\sin(q_1)\\sin(\\phi) \\right) / J_1 \\\\\n",
    "    v_2 \\\\\n",
    "    \\left( -\\left((J_1 + J_2) / J_2\\right) \\tau + m_wgl\\sin(q_1)\\sin(\\phi) \\right) / J_1\n",
    "\\end{bmatrix}\n",
    "$$\n",
    "\n",
    "where\n",
    "\n",
    "* $v_1$ is the platform velocity\n",
    "* $v_2$ is the wheel velocity.\n",
    "\n",
    "\n",
    "The **equations of motion with no gravity** ($\\phi=0$) are\n",
    "\n",
    "$$\n",
    "\\begin{bmatrix}\n",
    "    \\dot{q}_1 \\\\\n",
    "    \\dot{v}_1 \\\\\n",
    "    \\dot{q}_2 \\\\\n",
    "    \\dot{v}_2\n",
    "\\end{bmatrix}\n",
    "=\n",
    "\\begin{bmatrix}\n",
    "    v_1 \\\\\n",
    "    \\left(1 / J_1\\right) \\tau \\\\\n",
    "    v_2 \\\\\n",
    "    -\\left((J_1 + J_2) / (J_1 J_2)\\right) \\tau\n",
    "\\end{bmatrix}.\n",
    "$$\n",
    "\n",
    "The **equations of motion with gravity** ($\\phi = \\pi / 2$) are\n",
    "\n",
    "$$\n",
    "\\begin{bmatrix}\n",
    "    \\dot{q}_1 \\\\\n",
    "    \\dot{v}_1 \\\\\n",
    "    \\dot{q}_2 \\\\\n",
    "    \\dot{v}_2\n",
    "\\end{bmatrix}\n",
    "=\n",
    "\\begin{bmatrix}\n",
    "    v_1 \\\\\n",
    "    \\left( \\tau - m_wgl\\sin(q_1) \\right) / J_1 \\\\\n",
    "    v_2 \\\\\n",
    "    \\left( -\\left((J_1 + J_2) / J_2\\right) \\tau + m_wgl\\sin(q_1) \\right) / J_1\n",
    "\\end{bmatrix}.\n",
    "$$"
   ]
  },
  {
   "cell_type": "markdown",
   "id": "3d1c4607",
   "metadata": {},
   "source": [
    "Parameter values are defined as follows:"
   ]
  },
  {
   "cell_type": "code",
   "execution_count": null,
   "id": "ecac734d",
   "metadata": {},
   "outputs": [],
   "source": [
    "# distance from platform axis to wheel axis\n",
    "l = 1.\n",
    "\n",
    "# radius of wheel\n",
    "rw = 0.5\n",
    "\n",
    "# mass of wheel\n",
    "mw = 0.25\n",
    "\n",
    "# moi of wheel\n",
    "Jw = 0.5 * mw * rw**2\n",
    "\n",
    "# mass of platform\n",
    "mp = 12. * (1. - mw * l**2) / (3.**2 + 2.**2)\n",
    "\n",
    "# moment of inertia of platform\n",
    "Jp = (1. / 12.) * mp * (3.**2 + 2.**2)\n",
    "\n",
    "# gravity\n",
    "g = 9.81\n",
    "\n",
    "# composite parameters\n",
    "J1 = Jp + mw * l**2\n",
    "J2 = Jw"
   ]
  },
  {
   "cell_type": "markdown",
   "id": "a681dd77",
   "metadata": {},
   "source": [
    "Create an instance of the simulator (do `Kernel -> Restart` before evaluating this cell)."
   ]
  },
  {
   "cell_type": "code",
   "execution_count": null,
   "id": "bfa8fdbc",
   "metadata": {},
   "outputs": [],
   "source": [
    "simulator = ae353_platform.Simulator(\n",
    "    display=True,\n",
    "    roll=0.,\n",
    ")"
   ]
  },
  {
   "cell_type": "markdown",
   "id": "325f852a",
   "metadata": {},
   "source": [
    "## How to check if a system is controllable"
   ]
  },
  {
   "cell_type": "markdown",
   "id": "68c3a775",
   "metadata": {},
   "source": [
    "### Control wheel velocity only (no gravity)"
   ]
  },
  {
   "cell_type": "markdown",
   "id": "a71f3e2c",
   "metadata": {},
   "source": [
    "Set ground roll angle of simulator."
   ]
  },
  {
   "cell_type": "code",
   "execution_count": null,
   "id": "453a8136",
   "metadata": {},
   "outputs": [],
   "source": [
    "simulator.set_roll(0.)"
   ]
  },
  {
   "cell_type": "markdown",
   "id": "614e1160",
   "metadata": {},
   "source": [
    "The full equations of motion are:\n",
    "\n",
    "$$\n",
    "\\begin{aligned}\n",
    "J_1 \\ddot{q}_1 &= \\tau - m_wgl\\sin(q_1)\\sin(\\phi) \\\\\n",
    "J_2 \\dot{v}_2 &= - \\left( \\dfrac{J_1 + J_2}{J_1} \\right) \\tau + \\left( \\dfrac{J_2}{J_1} \\right) m_wgl\\sin(q_1)\\sin(\\phi)\n",
    "\\end{aligned}\n",
    "$$\n",
    "\n",
    "The equations of motion in this particular case ($\\phi=0$, ignore platform) are:\n",
    "\n",
    "$$\n",
    "\\begin{aligned}\n",
    "J_1 \\dot{v}_2 &= - \\left( \\dfrac{J_1 + J_2}{J_1} \\right) \\tau\n",
    "\\end{aligned}\n",
    "$$\n",
    "\n",
    "Write equations of motion as:\n",
    "\n",
    "$$\n",
    "\\begin{bmatrix} \\dot{v}_2 \\end{bmatrix}\n",
    "=\n",
    "f \\left( \\begin{bmatrix} v_2 \\end{bmatrix}, \\begin{bmatrix} \\tau \\end{bmatrix} \\right)\n",
    "$$"
   ]
  },
  {
   "cell_type": "markdown",
   "id": "1054d503",
   "metadata": {},
   "source": [
    "Define a function to return a state-space model for a given choice of equilibrium point."
   ]
  },
  {
   "cell_type": "code",
   "execution_count": null,
   "id": "cd653e6b",
   "metadata": {},
   "outputs": [],
   "source": [
    "def get_model(v2e, taue):\n",
    "    # Define variables\n",
    "    v2, tau = sym.symbols('v2, tau')\n",
    "    \n",
    "    # Define right-hand side of ODEs\n",
    "    f = sym.Matrix([\n",
    "        - ((J1 + J2) / (J1 * J2)) * tau,\n",
    "    ])\n",
    "\n",
    "    # Convert floating-point to rational numbers\n",
    "    f = sym.nsimplify(f, rational=True)\n",
    "    \n",
    "    # Verify equilibrium point\n",
    "    f_num = sym.lambdify([v2, tau], f)\n",
    "    if not np.allclose(f_num(v2e, taue), 0.):\n",
    "        raise Exception('equilibrium point is invalid')\n",
    "    \n",
    "    # Find A and B in symbolic form\n",
    "    A_sym = f.jacobian([v2])\n",
    "    B_sym = f.jacobian([tau])\n",
    "\n",
    "    # Create lambda functions to allow numerical evaluation of A and B\n",
    "    A_num = sym.lambdify([v2, tau], A_sym)\n",
    "    B_num = sym.lambdify([v2, tau], B_sym)\n",
    "\n",
    "    # Find A and B in numeric form (making sure the result is floating-point)\n",
    "    A = A_num(v2e, taue).astype(float)\n",
    "    B = B_num(v2e, taue).astype(float)\n",
    "\n",
    "    # Return A and B\n",
    "    return A, B"
   ]
  },
  {
   "cell_type": "markdown",
   "id": "0a77f515",
   "metadata": {},
   "source": [
    "Choose equilibrium point and get state-space model."
   ]
  },
  {
   "cell_type": "code",
   "execution_count": null,
   "id": "27bb2962",
   "metadata": {},
   "outputs": [],
   "source": [
    "# Choose equilibrium point\n",
    "(v2e, taue) = (2*np.pi, 0.)\n",
    "\n",
    "# Get state-space model\n",
    "A, B = get_model(v2e, taue)\n",
    "\n",
    "# Show state-space model\n",
    "print(f'A =\\n{A}\\n\\nB =\\n{B}')"
   ]
  },
  {
   "cell_type": "markdown",
   "id": "555ac43c",
   "metadata": {},
   "source": [
    "Check if system is controllable."
   ]
  },
  {
   "cell_type": "code",
   "execution_count": null,
   "id": "91f08813",
   "metadata": {},
   "outputs": [],
   "source": [
    "# Find controllability matrix\n",
    "W = np.block([B])\n",
    "\n",
    "# Check size of controllability matrix\n",
    "print(f'shape of W is {W.shape}\\n')\n",
    "\n",
    "# Find determinant of controllability matrix\n",
    "print(f'det(W) = {linalg.det(W)}\\n')\n",
    "\n",
    "# Find rank of controllability matrix\n",
    "print(f'rank(W) = {np.linalg.matrix_rank(W)}')\n",
    "print(f'number of states is {A.shape[0]}')"
   ]
  },
  {
   "cell_type": "markdown",
   "id": "38676e0c",
   "metadata": {},
   "source": [
    "Do eigenvalue placement."
   ]
  },
  {
   "cell_type": "code",
   "execution_count": null,
   "id": "8aa769cb",
   "metadata": {},
   "outputs": [],
   "source": [
    "# Choose desired eigenvalue locations\n",
    "p = [-1.]\n",
    "\n",
    "# Find gain matrix to put eigenvalues at desired locations\n",
    "K = signal.place_poles(A, B, p).gain_matrix\n",
    "\n",
    "# Show gain matrix\n",
    "print(f'K =\\n{K}\\n')\n",
    "\n",
    "# Show closed-loop eigenvalues\n",
    "print(f'p = {linalg.eigvals(A - B @ K)}')"
   ]
  },
  {
   "cell_type": "markdown",
   "id": "f1866d96",
   "metadata": {},
   "source": [
    "Implement and test controller."
   ]
  },
  {
   "cell_type": "code",
   "execution_count": null,
   "id": "912b4d40",
   "metadata": {},
   "outputs": [],
   "source": [
    "# Define controller\n",
    "class Controller:\n",
    "    def __init__(self, K, v2e, taue):\n",
    "        self.K = K\n",
    "        self.v2e = v2e\n",
    "        self.taue = taue\n",
    "    \n",
    "    def reset(self):\n",
    "        pass\n",
    "    \n",
    "    def run(\n",
    "            self,\n",
    "            t,\n",
    "            platform_angle,\n",
    "            platform_velocity,\n",
    "            wheel_angle,\n",
    "            wheel_velocity,\n",
    "        ):\n",
    "        \n",
    "        x = np.array([\n",
    "            wheel_velocity - self.v2e,\n",
    "        ])\n",
    "        u = - self.K @ x\n",
    "\n",
    "        wheel_torque = - (u[0] + self.taue)\n",
    "        \n",
    "        return wheel_torque\n",
    "    \n",
    "# Create instance of controller\n",
    "controller = Controller(K, v2e, taue)\n",
    "\n",
    "# Reset simulator\n",
    "simulator.reset(\n",
    "    platform_angle=0.,\n",
    "    platform_velocity=0.,\n",
    "    wheel_angle=0.,\n",
    "    wheel_velocity=0.,\n",
    ")\n",
    "\n",
    "# Reset controller\n",
    "controller.reset()\n",
    "\n",
    "# Run simulator\n",
    "data = simulator.run(\n",
    "    controller,           # <-- required (an instance of your Controller class)\n",
    "    max_time=10.0,         # <-- optional (how long you want to run the simulation in seconds)\n",
    "    data_filename=None,   # <-- optional (name of file to which you want data saved, e.g., 'my_data.json')\n",
    "    video_filename=None,  # <-- optional (name of file to which you want video saved, e.g., 'my_video.mov')\n",
    ")"
   ]
  },
  {
   "cell_type": "markdown",
   "id": "d03303ef",
   "metadata": {},
   "source": [
    "### Control platform angle only (no gravity)"
   ]
  },
  {
   "cell_type": "markdown",
   "id": "37a52e13",
   "metadata": {},
   "source": [
    "Set ground roll angle of simulator."
   ]
  },
  {
   "cell_type": "code",
   "execution_count": null,
   "id": "b5a9e04c",
   "metadata": {},
   "outputs": [],
   "source": [
    "simulator.set_roll(0.)"
   ]
  },
  {
   "cell_type": "markdown",
   "id": "ce13c147",
   "metadata": {},
   "source": [
    "The full equations of motion are:\n",
    "\n",
    "$$\n",
    "\\begin{aligned}\n",
    "J_1 \\ddot{q}_1 &= \\tau - m_wgl\\sin(q_1)\\sin(\\phi) \\\\\n",
    "J_2 \\dot{v}_2 &= - \\left( \\dfrac{J_1 + J_2}{J_1} \\right) \\tau + \\left( \\dfrac{J_2}{J_1} \\right) m_wgl\\sin(q_1)\\sin(\\phi)\n",
    "\\end{aligned}\n",
    "$$\n",
    "\n",
    "The equations of motion in this particular case ($\\phi=0$, ignore wheel) are:\n",
    "\n",
    "$$\n",
    "\\begin{aligned}\n",
    "J_1 \\ddot{q}_1 &= \\tau\n",
    "\\end{aligned}\n",
    "$$\n",
    "\n",
    "Write equations of motion as:\n",
    "\n",
    "$$\n",
    "\\begin{bmatrix} \\dot{q}_1 \\\\ \\dot{v}_1 \\end{bmatrix}\n",
    "=\n",
    "f \\left( \\begin{bmatrix} q_1 \\\\ v_1 \\end{bmatrix}, \\begin{bmatrix} \\tau \\end{bmatrix} \\right)\n",
    "$$"
   ]
  },
  {
   "cell_type": "markdown",
   "id": "cc8b8f91",
   "metadata": {},
   "source": [
    "Define a function to return a state-space model for a given choice of equilibrium point."
   ]
  },
  {
   "cell_type": "code",
   "execution_count": null,
   "id": "45ed5901",
   "metadata": {},
   "outputs": [],
   "source": [
    "def get_model(q1e, v1e, taue):\n",
    "    # Define variables\n",
    "    q1, v1, tau = sym.symbols('q1, v1, tau')\n",
    "    \n",
    "    # Define right-hand side of ODEs\n",
    "    f = sym.Matrix([\n",
    "        v1,\n",
    "        (1 / J1) * tau,\n",
    "    ])\n",
    "\n",
    "    # Convert floating-point to rational numbers\n",
    "    f = sym.nsimplify(f, rational=True)\n",
    "    \n",
    "    # Verify equilibrium point\n",
    "    f_num = sym.lambdify([q1, v1, tau], f)\n",
    "    if not np.allclose(f_num(q1e, v1e, taue), 0.):\n",
    "        raise Exception('equilibrium point is invalid')\n",
    "    \n",
    "    # Find A and B in symbolic form\n",
    "    A_sym = f.jacobian([q1, v1])\n",
    "    B_sym = f.jacobian([tau])\n",
    "\n",
    "    # Create lambda functions to allow numerical evaluation of A and B\n",
    "    A_num = sym.lambdify([q1, v1, tau], A_sym)\n",
    "    B_num = sym.lambdify([q1, v1, tau], B_sym)\n",
    "\n",
    "    # Find A and B in numeric form (making sure the result is floating-point)\n",
    "    A = A_num(q1e, v1e, taue).astype(float)\n",
    "    B = B_num(q1e, v1e, taue).astype(float)\n",
    "\n",
    "    # Return A and B\n",
    "    return A, B"
   ]
  },
  {
   "cell_type": "markdown",
   "id": "f96e1ea5",
   "metadata": {},
   "source": [
    "Choose equilibrium point and get state-space model."
   ]
  },
  {
   "cell_type": "code",
   "execution_count": null,
   "id": "93fc44d5",
   "metadata": {},
   "outputs": [],
   "source": [
    "# Choose equilibrium point\n",
    "(q1e, v1e, taue) = (np.pi / 6, 0., 0.)\n",
    "\n",
    "# Get state-space model\n",
    "A, B = get_model(q1e, v1e, taue)\n",
    "\n",
    "# Show state-space model\n",
    "print(f'A =\\n{A}\\n\\nB =\\n{B}')"
   ]
  },
  {
   "cell_type": "markdown",
   "id": "60945d04",
   "metadata": {},
   "source": [
    "Check if system is controllable."
   ]
  },
  {
   "cell_type": "code",
   "execution_count": null,
   "id": "480d71e9",
   "metadata": {},
   "outputs": [],
   "source": [
    "# Find controllability matrix\n",
    "W = np.block([B, A @ B])\n",
    "\n",
    "# Check size of controllability matrix\n",
    "print(f'shape of W is {W.shape}\\n')\n",
    "\n",
    "# Find determinant of controllability matrix\n",
    "print(f'det(W) = {linalg.det(W)}\\n')\n",
    "\n",
    "# Find rank of controllability matrix\n",
    "print(f'rank(W) = {np.linalg.matrix_rank(W)}')\n",
    "print(f'number of states is {A.shape[0]}')"
   ]
  },
  {
   "cell_type": "markdown",
   "id": "131f724b",
   "metadata": {},
   "source": [
    "Do eigenvalue placement."
   ]
  },
  {
   "cell_type": "code",
   "execution_count": null,
   "id": "525ab094",
   "metadata": {},
   "outputs": [],
   "source": [
    "# Choose desired eigenvalue locations\n",
    "p = [-1., -2.]\n",
    "\n",
    "# Find gain matrix to put eigenvalues at desired locations\n",
    "K = signal.place_poles(A, B, p).gain_matrix\n",
    "\n",
    "# Show gain matrix\n",
    "print(f'K =\\n{K}\\n')\n",
    "\n",
    "# Show closed-loop eigenvalues\n",
    "print(f'p = {linalg.eigvals(A - B @ K)}')"
   ]
  },
  {
   "cell_type": "markdown",
   "id": "fc7c5fa1",
   "metadata": {},
   "source": [
    "Implement and test controller."
   ]
  },
  {
   "cell_type": "code",
   "execution_count": null,
   "id": "567c06a0",
   "metadata": {},
   "outputs": [],
   "source": [
    "# Define controller\n",
    "class Controller:\n",
    "    def __init__(self, K, q1e, v1e, taue):\n",
    "        self.K = K\n",
    "        self.q1e = q1e\n",
    "        self.v1e = v1e\n",
    "        self.taue = taue\n",
    "    \n",
    "    def reset(self):\n",
    "        pass\n",
    "    \n",
    "    def run(\n",
    "            self,\n",
    "            t,\n",
    "            platform_angle,\n",
    "            platform_velocity,\n",
    "            wheel_angle,\n",
    "            wheel_velocity,\n",
    "        ):\n",
    "        \n",
    "        x = np.array([\n",
    "            platform_angle - self.q1e,\n",
    "            platform_velocity - self.v1e,\n",
    "        ])\n",
    "        u = - self.K @ x\n",
    "\n",
    "        wheel_torque = - (u[0] + self.taue)\n",
    "        \n",
    "        return wheel_torque\n",
    "    \n",
    "# Create instance of controller\n",
    "controller = Controller(K, q1e, v1e, taue)\n",
    "\n",
    "# Reset simulator\n",
    "simulator.reset(\n",
    "    platform_angle=0.,\n",
    "    platform_velocity=0.,\n",
    "    wheel_angle=0.,\n",
    "    wheel_velocity=1.,\n",
    ")\n",
    "\n",
    "# Reset controller\n",
    "controller.reset()\n",
    "\n",
    "# Run simulator\n",
    "data = simulator.run(\n",
    "    controller,           # <-- required (an instance of your Controller class)\n",
    "    max_time=10.0,         # <-- optional (how long you want to run the simulation in seconds)\n",
    "    data_filename=None,   # <-- optional (name of file to which you want data saved, e.g., 'my_data.json')\n",
    "    video_filename=None,  # <-- optional (name of file to which you want video saved, e.g., 'my_video.mov')\n",
    ")"
   ]
  },
  {
   "cell_type": "markdown",
   "id": "d703c4f3",
   "metadata": {},
   "source": [
    "### Control platform angle and wheel velocity with gravity"
   ]
  },
  {
   "cell_type": "markdown",
   "id": "cb21918c",
   "metadata": {},
   "source": [
    "Set ground roll angle of simulator."
   ]
  },
  {
   "cell_type": "code",
   "execution_count": null,
   "id": "ec0170e5",
   "metadata": {},
   "outputs": [],
   "source": [
    "simulator.set_roll(np.pi / 2)"
   ]
  },
  {
   "cell_type": "markdown",
   "id": "6efc62f7",
   "metadata": {},
   "source": [
    "The full equations of motion are:\n",
    "\n",
    "$$\n",
    "\\begin{aligned}\n",
    "J_1 \\ddot{q}_1 &= \\tau - m_wgl\\sin(q_1)\\sin(\\phi) \\\\\n",
    "J_2 \\dot{v}_2 &= - \\left( \\dfrac{J_1 + J_2}{J_1} \\right) \\tau + \\left( \\dfrac{J_2}{J_1} \\right) m_wgl\\sin(q_1)\\sin(\\phi)\n",
    "\\end{aligned}\n",
    "$$\n",
    "\n",
    "The equations of motion in this particular case ($\\phi=\\pi/2$) are:\n",
    "\n",
    "$$\n",
    "\\begin{aligned}\n",
    "J_1 \\ddot{q}_1 &= \\tau - m_wgl\\sin(q_1) \\\\\n",
    "J_2 \\dot{v}_2 &= - \\left( \\dfrac{J_1 + J_2}{J_1} \\right) \\tau + \\left( \\dfrac{J_2}{J_1} \\right) m_wgl\\sin(q_1)\n",
    "\\end{aligned}\n",
    "$$\n",
    "\n",
    "Write equations of motion as:\n",
    "\n",
    "$$\n",
    "\\begin{bmatrix} \\dot{q}_1 \\\\ \\dot{v}_1 \\\\ \\dot{v}_2 \\end{bmatrix}\n",
    "=\n",
    "f \\left( \\begin{bmatrix} q_1 \\\\ v_1 \\\\ v_2 \\end{bmatrix}, \\begin{bmatrix} \\tau \\end{bmatrix} \\right)\n",
    "$$"
   ]
  },
  {
   "cell_type": "markdown",
   "id": "59195580",
   "metadata": {},
   "source": [
    "Define a function to return a state-space model for a given choice of equilibrium point."
   ]
  },
  {
   "cell_type": "code",
   "execution_count": null,
   "id": "2c7c20d6",
   "metadata": {},
   "outputs": [],
   "source": [
    "def get_model(q1e, v1e, v2e, taue):\n",
    "    # Define variables\n",
    "    q1, v1, v2, tau = sym.symbols('q1, v1, v2, tau')\n",
    "    \n",
    "    # Define right-hand side of ODEs\n",
    "    f = sym.Matrix([\n",
    "        v1,\n",
    "        (1 / J1) * (tau - mw * g * l * sym.sin(q1)),\n",
    "        (1 / J2) * (- ((J1 + J2) / J1) * tau + (J2 / J1) * mw * g * l * sym.sin(q1))\n",
    "    ])\n",
    "\n",
    "    # Convert floating-point to rational numbers\n",
    "    f = sym.nsimplify(f, rational=True)\n",
    "    \n",
    "    # Verify equilibrium point\n",
    "    f_num = sym.lambdify([q1, v1, v2, tau], f)\n",
    "    if not np.allclose(f_num(q1e, v1e, v2e, taue), 0.):\n",
    "        raise Exception('equilibrium point is invalid')\n",
    "    \n",
    "    # Find A and B in symbolic form\n",
    "    A_sym = f.jacobian([q1, v1, v2])\n",
    "    B_sym = f.jacobian([tau])\n",
    "\n",
    "    # Create lambda functions to allow numerical evaluation of A and B\n",
    "    A_num = sym.lambdify([q1, v1, v2, tau], A_sym)\n",
    "    B_num = sym.lambdify([q1, v1, v2, tau], B_sym)\n",
    "\n",
    "    # Find A and B in numeric form (making sure the result is floating-point)\n",
    "    A = A_num(q1e, v1e, v2e, taue).astype(float)\n",
    "    B = B_num(q1e, v1e, v2e, taue).astype(float)\n",
    "\n",
    "    # Return A and B\n",
    "    return A, B"
   ]
  },
  {
   "cell_type": "markdown",
   "id": "90fcdf13",
   "metadata": {},
   "source": [
    "Choose equilibrium point and get state-space model."
   ]
  },
  {
   "cell_type": "code",
   "execution_count": null,
   "id": "0969d9fa",
   "metadata": {},
   "outputs": [],
   "source": [
    "# Choose equilibrium point\n",
    "(q1e, v1e, v2e, taue) = (np.pi, 0., 0., 0.)\n",
    "\n",
    "# Get state-space model\n",
    "A, B = get_model(q1e, v1e, v2e, taue)\n",
    "\n",
    "# Show state-space model\n",
    "print(f'A =\\n{A}\\n\\nB =\\n{B}')"
   ]
  },
  {
   "cell_type": "markdown",
   "id": "619b3feb",
   "metadata": {},
   "source": [
    "Check if system is controllable."
   ]
  },
  {
   "cell_type": "code",
   "execution_count": null,
   "id": "b109ed3b",
   "metadata": {},
   "outputs": [],
   "source": [
    "# Find controllability matrix\n",
    "W = np.block([B, A @ B, A @ A @ B])\n",
    "\n",
    "# Check size of controllability matrix\n",
    "print(f'shape of W is {W.shape}\\n')\n",
    "\n",
    "# Find determinant of controllability matrix\n",
    "print(f'det(W) = {linalg.det(W)}\\n')\n",
    "\n",
    "# Find rank of controllability matrix\n",
    "print(f'rank(W) = {np.linalg.matrix_rank(W)}')\n",
    "print(f'number of states is {A.shape[0]}')"
   ]
  },
  {
   "cell_type": "markdown",
   "id": "81bbf9d5",
   "metadata": {},
   "source": [
    "Do eigenvalue placement."
   ]
  },
  {
   "cell_type": "code",
   "execution_count": null,
   "id": "1ede2d88",
   "metadata": {},
   "outputs": [],
   "source": [
    "# Choose desired eigenvalue locations\n",
    "p = [-1., -2., -3.]\n",
    "\n",
    "# Find gain matrix to put eigenvalues at desired locations\n",
    "K = signal.place_poles(A, B, p).gain_matrix\n",
    "\n",
    "# Show gain matrix\n",
    "print(f'K =\\n{K}\\n')\n",
    "\n",
    "# Show closed-loop eigenvalues\n",
    "print(f'p = {linalg.eigvals(A - B @ K)}')"
   ]
  },
  {
   "cell_type": "markdown",
   "id": "f8d348cf",
   "metadata": {},
   "source": [
    "Implement and test controller."
   ]
  },
  {
   "cell_type": "code",
   "execution_count": null,
   "id": "c6882e90",
   "metadata": {},
   "outputs": [],
   "source": [
    "# Define controller\n",
    "class Controller:\n",
    "    def __init__(self, K, q1e, v1e, v2e, taue):\n",
    "        self.K = K\n",
    "        self.q1e = q1e\n",
    "        self.v1e = v1e\n",
    "        self.v2e = v2e\n",
    "        self.taue = taue\n",
    "    \n",
    "    def reset(self):\n",
    "        pass\n",
    "    \n",
    "    def run(\n",
    "            self,\n",
    "            t,\n",
    "            platform_angle,\n",
    "            platform_velocity,\n",
    "            wheel_angle,\n",
    "            wheel_velocity,\n",
    "        ):\n",
    "        \n",
    "        x = np.array([\n",
    "            platform_angle - self.q1e,\n",
    "            platform_velocity - self.v1e,\n",
    "            wheel_velocity - self.v2e,\n",
    "        ])\n",
    "        u = - self.K @ x\n",
    "\n",
    "        wheel_torque = - (u[0] + self.taue)\n",
    "        \n",
    "        return wheel_torque\n",
    "    \n",
    "# Create instance of controller\n",
    "controller = Controller(K, q1e, v1e, v2e, taue)\n",
    "\n",
    "# Reset simulator\n",
    "simulator.reset(\n",
    "    platform_angle=(np.pi - 0.25),\n",
    "    platform_velocity=0.,\n",
    "    wheel_angle=0.,\n",
    "    wheel_velocity=1.,\n",
    ")\n",
    "\n",
    "# Reset controller\n",
    "controller.reset()\n",
    "\n",
    "# Run simulator\n",
    "data = simulator.run(\n",
    "    controller,           # <-- required (an instance of your Controller class)\n",
    "    max_time=10.0,         # <-- optional (how long you want to run the simulation in seconds)\n",
    "    data_filename=None,   # <-- optional (name of file to which you want data saved, e.g., 'my_data.json')\n",
    "    video_filename=None,  # <-- optional (name of file to which you want video saved, e.g., 'my_video.mov')\n",
    ")"
   ]
  },
  {
   "cell_type": "markdown",
   "id": "ac461e12",
   "metadata": {},
   "source": [
    "### Control platform angle and wheel velocity *without* gravity"
   ]
  },
  {
   "cell_type": "markdown",
   "id": "2c8aeffe",
   "metadata": {},
   "source": [
    "Set ground roll angle of simulator."
   ]
  },
  {
   "cell_type": "code",
   "execution_count": null,
   "id": "aa274769",
   "metadata": {},
   "outputs": [],
   "source": [
    "simulator.set_roll(0.)"
   ]
  },
  {
   "cell_type": "markdown",
   "id": "0cc7b4f6",
   "metadata": {},
   "source": [
    "The full equations of motion are:\n",
    "\n",
    "$$\n",
    "\\begin{aligned}\n",
    "J_1 \\ddot{q}_1 &= \\tau - m_wgl\\sin(q_1)\\sin(\\phi) \\\\\n",
    "J_2 \\dot{v}_2 &= - \\left( \\dfrac{J_1 + J_2}{J_1} \\right) \\tau + \\left( \\dfrac{J_2}{J_1} \\right) m_wgl\\sin(q_1)\\sin(\\phi)\n",
    "\\end{aligned}\n",
    "$$\n",
    "\n",
    "The equations of motion in this particular case ($\\phi=0$) are:\n",
    "\n",
    "$$\n",
    "\\begin{aligned}\n",
    "J_1 \\ddot{q}_1 &= \\tau \\\\\n",
    "J_2 \\dot{v}_2 &= - \\left( \\dfrac{J_1 + J_2}{J_1} \\right) \\tau\n",
    "\\end{aligned}\n",
    "$$\n",
    "\n",
    "Write equations of motion as:\n",
    "\n",
    "$$\n",
    "\\begin{bmatrix} \\dot{q}_1 \\\\ \\dot{v}_1 \\\\ \\dot{v}_2 \\end{bmatrix}\n",
    "=\n",
    "f \\left( \\begin{bmatrix} q_1 \\\\ v_1 \\\\ v_2 \\end{bmatrix}, \\begin{bmatrix} \\tau \\end{bmatrix} \\right)\n",
    "$$"
   ]
  },
  {
   "cell_type": "markdown",
   "id": "5deb6477",
   "metadata": {},
   "source": [
    "Define a function to return a state-space model for a given choice of equilibrium point."
   ]
  },
  {
   "cell_type": "code",
   "execution_count": null,
   "id": "fac5d46b",
   "metadata": {},
   "outputs": [],
   "source": [
    "def get_model(q1e, v1e, v2e, taue):\n",
    "    # Define variables\n",
    "    q1, v1, v2, tau = sym.symbols('q1, v1, v2, tau')\n",
    "    \n",
    "    # Define right-hand side of ODEs\n",
    "    f = sym.Matrix([\n",
    "        v1,\n",
    "        (1 / J1) * (tau),\n",
    "        (1 / J2) * (- ((J1 + J2) / J1) * tau)\n",
    "    ])\n",
    "\n",
    "    # Convert floating-point to rational numbers\n",
    "    f = sym.nsimplify(f, rational=True)\n",
    "    \n",
    "    # Verify equilibrium point\n",
    "    f_num = sym.lambdify([q1, v1, v2, tau], f)\n",
    "    if not np.allclose(f_num(q1e, v1e, v2e, taue), 0.):\n",
    "        raise Exception('equilibrium point is invalid')\n",
    "    \n",
    "    # Find A and B in symbolic form\n",
    "    A_sym = f.jacobian([q1, v1, v2])\n",
    "    B_sym = f.jacobian([tau])\n",
    "\n",
    "    # Create lambda functions to allow numerical evaluation of A and B\n",
    "    A_num = sym.lambdify([q1, v1, v2, tau], A_sym)\n",
    "    B_num = sym.lambdify([q1, v1, v2, tau], B_sym)\n",
    "\n",
    "    # Find A and B in numeric form (making sure the result is floating-point)\n",
    "    A = A_num(q1e, v1e, v2e, taue).astype(float)\n",
    "    B = B_num(q1e, v1e, v2e, taue).astype(float)\n",
    "\n",
    "    # Return A and B\n",
    "    return A, B"
   ]
  },
  {
   "cell_type": "markdown",
   "id": "051f9782",
   "metadata": {},
   "source": [
    "Choose equilibrium point and get state-space model."
   ]
  },
  {
   "cell_type": "code",
   "execution_count": null,
   "id": "7ea65ba9",
   "metadata": {},
   "outputs": [],
   "source": [
    "# Choose equilibrium point\n",
    "(q1e, v1e, v2e, taue) = (np.pi, 0., 0., 0.)\n",
    "\n",
    "# Get state-space model\n",
    "A, B = get_model(q1e, v1e, v2e, taue)\n",
    "\n",
    "# Show state-space model\n",
    "print(f'A =\\n{A}\\n\\nB =\\n{B}')"
   ]
  },
  {
   "cell_type": "markdown",
   "id": "1a741f8c",
   "metadata": {},
   "source": [
    "Check if system is controllable."
   ]
  },
  {
   "cell_type": "code",
   "execution_count": null,
   "id": "0d821e8e",
   "metadata": {},
   "outputs": [],
   "source": [
    "# Find controllability matrix\n",
    "W = np.block([B, A @ B, A @ A @ B])\n",
    "\n",
    "# Check size of controllability matrix\n",
    "print(f'shape of W is {W.shape}\\n')\n",
    "\n",
    "# Find determinant of controllability matrix\n",
    "print(f'det(W) = {linalg.det(W)}\\n')\n",
    "\n",
    "# Find rank of controllability matrix\n",
    "print(f'rank(W) = {np.linalg.matrix_rank(W)}')\n",
    "print(f'number of states is {A.shape[0]}')"
   ]
  },
  {
   "cell_type": "markdown",
   "id": "e27322be",
   "metadata": {},
   "source": [
    "Do eigenvalue placement."
   ]
  },
  {
   "cell_type": "code",
   "execution_count": null,
   "id": "7bc8bc2e",
   "metadata": {},
   "outputs": [],
   "source": [
    "# Choose desired eigenvalue locations\n",
    "p = [-10., -20., -30.]\n",
    "\n",
    "# Find gain matrix to put eigenvalues at desired locations\n",
    "K = signal.place_poles(A, B, p).gain_matrix\n",
    "\n",
    "# Show gain matrix\n",
    "print(f'K =\\n{K}\\n')\n",
    "\n",
    "# Show closed-loop eigenvalues\n",
    "print(f'p = {linalg.eigvals(A - B @ K)}')"
   ]
  },
  {
   "cell_type": "markdown",
   "id": "afc03755",
   "metadata": {},
   "source": [
    "#### What if $A$ was very, very slightly different?"
   ]
  },
  {
   "cell_type": "code",
   "execution_count": null,
   "id": "3b76038d",
   "metadata": {},
   "outputs": [],
   "source": [
    "A2 = A + 1e-8 * np.random.standard_normal(size=A.shape)\n",
    "\n",
    "print(f'A =\\n{A}\\n')\n",
    "print(f'A2 =\\n{A2}')"
   ]
  },
  {
   "cell_type": "markdown",
   "id": "4f378101",
   "metadata": {},
   "source": [
    "Check if system is controllable."
   ]
  },
  {
   "cell_type": "code",
   "execution_count": null,
   "id": "3df5f7e1",
   "metadata": {},
   "outputs": [],
   "source": [
    "# Find controllability matrix\n",
    "W = np.block([B, A2 @ B, A2 @ A2 @ B])\n",
    "\n",
    "# Check size of controllability matrix\n",
    "print(f'shape of W is {W.shape}\\n')\n",
    "\n",
    "# Find determinant of controllability matrix\n",
    "print(f'det(W) = {linalg.det(W)}\\n')\n",
    "\n",
    "# Find rank of controllability matrix\n",
    "print(f'rank(W) = {np.linalg.matrix_rank(W)}')\n",
    "print(f'number of states is {A.shape[0]}')"
   ]
  },
  {
   "cell_type": "markdown",
   "id": "60ffe393",
   "metadata": {},
   "source": [
    "Do eigenvalue placement."
   ]
  },
  {
   "cell_type": "code",
   "execution_count": null,
   "id": "4be445a0",
   "metadata": {},
   "outputs": [],
   "source": [
    "# Choose desired eigenvalue locations\n",
    "p = [-1., -2., -3.]\n",
    "\n",
    "# Find gain matrix to put eigenvalues at desired locations\n",
    "K = signal.place_poles(A2, B, p).gain_matrix\n",
    "\n",
    "# Show gain matrix\n",
    "print(f'K =\\n{K}\\n')\n",
    "\n",
    "# Show closed-loop eigenvalues\n",
    "print(f'p = {linalg.eigvals(A2 - B @ K)}')"
   ]
  },
  {
   "cell_type": "markdown",
   "id": "289c54f6",
   "metadata": {},
   "source": [
    "Check singular values and condition number of $W$ instead of determinant and rank."
   ]
  },
  {
   "cell_type": "code",
   "execution_count": null,
   "id": "46139e08",
   "metadata": {},
   "outputs": [],
   "source": [
    "print(f'singular values of W: {linalg.svdvals(W)}')\n",
    "print(f'condition number of W: {np.linalg.cond(W)}')"
   ]
  },
  {
   "cell_type": "code",
   "execution_count": null,
   "id": "e8f6f17a",
   "metadata": {},
   "outputs": [],
   "source": [
    "s = linalg.svdvals(W)\n",
    "ratio = max(s) / min(s)\n",
    "print(f'ratio of largest singular value to smallest singlar value of W: {ratio}')"
   ]
  },
  {
   "cell_type": "markdown",
   "id": "1e03cae5",
   "metadata": {},
   "source": [
    "#### If a system is not controllable, does that mean we are completely out of luck?"
   ]
  },
  {
   "cell_type": "code",
   "execution_count": null,
   "id": "00a537c8",
   "metadata": {},
   "outputs": [],
   "source": [
    "K = np.array([[1., 2., 3.]])\n",
    "\n",
    "print(linalg.eigvals(A - B @ K))"
   ]
  },
  {
   "cell_type": "code",
   "execution_count": null,
   "id": "a78f5391",
   "metadata": {},
   "outputs": [],
   "source": [
    "K = np.array([[11., 12., 13.]])\n",
    "\n",
    "print(linalg.eigvals(A - B @ K))"
   ]
  },
  {
   "cell_type": "markdown",
   "id": "cfe84f73",
   "metadata": {},
   "source": [
    "### Control platform angle with *two* reaction wheels"
   ]
  },
  {
   "cell_type": "code",
   "execution_count": null,
   "id": "e2d61011",
   "metadata": {},
   "outputs": [],
   "source": [
    "# Get state-space model\n",
    "A = np.array([[0., 1.], [0., 0.]])\n",
    "B = np.array([[0., 0.], [1., 10.]])\n",
    "\n",
    "# Show state-space model\n",
    "print(f'A =\\n{A}\\n\\nB =\\n{B}')"
   ]
  },
  {
   "cell_type": "markdown",
   "id": "6ec38891",
   "metadata": {},
   "source": [
    "Check if system is controllable."
   ]
  },
  {
   "cell_type": "code",
   "execution_count": null,
   "id": "994f0600",
   "metadata": {},
   "outputs": [],
   "source": [
    "# Find controllability matrix\n",
    "W = np.block([B, A @ B])\n",
    "\n",
    "# Check size of controllability matrix\n",
    "print(f'shape of W is {W.shape}\\n')\n",
    "\n",
    "# # Find determinant of controllability matrix\n",
    "# print(f'det(W) = {linalg.det(W)}\\n')\n",
    "\n",
    "# Find rank of controllability matrix\n",
    "print(f'rank(W) = {np.linalg.matrix_rank(W)}')\n",
    "print(f'number of states is {A.shape[0]}')"
   ]
  },
  {
   "cell_type": "markdown",
   "id": "cf018bb5",
   "metadata": {},
   "source": [
    "Choose linear combination of inputs."
   ]
  },
  {
   "cell_type": "code",
   "execution_count": null,
   "id": "bca97099",
   "metadata": {},
   "outputs": [],
   "source": [
    "# First column of B\n",
    "B_col1 = B[:, 0:1]\n",
    "\n",
    "# Second column of B\n",
    "B_col2 = B[:, 1:2]\n",
    "\n",
    "# Multipliers\n",
    "m1 = 0.1\n",
    "m2 = 0.9\n",
    "\n",
    "# Linear combination\n",
    "B1 = m1 * B_col1 + m2 * B_col2\n",
    "\n",
    "print(f'B1 =\\n{B1}')"
   ]
  },
  {
   "cell_type": "markdown",
   "id": "45d9fedf",
   "metadata": {},
   "source": [
    "Do eigenvalue placement."
   ]
  },
  {
   "cell_type": "code",
   "execution_count": null,
   "id": "40e066e9",
   "metadata": {},
   "outputs": [],
   "source": [
    "# Choose desired eigenvalue locations\n",
    "p = [-1., -2.]\n",
    "\n",
    "# Find gain matrix to put eigenvalues at desired locations\n",
    "K1 = signal.place_poles(A, B1, p).gain_matrix\n",
    "\n",
    "# Find gain matrix for original system\n",
    "K = np.block([[m1 * K1], [m2 * K1]])\n",
    "\n",
    "# Show gain matrix\n",
    "print(f'K =\\n{K}\\n')\n",
    "\n",
    "# Show closed-loop eigenvalues\n",
    "print(f'p = {linalg.eigvals(A - B @ K)}')"
   ]
  },
  {
   "cell_type": "markdown",
   "id": "980cc83a",
   "metadata": {},
   "source": [
    "Could we have done eigenvalue placement with `place_poles` all at once?"
   ]
  },
  {
   "cell_type": "code",
   "execution_count": null,
   "id": "a6242762",
   "metadata": {},
   "outputs": [],
   "source": [
    "# Choose desired eigenvalue locations\n",
    "p = [-1., -2.]\n",
    "\n",
    "# Find gain matrix to put eigenvalues at desired locations\n",
    "K = signal.place_poles(A, B, p).gain_matrix"
   ]
  },
  {
   "cell_type": "markdown",
   "id": "1c65f564",
   "metadata": {},
   "source": [
    "## How do find an equilibrium point numerically\n",
    "\n",
    "As an example, we will look again at the control of both the platform angle and the wheel velocity with gravity."
   ]
  },
  {
   "cell_type": "markdown",
   "id": "5c044a11",
   "metadata": {},
   "source": [
    "Define equations of motion in standard form as\n",
    "\n",
    "$$\n",
    "\\begin{bmatrix} \\dot{q}_1 \\\\ \\dot{v}_1 \\\\ \\dot{v}_2 \\end{bmatrix}\n",
    "=\n",
    "f \\left( \\begin{bmatrix} q_1 \\\\ v_1 \\\\ v_2 \\end{bmatrix}, \\begin{bmatrix} \\tau \\end{bmatrix} \\right).\n",
    "$$"
   ]
  },
  {
   "cell_type": "code",
   "execution_count": null,
   "id": "d9ae8ed8",
   "metadata": {},
   "outputs": [],
   "source": [
    "# Define variables\n",
    "q1, v1, v2, tau = sym.symbols('q1, v1, v2, tau')\n",
    "\n",
    "# Define right-hand side of ODEs\n",
    "f = sym.Matrix([\n",
    "    v1,\n",
    "    (1 / J1) * (tau - mw * g * l * sym.sin(q1)),\n",
    "    (1 / J2) * (- ((J1 + J2) / J1) * tau + (J2 / J1) * mw * g * l * sym.sin(q1))\n",
    "])\n",
    "\n",
    "# Convert floating-point to rational numbers\n",
    "f = sym.nsimplify(f, rational=True)"
   ]
  },
  {
   "cell_type": "markdown",
   "id": "88a43e55",
   "metadata": {},
   "source": [
    "Show the function\n",
    "\n",
    "$$ f \\left( \\begin{bmatrix} q_1 \\\\ v_1 \\\\ v_2 \\end{bmatrix}, \\begin{bmatrix} \\tau \\end{bmatrix} \\right). $$"
   ]
  },
  {
   "cell_type": "code",
   "execution_count": null,
   "id": "b22845cd",
   "metadata": {},
   "outputs": [],
   "source": [
    "display(f)"
   ]
  },
  {
   "cell_type": "markdown",
   "id": "4cdd2eb5",
   "metadata": {},
   "source": [
    "Create lambda function to allow numerical evalution of the function\n",
    "\n",
    "$$ f \\left( \\begin{bmatrix} q_1 \\\\ v_1 \\\\ v_2 \\end{bmatrix}, \\begin{bmatrix} \\tau \\end{bmatrix} \\right). $$"
   ]
  },
  {
   "cell_type": "code",
   "execution_count": null,
   "id": "92c45a16",
   "metadata": {},
   "outputs": [],
   "source": [
    "f_num = sym.lambdify([q1, v1, v2, tau], f)"
   ]
  },
  {
   "cell_type": "markdown",
   "id": "57084ac9",
   "metadata": {},
   "source": [
    "Define the equilibrium point we chose before."
   ]
  },
  {
   "cell_type": "code",
   "execution_count": null,
   "id": "3616a9ef",
   "metadata": {},
   "outputs": [],
   "source": [
    "(q1e, v1e, v2e, taue) = (np.pi, 0., 0., 0.)"
   ]
  },
  {
   "cell_type": "markdown",
   "id": "f98de5d8",
   "metadata": {},
   "source": [
    "Verify (again) that it is an equilibrium point."
   ]
  },
  {
   "cell_type": "code",
   "execution_count": null,
   "id": "80400cff",
   "metadata": {},
   "outputs": [],
   "source": [
    "print(f_num(q1e, v1e, v2e, taue))"
   ]
  },
  {
   "cell_type": "markdown",
   "id": "0080bb6d",
   "metadata": {},
   "source": [
    "### Method 1: Root-Finding"
   ]
  },
  {
   "cell_type": "markdown",
   "id": "7c4b533f",
   "metadata": {},
   "source": [
    "Import the `root` function from `scipy.optimize`."
   ]
  },
  {
   "cell_type": "code",
   "execution_count": null,
   "id": "5b533b66",
   "metadata": {},
   "outputs": [],
   "source": [
    "from scipy.optimize import root"
   ]
  },
  {
   "cell_type": "markdown",
   "id": "9ca6a444",
   "metadata": {},
   "source": [
    "Create a function that accepts $(m, n)$ as a vector and returns $f(m, n)$ as a vector."
   ]
  },
  {
   "cell_type": "code",
   "execution_count": null,
   "id": "ff7ce5d7",
   "metadata": {},
   "outputs": [],
   "source": [
    "f_num_for_root = lambda x: f_num(x[0], x[1], x[2], x[3]).flatten()\n",
    "\n",
    "# Could also have written this more compactly as follows:\n",
    "#\n",
    "#  f_num_for_root = lambda x: f_num(*x).flatten()\n",
    "#"
   ]
  },
  {
   "cell_type": "markdown",
   "id": "971603eb",
   "metadata": {},
   "source": [
    "See what this function does by using it to verify (yet again) that we found an equilibrium point."
   ]
  },
  {
   "cell_type": "code",
   "execution_count": null,
   "id": "0723d670",
   "metadata": {},
   "outputs": [],
   "source": [
    "print(f_num_for_root([q1e, v1e, v2e, taue]))"
   ]
  },
  {
   "cell_type": "markdown",
   "id": "4e49a730",
   "metadata": {},
   "source": [
    "Try to find a root of $f$."
   ]
  },
  {
   "cell_type": "code",
   "execution_count": null,
   "id": "e74e9d2f",
   "metadata": {},
   "outputs": [],
   "source": [
    "# Initial guess\n",
    "x0 = [0.1, 0.2, 0.3, 0.4]\n",
    "\n",
    "# Find root\n",
    "sol = root(f_num_for_root, x0)\n",
    "\n",
    "# Show solution\n",
    "print(sol)"
   ]
  },
  {
   "cell_type": "markdown",
   "id": "72604bde",
   "metadata": {},
   "source": [
    "Redefine `f_num_for_root` after guessing $v_{1e}$."
   ]
  },
  {
   "cell_type": "code",
   "execution_count": null,
   "id": "0e8415dc",
   "metadata": {},
   "outputs": [],
   "source": [
    "f_num_for_root_with_v1e = lambda x: f_num_for_root([x[0], v1e, x[1], x[2]])"
   ]
  },
  {
   "cell_type": "markdown",
   "id": "e5dbdfd6",
   "metadata": {},
   "source": [
    "Try to find a root of $f$ (come back to this and play with the initial guess — what happens?)."
   ]
  },
  {
   "cell_type": "code",
   "execution_count": null,
   "id": "420f8694",
   "metadata": {},
   "outputs": [],
   "source": [
    "# Initial guess\n",
    "x0 = [0.1, 0.3, 0.4]\n",
    "\n",
    "# Find root\n",
    "sol = root(f_num_for_root_with_v1e, x0)\n",
    "\n",
    "# Show solution\n",
    "print(sol)"
   ]
  },
  {
   "cell_type": "markdown",
   "id": "f8636ae0",
   "metadata": {},
   "source": [
    "Parse solution."
   ]
  },
  {
   "cell_type": "code",
   "execution_count": null,
   "id": "d5651b02",
   "metadata": {},
   "outputs": [],
   "source": [
    "# Get equilibrium point\n",
    "q1e = sol.x[0]\n",
    "v2e = sol.x[1]\n",
    "taue = sol.x[2]\n",
    "\n",
    "# Show equilibrium point\n",
    "print(f'  q1e = {q1e:7.3f}')\n",
    "print(f'  v2e = {v2e:7.3f}')\n",
    "print(f' taue = {taue:7.3f}')"
   ]
  },
  {
   "cell_type": "markdown",
   "id": "cd46887e",
   "metadata": {},
   "source": [
    "### Method 2: Minimization"
   ]
  },
  {
   "cell_type": "markdown",
   "id": "b2ca4197",
   "metadata": {},
   "source": [
    "Import the `minimize` function from `scipy.optimize`."
   ]
  },
  {
   "cell_type": "code",
   "execution_count": null,
   "id": "20d7acfc",
   "metadata": {},
   "outputs": [],
   "source": [
    "from scipy.optimize import minimize"
   ]
  },
  {
   "cell_type": "markdown",
   "id": "073085ec",
   "metadata": {},
   "source": [
    "Create a **cost function** that accepts $(m, n)$ as a vector and returns\n",
    "\n",
    "$$\\| f(m, n) \\|^2$$\n",
    "\n",
    "as a scalar."
   ]
  },
  {
   "cell_type": "code",
   "execution_count": null,
   "id": "ac1c5cf4",
   "metadata": {},
   "outputs": [],
   "source": [
    "f_num_for_minimize = lambda x: np.linalg.norm(f_num(x[0], x[1], x[2], x[3]).flatten())**2\n",
    "\n",
    "# Could also have written this more compactly as follows:\n",
    "#\n",
    "#  f_num_for_minimize = lambda x: np.linalg.norm(f_num(*x).flatten())**2\n",
    "#"
   ]
  },
  {
   "cell_type": "markdown",
   "id": "5fc27c18",
   "metadata": {},
   "source": [
    "See what this function does by using it to verify (yet again) that we found an equilibrium point."
   ]
  },
  {
   "cell_type": "code",
   "execution_count": null,
   "id": "b2609e5c",
   "metadata": {},
   "outputs": [],
   "source": [
    "print(f_num_for_minimize([q1e, v1e, v2e, taue]))"
   ]
  },
  {
   "cell_type": "markdown",
   "id": "f8118bbe",
   "metadata": {},
   "source": [
    "Try to minimize\n",
    "\n",
    "$$\\| f(m, n) \\|^2.$$"
   ]
  },
  {
   "cell_type": "code",
   "execution_count": null,
   "id": "abff63ed",
   "metadata": {},
   "outputs": [],
   "source": [
    "# Initial guess\n",
    "x0 = [0.1, 0.2, 0.3, 0.4]\n",
    "\n",
    "# Find minimum (you may need to change tol - this says how accurate you want the solution)\n",
    "sol = minimize(f_num_for_minimize, x0, tol=1e-8)\n",
    "\n",
    "# Show solution\n",
    "print(sol)"
   ]
  },
  {
   "cell_type": "markdown",
   "id": "cdae3880",
   "metadata": {},
   "source": [
    "Parse solution."
   ]
  },
  {
   "cell_type": "code",
   "execution_count": null,
   "id": "4434dc10",
   "metadata": {},
   "outputs": [],
   "source": [
    "# Get equilibrium point\n",
    "q1e = sol.x[0]\n",
    "v1e = sol.x[1]\n",
    "v2e = sol.x[2]\n",
    "taue = sol.x[3]\n",
    "\n",
    "# Show equilibrium point\n",
    "print(f'  q1e = {q1e:7.3f}')\n",
    "print(f'  v1e = {v1e:7.3f}')\n",
    "print(f'  v2e = {v2e:7.3f}')\n",
    "print(f' taue = {taue:7.3f}')"
   ]
  }
 ],
 "metadata": {
  "kernelspec": {
   "display_name": "ae353",
   "language": "python",
   "name": "python3"
  },
  "language_info": {
   "codemirror_mode": {
    "name": "ipython",
    "version": 3
   },
   "file_extension": ".py",
   "mimetype": "text/x-python",
   "name": "python",
   "nbconvert_exporter": "python",
   "pygments_lexer": "ipython3",
   "version": "3.13.1"
  }
 },
 "nbformat": 4,
 "nbformat_minor": 5
}
