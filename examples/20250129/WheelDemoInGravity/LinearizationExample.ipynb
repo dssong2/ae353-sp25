{
 "cells": [
  {
   "cell_type": "markdown",
   "metadata": {},
   "source": [
    "Import modules."
   ]
  },
  {
   "cell_type": "code",
   "execution_count": 1,
   "metadata": {},
   "outputs": [],
   "source": [
    "import numpy as np\n",
    "import matplotlib.pyplot as plt\n",
    "import sympy as sym\n",
    "from IPython.display import display, Markdown\n",
    "\n",
    "# Suppress the use of scientific notation when printing small numbers\n",
    "np.set_printoptions(suppress=True)"
   ]
  },
  {
   "cell_type": "markdown",
   "metadata": {},
   "source": [
    "Define and linearize EOMs."
   ]
  },
  {
   "cell_type": "code",
   "execution_count": 18,
   "metadata": {},
   "outputs": [],
   "source": [
    "# Variables\n",
    "q, v, tau = sym.symbols('q, v, tau')\n",
    "\n",
    "# Constants\n",
    "c_1 = sym.nsimplify(1.)\n",
    "c_2 = sym.nsimplify(2.)\n",
    "\n",
    "# Nonlinear EOMs\n",
    "f = sym.simplify(sym.Matrix([v, (1 / c_1) * tau - (c_2 / c_1) * sym.sin(q)]))\n",
    "\n",
    "# Equilibrium point\n",
    "q_e = 0.\n",
    "v_e = 0.\n",
    "tau_e = float(c_2) * np.sin(q_e)\n",
    "\n",
    "# Linearization\n",
    "# - Take derivatives\n",
    "A_sym = f.jacobian([q, v])\n",
    "B_sym = f.jacobian([tau])\n",
    "# - Create lambda functions so we can plug numbers into derivatives\n",
    "A_num = sym.lambdify((q, v, tau), A_sym)\n",
    "B_num = sym.lambdify((q, v, tau), B_sym)\n",
    "# - Evaluate lambda functions at equilibrium point\n",
    "A = A_num(q_e, v_e, tau_e).astype(float)\n",
    "B = B_num(q_e, v_e, tau_e).astype(float)\n"
   ]
  },
  {
   "cell_type": "markdown",
   "metadata": {},
   "source": [
    "Show results."
   ]
  },
  {
   "cell_type": "code",
   "execution_count": null,
   "metadata": {},
   "outputs": [],
   "source": [
    "# Show f\n",
    "display(Markdown(fr'$$ f(m, n) = \\begin{{align*}}{sym.latex(f)}\\end{{align*}} $$'))\n",
    "\n",
    "# Show A and B\n",
    "A_str = sym.latex(sym.Matrix(A.round(decimals=4)))\n",
    "B_str = sym.latex(sym.Matrix(B.round(decimals=4)))\n",
    "display(Markdown(fr'$$ A = {A_str} \\qquad\\qquad B = {B_str} $$'))"
   ]
  },
  {
   "cell_type": "markdown",
   "metadata": {},
   "source": [
    "Compare linear approximation to original nonlinear EOMs near equilibrium point."
   ]
  },
  {
   "cell_type": "code",
   "execution_count": null,
   "metadata": {},
   "outputs": [],
   "source": [
    "# Get a range of values\n",
    "qs = np.linspace(q_e - (np.pi / 2), q_e + (np.pi / 2), 100)\n",
    "vs = v_e * np.ones_like(qs)\n",
    "taus = tau_e * np.ones_like(qs)\n",
    "\n",
    "f_num = sym.lambdify((q, v, tau), f)\n",
    "m_dot = f_num(qs, vs, taus)\n",
    "\n",
    "x_dot = []\n",
    "for (q_i, v_i, tau_i) in zip(qs, vs, taus):\n",
    "    x = np.array([q_i - q_e, v_i - v_e])\n",
    "    u = np.array([tau_i - tau_e])\n",
    "    x_dot.append(A @ x + B @ u)\n",
    "x_dot = np.array(x_dot)\n",
    "\n",
    "plt.plot(qs, m_dot[1, 0, :], label='nonlinear')\n",
    "plt.plot(qs, x_dot[:, 1], label='linear')\n",
    "plt.plot(q_e, f_num(q_e, v_e, tau_e)[1], '.', markersize=12)\n",
    "plt.xlabel(r'$q$')\n",
    "plt.ylabel(r'$\\dot{v}$')\n",
    "plt.legend()\n",
    "plt.grid()\n",
    "plt.show()"
   ]
  }
 ],
 "metadata": {
  "kernelspec": {
   "display_name": "ae353",
   "language": "python",
   "name": "python3"
  },
  "language_info": {
   "codemirror_mode": {
    "name": "ipython",
    "version": 3
   },
   "file_extension": ".py",
   "mimetype": "text/x-python",
   "name": "python",
   "nbconvert_exporter": "python",
   "pygments_lexer": "ipython3",
   "version": "3.13.1"
  }
 },
 "nbformat": 4,
 "nbformat_minor": 2
}
