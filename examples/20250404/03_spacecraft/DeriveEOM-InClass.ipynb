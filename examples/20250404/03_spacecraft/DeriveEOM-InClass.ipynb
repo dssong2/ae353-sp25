{
 "cells": [
  {
   "cell_type": "markdown",
   "id": "bf67731b",
   "metadata": {},
   "source": [
    "# Derive models of spacecraft with star tracker"
   ]
  },
  {
   "cell_type": "markdown",
   "id": "389fec45",
   "metadata": {},
   "source": [
    "Do all imports."
   ]
  },
  {
   "cell_type": "code",
   "execution_count": null,
   "id": "other-peter",
   "metadata": {},
   "outputs": [],
   "source": [
    "import sympy as sym\n",
    "import numpy as np\n",
    "from IPython.display import display, Markdown\n",
    "import ae353_spacecraft_design as design\n",
    "\n",
    "# Suppress the use of scientific notation when printing small numbers\n",
    "np.set_printoptions(suppress=True)"
   ]
  },
  {
   "cell_type": "markdown",
   "id": "30f99a8f",
   "metadata": {},
   "source": [
    "## Create spacecraft"
   ]
  },
  {
   "cell_type": "markdown",
   "id": "58060459",
   "metadata": {},
   "source": [
    "Create a visualizer to help with placement of reaction wheels."
   ]
  },
  {
   "cell_type": "code",
   "execution_count": null,
   "id": "c4596230",
   "metadata": {},
   "outputs": [],
   "source": [
    "# Create the visualizer\n",
    "vis = design.create_visualizer()\n",
    "\n",
    "# Show the visualizer in this notebook\n",
    "vis.jupyter_cell()"
   ]
  },
  {
   "cell_type": "markdown",
   "id": "5f3ada47",
   "metadata": {},
   "source": [
    "Specify the location of four reaction wheels in terms of their right ascension $\\alpha$ and declination $\\delta$. You cannot change the number of wheels, but it is likely that you **must** change the location of wheels in order for the system to be controllable."
   ]
  },
  {
   "cell_type": "code",
   "execution_count": null,
   "id": "6700e408",
   "metadata": {},
   "outputs": [],
   "source": [
    "wheels = [\n",
    "    {'alpha': 1 * np.pi / 4, 'delta': 0.},\n",
    "    {'alpha': 3 * np.pi / 4, 'delta': 0.},\n",
    "    {'alpha': 5 * np.pi / 4, 'delta': 0.},\n",
    "    {'alpha': 7 * np.pi / 4, 'delta': 0.},\n",
    "]"
   ]
  },
  {
   "cell_type": "markdown",
   "id": "35d5b68c",
   "metadata": {},
   "source": [
    "Show wheels in the visualizer. You will be warned if any wheel obscures the star tracker (i.e., the \"scope\") or if any two wheels are too close together."
   ]
  },
  {
   "cell_type": "code",
   "execution_count": null,
   "id": "78f08330",
   "metadata": {},
   "outputs": [],
   "source": [
    "design.show_wheels(vis, wheels)"
   ]
  },
  {
   "cell_type": "markdown",
   "id": "08d304bd",
   "metadata": {},
   "source": [
    "Create a model of the spacecraft in URDF format. This will **overwrite** the file `spacecraft.urdf` in the `urdf` directory. Also, compute the mass $m$ and inertia matrix $J$ of the spacecraft (including all the wheels). These parameters will be used later when deriving equations of motion."
   ]
  },
  {
   "cell_type": "code",
   "execution_count": null,
   "id": "0020f641",
   "metadata": {},
   "outputs": [],
   "source": [
    "m, J = design.create_spacecraft(wheels)\n",
    "\n",
    "display(Markdown(\n",
    "       r'$$'\n",
    "    + fr'm = {sym.latex(np.round(m, decimals=2))}'\n",
    "    +  r' \\qquad\\qquad '\n",
    "    + fr'J = {sym.latex(sym.Matrix(J.round(decimals=2)))}'\n",
    "    +  r'$$'\n",
    "))"
   ]
  },
  {
   "cell_type": "markdown",
   "id": "87b011b1",
   "metadata": {},
   "source": [
    "## Create stars"
   ]
  },
  {
   "cell_type": "markdown",
   "id": "2b517fa1",
   "metadata": {},
   "source": [
    "Specify the location of at most ten stars in terms of their right ascension $\\alpha$ and declination $\\delta$. It is likely that you **must** change the number and/or location of stars in order for the system to be observable."
   ]
  },
  {
   "cell_type": "code",
   "execution_count": null,
   "id": "4d9811cf",
   "metadata": {},
   "outputs": [],
   "source": [
    "stars = [\n",
    "    {'alpha':  0.00, 'delta':  0.00}, # <-- To add a star, append a copy of this dict to the list. To change\n",
    "                                      #     the location of a star, change the value of alpha and delta\n",
    "]"
   ]
  },
  {
   "cell_type": "markdown",
   "id": "2d1c5f62",
   "metadata": {},
   "source": [
    "Show where the stars will appear in the scope. The plot on the left shows $\\alpha$ and $\\delta$ gridelines. The plot on the right shows $y_\\text{star}$ and $z_\\text{star}$ gridlines."
   ]
  },
  {
   "cell_type": "code",
   "execution_count": null,
   "id": "c74f0053",
   "metadata": {},
   "outputs": [],
   "source": [
    "design.show_stars(stars)"
   ]
  },
  {
   "cell_type": "markdown",
   "id": "b110bce4",
   "metadata": {},
   "source": [
    "Create a file with the location of stars. This will **overwrite** the file `stars.json` in the `urdf` directory."
   ]
  },
  {
   "cell_type": "code",
   "execution_count": null,
   "id": "dd9cc72a",
   "metadata": {},
   "outputs": [],
   "source": [
    "design.create_stars(stars)"
   ]
  },
  {
   "cell_type": "markdown",
   "id": "nominated-instrument",
   "metadata": {},
   "source": [
    "## Create dynamic model"
   ]
  },
  {
   "cell_type": "markdown",
   "id": "following-implementation",
   "metadata": {},
   "source": [
    "Derive the equations of motion."
   ]
  },
  {
   "cell_type": "code",
   "execution_count": null,
   "id": "fixed-developer",
   "metadata": {},
   "outputs": [],
   "source": [
    "# Define yaw, pitch, roll angles\n",
    "psi, theta, phi = sym.symbols('psi, theta, phi')\n",
    "\n",
    "# Define angular velocities\n",
    "w_x, w_y, w_z = sym.symbols('w_x, w_y, w_z')\n",
    "\n",
    "# Define torques\n",
    "tau_1, tau_2, tau_3, tau_4 = sym.symbols('tau_1, tau_2, tau_3, tau_4')\n",
    "\n",
    "# Compute resultant torques\n",
    "T1 = - tau_1 * sym.Matrix(wheels[0]['xyz']) / np.linalg.norm(wheels[0]['xyz'])\n",
    "T2 = - tau_2 * sym.Matrix(wheels[1]['xyz']) / np.linalg.norm(wheels[1]['xyz'])\n",
    "T3 = - tau_3 * sym.Matrix(wheels[2]['xyz']) / np.linalg.norm(wheels[2]['xyz'])\n",
    "T4 = - tau_4 * sym.Matrix(wheels[3]['xyz']) / np.linalg.norm(wheels[3]['xyz'])\n",
    "T = sym.nsimplify(T1 + T2 + T3 + T4)\n",
    "\n",
    "# Define rotation matrices\n",
    "Rz = sym.Matrix([[sym.cos(psi), -sym.sin(psi), 0], [sym.sin(psi), sym.cos(psi), 0], [0, 0, 1]])\n",
    "Ry = sym.Matrix([[sym.cos(theta), 0, sym.sin(theta)], [0, 1, 0], [-sym.sin(theta), 0, sym.cos(theta)]])\n",
    "Rx = sym.Matrix([[1, 0, 0], [0, sym.cos(phi), -sym.sin(phi)], [0, sym.sin(phi), sym.cos(phi)]])\n",
    "\n",
    "# Define the transformation from angular velocity to angular rates\n",
    "ex = sym.Matrix([[1], [0], [0]])\n",
    "ey = sym.Matrix([[0], [1], [0]])\n",
    "ez = sym.Matrix([[0], [0], [1]])\n",
    "M = sym.simplify(sym.Matrix.hstack((Ry @ Rx).T @ ez, Rx.T @ ey, ex).inv(), full=True)\n",
    "\n",
    "# Define euler's equations\n",
    "Jx, Jy, Jz = [sym.nsimplify(j) for j in np.diag(J)]\n",
    "euler = sym.Matrix([[(1 / Jx) * (T[0] + (Jy - Jz) * w_y * w_z)],\n",
    "                    [(1 / Jy) * (T[1] + (Jz - Jx) * w_z * w_x)],\n",
    "                    [(1 / Jz) * (T[2] + (Jx - Jy) * w_x * w_y)]])\n",
    "\n",
    "# Define equations of motion\n",
    "f = sym.simplify(sym.Matrix.vstack(M * sym.Matrix([[w_x], [w_y], [w_z]]), euler), full=True)"
   ]
  },
  {
   "cell_type": "markdown",
   "id": "according-occasion",
   "metadata": {},
   "source": [
    "The equations of motion have this form:\n",
    "\n",
    "$$\\begin{bmatrix} \\dot{\\psi} \\\\ \\dot{\\theta} \\\\ \\dot{\\phi} \\\\ \\dot{w_x} \\\\ \\dot{w_y} \\\\ \\dot{w_z} \\end{bmatrix} = f\\left(\\psi, \\theta, \\phi, w_x, w_y, w_z, \\tau_1, \\tau_2, \\tau_3, \\tau_4\\right).$$\n",
    "\n",
    "Here is the function $f$:"
   ]
  },
  {
   "cell_type": "code",
   "execution_count": null,
   "id": "welsh-passion",
   "metadata": {},
   "outputs": [],
   "source": [
    "f"
   ]
  },
  {
   "cell_type": "markdown",
   "id": "cultural-penalty",
   "metadata": {},
   "source": [
    "## Create sensor model"
   ]
  },
  {
   "cell_type": "markdown",
   "id": "tested-graham",
   "metadata": {},
   "source": [
    "Create symbolic variables for right ascension $\\alpha$ and declination $\\delta$ of each star."
   ]
  },
  {
   "cell_type": "code",
   "execution_count": null,
   "id": "historic-ending",
   "metadata": {},
   "outputs": [],
   "source": [
    "alpha, delta = sym.symbols('alpha, delta')"
   ]
  },
  {
   "cell_type": "markdown",
   "id": "polish-burning",
   "metadata": {},
   "source": [
    "Derive the sensor model for one star."
   ]
  },
  {
   "cell_type": "code",
   "execution_count": null,
   "id": "diagnostic-authority",
   "metadata": {},
   "outputs": [],
   "source": [
    "# Position of star in space frame\n",
    "p_star_in_space = sym.Matrix([[sym.cos(alpha) * sym.cos(delta)],\n",
    "                              [sym.sin(alpha) * sym.cos(delta)],\n",
    "                              [sym.sin(delta)]])\n",
    "\n",
    "# Orientation of body frame in space frame\n",
    "R_body_in_space = Rz * Ry * Rx\n",
    "\n",
    "# Position of star in body frame (assuming origin of body and space frames are the same)\n",
    "p_star_in_body = R_body_in_space.T * p_star_in_space\n",
    "\n",
    "# Position of star in image frame\n",
    "r = sym.nsimplify(design.scope_radius)\n",
    "p_star_in_image = (1 / r) * sym.Matrix([[p_star_in_body[1] / p_star_in_body[0]],\n",
    "                                        [p_star_in_body[2] / p_star_in_body[0]]])\n",
    "\n",
    "# Sensor model for each star\n",
    "g = sym.simplify(p_star_in_image, full=True)"
   ]
  },
  {
   "cell_type": "markdown",
   "id": "continuing-reference",
   "metadata": {},
   "source": [
    "The sensor model has the following form:\n",
    "\n",
    "$$\\begin{bmatrix} y_\\text{star} \\\\ z_\\text{star} \\end{bmatrix} = g(\\psi, \\theta, \\phi, \\alpha, \\delta).$$\n",
    "\n",
    "Here is the function $g$:"
   ]
  },
  {
   "cell_type": "code",
   "execution_count": null,
   "id": "protected-orlando",
   "metadata": {},
   "outputs": [],
   "source": [
    "g"
   ]
  },
  {
   "cell_type": "markdown",
   "id": "42b69da2",
   "metadata": {},
   "source": [
    "Again, this sensor model is for **one star only**. You will have to use a copy of this same model for each star you defined in the \"Create Stars\" section of this notebook."
   ]
  }
 ],
 "metadata": {
  "kernelspec": {
   "display_name": "ae353",
   "language": "python",
   "name": "python3"
  },
  "language_info": {
   "codemirror_mode": {
    "name": "ipython",
    "version": 3
   },
   "file_extension": ".py",
   "mimetype": "text/x-python",
   "name": "python",
   "nbconvert_exporter": "python",
   "pygments_lexer": "ipython3",
   "version": "3.13.1"
  }
 },
 "nbformat": 4,
 "nbformat_minor": 5
}
