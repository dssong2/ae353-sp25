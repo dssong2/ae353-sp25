{
 "cells": [
  {
   "cell_type": "markdown",
   "id": "middle-acoustic",
   "metadata": {},
   "source": [
    "# Demo: Control of wheel angle with partial state feedback"
   ]
  },
  {
   "cell_type": "markdown",
   "id": "working-minority",
   "metadata": {},
   "source": [
    "#### Import modules and configure the notebook."
   ]
  },
  {
   "cell_type": "code",
   "execution_count": null,
   "id": "dimensional-contamination",
   "metadata": {},
   "outputs": [],
   "source": [
    "# These are standard modules\n",
    "import time\n",
    "import numpy as np\n",
    "import sympy as sym\n",
    "from scipy.signal import place_poles\n",
    "from scipy import linalg\n",
    "from scipy import signal\n",
    "import matplotlib.pyplot as plt\n",
    "from IPython.display import display, Latex, Markdown\n",
    "\n",
    "# This is a custom interface to the pybullet simulator\n",
    "import ae353_wheel_sensors\n",
    "\n",
    "# Suppress the use of scientific notation when printing small numbers\n",
    "np.set_printoptions(suppress=True)"
   ]
  },
  {
   "cell_type": "markdown",
   "id": "f3e9a663",
   "metadata": {},
   "source": [
    "#### Choose parameter values"
   ]
  },
  {
   "cell_type": "markdown",
   "id": "2ab48494",
   "metadata": {},
   "source": [
    "The equation of motion is\n",
    "\n",
    "$$c_1 \\ddot{q} = \\tau - c_2\\sin q$$\n",
    "\n",
    "where\n",
    "\n",
    "* $q$ is the wheel angle\n",
    "* $\\tau$ is the wheel torque, i.e., the torque applied to the wheel by a motor on the ground\n",
    "\n",
    "and where the values of $c_1$ and $c_2$ are given as follows:"
   ]
  },
  {
   "cell_type": "code",
   "execution_count": null,
   "id": "2680ee94",
   "metadata": {},
   "outputs": [],
   "source": [
    "# Values of c1 and c2 for the example (do not change)\n",
    "c1 = 1.0\n",
    "c2 = 2.0\n",
    "\n",
    "# Values of other parameters that are given\n",
    "g = 9.81 # <-- acceleration of gravity\n",
    "r = 0.35 # <-- distance from wheel axis to marker (i.e., to the mass)\n",
    "\n",
    "# Values of other parameters that correspond to the coefficients c1 and c2 that we chose\n",
    "m = c2 / (g * r)   # <-- set in code\n",
    "J = c1 - m * r**2  # <-- set in URDF\n",
    "print(f'm = {m}\\nJ = {J}')"
   ]
  },
  {
   "cell_type": "markdown",
   "id": "95f4f02c",
   "metadata": {},
   "source": [
    "#### Set up simulations"
   ]
  },
  {
   "cell_type": "markdown",
   "id": "cbf2330b",
   "metadata": {},
   "source": [
    "Create an instance of the `Simulator` class with particular values of `roll`, `mass`, and `inertia`."
   ]
  },
  {
   "cell_type": "code",
   "execution_count": null,
   "id": "ca539a71",
   "metadata": {},
   "outputs": [],
   "source": [
    "simulator = ae353_wheel_sensors.Simulator(\n",
    "    display=True,\n",
    "    roll=(np.pi / 2),\n",
    "    mass=m,\n",
    "    inertia=J,\n",
    ")"
   ]
  },
  {
   "cell_type": "markdown",
   "id": "f9be5a9f",
   "metadata": {},
   "source": [
    "#### Define functions to plot results"
   ]
  },
  {
   "cell_type": "markdown",
   "id": "f3cd8226",
   "metadata": {},
   "source": [
    "This function plots results in terms of nonlinear states and inputs."
   ]
  },
  {
   "cell_type": "code",
   "execution_count": null,
   "id": "ce88e4a9",
   "metadata": {},
   "outputs": [],
   "source": [
    "def show_results_mno(data, q_e, v_e, tau_e):\n",
    "    t = data['t']\n",
    "    q = data['wheel_angle']\n",
    "    v = data['wheel_velocity']\n",
    "    tau = data['wheel_torque']\n",
    "    tau_cmd = data['wheel_torque_command']\n",
    "    q_meas = data['wheel_angle_measurement']\n",
    "    xhat = data['xhat']\n",
    "    qhat = xhat[:, 0] + q_e\n",
    "    vhat = xhat[:, 1] + v_e\n",
    "\n",
    "    fig, (ax_q, ax_v, ax_tau) = plt.subplots(\n",
    "        3, 1, figsize=(10, 8), sharex=True,\n",
    "    )\n",
    "\n",
    "    ax_q.plot(t, q, label=r'$q$', linewidth=4)\n",
    "    ax_q.plot(t, qhat, '--', label=r'$\\widehat{q}$', linewidth=4)\n",
    "    ax_q.plot(t, q_meas, '.', markersize=3, label=r'$q_\\text{meas}$')\n",
    "    ax_q.plot(t, q_e * np.ones_like(t), ':', label=r'$q_e$', linewidth=3, color='C3')\n",
    "    ax_v.plot(t, v, label=r'$v$', linewidth=4)\n",
    "    ax_v.plot(t, vhat, '--', label=r'$\\widehat{v}$', linewidth=4)\n",
    "    ax_v.plot(t, v_e * np.ones_like(t), ':', label=r'$v_e$', linewidth=3, color='C3')\n",
    "    ax_tau.plot(t, tau, label=r'$\\tau$', linewidth=4)\n",
    "    ax_tau.plot(t, tau_cmd, '-.', label=r'$\\tau$ (command)', linewidth=3, color='C6')\n",
    "    tau_max = np.ones_like(t) * simulator.tau_max\n",
    "    ax_tau.plot(t, tau_max,\n",
    "                '--', label=r'$\\tau$ (max)', linewidth=2, color='C2', zorder=0)\n",
    "    ax_tau.plot(t, - tau_max,\n",
    "                '--', linewidth=2, color='C2', zorder=0)\n",
    "\n",
    "    ax_q.grid()\n",
    "    ax_q.legend(fontsize=16, ncol=4, loc='upper right')\n",
    "    ax_q.tick_params(labelsize=14)\n",
    "    ax_q.set_ylim(q_e - 0.5, q_e + 0.5)\n",
    "\n",
    "    ax_v.grid()\n",
    "    ax_v.legend(fontsize=16, ncol=3, loc='upper right')\n",
    "    ax_v.tick_params(labelsize=14)\n",
    "    ax_v.set_ylim(v_e - 1., v_e + 1.)\n",
    "\n",
    "    ax_tau.grid()\n",
    "    ax_tau.legend(fontsize=16, ncol=3, loc='upper right')\n",
    "    ax_tau.tick_params(labelsize=14)\n",
    "    ax_tau.set_ylim(-1.2 * simulator.tau_max, 1.2 * simulator.tau_max)\n",
    "\n",
    "    ax_tau.set_xlabel('time (s)', fontsize=20)\n",
    "    ax_tau.set_xlim([data['t'][0], data['t'][-1]])\n",
    "\n",
    "    fig.tight_layout()\n",
    "    plt.show()"
   ]
  },
  {
   "cell_type": "markdown",
   "id": "164e495a",
   "metadata": {},
   "source": [
    "This function plots results in terms of linear states and inputs."
   ]
  },
  {
   "cell_type": "code",
   "execution_count": null,
   "id": "123f332e",
   "metadata": {},
   "outputs": [],
   "source": [
    "def show_results_xuy(data, q_e, v_e, tau_e):\n",
    "    t = data['t']\n",
    "    q = data['wheel_angle']\n",
    "    v = data['wheel_velocity']\n",
    "    tau = data['wheel_torque']\n",
    "    tau_cmd = data['wheel_torque_command']\n",
    "    q_meas = data['wheel_angle_measurement']\n",
    "    xhat = data['xhat']\n",
    "    x1 = q - q_e\n",
    "    x2 = v - v_e\n",
    "    u1 = tau - tau_e\n",
    "    u1_cmd = tau_cmd - tau_e\n",
    "    y1 = q_meas - q_e\n",
    "    \n",
    "    fig, (ax_x1, ax_x2, ax_u1) = plt.subplots(\n",
    "        3, 1, figsize=(10, 8), sharex=True,\n",
    "    )\n",
    "\n",
    "    ax_x1.plot(t, x1, label=r'$x_1$', linewidth=4)\n",
    "    ax_x1.plot(t, xhat[:, 0], '--', label=r'$\\widehat{x}_1$', linewidth=4)\n",
    "    ax_x1.plot(t, y1, '.', markersize=3, label=r'$y_1$')\n",
    "    ax_x2.plot(t, x2, label=r'$x_2$', linewidth=4)\n",
    "    ax_x2.plot(t, xhat[:, 1], '--', label=r'$\\widehat{x}_2$', linewidth=4)\n",
    "    ax_u1.plot(t, u1, label=r'$u_1$', linewidth=4)\n",
    "    ax_u1.plot(t, u1_cmd, '-.', label=r'$u_1$ (command)', linewidth=3, color='C6')\n",
    "    tau_max = np.ones_like(t) * simulator.tau_max\n",
    "    ax_u1.plot(t, tau_max - tau_e,\n",
    "               '--', label=r'$u_1$ (max)', linewidth=2, color='C2', zorder=0)\n",
    "    ax_u1.plot(t, - tau_max - tau_e,\n",
    "               '--', linewidth=2, color='C2', zorder=0)\n",
    "            \n",
    "    ax_x1.grid()\n",
    "    ax_x1.legend(fontsize=16, ncol=3, loc='upper right')\n",
    "    ax_x1.tick_params(labelsize=14)\n",
    "    ax_x1.set_ylim(-0.5, 0.5)\n",
    "        \n",
    "    ax_x2.grid()\n",
    "    ax_x2.legend(fontsize=16, ncol=2, loc='upper right')\n",
    "    ax_x2.tick_params(labelsize=14)\n",
    "    ax_x2.set_ylim(-1., 1.)\n",
    "    \n",
    "    ax_u1.grid()\n",
    "    ax_u1.legend(fontsize=16, ncol=3, loc='upper right')\n",
    "    ax_u1.tick_params(labelsize=14)\n",
    "    ax_u1.set_ylim(tau_e + -1.2 * simulator.tau_max, tau_e + 1.2 * simulator.tau_max)\n",
    "    \n",
    "    ax_u1.set_xlabel('time (s)', fontsize=20)\n",
    "    ax_u1.set_xlim([data['t'][0], data['t'][-1]])\n",
    "    \n",
    "    fig.tight_layout()\n",
    "    plt.show()"
   ]
  },
  {
   "cell_type": "markdown",
   "id": "b042da7c",
   "metadata": {},
   "source": [
    "This function plots results in terms of *both* nonlinear and linear states and inputs."
   ]
  },
  {
   "cell_type": "code",
   "execution_count": null,
   "id": "fcc0d17e",
   "metadata": {},
   "outputs": [],
   "source": [
    "def show_results(data, q_e, v_e, tau_e):\n",
    "    t = data['t']\n",
    "    q = data['wheel_angle']\n",
    "    v = data['wheel_velocity']\n",
    "    tau = data['wheel_torque']\n",
    "    tau_cmd = data['wheel_torque_command']\n",
    "    q_meas = data['wheel_angle_measurement']\n",
    "    xhat = data['xhat']\n",
    "    qhat = xhat[:, 0] + q_e\n",
    "    vhat = xhat[:, 1] + v_e\n",
    "    x1 = q - q_e\n",
    "    x2 = v - v_e\n",
    "    u1 = tau - tau_e\n",
    "    u1_cmd = tau_cmd - tau_e\n",
    "    y1 = q_meas - q_e\n",
    "\n",
    "    fig, ((ax_q, ax_x1), (ax_v, ax_x2), (ax_tau, ax_u1)) = plt.subplots(\n",
    "        3, 2, figsize=(15, 10), sharex=True,\n",
    "    )\n",
    "\n",
    "    ax_q.plot(t, q, label=r'$q$', linewidth=4)\n",
    "    ax_q.plot(t, qhat, '--', label=r'$\\widehat{q}$', linewidth=4)\n",
    "    ax_q.plot(t, q_meas, '.', markersize=3, label=r'$q_\\text{meas}$')\n",
    "    ax_q.plot(t, q_e * np.ones_like(t), ':', label=r'$q_e$', linewidth=3, color='C3')\n",
    "    ax_v.plot(t, v, label=r'$v$', linewidth=4)\n",
    "    ax_v.plot(t, vhat, '--', label=r'$\\widehat{v}$', linewidth=4)\n",
    "    ax_v.plot(t, v_e * np.ones_like(t), ':', label=r'$v_e$', linewidth=3, color='C3')\n",
    "    ax_tau.plot(t, tau, label=r'$\\tau$', linewidth=4)\n",
    "    ax_tau.plot(t, tau_cmd, '-.', label=r'$\\tau$ (command)', linewidth=3, color='C6')\n",
    "    tau_max = np.ones_like(t) * simulator.tau_max\n",
    "    ax_tau.plot(t, tau_max,\n",
    "                '--', label=r'$\\tau$ (max)', linewidth=2, color='C2', zorder=0)\n",
    "    ax_tau.plot(t, - tau_max,\n",
    "                '--', linewidth=2, color='C2', zorder=0)\n",
    "\n",
    "    ax_q.grid()\n",
    "    ax_q.legend(fontsize=16, ncol=4, loc='upper right')\n",
    "    ax_q.tick_params(labelsize=14)\n",
    "    ax_q.set_ylim(q_e - 0.5, q_e + 0.5)\n",
    "\n",
    "    ax_v.grid()\n",
    "    ax_v.legend(fontsize=16, ncol=3, loc='upper right')\n",
    "    ax_v.tick_params(labelsize=14)\n",
    "    ax_v.set_ylim(v_e - 1., v_e + 1.)\n",
    "\n",
    "    ax_tau.grid()\n",
    "    ax_tau.legend(fontsize=16, ncol=3, loc='upper right')\n",
    "    ax_tau.tick_params(labelsize=14)\n",
    "    ax_tau.set_ylim(-1.2 * simulator.tau_max, 1.2 * simulator.tau_max)\n",
    "\n",
    "    ax_tau.set_xlabel('time (s)', fontsize=20)\n",
    "    ax_tau.set_xlim([data['t'][0], data['t'][-1]])\n",
    "\n",
    "    ax_x1.plot(t, x1, label=r'$x_1$', linewidth=4)\n",
    "    ax_x1.plot(t, xhat[:, 0], '--', label=r'$\\widehat{x}_1$', linewidth=4)\n",
    "    ax_x1.plot(t, y1, '.', markersize=3, label=r'$y_1$')\n",
    "    ax_x2.plot(t, x2, label=r'$x_2$', linewidth=4)\n",
    "    ax_x2.plot(t, xhat[:, 1], '--', label=r'$\\widehat{x}_2$', linewidth=4)\n",
    "    ax_u1.plot(t, u1, label=r'$u_1$', linewidth=4)\n",
    "    ax_u1.plot(t, u1_cmd, '-.', label=r'$u_1$ (command)', linewidth=3, color='C6')\n",
    "    tau_max = np.ones_like(t) * simulator.tau_max\n",
    "    ax_u1.plot(t, tau_max - tau_e,\n",
    "               '--', label=r'$u_1$ (max)', linewidth=2, color='C2', zorder=0)\n",
    "    ax_u1.plot(t, - tau_max - tau_e,\n",
    "               '--', linewidth=2, color='C2', zorder=0)\n",
    "            \n",
    "    ax_x1.grid()\n",
    "    ax_x1.legend(fontsize=16, ncol=3, loc='upper right')\n",
    "    ax_x1.tick_params(labelsize=14)\n",
    "    ax_x1.set_ylim(-0.5, 0.5)\n",
    "        \n",
    "    ax_x2.grid()\n",
    "    ax_x2.legend(fontsize=16, ncol=2, loc='upper right')\n",
    "    ax_x2.tick_params(labelsize=14)\n",
    "    ax_x2.set_ylim(-1., 1.)\n",
    "    \n",
    "    ax_u1.grid()\n",
    "    ax_u1.legend(fontsize=16, ncol=3, loc='upper right')\n",
    "    ax_u1.tick_params(labelsize=14)\n",
    "    ax_u1.set_ylim(tau_e + -1.2 * simulator.tau_max, tau_e + 1.2 * simulator.tau_max)\n",
    "    \n",
    "    ax_u1.set_xlabel('time (s)', fontsize=20)\n",
    "    ax_u1.set_xlim([data['t'][0], data['t'][-1]])\n",
    "\n",
    "    fig.tight_layout()\n",
    "    plt.show()"
   ]
  },
  {
   "cell_type": "markdown",
   "id": "9d5df580",
   "metadata": {},
   "source": [
    "This function plots errors."
   ]
  },
  {
   "cell_type": "code",
   "execution_count": null,
   "id": "9f9a93b2",
   "metadata": {},
   "outputs": [],
   "source": [
    "def show_results_err(data, q_e, v_e, tau_e):\n",
    "    t = data['t']\n",
    "    q = data['wheel_angle']\n",
    "    v = data['wheel_velocity']\n",
    "    xhat = data['xhat']\n",
    "    x1 = q - q_e\n",
    "    x2 = v - v_e\n",
    "    x1hat = xhat[:, 0]\n",
    "    x2hat = xhat[:, 1]\n",
    "    \n",
    "    fig, ((ax_x1, ax_xerr1), (ax_x2, ax_xerr2)) = plt.subplots(\n",
    "        2, 2, figsize=(15, 5), sharex=True,\n",
    "    )\n",
    "\n",
    "    ax_x1.plot(t, x1, label=r'$x_1 - 0$', linewidth=4)\n",
    "    ax_x2.plot(t, x2, label=r'$x_2 - 0$', linewidth=4)\n",
    "\n",
    "    ax_xerr1.plot(t, x1hat - x1, label=r'$\\widehat{x}_1 - x_1$', linewidth=4)\n",
    "    ax_xerr2.plot(t, x2hat - x2, label=r'$\\widehat{x}_2 - x_2$', linewidth=4)\n",
    "\n",
    "    ax_xerr1.grid()\n",
    "    ax_xerr1.legend(fontsize=16, loc='upper right')\n",
    "    ax_xerr1.tick_params(labelsize=14)\n",
    "    ax_xerr1.set_ylim(-0.5, 0.5)\n",
    "\n",
    "    ax_xerr2.grid()\n",
    "    ax_xerr2.legend(fontsize=16, loc='upper right')\n",
    "    ax_xerr2.tick_params(labelsize=14)\n",
    "    ax_xerr2.set_ylim(-1., 1.)\n",
    "            \n",
    "    ax_x1.grid()\n",
    "    ax_x1.legend(fontsize=16, loc='upper right')\n",
    "    ax_x1.tick_params(labelsize=14)\n",
    "    ax_x1.set_ylim(-0.5, 0.5)\n",
    "        \n",
    "    ax_x2.grid()\n",
    "    ax_x2.legend(fontsize=16, loc='upper right')\n",
    "    ax_x2.tick_params(labelsize=14)\n",
    "    ax_x2.set_ylim(-1., 1.)\n",
    "    \n",
    "    ax_x2.set_xlabel('time (s)', fontsize=20)\n",
    "    ax_x2.set_xlim([data['t'][0], data['t'][-1]])\n",
    "\n",
    "    ax_xerr2.set_xlabel('time (s)', fontsize=20)\n",
    "    ax_xerr2.set_xlim([data['t'][0], data['t'][-1]])\n",
    "\n",
    "    ax_x1.set_title('ERROR IN THE STATE', fontsize=20, fontweight='bold')\n",
    "    ax_xerr1.set_title('ERROR IN THE STATE ESTIMATE', fontsize=20, fontweight='bold')\n",
    "\n",
    "    fig.tight_layout()\n",
    "    plt.show()"
   ]
  },
  {
   "cell_type": "markdown",
   "id": "efd80fd2",
   "metadata": {},
   "source": [
    "#### Do controller design"
   ]
  },
  {
   "cell_type": "markdown",
   "id": "a62353e1",
   "metadata": {},
   "source": [
    "Derive state-space model."
   ]
  },
  {
   "cell_type": "code",
   "execution_count": null,
   "id": "c7bc02cd",
   "metadata": {},
   "outputs": [],
   "source": [
    "# Define symbolic variables\n",
    "q, v, tau = sym.symbols('q, v, tau')\n",
    "\n",
    "# Define ODEs\n",
    "f = sym.Matrix([\n",
    "    v,\n",
    "    (tau - c2 * sym.sin(q)) / c1,\n",
    "])\n",
    "\n",
    "# Convert floats to rationals\n",
    "f = sym.nsimplify(f, rational=True)\n",
    "\n",
    "# Choose equilibrium point\n",
    "(q_e, v_e, tau_e) = (np.pi, 0., 0.)\n",
    "\n",
    "# Linearize\n",
    "A_num = sym.lambdify([q, v, tau], f.jacobian([q, v]))\n",
    "A = A_num(q_e, v_e, tau_e).astype(float)\n",
    "B_num = sym.lambdify([q, v, tau], f.jacobian([tau]))\n",
    "B = B_num(q_e, v_e, tau_e).astype(float)\n",
    "\n",
    "# Show result\n",
    "print(f'A =\\n{A}\\n\\nB =\\n{B}')"
   ]
  },
  {
   "cell_type": "markdown",
   "id": "48362471",
   "metadata": {},
   "source": [
    "Verify the system is controllable."
   ]
  },
  {
   "cell_type": "code",
   "execution_count": null,
   "id": "2712e8f5",
   "metadata": {},
   "outputs": [],
   "source": [
    "W_c = np.block([B, A @ B])\n",
    "print(f'       rank(W_c) = {np.linalg.matrix_rank(W_c)}')\n",
    "print(f'number of states = {A.shape[0]}')"
   ]
  },
  {
   "cell_type": "markdown",
   "id": "120c5027",
   "metadata": {},
   "source": [
    "Design controller by eigenvalue placement."
   ]
  },
  {
   "cell_type": "code",
   "execution_count": null,
   "id": "92ad85aa",
   "metadata": {},
   "outputs": [],
   "source": [
    "p_c = [-2., -5.]\n",
    "print(f'p_c =\\n{p_c}\\n')\n",
    "\n",
    "K = signal.place_poles(A, B, p_c).gain_matrix\n",
    "print(f'K =\\n{K}')"
   ]
  },
  {
   "cell_type": "markdown",
   "id": "2d3ec6cf",
   "metadata": {},
   "source": [
    "#### Do observer design"
   ]
  },
  {
   "cell_type": "markdown",
   "id": "44f2e7b0",
   "metadata": {},
   "source": [
    "Derive state-space model. In particular, given a nonlinear model\n",
    "\n",
    "$$o = g\\left(\\begin{bmatrix} q \\\\ v \\end{bmatrix}, \\begin{bmatrix} \\tau \\end{bmatrix}\\right) = \\begin{bmatrix} q \\end{bmatrix}$$\n",
    "\n",
    "of sensor measurements, linearize the function $g$ about the equilibrium point $q_e, v_e, \\tau_e$ to produce a state-space model\n",
    "\n",
    "$$y = Cx + Du$$\n",
    "\n",
    "where\n",
    "\n",
    "$$\n",
    "\\begin{aligned}\n",
    "y\n",
    "&= o - g\\left(\\begin{bmatrix} q \\\\ v \\end{bmatrix}, \\begin{bmatrix} \\tau \\end{bmatrix}\\right) \\\\\n",
    "&= \\begin{bmatrix} q \\end{bmatrix} - \\begin{bmatrix} q_e \\end{bmatrix} \\\\\n",
    "&= \\begin{bmatrix} q - q_e \\end{bmatrix}\n",
    "\\end{aligned}\n",
    "$$\n",
    "\n",
    "and\n",
    "\n",
    "$$\n",
    "C = \\frac{\\partial g}{\\partial \\begin{bmatrix} q \\\\ v \\end{bmatrix}}\\Biggr\\rvert_{\\left(\\begin{bmatrix} q_e \\\\ v_e \\end{bmatrix}, \\begin{bmatrix} \\tau_e \\end{bmatrix}\\right)}\n",
    "\\qquad\\qquad\n",
    "D = \\frac{\\partial g}{\\partial \\begin{bmatrix} \\tau \\end{bmatrix}}\\Biggr\\rvert_{\\left(\\begin{bmatrix} q_e \\\\ v_e \\end{bmatrix}, \\begin{bmatrix} \\tau_e \\end{bmatrix}\\right)}.\n",
    "$$"
   ]
  },
  {
   "cell_type": "code",
   "execution_count": null,
   "id": "9c3f69fa",
   "metadata": {},
   "outputs": [],
   "source": [
    "# Define nonlinear model\n",
    "g = sym.Matrix([q])\n",
    "\n",
    "# Convert floats to rationals\n",
    "g = sym.nsimplify(g, rational=True)\n",
    "\n",
    "# Linearize\n",
    "C_num = sym.lambdify([q, v, tau], g.jacobian([q, v]))\n",
    "C = C_num(q_e, v_e, tau_e).astype(float)\n",
    "D_num = sym.lambdify([q, v, tau], g.jacobian([tau]))\n",
    "D = D_num(q_e, v_e, tau_e).astype(float)\n",
    "\n",
    "# Show result\n",
    "print(f'C =\\n{C}\\n\\nD =\\n{D}')"
   ]
  },
  {
   "cell_type": "markdown",
   "id": "730dbaa8",
   "metadata": {},
   "source": [
    "Verify the system is observable."
   ]
  },
  {
   "cell_type": "code",
   "execution_count": null,
   "id": "18338cf4",
   "metadata": {},
   "outputs": [],
   "source": [
    "W_o = np.block([[C], [C @ A]])\n",
    "print(f'       rank(W_o) = {np.linalg.matrix_rank(W_o)}')\n",
    "print(f'number of states = {A.shape[0]}')"
   ]
  },
  {
   "cell_type": "markdown",
   "id": "8e6549e0",
   "metadata": {},
   "source": [
    "Design observer by eigenvalue placement."
   ]
  },
  {
   "cell_type": "code",
   "execution_count": null,
   "id": "f1e22881",
   "metadata": {},
   "outputs": [],
   "source": [
    "p_o = [-4., -6.]\n",
    "print(f'p_o =\\n{p_o}\\n')\n",
    "\n",
    "L = signal.place_poles(A.T, C.T, p_o).gain_matrix.T\n",
    "print(f'L =\\n{L}')"
   ]
  },
  {
   "cell_type": "markdown",
   "id": "9ac52573",
   "metadata": {},
   "source": [
    "#### Verify stability of controller, observer, and full system"
   ]
  },
  {
   "cell_type": "markdown",
   "id": "b061f09a",
   "metadata": {},
   "source": [
    "Find eigenvalues of $A - BK$."
   ]
  },
  {
   "cell_type": "code",
   "execution_count": null,
   "id": "12da0689",
   "metadata": {},
   "outputs": [],
   "source": [
    "print(linalg.eigvals(A - B @ K))"
   ]
  },
  {
   "cell_type": "markdown",
   "id": "08d9c246",
   "metadata": {},
   "source": [
    "Find eigenvalues of $A - LC$."
   ]
  },
  {
   "cell_type": "code",
   "execution_count": null,
   "id": "ad46ad8c",
   "metadata": {},
   "outputs": [],
   "source": [
    "print(linalg.eigvals(A - L @ C))"
   ]
  },
  {
   "cell_type": "markdown",
   "id": "1c90d4a4",
   "metadata": {},
   "source": [
    "Find eigenvalues of\n",
    "\n",
    "$$\\begin{bmatrix} A - BK & -BK \\\\ 0 & A - LC \\end{bmatrix}.$$"
   ]
  },
  {
   "cell_type": "code",
   "execution_count": null,
   "id": "6d00bf8d",
   "metadata": {},
   "outputs": [],
   "source": [
    "print(linalg.eigvals(np.block([\n",
    "    [       A - B @ K,   - B @ K],\n",
    "    [np.zeros_like(A), A - L @ C],\n",
    "])))"
   ]
  },
  {
   "cell_type": "markdown",
   "id": "f01fc450",
   "metadata": {},
   "source": [
    "Did we have to find the eigenvalues of this last big matrix? Or would it have sufficed only to find the eigenvalues of $A-BK$ and $A-LC$?"
   ]
  },
  {
   "cell_type": "markdown",
   "id": "041cf6a1",
   "metadata": {},
   "source": [
    "#### Implement and test"
   ]
  },
  {
   "cell_type": "markdown",
   "id": "7a4eb0a3",
   "metadata": {},
   "source": [
    "Implement."
   ]
  },
  {
   "cell_type": "code",
   "execution_count": null,
   "id": "60574a56",
   "metadata": {},
   "outputs": [],
   "source": [
    "class Controller_WithObserver:\n",
    "    def __init__(self, A, B, C, K, L, q_e, v_e, tau_e):\n",
    "        self.A = A\n",
    "        self.B = B\n",
    "        self.C = C\n",
    "        self.K = K\n",
    "        self.L = L\n",
    "        self.q_e = q_e\n",
    "        self.v_e = v_e\n",
    "        self.tau_e = tau_e\n",
    "        \n",
    "        self.dt = 0.01\n",
    "        \n",
    "        self.variables_to_log = ['xhat']\n",
    "    \n",
    "    def reset(self):\n",
    "        self.xhat = np.array([\n",
    "            0.,\n",
    "            0.,\n",
    "        ])\n",
    "    \n",
    "    def run(self, t, wheel_angle_measurement):\n",
    "        \"\"\"\n",
    "        INPUTS\n",
    "         t = current time (s)\n",
    "         wheel_angle_measurement = measured angle of wheel from sensors (rad)\n",
    "         \n",
    "        OUTPUTS\n",
    "         wheel_torque = torque applied to wheel by motor on ground (N m)\n",
    "        \"\"\"\n",
    "        \n",
    "        # Get input\n",
    "        u = - self.K @ self.xhat\n",
    "        \n",
    "        # Get measured wheel angle (sensors)\n",
    "        q = wheel_angle_measurement\n",
    "        \n",
    "        # Get output\n",
    "        y = np.array([\n",
    "            q - self.q_e,\n",
    "        ])\n",
    "        \n",
    "        # Get state estimate\n",
    "        self.xhat += self.dt * (\n",
    "            self.A @ self.xhat + self.B @ u - self.L @ (self.C @ self.xhat - y)\n",
    "        )\n",
    "        \n",
    "        # Get torque (actuators)\n",
    "        wheel_torque = u[0] + self.tau_e\n",
    "        \n",
    "        return wheel_torque"
   ]
  },
  {
   "cell_type": "markdown",
   "id": "5783c1f1",
   "metadata": {},
   "source": [
    "Test."
   ]
  },
  {
   "cell_type": "code",
   "execution_count": null,
   "id": "7c91c5b7",
   "metadata": {},
   "outputs": [],
   "source": [
    "# Create controller\n",
    "controller = Controller_WithObserver(A, B, C, K, L, q_e, v_e, tau_e)\n",
    "\n",
    "# Choose initial conditions\n",
    "(q_i, v_i) = (q_e + 0.2, v_e)\n",
    "\n",
    "# Reset controller\n",
    "controller.reset()\n",
    "\n",
    "# Reset simulator\n",
    "simulator.reset(\n",
    "    wheel_angle=q_i,\n",
    "    wheel_velocity=v_i,\n",
    "    sensor_noise=0.,        # <-- CHANGE (e.g., to 0.1) AND SEE WHAT HAPPENS\n",
    ")\n",
    "\n",
    "# Reset controller\n",
    "controller.reset()\n",
    "\n",
    "# Run simulator (with display)\n",
    "simulator.display_meshcat = True\n",
    "data = simulator.run(\n",
    "    controller,\n",
    "    max_time=5.0,\n",
    ")\n",
    "\n",
    "# Show results\n",
    "show_results(data, q_e, v_e, tau_e)"
   ]
  },
  {
   "cell_type": "markdown",
   "id": "eff2ed3e",
   "metadata": {},
   "source": [
    "Distinguish between \"error in the state\" and \"error in the state estimate.\""
   ]
  },
  {
   "cell_type": "code",
   "execution_count": null,
   "id": "6d91893c",
   "metadata": {},
   "outputs": [],
   "source": [
    "show_results_err(data, q_e, v_e, tau_e)"
   ]
  },
  {
   "cell_type": "markdown",
   "id": "ceb90808",
   "metadata": {},
   "source": [
    "What happens if you slow down the controller?"
   ]
  },
  {
   "cell_type": "code",
   "execution_count": null,
   "id": "94ac1af3",
   "metadata": {},
   "outputs": [],
   "source": [
    "# Design controller\n",
    "p_c = [-2., -5.]\n",
    "# p_c = [-0.2, -0.5]\n",
    "K = signal.place_poles(A, B, p_c).gain_matrix\n",
    "\n",
    "# Design observer\n",
    "p_o = [-4., -6.]\n",
    "L = signal.place_poles(A.T, C.T, p_o).gain_matrix.T\n",
    "\n",
    "# Create controller\n",
    "controller = Controller_WithObserver(A, B, C, K, L, q_e, v_e, tau_e)\n",
    "\n",
    "# Choose initial conditions\n",
    "(q_i, v_i) = (q_e + 0.2, v_e)\n",
    "\n",
    "# Reset controller\n",
    "controller.reset()\n",
    "\n",
    "# Reset simulator\n",
    "simulator.reset(\n",
    "    wheel_angle=q_i,\n",
    "    wheel_velocity=v_i,\n",
    "    sensor_noise=0.,        # <-- CHANGE (e.g., to 0.1) AND SEE WHAT HAPPENS\n",
    ")\n",
    "\n",
    "# Reset controller\n",
    "controller.reset()\n",
    "\n",
    "# Run simulator (without display)\n",
    "simulator.display_meshcat = False\n",
    "data = simulator.run(\n",
    "    controller,\n",
    "    max_time=5.0,\n",
    ")\n",
    "\n",
    "# Show results\n",
    "show_results_err(data, q_e, v_e, tau_e)"
   ]
  },
  {
   "cell_type": "markdown",
   "id": "49de13d0",
   "metadata": {},
   "source": [
    "What happens if you slow down the observer?"
   ]
  },
  {
   "cell_type": "code",
   "execution_count": null,
   "id": "ffd49ca9",
   "metadata": {},
   "outputs": [],
   "source": [
    "# Design controller\n",
    "p_c = [-2., -5.]\n",
    "K = signal.place_poles(A, B, p_c).gain_matrix\n",
    "\n",
    "# Design observer\n",
    "p_o = [-4., -6.]\n",
    "# p_o = [-0.4, -0.6]\n",
    "L = signal.place_poles(A.T, C.T, p_o).gain_matrix.T\n",
    "\n",
    "# Create controller\n",
    "controller = Controller_WithObserver(A, B, C, K, L, q_e, v_e, tau_e)\n",
    "\n",
    "# Choose initial conditions\n",
    "(q_i, v_i) = (q_e + 0.2, v_e)\n",
    "\n",
    "# Reset controller\n",
    "controller.reset()\n",
    "\n",
    "# Reset simulator\n",
    "simulator.reset(\n",
    "    wheel_angle=q_i,\n",
    "    wheel_velocity=v_i,\n",
    "    sensor_noise=0.,        # <-- CHANGE (e.g., to 0.1) AND SEE WHAT HAPPENS\n",
    ")\n",
    "\n",
    "# Reset controller\n",
    "controller.reset()\n",
    "\n",
    "# Run simulator (without display)\n",
    "simulator.display_meshcat = False\n",
    "data = simulator.run(\n",
    "    controller,\n",
    "    max_time=5.0,\n",
    ")\n",
    "\n",
    "# Show results\n",
    "show_results_err(data, q_e, v_e, tau_e)"
   ]
  },
  {
   "cell_type": "markdown",
   "id": "a3a5f78e",
   "metadata": {},
   "source": [
    "#### Try optimal controller and observer design"
   ]
  },
  {
   "cell_type": "markdown",
   "id": "b9a43648",
   "metadata": {},
   "source": [
    "Define a function to solve the continuous-time infinite-horizon LQR problem."
   ]
  },
  {
   "cell_type": "code",
   "execution_count": null,
   "id": "9247abca",
   "metadata": {},
   "outputs": [],
   "source": [
    "def lqr(A, B, Q, R):\n",
    "    P = linalg.solve_continuous_are(A, B, Q, R)\n",
    "    K = linalg.inv(R) @  B.T @ P\n",
    "    return K"
   ]
  },
  {
   "cell_type": "markdown",
   "id": "261dac27",
   "metadata": {},
   "source": [
    "Design an optimal controller:\n",
    "\n",
    "* $Q_c$ must be a square $n_x \\times n_x$ matrix where $n_x$ is the length of $x$\n",
    "* $R_c$ must be a square $n_u \\times n_u$ matrix where $n_u$ is the length of $u$"
   ]
  },
  {
   "cell_type": "code",
   "execution_count": null,
   "id": "f1427268",
   "metadata": {},
   "outputs": [],
   "source": [
    "Q_c = np.eye(2)\n",
    "R_c = np.eye(1)\n",
    "K = lqr(A, B, Q_c, R_c)\n",
    "\n",
    "print(f'K =\\n{K}')\n",
    "print(f'\\np_c:\\n{linalg.eigvals(A - B @ K)}')"
   ]
  },
  {
   "cell_type": "markdown",
   "id": "54d93e17",
   "metadata": {},
   "source": [
    "Design an optimal observer:\n",
    "\n",
    "* $Q_o$ must be a square $n_y \\times n_y$ matrix where $n_y$ is the length of $y$\n",
    "* $R_o$ must be a square $n_x \\times n_x$ matrix where $n_x$ is the length of $x$"
   ]
  },
  {
   "cell_type": "code",
   "execution_count": null,
   "id": "7e8ce408",
   "metadata": {},
   "outputs": [],
   "source": [
    "Q_o = np.eye(1)\n",
    "R_o = np.eye(2)\n",
    "L = lqr(A.T, C.T, np.linalg.inv(R_o), np.linalg.inv(Q_o)).T\n",
    "\n",
    "print(f'L =\\n{L}')\n",
    "print(f'\\np_o:\\n{linalg.eigvals(A - L @ C)}')"
   ]
  },
  {
   "cell_type": "markdown",
   "id": "4ceee5d0",
   "metadata": {},
   "source": [
    "Test."
   ]
  },
  {
   "cell_type": "code",
   "execution_count": null,
   "id": "381845dc",
   "metadata": {},
   "outputs": [],
   "source": [
    "# Create controller\n",
    "controller = Controller_WithObserver(A, B, C, K, L, q_e, v_e, tau_e)\n",
    "\n",
    "# Choose initial conditions\n",
    "(q_i, v_i) = (q_e + 0.2, v_e)\n",
    "\n",
    "# Reset controller\n",
    "controller.reset()\n",
    "\n",
    "# Reset simulator\n",
    "simulator.reset(\n",
    "    wheel_angle=q_i,\n",
    "    wheel_velocity=v_i,\n",
    "    sensor_noise=0.,        # <-- CHANGE (e.g., to 0.1) AND SEE WHAT HAPPENS\n",
    ")\n",
    "\n",
    "# Reset controller\n",
    "controller.reset()\n",
    "\n",
    "# Run simulator (with display)\n",
    "simulator.display_meshcat = True\n",
    "data = simulator.run(\n",
    "    controller,\n",
    "    max_time=5.0,\n",
    ")\n",
    "\n",
    "# Show results\n",
    "show_results(data, q_e, v_e, tau_e)"
   ]
  },
  {
   "cell_type": "markdown",
   "id": "ba3373ba",
   "metadata": {},
   "source": [
    "Show errors."
   ]
  },
  {
   "cell_type": "code",
   "execution_count": null,
   "id": "8f97a6b3",
   "metadata": {},
   "outputs": [],
   "source": [
    "show_results_err(data, q_e, v_e, tau_e)"
   ]
  },
  {
   "cell_type": "code",
   "execution_count": null,
   "id": "4fcb6b93",
   "metadata": {},
   "outputs": [],
   "source": []
  }
 ],
 "metadata": {
  "kernelspec": {
   "display_name": "ae353",
   "language": "python",
   "name": "python3"
  },
  "language_info": {
   "codemirror_mode": {
    "name": "ipython",
    "version": 3
   },
   "file_extension": ".py",
   "mimetype": "text/x-python",
   "name": "python",
   "nbconvert_exporter": "python",
   "pygments_lexer": "ipython3",
   "version": "3.13.1"
  }
 },
 "nbformat": 4,
 "nbformat_minor": 5
}
