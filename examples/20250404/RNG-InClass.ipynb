{
 "cells": [
  {
   "cell_type": "markdown",
   "id": "f5c59304",
   "metadata": {},
   "source": [
    "Do imports."
   ]
  },
  {
   "cell_type": "code",
   "execution_count": 1,
   "id": "c40f15e3",
   "metadata": {},
   "outputs": [],
   "source": [
    "import numpy as np\n",
    "import matplotlib.pyplot as plt\n",
    "np.set_printoptions(suppress=True)"
   ]
  },
  {
   "cell_type": "markdown",
   "id": "83d7009a",
   "metadata": {},
   "source": [
    "## Histograms"
   ]
  },
  {
   "cell_type": "markdown",
   "id": "33fc3d7b",
   "metadata": {},
   "source": [
    "Create a random number generator."
   ]
  },
  {
   "cell_type": "code",
   "execution_count": 2,
   "id": "4f412ce6",
   "metadata": {},
   "outputs": [],
   "source": [
    "rng = np.random.default_rng()"
   ]
  },
  {
   "cell_type": "markdown",
   "id": "8d45b5f9",
   "metadata": {},
   "source": [
    "Sample 100 numbers from a uniform distribution on the interval $[0, 1]$."
   ]
  },
  {
   "cell_type": "code",
   "execution_count": 16,
   "id": "132f224f",
   "metadata": {},
   "outputs": [],
   "source": [
    "# nums = rng.uniform(size=10000)\n",
    "nums = rng.standard_normal(size=10000)"
   ]
  },
  {
   "cell_type": "markdown",
   "id": "6b8d22d8",
   "metadata": {},
   "source": [
    "Show a histogram of these numbers."
   ]
  },
  {
   "cell_type": "code",
   "execution_count": 19,
   "id": "d56a993f",
   "metadata": {},
   "outputs": [
    {
     "data": {
      "image/png": "[encoded data removed]",
      "text/plain": [
       "<Figure size 500x300 with 1 Axes>"
      ]
     },
     "metadata": {},
     "output_type": "display_data"
    }
   ],
   "source": [
    "fig, ax = plt.subplots(1, 1, figsize=(5, 3))\n",
    "ax.hist(\n",
    "    nums,                   # <-- the numbers\n",
    "    np.linspace(-5, 5, 101),  # <-- the edges of \"bins\"\n",
    "    # np.linspace(-1, 1, 31),  # <-- the edges of \"bins\"\n",
    ")\n",
    "ax.grid()\n",
    "ax.set_xlabel('number')\n",
    "ax.set_ylabel('count')\n",
    "fig.tight_layout()\n",
    "plt.show()"
   ]
  },
  {
   "cell_type": "markdown",
   "id": "53187ec7",
   "metadata": {},
   "source": [
    "## Random number generators"
   ]
  },
  {
   "cell_type": "markdown",
   "id": "ec154510",
   "metadata": {},
   "source": [
    "Create a random number generator."
   ]
  },
  {
   "cell_type": "code",
   "execution_count": 20,
   "id": "982955dd",
   "metadata": {},
   "outputs": [],
   "source": [
    "rng = np.random.default_rng()"
   ]
  },
  {
   "cell_type": "markdown",
   "id": "bf9bba09",
   "metadata": {},
   "source": [
    "Sample three numbers from a uniform distribution on the interval $[0, 1]$."
   ]
  },
  {
   "cell_type": "code",
   "execution_count": 21,
   "id": "661a2e2f",
   "metadata": {},
   "outputs": [
    {
     "name": "stdout",
     "output_type": "stream",
     "text": [
      "0.6922122890733918\n",
      "0.66006556396603\n",
      "0.37817126667616785\n"
     ]
    }
   ],
   "source": [
    "print(rng.uniform())\n",
    "print(rng.uniform())\n",
    "print(rng.uniform())"
   ]
  },
  {
   "cell_type": "markdown",
   "id": "cb01410d",
   "metadata": {},
   "source": [
    "Create a new random number generator."
   ]
  },
  {
   "cell_type": "code",
   "execution_count": 22,
   "id": "734dc88a",
   "metadata": {},
   "outputs": [],
   "source": [
    "rng = np.random.default_rng()"
   ]
  },
  {
   "cell_type": "markdown",
   "id": "04a9c0bb",
   "metadata": {},
   "source": [
    "Sample three numbers from a uniform distribution on the interval $[0, 1]$ with this new random number generator."
   ]
  },
  {
   "cell_type": "code",
   "execution_count": 23,
   "id": "a6c6cb51",
   "metadata": {},
   "outputs": [
    {
     "name": "stdout",
     "output_type": "stream",
     "text": [
      "0.7513765054922915\n",
      "0.09699522172934805\n",
      "0.00831935075701784\n"
     ]
    }
   ],
   "source": [
    "print(rng.uniform())\n",
    "print(rng.uniform())\n",
    "print(rng.uniform())"
   ]
  },
  {
   "cell_type": "markdown",
   "id": "91169164",
   "metadata": {},
   "source": [
    "Repeat what we did before but with a \"seed\" for the random number generator."
   ]
  },
  {
   "cell_type": "code",
   "execution_count": 24,
   "id": "878184e1",
   "metadata": {},
   "outputs": [
    {
     "name": "stdout",
     "output_type": "stream",
     "text": [
      "0.6939330806573643\n",
      "0.6414582208782306\n",
      "0.12864422431763622\n"
     ]
    }
   ],
   "source": [
    "# Create random number generator with a seed\n",
    "rng = np.random.default_rng(23)\n",
    "\n",
    "# Sample three numbers\n",
    "print(rng.uniform())\n",
    "print(rng.uniform())\n",
    "print(rng.uniform())"
   ]
  },
  {
   "cell_type": "markdown",
   "id": "459ee3e5",
   "metadata": {},
   "source": [
    "Repeat what we did before, with the **same seed**."
   ]
  },
  {
   "cell_type": "code",
   "execution_count": 25,
   "id": "25c1b806",
   "metadata": {},
   "outputs": [
    {
     "name": "stdout",
     "output_type": "stream",
     "text": [
      "0.6939330806573643\n",
      "0.6414582208782306\n",
      "0.12864422431763622\n"
     ]
    }
   ],
   "source": [
    "# Create random number generator with a seed\n",
    "rng = np.random.default_rng(23)\n",
    "\n",
    "# Sample three numbers\n",
    "print(rng.uniform())\n",
    "print(rng.uniform())\n",
    "print(rng.uniform())"
   ]
  },
  {
   "cell_type": "code",
   "execution_count": null,
   "id": "ab1c07ee",
   "metadata": {},
   "outputs": [],
   "source": []
  }
 ],
 "metadata": {
  "kernelspec": {
   "display_name": "ae353",
   "language": "python",
   "name": "python3"
  },
  "language_info": {
   "codemirror_mode": {
    "name": "ipython",
    "version": 3
   },
   "file_extension": ".py",
   "mimetype": "text/x-python",
   "name": "python",
   "nbconvert_exporter": "python",
   "pygments_lexer": "ipython3",
   "version": "3.13.1"
  }
 },
 "nbformat": 4,
 "nbformat_minor": 5
}
